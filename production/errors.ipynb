{
 "cells": [
  {
   "cell_type": "code",
   "execution_count": 1,
   "metadata": {},
   "outputs": [],
   "source": [
    "import pandas as pd"
   ]
  },
  {
   "cell_type": "code",
   "execution_count": 4,
   "metadata": {},
   "outputs": [],
   "source": [
    "parser_errors = [\"./2016_17/Cuno_Heizkraftwerk_Herdecke_201601010000_201712312345_17.csv\", \"./2016_17/Duisburg_Heizkraftwerk_III_201601010000_201712312345_18.csv\",\n",
    "                 \"./2016_17/Gemeinschaftskraftwerk_Kiel_201601010000_201712312345_7.csv\",\n",
    "                ]"
   ]
  },
  {
   "cell_type": "code",
   "execution_count": null,
   "metadata": {},
   "outputs": [],
   "source": [
    "#Datum Key error:\n",
    "'./2016_17/Huckingen_201601010000_201712312345_6.csv'"
   ]
  },
  {
   "cell_type": "code",
   "execution_count": null,
   "metadata": {},
   "outputs": [],
   "source": [
    "Error tokenizing data. C error: Expected 3 fields in line 2355, saw 4\n",
    "\n",
    "./2016_17/Cuno_Heizkraftwerk_Herdecke_201601010000_201712312345_17.csv\n",
    "Error tokenizing data. C error: Expected 4 fields in line 7786, saw 9\n",
    "\n",
    "./2016_17/Duisburg_Heizkraftwerk_III_201601010000_201712312345_18.csv\n",
    "Error tokenizing data. C error: Expected 3 fields in line 5981, saw 4\n",
    "\n",
    "./2016_17/Gemeinschaftskraftwerk_Kiel_201601010000_201712312345_7.csv\n",
    "Error tokenizing data. C error: Expected 5 fields in line 13947, saw 7\n",
    "\n",
    "./2016_17/Kraftwerk_BASF_Ludwigshafen_Mitte_201601010000_201712312345_20.csv\n",
    "Error tokenizing data. C error: Expected 5 fields in line 7403, saw 9\n",
    "\n",
    "./2016_17/Kraftwerk_Mittelsb_ren_201601010000_201712312345_4.csv\n",
    "Error tokenizing data. C error: Expected 5 fields in line 8430, saw 6\n",
    "\n",
    "./2016_17/Kraftwerk_Werdohl-Elverlingsen_201601010000_201712312345_15.csv\n",
    "Error tokenizing data. C error: Expected 3 fields in line 15454, saw 5\n",
    "\n",
    "./2016_17/Kraftwerk_Wilhelmshaven_201601010000_201712312345_13.csv\n",
    "Error tokenizing data. C error: Expected 4 fields in line 1721, saw 8\n",
    "\n",
    "./2016_17/Reuter_West_201601010000_201712312345_16.csv\n",
    "Error tokenizing data. C error: Expected 4 fields in line 7454, saw 11\n",
    "\n",
    "./2016_17/Tiefstack_201601010000_201712312345_31.csv\n",
    "Error tokenizing data. C error: Expected 3 fields in line 14633, saw 4\n",
    "\n",
    "./2016_17/Trianel_Kohlekraftwerk_L_nen_201601010000_201712312345_26.csv\n",
    "Error tokenizing data. C error: Expected 4 fields in line 5877, saw 6\n",
    "\n",
    "./2016_17/Waldeck_2_201601010000_201712312345_32.csv\n",
    "Error tokenizing data. C error: Expected 3 fields in line 7138, saw 10\n",
    "\n",
    "./2016_17/Wehr_201601010000_201712312345_3.csv\n",
    "Error tokenizing data. C error: Expected 3 fields in line 3689, saw 4\n",
    "\n",
    "./2016_17/Weiher_201601010000_201712312345_21.csv\n"
   ]
  },
  {
   "cell_type": "code",
   "execution_count": null,
   "metadata": {},
   "outputs": [],
   "source": []
  },
  {
   "cell_type": "code",
   "execution_count": null,
   "metadata": {},
   "outputs": [],
   "source": []
  },
  {
   "cell_type": "code",
   "execution_count": null,
   "metadata": {},
   "outputs": [],
   "source": []
  }
 ],
 "metadata": {
  "kernelspec": {
   "display_name": "Python 3",
   "language": "python",
   "name": "python3"
  },
  "language_info": {
   "codemirror_mode": {
    "name": "ipython",
    "version": 3
   },
   "file_extension": ".py",
   "mimetype": "text/x-python",
   "name": "python",
   "nbconvert_exporter": "python",
   "pygments_lexer": "ipython3",
   "version": "3.7.7"
  }
 },
 "nbformat": 4,
 "nbformat_minor": 4
}
