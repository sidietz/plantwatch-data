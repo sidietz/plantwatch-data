{
 "cells": [
  {
   "cell_type": "code",
   "execution_count": 1,
   "metadata": {},
   "outputs": [],
   "source": [
    "#from os import listdir, stat\n",
    "import os\n",
    "from helper import get_files_from_folder, get_plant, get_mapper, BASE_DIR\n",
    "#from os.path import isfile, join, isdir\n",
    "import json"
   ]
  },
  {
   "cell_type": "code",
   "execution_count": 2,
   "metadata": {},
   "outputs": [],
   "source": [
    "FOLDERS = [os.path.join(BASE_DIR, o) for o in os.listdir(BASE_DIR) if os.path.isdir(os.path.join(BASE_DIR,o))]\n",
    "FOLDERS.sort()\n",
    "FOLDERS = FOLDERS[1:-1]"
   ]
  },
  {
   "cell_type": "code",
   "execution_count": 3,
   "metadata": {},
   "outputs": [
    {
     "data": {
      "text/plain": [
       "['./2015',\n",
       " './2016',\n",
       " './2017',\n",
       " './2018',\n",
       " './2019',\n",
       " './2020',\n",
       " './2021',\n",
       " './2022']"
      ]
     },
     "execution_count": 3,
     "metadata": {},
     "output_type": "execute_result"
    }
   ],
   "source": [
    "FOLDERS"
   ]
  },
  {
   "cell_type": "code",
   "execution_count": 17,
   "metadata": {},
   "outputs": [],
   "source": [
    "files = get_files_from_folder(FOLDERS[0])\n",
    "files2 = get_files_from_folder(FOLDERS[-1])"
   ]
  },
  {
   "cell_type": "code",
   "execution_count": 18,
   "metadata": {},
   "outputs": [
    {
     "data": {
      "text/plain": [
       "['./2022/Abwinden-Asten_202201010000_202212312359_stunde_1.csv',\n",
       " './2022/Altenw_rth_202201010000_202212312359_stunde_3.csv',\n",
       " './2022/Bergkamen_202201010000_202212312359_stunde_6.csv',\n",
       " './2022/Boxberg_202201010000_202212312359_stunde_8.csv',\n",
       " './2022/Braunkohlekraftwerk_Lippendorf_202201010000_202212312359_stunde_9.csv',\n",
       " './2022/Brokdorf_202201010000_202212312359_stunde_10.csv',\n",
       " './2022/Burghausen_GT_202201010000_202212312359_stunde_12.csv',\n",
       " './2022/Cuno_Heizkraftwerk_Herdecke_202201010000_202212312359_stunde_18.csv',\n",
       " './2022/Datteln_202201010000_202212312359_stunde_20.csv',\n",
       " './2022/Donaustadt_202201010000_202212312359_stunde_21.csv',\n",
       " './2022/Dormagen_202201010000_202212312359_stunde_22.csv',\n",
       " './2022/Duisburg_Hamborn_202201010000_202212312359_stunde_23.csv',\n",
       " './2022/Duisburg_Heizkraftwerk_III_202201010000_202212312359_stunde_25.csv',\n",
       " './2022/Duisburg_Ruhrort_202201010000_202212312359_stunde_26.csv',\n",
       " './2022/Emsland_202201010000_202212312359_stunde_29.csv',\n",
       " './2022/Fernheizkraftwerk_Mellach_202201010000_202212312359_stunde_31.csv',\n",
       " './2022/Franken_1_202201010000_202212312359_stunde_33.csv',\n",
       " './2022/Frimmersdorf_202201010000_202212312359_stunde_35.csv',\n",
       " './2022/GKH_St_cken_202201010000_202212312359_stunde_45.csv',\n",
       " './2022/Gas-und-Dampfturbinen_Kraftwerk_Mitte_202201010000_202212312359_stunde_37.csv',\n",
       " './2022/Gaskraftwerk_Irsching_202201010000_202212312359_stunde_38.csv',\n",
       " './2022/Gemeinschaftskernkraftwerk_Neckarwestheim_II_202201010000_202212312359_stunde_40.csv',\n",
       " './2022/Gerlos_202201010000_202212312359_stunde_43.csv',\n",
       " './2022/Gersteinwerk_202201010000_202212312359_stunde_44.csv',\n",
       " './2022/Goldisthal_202201010000_202212312359_stunde_46.csv',\n",
       " './2022/Greifenstein_202201010000_202212312359_stunde_47.csv',\n",
       " './2022/Gro_kraftwerk_Mannheim_202201010000_202212312359_stunde_49.csv',\n",
       " './2022/Gro_kraftwerk_Mannheim_202201010000_202212312359_stunde_51.csv',\n",
       " './2022/Grohnde_202201010000_202212312359_stunde_48.csv',\n",
       " './2022/GuD_Marzahn_202201010000_202212312359_stunde_53.csv',\n",
       " './2022/H_usling_202201010000_202212312359_stunde_54.csv',\n",
       " './2022/Heizkraftwerk_Altbach_Deizisau_202201010000_202212312359_stunde_55.csv',\n",
       " './2022/Heizkraftwerk_Dresden-Nossener_Br_cke_202201010000_202212312359_stunde_57.csv',\n",
       " './2022/Heizkraftwerk_Heilbronn_202201010000_202212312359_stunde_59.csv',\n",
       " './2022/Heizkraftwerk_Industriepark_H_chst_202201010000_202212312359_stunde_60.csv',\n",
       " './2022/Heizkraftwerk_Lausward_202201010000_202212312359_stunde_61.csv',\n",
       " './2022/Heizkraftwerk_M_nchen_S_d_GUD1__202201010000_202212312359_stunde_64.csv',\n",
       " './2022/Heizkraftwerk_M_nchen_S_d_GUD2_202201010000_202212312359_stunde_65.csv',\n",
       " './2022/Heizkraftwerk_Merkenich_202201010000_202212312359_stunde_63.csv',\n",
       " './2022/Heizkraftwerk_Niehl_202201010000_202212312359_stunde_67.csv',\n",
       " './2022/Heizkraftwerk_R_merbr_cke_202201010000_202212312359_stunde_69.csv',\n",
       " './2022/Heizkraftwerk_West_Wolfsburg_202201010000_202212312359_stunde_72.csv',\n",
       " './2022/Heizkraftwerk_West__Frankfurt__202201010000_202212312359_stunde_71.csv',\n",
       " './2022/Heyden_202201010000_202212312359_stunde_74.csv',\n",
       " './2022/Hohenwarte_2_202201010000_202212312359_stunde_76.csv',\n",
       " './2022/Huckingen_202201010000_202212312359_stunde_77.csv',\n",
       " './2022/Huntorf_202201010000_202212312359_stunde_78.csv',\n",
       " './2022/IKS_PCK_Schwedt_202201010000_202212312359_stunde_80.csv',\n",
       " './2022/Isar_2_202201010000_202212312359_stunde_81.csv',\n",
       " './2022/KNG_Kraftwerk_Rostock_202201010000_202212312359_stunde_91.csv',\n",
       " './2022/KWH_Hannover_202201010000_202212312359_stunde_119.csv',\n",
       " './2022/KWM_Mehrum_202201010000_202212312359_stunde_120.csv',\n",
       " './2022/K_stenkraftwerk_K.I.E.L._202201010000_202212312359_stunde_118.csv',\n",
       " './2022/Kaprun_Hauptstufe_202201010000_202212312359_stunde_82.csv',\n",
       " './2022/Kaprun_Limberg_II_202201010000_202212312359_stunde_83.csv',\n",
       " './2022/Kaprun_Oberstufe_202201010000_202212312359_stunde_84.csv',\n",
       " './2022/Kernkraft_Gundremmingen__202201010000_202212312359_stunde_85.csv',\n",
       " './2022/Kernkraftwerk_Emsland_202201010000_202212312359_stunde_86.csv',\n",
       " './2022/Klingenberg_202201010000_202212312359_stunde_88.csv',\n",
       " './2022/Knapsack_Gas_II_202201010000_202212312359_stunde_90.csv',\n",
       " './2022/Knapsack_Gas_I_202201010000_202212312359_stunde_89.csv',\n",
       " './2022/Koepchenwerk_202201010000_202212312359_stunde_92.csv',\n",
       " './2022/Kraftwerk_BASF_Ludwigshafen_Mitte_202201010000_202212312359_stunde_95.csv',\n",
       " './2022/Kraftwerk_BASF_Ludwigshafen_S_d_202201010000_202212312359_stunde_96.csv',\n",
       " './2022/Kraftwerk_Bexbach_202201010000_202212312359_stunde_97.csv',\n",
       " './2022/Kraftwerk_Farge_202201010000_202212312359_stunde_100.csv',\n",
       " './2022/Kraftwerk_Hastedt_202201010000_202212312359_stunde_101.csv',\n",
       " './2022/Kraftwerk_Herne_202201010000_202212312359_stunde_102.csv',\n",
       " './2022/Kraftwerk_J_nschwalde_202201010000_202212312359_stunde_104.csv',\n",
       " './2022/Kraftwerk_K_htai_202201010000_202212312359_stunde_105.csv',\n",
       " './2022/Kraftwerk_Mainz_202201010000_202212312359_stunde_107.csv',\n",
       " './2022/Kraftwerk_Mittelsb_ren_202201010000_202212312359_stunde_108.csv',\n",
       " './2022/Kraftwerk_Rheinfelden_202201010000_202212312359_stunde_109.csv',\n",
       " './2022/Kraftwerk_Silz_202201010000_202212312359_stunde_110.csv',\n",
       " './2022/Kraftwerk_Walheim_202201010000_202212312359_stunde_113.csv',\n",
       " './2022/Kraftwerk_Walsum_202201010000_202212312359_stunde_114.csv',\n",
       " './2022/Laufenburg_202201010000_202212312359_stunde_121.csv',\n",
       " './2022/Linz-S_d_Fernheizkraftwerk_202201010000_202212312359_stunde_124.csv',\n",
       " './2022/M_nchen_Nord_2_202201010000_202212312359_stunde_132.csv',\n",
       " './2022/Malta_Hauptstufe_202201010000_202212312359_stunde_125.csv',\n",
       " './2022/Malta_Oberstufe_202201010000_202212312359_stunde_126.csv',\n",
       " './2022/Markersbach_202201010000_202212312359_stunde_127.csv',\n",
       " './2022/Mayrhofen_202201010000_202212312359_stunde_128.csv',\n",
       " './2022/Melk_202201010000_202212312359_stunde_129.csv',\n",
       " './2022/Neurath_202201010000_202212312359_stunde_133.csv',\n",
       " './2022/Niederau_em_202201010000_202212312359_stunde_134.csv',\n",
       " './2022/Ottensheim-Wilhering_202201010000_202212312359_stunde_136.csv',\n",
       " './2022/Pumpspeicherkraftwerk_Vianden_202201010000_202212312359_stunde_137.csv',\n",
       " './2022/Restm_ll-Heizkraftwerk_Stuttgart-M_nster_202201010000_202212312359_stunde_138.csv',\n",
       " './2022/Reuter_West_202201010000_202212312359_stunde_140.csv',\n",
       " './2022/Rheinhafen-Dampfkraftwerk_202201010000_202212312359_stunde_141.csv',\n",
       " './2022/Rheinkraftwerk_Iffezheim_202201010000_202212312359_stunde_142.csv',\n",
       " './2022/Riedersbach_202201010000_202212312359_stunde_143.csv',\n",
       " './2022/Ro_hag_202201010000_202212312359_stunde_145.csv',\n",
       " './2022/S_ckingen_202201010000_202212312359_stunde_146.csv',\n",
       " './2022/Schkopau_202201010000_202212312359_stunde_147.csv',\n",
       " './2022/Scholven_202201010000_202212312359_stunde_148.csv',\n",
       " './2022/Schwarzach_202201010000_202212312359_stunde_149.csv',\n",
       " './2022/Schwarze_Pumpe_202201010000_202212312359_stunde_150.csv',\n",
       " './2022/Staudinger_202201010000_202212312359_stunde_151.csv',\n",
       " './2022/Thei__202201010000_202212312359_stunde_152.csv',\n",
       " './2022/Thyrow_202201010000_202212312359_stunde_153.csv',\n",
       " './2022/Tiefstack_202201010000_202212312359_stunde_154.csv',\n",
       " './2022/Timelkam__202201010000_202212312359_stunde_155.csv',\n",
       " './2022/Trianel_Gaskraftwerk__202201010000_202212312359_stunde_156.csv',\n",
       " './2022/Trianel_Kohlekraftwerk_L_nen_202201010000_202212312359_stunde_157.csv',\n",
       " './2022/V_lklingen_202201010000_202212312359_stunde_158.csv',\n",
       " './2022/Vorarlberger_Illwerke_AG__Obervermuntwerk_II__202201010000_202212312359_stunde_159.csv',\n",
       " './2022/Waldeck_2_202201010000_202212312359_stunde_160.csv',\n",
       " './2022/Wallsee-Mitterkirchen_202201010000_202212312359_stunde_162.csv',\n",
       " './2022/Wedel_202201010000_202212312359_stunde_163.csv',\n",
       " './2022/Wehr_A_202201010000_202212312359_stunde_164.csv',\n",
       " './2022/Wehr_B_202201010000_202212312359_stunde_165.csv',\n",
       " './2022/Weiher_202201010000_202212312359_stunde_166.csv',\n",
       " './2022/Weisweiler_202201010000_202212312359_stunde_167.csv',\n",
       " './2022/Wien-Freudenau_202201010000_202212312359_stunde_170.csv',\n",
       " './2022/Witznau_202201010000_202212312359_stunde_171.csv',\n",
       " './2022/Ybbs-Persenbeug_202201010000_202212312359_stunde_172.csv',\n",
       " './2022/Zolling_202201010000_202212312359_stunde_173.csv']"
      ]
     },
     "execution_count": 18,
     "metadata": {},
     "output_type": "execute_result"
    }
   ],
   "source": [
    "files2"
   ]
  },
  {
   "cell_type": "code",
   "execution_count": 19,
   "metadata": {},
   "outputs": [],
   "source": [
    "def get_header(name):\n",
    "    with open(name) as f:\n",
    "        first_line = f.readline()\n",
    "        return first_line\n",
    "\n",
    "def get_blocks(file):\n",
    "    tmp = get_header(file).split(\";\")\n",
    "    plants = [p for p in tmp[3:]]\n",
    "    print(plants)\n",
    "    blocks = [p.split(\"Generation_DE \")[1].rsplit('[MW]')[0] for p in plants]\n",
    "    return blocks\n",
    "\n",
    "def get_fullpath(csv):\n",
    "    return FOLDER + '/' + csv"
   ]
  },
  {
   "cell_type": "code",
   "execution_count": null,
   "metadata": {},
   "outputs": [],
   "source": []
  },
  {
   "cell_type": "code",
   "execution_count": 20,
   "metadata": {},
   "outputs": [],
   "source": [
    "def is_empty(blocks):\n",
    "    if len(blocks) == 1:\n",
    "        teststr = blocks[0]\n",
    "        if not teststr:\n",
    "            return True"
   ]
  },
  {
   "cell_type": "code",
   "execution_count": 21,
   "metadata": {},
   "outputs": [],
   "source": [
    "def gen_mapper(files):\n",
    "    mapper = {}\n",
    "    for f in files:\n",
    "        #fname = get_fullpath(f)\n",
    "        pn = get_plant(f)\n",
    "        blocks = get_blocks(f)\n",
    "        #print(blocks)\n",
    "        #if is_empty(blocks):\n",
    "        #print(f)\n",
    "        #else:\n",
    "        entry = {'list': blocks}\n",
    "        for b in blocks:\n",
    "            b = b.strip()\n",
    "            entry[b] = ''\n",
    "        mapper[pn] = entry\n",
    "    return mapper"
   ]
  },
  {
   "cell_type": "code",
   "execution_count": 22,
   "metadata": {},
   "outputs": [],
   "source": [
    "def diff(first, second):\n",
    "        second = set(second)\n",
    "        return [item for item in first if item not in second]"
   ]
  },
  {
   "cell_type": "code",
   "execution_count": 23,
   "metadata": {},
   "outputs": [
    {
     "name": "stdout",
     "output_type": "stream",
     "text": [
      "['Generation_DE  [MW] Originalauflösungen\\n']\n",
      "['Generation_DE  [MW] Originalauflösungen\\n']\n",
      "['Generation_DE Bergkamen A [MW] Originalauflösungen\\n']\n",
      "['Generation_DE Boxberg Block N [MW] Originalauflösungen', 'Generation_DE Boxberg Block R [MW] Originalauflösungen', 'Generation_DE Boxberg Block P [MW] Originalauflösungen', 'Generation_DE Boxberg Block Q [MW] Originalauflösungen\\n']\n",
      "['Generation_DE Kraftwerk Lippendorf Block R [MW] Originalauflösungen', 'Generation_DE Kraftwerk Lippendorf Block S [MW] Originalauflösungen\\n']\n",
      "['Generation_DE KBR [MW] Originalauflösungen\\n']\n",
      "['Generation_DE Burghausen_GT 1 [MW] Originalauflösungen', 'Generation_DE Gasturbinenanlage 12 [MW] Originalauflösungen\\n']\n",
      "['Generation_DE D [MW] Originalauflösungen\\n']\n",
      "['Generation_DE Cuno Heizkraftwerk Herdecke H6 [MW] Originalauflösungen\\n']\n",
      "['Generation_DE  [MW] Originalauflösungen\\n']\n",
      "['Generation_DE Gas-und-Dampfturbinen [MW] Originalauflösungen\\n']\n",
      "['Generation_DE Hamborn 3 [MW] Originalauflösungen', 'Generation_DE Hamborn 4 [MW] Originalauflösungen', 'Generation_DE Hamborn 5 [MW] Originalauflösungen\\n']\n",
      "['Generation_DE III/B [MW] Originalauflösungen', 'Generation_DE HKW III  Block A [MW] Originalauflösungen\\n']\n",
      "['Generation_DE Ruhrort 2 [MW] Originalauflösungen', 'Generation_DE Ruhrort 3 [MW] Originalauflösungen', 'Generation_DE Ruhrort 4 [MW] Originalauflösungen\\n']\n",
      "['Generation_DE 1.0 [MW] Originalauflösungen', 'Generation_DE Wilhelmshaven GT [MW] Originalauflösungen\\n']\n",
      "['Generation_DE D [MW] Originalauflösungen', 'Generation_DE C1 [MW] Originalauflösungen', 'Generation_DE B1 [MW] Originalauflösungen', 'Generation_DE Emsland B DT [MW] Originalauflösungen', 'Generation_DE Emsland C DT [MW] Originalauflösungen\\n']\n",
      "['Generation_DE  [MW] Originalauflösungen\\n']\n",
      "['Generation_DE 2.0 [MW] Originalauflösungen', 'Generation_DE Franken DT1 [MW] Originalauflösungen\\n']\n",
      "['Generation_DE Fab Frechen [MW] Originalauflösungen\\n']\n",
      "['Generation_DE N [MW] Originalauflösungen', 'Generation_DE E [MW] Originalauflösungen', 'Generation_DE G [MW] Originalauflösungen', 'Generation_DE I [MW] Originalauflösungen', 'Generation_DE K [MW] Originalauflösungen', 'Generation_DE O [MW] Originalauflösungen', 'Generation_DE M [MW] Originalauflösungen', 'Generation_DE D [MW] Originalauflösungen', 'Generation_DE L [MW] Originalauflösungen', 'Generation_DE F [MW] Originalauflösungen', 'Generation_DE C [MW] Originalauflösungen', 'Generation_DE Q [MW] Originalauflösungen', 'Generation_DE P [MW] Originalauflösungen\\n']\n",
      "['Generation_DE GKH 1 [MW] Originalauflösungen', 'Generation_DE GKH 2 [MW] Originalauflösungen\\n']\n",
      "['Generation_DE Gas-und-Dampfturbinen Mitte [MW] Originalauflösungen\\n']\n",
      "['Generation_DE 5.0 [MW] Originalauflösungen', 'Generation_DE Irsching 3 [MW] Originalauflösungen', 'Generation_DE Irsching 4 [MW] Originalauflösungen\\n']\n",
      "['Generation_DE GKN II [MW] Originalauflösungen\\n']\n",
      "['Generation_DE  [MW] Originalauflösungen\\n']\n",
      "['Generation_DE  [MW] Originalauflösungen\\n']\n",
      "['Generation_DE H1 [MW] Originalauflösungen', 'Generation_DE K2 [MW] Originalauflösungen', 'Generation_DE Gersteinwerk F GT (F1) [MW] Originalauflösungen', 'Generation_DE Gersteinwerk G GT (G1) [MW] Originalauflösungen', 'Generation_DE Gersteinwerk I GT (I1) [MW] Originalauflösungen', 'Generation_DE Gersteinwerk I DT (I2) [MW] Originalauflösungen', 'Generation_DE Gersteinwerk F DT (F2) [MW] Originalauflösungen', 'Generation_DE Gersteinwerk G DT (G2) [MW] Originalauflösungen', 'Generation_DE Gersteinwerk K [MW] Originalauflösungen\\n']\n",
      "['Generation_DE PSW Goldisthal PSS D [MW] Originalauflösungen', 'Generation_DE PSW Goldisthal PSS C [MW] Originalauflösungen', 'Generation_DE PSW Goldisthal PSS B [MW] Originalauflösungen', 'Generation_DE PSW Goldisthal PSS A [MW] Originalauflösungen\\n']\n",
      "['Generation_DE  [MW] Originalauflösungen\\n']\n",
      "['Generation_DE GKM Block 6 [MW] Originalauflösungen\\n']\n",
      "['Generation_DE GKM Block 9 [MW] Originalauflösungen\\n']\n",
      "['Generation_DE KraftwerkG [MW] Originalauflösungen\\n']\n",
      "['Generation_DE  [MW] Originalauflösungen\\n']\n",
      "['Generation_DE Heizkraftwerk Altbach/Deizisau HKW 2 GT E (Solobetrieb) [MW] Originalauflösungen', 'Generation_DE Heizkraftwerk Altbach/Deizisau Block 4 GT A (solo) [MW] Originalauflösungen', 'Generation_DE Heizkraftwerk Altbach/Deizisau GT B [MW] Originalauflösungen', 'Generation_DE Heizkraftwerk Altbach/Deizisau GT C [MW] Originalauflösungen', 'Generation_DE Heizkraftwerk Altbach/Deizisau HKW 2 DT (Solobetrieb) [MW] Originalauflösungen', 'Generation_DE Heizkraftwerk Altbach/Deizisau HKW 1 [MW] Originalauflösungen\\n']\n",
      "['Generation_DE Heizkraftwerk Dresden-Nossener Brücke \\n']\n",
      "['Generation_DE H4/5 [MW] Originalauflösungen\\n']\n",
      "['Generation_DE Heizkraftwerk Heilbronn HLB 5 [MW] Originalauflösungen', 'Generation_DE Heizkraftwerk Heilbronn HLB 6 [MW] Originalauflösungen', 'Generation_DE Heizkraftwerk Heilbronn HLB 7 [MW] Originalauflösungen\\n']\n",
      "['Generation_DE ADS-Anlage [MW] Originalauflösungen', 'Generation_DE Block A [MW] Originalauflösungen', 'Generation_DE Block B [MW] Originalauflösungen', 'Generation_DE IPH Ersatzbrennstoffverbrennung Turbine [MW] Originalauflösungen', 'Generation_DE IPH Strom CoFA BHKW 1 [MW] Originalauflösungen', 'Generation_DE IPH Strom CoFA BHKW 2 [MW] Originalauflösungen', 'Generation_DE IPH Strom CoFA BHKW 3 [MW] Originalauflösungen', 'Generation_DE IPH Strom GT2 [MW] Originalauflösungen', 'Generation_DE IPH Strom GT4 [MW] Originalauflösungen\\n']\n",
      "['Generation_DE Block E [MW] Originalauflösungen', 'Generation_DE SWD KWL AGuD [MW] Originalauflösungen', 'Generation_DE SWD KWL GTE1 [MW] Originalauflösungen', 'Generation_DE SWD KWL GTE2 [MW] Originalauflösungen', 'Generation_DE SWD KWL GuD F [MW] Originalauflösungen\\n']\n",
      "['Generation_DE  [MW] Originalauflösungen\\n']\n",
      "['Generation_DE SWM HKW Sued GuD1 DT1 [MW] Originalauflösungen', 'Generation_DE SWM HKW Sued GuD1 GT3 [MW] Originalauflösungen', 'Generation_DE SWM HKW Sued GuD1 GT2 [MW] Originalauflösungen\\n']\n",
      "['Generation_DE SWM HKW Sued GuD2 GT61 [MW] Originalauflösungen', 'Generation_DE SWM HKW Sued GuD2 GT62 [MW] Originalauflösungen', 'Generation_DE SWM HKW Sued GuD2 DT60 [MW] Originalauflösungen\\n']\n",
      "['Generation_DE Block 6 Merkenich RheinEnergie [MW] Originalauflösungen', 'Generation_DE GuD Merkenich RheinEnergie [MW] Originalauflösungen', 'Generation_DE Block 4 Merkenich RheinEnergie [MW] Originalauflösungen\\n']\n",
      "['Generation_DE Gas-und-Dampfturbinen [MW] Originalauflösungen', 'Generation_DE GuD Niehl 3 RheinEnergie [MW] Originalauflösungen\\n']\n",
      "['Generation_DE Gas-und-Dampfturbinen-Anlage [MW] Originalauflösungen', 'Generation_DE HKW-Römerbrücke Dampfturbinenanlage DT2 [MW] Originalauflösungen\\n']\n",
      "['Generation_DE Heizkraftwerk West Block 1 [MW] Originalauflösungen', 'Generation_DE Heizkraftwerk West Block 2 [MW] Originalauflösungen\\n']\n",
      "['Generation_DE Heyden 4 [MW] Originalauflösungen\\n']\n",
      "['Generation_DE PSW Hohenwarte 2 PSS A [MW] Originalauflösungen', 'Generation_DE PSW Hohenwarte 2 PSS B [MW] Originalauflösungen', 'Generation_DE PSW Hohenwarte 2 PSS C [MW] Originalauflösungen', 'Generation_DE PSW Hohenwarte 2 PSS D [MW] Originalauflösungen', 'Generation_DE PSW Hohenwarte 2 PSS E [MW] Originalauflösungen', 'Generation_DE PSW Hohenwarte 2 PSS F [MW] Originalauflösungen', 'Generation_DE PSW Hohenwarte 2 PSS G [MW] Originalauflösungen', 'Generation_DE PSW Hohenwarte 2 PSS H [MW] Originalauflösungen\\n']\n",
      "['Generation_DE Huckingen A [MW] Originalauflösungen', 'Generation_DE Huckingen B [MW] Originalauflösungen\\n']\n",
      "['Generation_DE Huntorf GT [MW] Originalauflösungen\\n']\n",
      "['Generation_DE 5MKA [MW] Originalauflösungen', 'Generation_DE 6MKA [MW] Originalauflösungen', 'Generation_DE 1MKA [MW] Originalauflösungen', 'Generation_DE 2MKA [MW] Originalauflösungen', 'Generation_DE 4MKA [MW] Originalauflösungen\\n']\n",
      "['Generation_DE B [MW] Originalauflösungen\\n']\n",
      "['Generation_DE Isar 2 [MW] Originalauflösungen\\n']\n",
      "['Generation_DE Kraftwerk Rostock Block A [MW] Originalauflösungen\\n']\n",
      "['Generation_DE B [MW] Originalauflösungen\\n']\n",
      "['Generation_DE Kraftwerk Mehrum Block 3 [MW] Originalauflösungen\\n']\n",
      "['Generation_DE  [MW] Originalauflösungen\\n']\n",
      "['Generation_DE  [MW] Originalauflösungen\\n']\n",
      "['Generation_DE  [MW] Originalauflösungen\\n']\n",
      "['Generation_DE C [MW] Originalauflösungen', 'Generation_DE B [MW] Originalauflösungen\\n']\n",
      "['Generation_DE Emsland A [MW] Originalauflösungen\\n']\n",
      "['Generation_DE KKP 2 [MW] Originalauflösungen\\n']\n",
      "['Generation_DE Klingenberg [MW] Originalauflösungen\\n']\n",
      "['Generation_DE Kraftwerk Knapsack II [MW] Originalauflösungen\\n']\n",
      "['Generation_DE Knapsack I [MW] Originalauflösungen\\n']\n",
      "['Generation_DE Koepchenwerk Bl. [MW] Originalauflösungen\\n']\n",
      "['Generation_DE  [MW] Originalauflösungen', 'Generation_DE  [MW] Originalauflösungen\\n']\n",
      "['Generation_DE  [MW] Originalauflösungen', 'Generation_DE GUD A 800 \\n']\n",
      "['Generation_DE GUD C 200\\n']\n",
      "['Generation_DE Bexbach [MW] Originalauflösungen\\n']\n",
      "['Generation_DE MKK [MW] Originalauflösungen', 'Generation_DE Block 5 [MW] Originalauflösungen', 'Generation_DE Block 6 [MW] Originalauflösungen\\n']\n",
      "['Generation_DE Kraftwerk Farge [MW] Originalauflösungen\\n']\n",
      "['Generation_DE Block 14 [MW] Originalauflösungen', 'Generation_DE KW Hastedt Block 15 [MW] Originalauflösungen\\n']\n",
      "['Generation_DE Herne 2 [MW] Originalauflösungen', 'Generation_DE Herne 3 [MW] Originalauflösungen', 'Generation_DE Herne 4 [MW] Originalauflösungen\\n']\n",
      "['Generation_DE Ingolstadt 3 [MW] Originalauflösungen', 'Generation_DE Ingolstadt 4 [MW] Originalauflösungen\\n']\n",
      "['Generation_DE Kraftwerk Jänschwalde Block A [MW] Originalauflösungen', 'Generation_DE Kraftwerk Jänschwalde Block B [MW] Originalauflösungen', 'Generation_DE Kraftwerk Jänschwalde Block C [MW] Originalauflösungen', 'Generation_DE Kraftwerk Jänschwalde Block D [MW] Originalauflösungen', 'Generation_DE Kraftwerk Jänschwalde Block E [MW] Originalauflösungen', 'Generation_DE Kraftwerk Jänschwalde Block F [MW] Originalauflösungen\\n']\n",
      "['Generation_DE KW Kühtai - Maschine 1 [MW] Originalauflösungen', 'Generation_DE KW Kühtai - Maschine 2 [MW] Originalauflösungen\\n']\n",
      "['Generation_DE Lünen 7 [MW] Originalauflösungen', 'Generation_DE Lünen 6 [MW] Originalauflösungen\\n']\n",
      "['Generation_DE Kraftwerk3 [MW] Originalauflösungen', 'Generation_DE Kraftwerk2 [MW] Originalauflösungen\\n']\n",
      "['Generation_DE Block 3 [MW] Originalauflösungen', 'Generation_DE KW Mittelsbüren Block 4 [MW] Originalauflösungen', 'Generation_DE Mittelsbüren GT3 [MW] Originalauflösungen\\n']\n",
      "['Generation_DE Kraftwerk Rheinfelden [MW] Originalauflösungen\\n']\n",
      "['Generation_DE Silz [MW] Originalauflösungen', 'Generation_DE Silz [MW] Originalauflösungen\\n']\n",
      "['Generation_DE Block A [MW] Originalauflösungen', 'Generation_DE Block B [MW] Originalauflösungen\\n']\n",
      "['Generation_DE Kraftwerk Walheim GTD [MW] Originalauflösungen', 'Generation_DE Kraftwerk Walheim Block 1 [MW] Originalauflösungen', 'Generation_DE Kraftwerk Walheim Block 2 [MW] Originalauflösungen\\n']\n",
      "['Generation_DE Walsum 9 [MW] Originalauflösungen', 'Generation_DE Walsum 7 [MW] Originalauflösungen', 'Generation_DE Walsum 10 [MW] Originalauflösungen\\n']\n",
      "['Generation_DE E 1/2 [MW] Originalauflösungen', 'Generation_DE E3 [MW] Originalauflösungen', 'Generation_DE E4 [MW] Originalauflösungen\\n']\n",
      "['Generation_DE West 2 [MW] Originalauflösungen', 'Generation_DE West 1 [MW] Originalauflösungen\\n']\n",
      "['Generation_DE Kraftwerk Wilhelmshaven Onyx [MW] Originalauflösungen\\n']\n",
      "['Generation_DE  [MW] Originalauflösungen\\n']\n",
      "['Generation_DE Lichterfelde 2 [MW] Originalauflösungen', 'Generation_DE Lichterfelde 3 [MW] Originalauflösungen', 'Generation_DE Lichterfelde 1 [MW] Originalauflösungen', 'Generation_DE GuD Lichterfelde Dampfturbine [MW] Originalauflösungen', 'Generation_DE GuD Lichterfelde Gasturbine [MW] Originalauflösungen\\n']\n",
      "['Generation_DE  [MW] Originalauflösungen\\n']\n",
      "['Generation_DE SWM Heizkraftwerk Nord 2 T20 [MW] Originalauflösungen', 'Generation_DE SWM Heizkraftwerk Nord 3 T30 [MW] Originalauflösungen', 'Generation_DE SWM Heizkraftwerk Nord 1 T10 [MW] Originalauflösungen\\n']\n",
      "['Generation_DE  [MW] Originalauflösungen\\n']\n",
      "['Generation_DE  [MW] Originalauflösungen\\n']\n",
      "['Generation_DE PSW Markersbach PSS B [MW] Originalauflösungen', 'Generation_DE PSW Markersbach PSS A [MW] Originalauflösungen', 'Generation_DE PSW Markersbach PSS C [MW] Originalauflösungen', 'Generation_DE PSW Markersbach PSS D [MW] Originalauflösungen', 'Generation_DE PSW Markersbach PSS E [MW] Originalauflösungen', 'Generation_DE PSW Markersbach PSS F [MW] Originalauflösungen\\n']\n",
      "['Generation_DE  [MW] Originalauflösungen\\n']\n",
      "['Generation_DE  [MW] Originalauflösungen\\n']\n",
      "['Generation_DE Moorburg B [MW] Originalauflösungen', 'Generation_DE Moorburg A [MW] Originalauflösungen\\n']\n",
      "['Generation_DE A [MW] Originalauflösungen', 'Generation_DE B [MW] Originalauflösungen', 'Generation_DE Neurath C [MW] Originalauflösungen', 'Generation_DE Neurath D [MW] Originalauflösungen', 'Generation_DE Neurath E [MW] Originalauflösungen', 'Generation_DE Neurath F [MW] Originalauflösungen', 'Generation_DE Neurath G [MW] Originalauflösungen\\n']\n",
      "['Generation_DE D [MW] Originalauflösungen', 'Generation_DE C [MW] Originalauflösungen', 'Generation_DE B [MW] Originalauflösungen', 'Generation_DE A [MW] Originalauflösungen', 'Generation_DE Niederaußem E [MW] Originalauflösungen', 'Generation_DE Niederaußem F [MW] Originalauflösungen', 'Generation_DE Niederaußem G [MW] Originalauflösungen', 'Generation_DE Niederaußem H [MW] Originalauflösungen', 'Generation_DE Niederaußem K [MW] Originalauflösungen\\n']\n",
      "['Generation_DE  [MW] Originalauflösungen\\n']\n",
      "['Generation_DE Vianden M6 [MW] Originalauflösungen', 'Generation_DE Vianden M7 [MW] Originalauflösungen', 'Generation_DE Vianden M8 [MW] Originalauflösungen', 'Generation_DE Vianden M9 [MW] Originalauflösungen', 'Generation_DE Vianden M1 [MW] Originalauflösungen', 'Generation_DE Vianden M2 [MW] Originalauflösungen', 'Generation_DE Vianden M3 [MW] Originalauflösungen', 'Generation_DE Vianden M4 [MW] Originalauflösungen', 'Generation_DE Vianden M10 [MW] Originalauflösungen', 'Generation_DE Vianden M5 [MW] Originalauflösungen', 'Generation_DE Vianden M11 [MW] Originalauflösungen\\n']\n",
      "['Generation_DE Heizkraftwerk Stuttgart-Münster DT 12 [MW] Originalauflösungen', 'Generation_DE Heizkraftwerk Stuttgart-Münster DT 15 [MW] Originalauflösungen', 'Generation_DE Heizkraftwerk Stuttgart-Münster GT 16 [MW] Originalauflösungen', 'Generation_DE Heizkraftwerk Stuttgart-Münster GT 17 [MW] Originalauflösungen', 'Generation_DE Heizkraftwerk Stuttgart-Münster DT 19 [MW] Originalauflösungen', 'Generation_DE Heizkraftwerk Stuttgart-Münster GT 18 [MW] Originalauflösungen\\n']\n",
      "['Generation_DE Reuter C [MW] Originalauflösungen', 'Generation_DE HKW Reuter, Dampfturbine M [MW] Originalauflösungen\\n']\n",
      "['Generation_DE HKW Reuter West Dampfturbine D [MW] Originalauflösungen', 'Generation_DE HKW Reuter West Dampfturbine E [MW] Originalauflösungen\\n']\n",
      "['Generation_DE RDK 4S [MW] Originalauflösungen', 'Generation_DE Rheinhafen-Dampfkraftwerk RDK 7 [MW] Originalauflösungen', 'Generation_DE Rheinhafen-Dampfkraftwerk RDK 8 [MW] Originalauflösungen\\n']\n",
      "['Generation_DE Iffezheim M1-M5 [MW] Original resolutions\\n']\n",
      "['Generation_DE Riedersbach 1 [MW] Original resolutions', 'Generation_DE Riedersbach 2 [MW] Original resolutions\\n']\n",
      "['Generation_DE  [MW] Original resolutions\\n']\n",
      "['Generation_DE Säckingen [MW] Original resolutions\\n']\n",
      "['Generation_DE A [MW] Original resolutions', 'Generation_DE Schkopau B [MW] Original resolutions\\n']\n",
      "['Generation_DE F [MW] Original resolutions', 'Generation_DE E [MW] Original resolutions', 'Generation_DE D [MW] Original resolutions', 'Generation_DE Scholven B [MW] Original resolutions', 'Generation_DE Scholven C [MW] Original resolutions\\n']\n",
      "['Generation_DE  [MW] Original resolutions\\n']\n",
      "['Generation_DE Kraftwerk Schwarze Pumpe Block A [MW] Original resolutions', 'Generation_DE Kraftwerk Schwarze Pumpe Block B [MW] Original resolutions\\n']\n",
      "['Generation_DE 3.0 [MW] Original resolutions', 'Generation_DE 1.0 [MW] Original resolutions', 'Generation_DE Staudinger 4 [MW] Original resolutions', 'Generation_DE Staudinger 5 [MW] Original resolutions\\n']\n",
      "['Generation_DE Theiß B (Kombi) [MW] Original resolutions', 'Generation_DE Theiß 2 [MW] Original resolutions', 'Generation_DE Theiß 3 [MW] Original resolutions', 'Generation_DE Theiß 5 [MW] Original resolutions\\n']\n",
      "['Generation_DE GT G [MW] Original resolutions', 'Generation_DE GT F [MW] Original resolutions', 'Generation_DE GT H [MW] Original resolutions', 'Generation_DE Gasturbinenkraftwerk Thyrow GT E [MW] Original resolutions', 'Generation_DE Gasturbinenkraftwerk Thyrow GT A [MW] Original resolutions', 'Generation_DE Gasturbinenkraftwerk Thyrow GT B [MW] Original resolutions', 'Generation_DE Gasturbinenkraftwerk Thyrow GT C [MW] Original resolutions', 'Generation_DE Gasturbinenkraftwerk Thyrow GT D [MW] Original resolutions\\n']\n",
      "['Generation_DE GuD Tiefstack [MW] Original resolutions', 'Generation_DE Heizkraftwerk Tiefstack [MW] Original resolutions\\n']\n",
      "['Generation_DE  [MW] Original resolutions\\n']\n",
      "['Generation_DE Trianel Gaskraftwerk Hamm Block 10 [MW] Original resolutions', 'Generation_DE Trianel Gaskraftwerk Hamm Block 20 [MW] Original resolutions\\n']\n",
      "['Generation_DE Trianel Kohlekraftwerk Lünen [MW] Original resolutions\\n']\n",
      "['Generation_DE Fenne MKV [MW] Original resolutions', 'Generation_DE Fenne HKV [MW] Original resolutions\\n']\n",
      "['Generation_DE Waldeck 2 F1 [MW] Original resolutions', 'Generation_DE Waldeck 2 F2 [MW] Original resolutions\\n']\n",
      "['Generation_DE  [MW] Original resolutions\\n']\n",
      "['Generation_DE GT B [MW] Original resolutions', 'Generation_DE GT A [MW] Original resolutions', 'Generation_DE Heizkraftwerk Wedel Block 2 [MW] Original resolutions', 'Generation_DE Heizkraftwerk Wedel Block 1 [MW] Original resolutions\\n']\n",
      "['Generation_DE Wehr A [MW] Original resolutions\\n']\n",
      "['Generation_DE Wehr B [MW] Original resolutions\\n']\n",
      "['Generation_DE Weiher 3 [MW] Original resolutions\\n']\n",
      "['Generation_DE D [MW] Original resolutions', 'Generation_DE C [MW] Original resolutions', 'Generation_DE E [MW] Original resolutions', 'Generation_DE Weisweiler G VGT [MW] Original resolutions', 'Generation_DE Weisweiler H VGT [MW] Original resolutions', 'Generation_DE Weisweiler F [MW] Original resolutions', 'Generation_DE Weisweiler G [MW] Original resolutions', 'Generation_DE Weisweiler H [MW] Original resolutions\\n']\n",
      "['Generation_DE D [MW] Original resolutions', 'Generation_DE B [MW] Original resolutions', 'Generation_DE A [MW] Original resolutions', 'Generation_DE C [MW] Original resolutions', 'Generation_DE E [MW] Original resolutions\\n']\n",
      "['Generation_DE  [MW] Original resolutions\\n']\n",
      "['Generation_DE Witznau A [MW] Original resolutions\\n']\n",
      "['Generation_DE  [MW] Original resolutions\\n']\n",
      "['Generation_DE GT1 & GT2 [MW] Original resolutions', 'Generation_DE Zolling Biomasse-HKW [MW] Original resolutions', 'Generation_DE Kraftwerk Zolling [MW] Original resolutions\\n']\n",
      "['Generation_DE  [MW] Originalauflösungen\\n']\n",
      "['Generation_DE  [MW] Originalauflösungen\\n']\n",
      "['Generation_DE Bergkamen A [MW] Originalauflösungen\\n']\n",
      "['Generation_DE Boxberg Block N [MW] Originalauflösungen', 'Generation_DE Boxberg Block R [MW] Originalauflösungen', 'Generation_DE Boxberg Block P [MW] Originalauflösungen', 'Generation_DE Boxberg Block Q [MW] Originalauflösungen\\n']\n",
      "['Generation_DE Kraftwerk Lippendorf Block R [MW] Originalauflösungen', 'Generation_DE Kraftwerk Lippendorf Block S [MW] Originalauflösungen\\n']\n",
      "['Generation_DE KBR [MW] Originalauflösungen\\n']\n",
      "['Generation_DE Burghausen_GT 1 [MW] Originalauflösungen', 'Generation_DE Gasturbinenanlage 12 [MW] Originalauflösungen\\n']\n",
      "['Generation_DE Cuno Heizkraftwerk Herdecke H6 [MW] Originalauflösungen\\n']\n",
      "['Generation_DE 3.0 [MW] Originalauflösungen', 'Generation_DE 1.0 [MW] Originalauflösungen', 'Generation_DE 2.0 [MW] Originalauflösungen', 'Generation_DE Datteln 4 [MW] Originalauflösungen\\n']\n",
      "['Generation_DE  [MW] Originalauflösungen\\n']\n",
      "['Generation_DE Gas-und-Dampfturbinen [MW] Originalauflösungen\\n']\n",
      "['Generation_DE Hamborn 3 [MW] Originalauflösungen', 'Generation_DE Hamborn 4 [MW] Originalauflösungen', 'Generation_DE Hamborn 5 [MW] Originalauflösungen\\n']\n",
      "['Generation_DE III/B [MW] Originalauflösungen', 'Generation_DE HKW III  Block A [MW] Originalauflösungen\\n']\n",
      "['Generation_DE Ruhrort 2 [MW] Originalauflösungen', 'Generation_DE Ruhrort 3 [MW] Originalauflösungen', 'Generation_DE Ruhrort 4 [MW] Originalauflösungen\\n']\n",
      "['Generation_DE D [MW] Originalauflösungen', 'Generation_DE C1 [MW] Originalauflösungen', 'Generation_DE B1 [MW] Originalauflösungen', 'Generation_DE Emsland B DT [MW] Originalauflösungen', 'Generation_DE Emsland C DT [MW] Originalauflösungen\\n']\n",
      "['Generation_DE  [MW] Originalauflösungen\\n']\n",
      "['Generation_DE 2.0 [MW] Originalauflösungen', 'Generation_DE Franken DT1 [MW] Originalauflösungen\\n']\n",
      "['Generation_DE N [MW] Originalauflösungen', 'Generation_DE E [MW] Originalauflösungen', 'Generation_DE G [MW] Originalauflösungen', 'Generation_DE I [MW] Originalauflösungen', 'Generation_DE K [MW] Originalauflösungen', 'Generation_DE O [MW] Originalauflösungen', 'Generation_DE M [MW] Originalauflösungen', 'Generation_DE D [MW] Originalauflösungen', 'Generation_DE L [MW] Originalauflösungen', 'Generation_DE F [MW] Originalauflösungen', 'Generation_DE C [MW] Originalauflösungen', 'Generation_DE Q [MW] Originalauflösungen', 'Generation_DE P [MW] Originalauflösungen\\n']\n",
      "['Generation_DE GKH 1 [MW] Originalauflösungen', 'Generation_DE GKH 2 [MW] Originalauflösungen\\n']\n",
      "['Generation_DE Gas-und-Dampfturbinen Mitte [MW] Originalauflösungen\\n']\n",
      "['Generation_DE 5.0 [MW] Originalauflösungen', 'Generation_DE Irsching 3 [MW] Originalauflösungen', 'Generation_DE Irsching 4 [MW] Originalauflösungen\\n']\n",
      "['Generation_DE GKN II [MW] Originalauflösungen\\n']\n",
      "['Generation_DE  [MW] Originalauflösungen\\n']\n",
      "['Generation_DE H1 [MW] Originalauflösungen', 'Generation_DE K2 [MW] Originalauflösungen', 'Generation_DE Gersteinwerk F GT (F1) [MW] Originalauflösungen', 'Generation_DE Gersteinwerk G GT (G1) [MW] Originalauflösungen', 'Generation_DE Gersteinwerk I GT (I1) [MW] Originalauflösungen', 'Generation_DE Gersteinwerk I DT (I2) [MW] Originalauflösungen', 'Generation_DE Gersteinwerk F DT (F2) [MW] Originalauflösungen', 'Generation_DE Gersteinwerk G DT (G2) [MW] Originalauflösungen', 'Generation_DE Gersteinwerk K [MW] Originalauflösungen\\n']\n",
      "['Generation_DE PSW Goldisthal PSS D [MW] Originalauflösungen', 'Generation_DE PSW Goldisthal PSS C [MW] Originalauflösungen', 'Generation_DE PSW Goldisthal PSS B [MW] Originalauflösungen', 'Generation_DE PSW Goldisthal PSS A [MW] Originalauflösungen\\n']\n",
      "['Generation_DE  [MW] Originalauflösungen\\n']\n",
      "['Generation_DE GKM Block 6 [MW] Originalauflösungen\\n']\n",
      "['Generation_DE GKM Block 9 [MW] Originalauflösungen\\n']\n",
      "['Generation_DE KraftwerkG [MW] Originalauflösungen\\n']\n",
      "['Generation_DE GuD Marzahn Dampfturbine [MW] Originalauflösungen', 'Generation_DE GuD Marzahn Gasturbine [MW] Originalauflösungen\\n']\n",
      "['Generation_DE  [MW] Originalauflösungen\\n']\n",
      "['Generation_DE Heizkraftwerk Altbach/Deizisau HKW 2 GT E (Solobetrieb) [MW] Originalauflösungen', 'Generation_DE Heizkraftwerk Altbach/Deizisau Block 4 GT A (solo) [MW] Originalauflösungen', 'Generation_DE Heizkraftwerk Altbach/Deizisau GT B [MW] Originalauflösungen', 'Generation_DE Heizkraftwerk Altbach/Deizisau GT C [MW] Originalauflösungen', 'Generation_DE Heizkraftwerk Altbach/Deizisau HKW 2 DT (Solobetrieb) [MW] Originalauflösungen', 'Generation_DE Heizkraftwerk Altbach/Deizisau HKW 1 [MW] Originalauflösungen\\n']\n",
      "['Generation_DE Heizkraftwerk Dresden-Nossener Brücke \\n']\n",
      "['Generation_DE Heizkraftwerk Heilbronn HLB 5 [MW] Originalauflösungen', 'Generation_DE Heizkraftwerk Heilbronn HLB 6 [MW] Originalauflösungen', 'Generation_DE Heizkraftwerk Heilbronn HLB 7 [MW] Originalauflösungen\\n']\n",
      "['Generation_DE ADS-Anlage [MW] Originalauflösungen', 'Generation_DE Block A [MW] Originalauflösungen', 'Generation_DE Block B [MW] Originalauflösungen', 'Generation_DE IPH Ersatzbrennstoffverbrennung Turbine [MW] Originalauflösungen', 'Generation_DE IPH Strom CoFA BHKW 1 [MW] Originalauflösungen', 'Generation_DE IPH Strom CoFA BHKW 2 [MW] Originalauflösungen', 'Generation_DE IPH Strom CoFA BHKW 3 [MW] Originalauflösungen', 'Generation_DE IPH Strom GT2 [MW] Originalauflösungen', 'Generation_DE IPH Strom GT4 [MW] Originalauflösungen\\n']\n",
      "['Generation_DE Block E [MW] Originalauflösungen', 'Generation_DE SWD KWL AGuD [MW] Originalauflösungen', 'Generation_DE SWD KWL GTE1 [MW] Originalauflösungen', 'Generation_DE SWD KWL GTE2 [MW] Originalauflösungen', 'Generation_DE SWD KWL GuD F [MW] Originalauflösungen\\n']\n",
      "['Generation_DE SWM HKW Sued GuD1 DT1 [MW] Originalauflösungen', 'Generation_DE SWM HKW Sued GuD1 GT3 [MW] Originalauflösungen', 'Generation_DE SWM HKW Sued GuD1 GT2 [MW] Originalauflösungen\\n']\n",
      "['Generation_DE SWM HKW Sued GuD2 GT61 [MW] Originalauflösungen', 'Generation_DE SWM HKW Sued GuD2 GT62 [MW] Originalauflösungen', 'Generation_DE SWM HKW Sued GuD2 DT60 [MW] Originalauflösungen\\n']\n",
      "['Generation_DE Block 6 Merkenich RheinEnergie [MW] Originalauflösungen', 'Generation_DE GuD Merkenich RheinEnergie [MW] Originalauflösungen', 'Generation_DE Block 4 Merkenich RheinEnergie [MW] Originalauflösungen\\n']\n",
      "['Generation_DE Gas-und-Dampfturbinen [MW] Originalauflösungen', 'Generation_DE GuD Niehl 3 RheinEnergie [MW] Originalauflösungen\\n']\n",
      "['Generation_DE Gas-und-Dampfturbinen-Anlage [MW] Originalauflösungen', 'Generation_DE HKW-Römerbrücke Dampfturbinenanlage DT2 [MW] Originalauflösungen\\n']\n",
      "['Generation_DE Heizkraftwerk West Block 1 [MW] Originalauflösungen', 'Generation_DE Heizkraftwerk West Block 2 [MW] Originalauflösungen\\n']\n",
      "['Generation_DE M4 [MW] Originalauflösungen', 'Generation_DE Heizkraftwerk West Block 4 [MW] Originalauflösungen', 'Generation_DE Heizkraftwerk West Block 2 [MW] Originalauflösungen', 'Generation_DE Heizkraftwerk West Block 3 [MW] Originalauflösungen', 'Generation_DE HKW West Turbine 5 [MW] Originalauflösungen\\n']\n",
      "['Generation_DE Heyden 4 [MW] Originalauflösungen\\n']\n",
      "['Generation_DE PSW Hohenwarte 2 PSS A [MW] Originalauflösungen', 'Generation_DE PSW Hohenwarte 2 PSS B [MW] Originalauflösungen', 'Generation_DE PSW Hohenwarte 2 PSS C [MW] Originalauflösungen', 'Generation_DE PSW Hohenwarte 2 PSS D [MW] Originalauflösungen', 'Generation_DE PSW Hohenwarte 2 PSS E [MW] Originalauflösungen', 'Generation_DE PSW Hohenwarte 2 PSS F [MW] Originalauflösungen', 'Generation_DE PSW Hohenwarte 2 PSS G [MW] Originalauflösungen', 'Generation_DE PSW Hohenwarte 2 PSS H [MW] Originalauflösungen\\n']\n",
      "['Generation_DE Huckingen A [MW] Originalauflösungen', 'Generation_DE Huckingen B [MW] Originalauflösungen\\n']\n",
      "['Generation_DE Huntorf GT [MW] Originalauflösungen\\n']\n",
      "['Generation_DE 5MKA [MW] Originalauflösungen', 'Generation_DE 6MKA [MW] Originalauflösungen', 'Generation_DE 1MKA [MW] Originalauflösungen', 'Generation_DE 2MKA [MW] Originalauflösungen', 'Generation_DE 4MKA [MW] Originalauflösungen\\n']\n",
      "['Generation_DE Isar 2 [MW] Originalauflösungen\\n']\n",
      "['Generation_DE Kraftwerk Rostock Block A [MW] Originalauflösungen\\n']\n",
      "['Generation_DE B [MW] Originalauflösungen\\n']\n",
      "['Generation_DE Kraftwerk Mehrum Block 3 [MW] Originalauflösungen\\n']\n",
      "['Generation_DE BHKW Modul 1-20\\n']\n",
      "['Generation_DE  [MW] Originalauflösungen\\n']\n",
      "['Generation_DE  [MW] Originalauflösungen\\n']\n",
      "['Generation_DE  [MW] Originalauflösungen\\n']\n",
      "['Generation_DE C [MW] Originalauflösungen', 'Generation_DE B [MW] Originalauflösungen\\n']\n",
      "['Generation_DE Emsland A [MW] Originalauflösungen\\n']\n",
      "['Generation_DE Klingenberg [MW] Originalauflösungen\\n']\n",
      "['Generation_DE Kraftwerk Knapsack II [MW] Originalauflösungen\\n']\n",
      "['Generation_DE Knapsack I [MW] Originalauflösungen\\n']\n",
      "['Generation_DE Koepchenwerk Bl. [MW] Originalauflösungen\\n']\n",
      "['Generation_DE  [MW] Originalauflösungen', 'Generation_DE GUD A 800 \\n']\n",
      "['Generation_DE GUD C 200\\n']\n",
      "['Generation_DE Bexbach [MW] Originalauflösungen\\n']\n",
      "['Generation_DE Kraftwerk Farge [MW] Originalauflösungen\\n']\n",
      "['Generation_DE Block 14 [MW] Originalauflösungen', 'Generation_DE KW Hastedt Block 15 [MW] Originalauflösungen\\n']\n",
      "['Generation_DE Herne 2 [MW] Originalauflösungen', 'Generation_DE Herne 3 [MW] Originalauflösungen', 'Generation_DE Herne 4 [MW] Originalauflösungen\\n']\n",
      "['Generation_DE Kraftwerk Jänschwalde Block A [MW] Originalauflösungen', 'Generation_DE Kraftwerk Jänschwalde Block B [MW] Originalauflösungen', 'Generation_DE Kraftwerk Jänschwalde Block C [MW] Originalauflösungen', 'Generation_DE Kraftwerk Jänschwalde Block D [MW] Originalauflösungen', 'Generation_DE Kraftwerk Jänschwalde Block E [MW] Originalauflösungen', 'Generation_DE Kraftwerk Jänschwalde Block F [MW] Originalauflösungen\\n']\n",
      "['Generation_DE KW Kühtai - Maschine 1 [MW] Originalauflösungen', 'Generation_DE KW Kühtai - Maschine 2 [MW] Originalauflösungen\\n']\n",
      "['Generation_DE Kraftwerk3 [MW] Originalauflösungen', 'Generation_DE Kraftwerk2 [MW] Originalauflösungen\\n']\n",
      "['Generation_DE Block 3 [MW] Originalauflösungen', 'Generation_DE KW Mittelsbüren Block 4 [MW] Originalauflösungen', 'Generation_DE Mittelsbüren GT3 [MW] Originalauflösungen\\n']\n",
      "['Generation_DE Kraftwerk Rheinfelden [MW] Originalauflösungen\\n']\n",
      "['Generation_DE Silz [MW] Originalauflösungen', 'Generation_DE Silz [MW] Originalauflösungen\\n']\n",
      "['Generation_DE Kraftwerk Walheim GTD [MW] Originalauflösungen', 'Generation_DE Kraftwerk Walheim Block 1 [MW] Originalauflösungen', 'Generation_DE Kraftwerk Walheim Block 2 [MW] Originalauflösungen\\n']\n",
      "['Generation_DE Walsum 9 [MW] Originalauflösungen', 'Generation_DE Walsum 7 [MW] Originalauflösungen', 'Generation_DE Walsum 10 [MW] Originalauflösungen\\n']\n",
      "['Generation_DE  [MW] Originalauflösungen\\n']\n",
      "['Generation_DE  [MW] Originalauflösungen\\n']\n",
      "['Generation_DE SWM Heizkraftwerk Nord 2 T20 [MW] Originalauflösungen', 'Generation_DE SWM Heizkraftwerk Nord 3 T30 [MW] Originalauflösungen', 'Generation_DE SWM Heizkraftwerk Nord 1 T10 [MW] Originalauflösungen\\n']\n",
      "['Generation_DE  [MW] Originalauflösungen\\n']\n",
      "['Generation_DE  [MW] Originalauflösungen\\n']\n",
      "['Generation_DE PSW Markersbach PSS B [MW] Originalauflösungen', 'Generation_DE PSW Markersbach PSS A [MW] Originalauflösungen', 'Generation_DE PSW Markersbach PSS C [MW] Originalauflösungen', 'Generation_DE PSW Markersbach PSS D [MW] Originalauflösungen', 'Generation_DE PSW Markersbach PSS E [MW] Originalauflösungen', 'Generation_DE PSW Markersbach PSS F [MW] Originalauflösungen\\n']\n",
      "['Generation_DE  [MW] Originalauflösungen\\n']\n",
      "['Generation_DE  [MW] Originalauflösungen\\n']\n",
      "['Generation_DE A [MW] Originalauflösungen', 'Generation_DE B [MW] Originalauflösungen', 'Generation_DE Neurath C [MW] Originalauflösungen', 'Generation_DE Neurath D [MW] Originalauflösungen', 'Generation_DE Neurath E [MW] Originalauflösungen', 'Generation_DE Neurath F [MW] Originalauflösungen', 'Generation_DE Neurath G [MW] Originalauflösungen\\n']\n",
      "['Generation_DE D [MW] Originalauflösungen', 'Generation_DE C [MW] Originalauflösungen', 'Generation_DE B [MW] Originalauflösungen', 'Generation_DE A [MW] Originalauflösungen', 'Generation_DE Niederaußem E [MW] Originalauflösungen', 'Generation_DE Niederaußem F [MW] Originalauflösungen', 'Generation_DE Niederaußem G [MW] Originalauflösungen', 'Generation_DE Niederaußem H [MW] Originalauflösungen', 'Generation_DE Niederaußem K [MW] Originalauflösungen\\n']\n",
      "['Generation_DE  [MW] Originalauflösungen\\n']\n",
      "['Generation_DE Vianden M6 [MW] Originalauflösungen', 'Generation_DE Vianden M7 [MW] Originalauflösungen', 'Generation_DE Vianden M8 [MW] Originalauflösungen', 'Generation_DE Vianden M9 [MW] Originalauflösungen', 'Generation_DE Vianden M1 [MW] Originalauflösungen', 'Generation_DE Vianden M2 [MW] Originalauflösungen', 'Generation_DE Vianden M3 [MW] Originalauflösungen', 'Generation_DE Vianden M4 [MW] Originalauflösungen', 'Generation_DE Vianden M10 [MW] Originalauflösungen', 'Generation_DE Vianden M5 [MW] Originalauflösungen', 'Generation_DE Vianden M11 [MW] Originalauflösungen\\n']\n",
      "['Generation_DE Heizkraftwerk Stuttgart-Münster DT 12 [MW] Originalauflösungen', 'Generation_DE Heizkraftwerk Stuttgart-Münster DT 15 [MW] Originalauflösungen', 'Generation_DE Heizkraftwerk Stuttgart-Münster GT 16 [MW] Originalauflösungen', 'Generation_DE Heizkraftwerk Stuttgart-Münster GT 17 [MW] Originalauflösungen', 'Generation_DE Heizkraftwerk Stuttgart-Münster DT 19 [MW] Originalauflösungen', 'Generation_DE Heizkraftwerk Stuttgart-Münster GT 18 [MW] Originalauflösungen\\n']\n",
      "['Generation_DE HKW Reuter West Dampfturbine D [MW] Originalauflösungen', 'Generation_DE HKW Reuter West Dampfturbine E [MW] Originalauflösungen\\n']\n",
      "['Generation_DE RDK 4S [MW] Originalauflösungen', 'Generation_DE Rheinhafen-Dampfkraftwerk RDK 7 [MW] Originalauflösungen', 'Generation_DE Rheinhafen-Dampfkraftwerk RDK 8 [MW] Originalauflösungen\\n']\n",
      "['Generation_DE Iffezheim M1-M5 [MW] Originalauflösungen\\n']\n",
      "['Generation_DE Riedersbach 1 [MW] Originalauflösungen', 'Generation_DE Riedersbach 2 [MW] Originalauflösungen\\n']\n",
      "['Generation_DE  [MW] Originalauflösungen\\n']\n",
      "['Generation_DE Säckingen [MW] Originalauflösungen\\n']\n",
      "['Generation_DE A [MW] Originalauflösungen', 'Generation_DE Schkopau B [MW] Originalauflösungen\\n']\n",
      "['Generation_DE F [MW] Originalauflösungen', 'Generation_DE E [MW] Originalauflösungen', 'Generation_DE D [MW] Originalauflösungen', 'Generation_DE Scholven B [MW] Originalauflösungen', 'Generation_DE Scholven C [MW] Originalauflösungen\\n']\n",
      "['Generation_DE  [MW] Originalauflösungen\\n']\n",
      "['Generation_DE Kraftwerk Schwarze Pumpe Block A [MW] Originalauflösungen', 'Generation_DE Kraftwerk Schwarze Pumpe Block B [MW] Originalauflösungen\\n']\n",
      "['Generation_DE 3.0 [MW] Originalauflösungen', 'Generation_DE 1.0 [MW] Originalauflösungen', 'Generation_DE Staudinger 4 [MW] Originalauflösungen', 'Generation_DE Staudinger 5 [MW] Originalauflösungen\\n']\n",
      "['Generation_DE Theiß B (Kombi) [MW] Originalauflösungen', 'Generation_DE Theiß 2 [MW] Originalauflösungen', 'Generation_DE Theiß 3 [MW] Originalauflösungen', 'Generation_DE Theiß 5 [MW] Originalauflösungen\\n']\n",
      "['Generation_DE GT G [MW] Originalauflösungen', 'Generation_DE GT F [MW] Originalauflösungen', 'Generation_DE GT H [MW] Originalauflösungen', 'Generation_DE Gasturbinenkraftwerk Thyrow GT E [MW] Originalauflösungen', 'Generation_DE Gasturbinenkraftwerk Thyrow GT A [MW] Originalauflösungen', 'Generation_DE Gasturbinenkraftwerk Thyrow GT B [MW] Originalauflösungen', 'Generation_DE Gasturbinenkraftwerk Thyrow GT C [MW] Originalauflösungen', 'Generation_DE Gasturbinenkraftwerk Thyrow GT D [MW] Originalauflösungen\\n']\n",
      "['Generation_DE GuD Tiefstack [MW] Originalauflösungen', 'Generation_DE Heizkraftwerk Tiefstack [MW] Originalauflösungen\\n']\n",
      "['Generation_DE  [MW] Originalauflösungen\\n']\n",
      "['Generation_DE Trianel Gaskraftwerk Hamm Block 10 [MW] Originalauflösungen', 'Generation_DE Trianel Gaskraftwerk Hamm Block 20 [MW] Originalauflösungen\\n']\n",
      "['Generation_DE Trianel Kohlekraftwerk Lünen [MW] Originalauflösungen\\n']\n",
      "['Generation_DE Fenne MKV [MW] Originalauflösungen', 'Generation_DE Fenne HKV [MW] Originalauflösungen\\n']\n",
      "['Generation_DE  [MW] Originalauflösungen', 'Generation_DE  [MW] Originalauflösungen\\n']\n",
      "['Generation_DE Waldeck 2 F1 [MW] Originalauflösungen', 'Generation_DE Waldeck 2 F2 [MW] Originalauflösungen\\n']\n",
      "['Generation_DE  [MW] Originalauflösungen\\n']\n",
      "['Generation_DE GT B [MW] Originalauflösungen', 'Generation_DE GT A [MW] Originalauflösungen', 'Generation_DE Heizkraftwerk Wedel Block 2 [MW] Originalauflösungen', 'Generation_DE Heizkraftwerk Wedel Block 1 [MW] Originalauflösungen\\n']\n",
      "['Generation_DE Wehr A [MW] Originalauflösungen\\n']\n",
      "['Generation_DE Wehr B [MW] Originalauflösungen\\n']\n",
      "['Generation_DE Weiher 3 [MW] Originalauflösungen\\n']\n",
      "['Generation_DE D [MW] Originalauflösungen', 'Generation_DE C [MW] Originalauflösungen', 'Generation_DE E [MW] Originalauflösungen', 'Generation_DE Weisweiler G VGT [MW] Originalauflösungen', 'Generation_DE Weisweiler H VGT [MW] Originalauflösungen', 'Generation_DE Weisweiler F [MW] Originalauflösungen', 'Generation_DE Weisweiler G [MW] Originalauflösungen', 'Generation_DE Weisweiler H [MW] Originalauflösungen\\n']\n",
      "['Generation_DE  [MW] Originalauflösungen\\n']\n",
      "['Generation_DE Witznau A [MW] Originalauflösungen\\n']\n",
      "['Generation_DE  [MW] Originalauflösungen\\n']\n",
      "['Generation_DE GT1 & GT2 [MW] Originalauflösungen', 'Generation_DE Zolling Biomasse-HKW [MW] Originalauflösungen', 'Generation_DE Kraftwerk Zolling [MW] Originalauflösungen\\n']\n"
     ]
    }
   ],
   "source": [
    "mapper = gen_mapper(files)\n",
    "mapper2 = gen_mapper(files2)"
   ]
  },
  {
   "cell_type": "code",
   "execution_count": 24,
   "metadata": {},
   "outputs": [],
   "source": [
    "fixed_mapper = get_mapper('plantmapper.json')"
   ]
  },
  {
   "cell_type": "code",
   "execution_count": 25,
   "metadata": {},
   "outputs": [],
   "source": [
    "m1 = list(fixed_mapper.keys())\n",
    "m2 = list(mapper.keys())"
   ]
  },
  {
   "cell_type": "code",
   "execution_count": 26,
   "metadata": {},
   "outputs": [
    {
     "data": {
      "text/plain": [
       "['Datteln',\n",
       " 'Farge',\n",
       " 'Heizkraftwerk_Dresden-Nossener_Brücke',\n",
       " 'Heizkraftwerk_West__Frankfurt_',\n",
       " 'Kraftwerk_Be06bach',\n",
       " 'Wehr',\n",
       " 'K_stenkraftwerk_K.I.E.L.']"
      ]
     },
     "execution_count": 26,
     "metadata": {},
     "output_type": "execute_result"
    }
   ],
   "source": [
    "diff(m1, m2)"
   ]
  },
  {
   "cell_type": "code",
   "execution_count": 27,
   "metadata": {},
   "outputs": [
    {
     "data": {
      "text/plain": [
       "['Abwinden-Asten',\n",
       " 'Altenw_rth',\n",
       " 'Donaustadt',\n",
       " 'Fernheizkraftwerk_Mellach',\n",
       " 'Frechen_Wachtberg',\n",
       " 'Gerlos',\n",
       " 'Greifenstein',\n",
       " 'Gro_kraftwerk_Mannheim',\n",
       " 'H_usling',\n",
       " 'Heizkraftwerk_Industriepark_H_chst',\n",
       " 'Hohenwarte_2',\n",
       " 'Kaprun_Hauptstufe',\n",
       " 'Kaprun_Limberg_II',\n",
       " 'Kaprun_Oberstufe',\n",
       " 'Korneuburg',\n",
       " 'Kraftwerk_Farge',\n",
       " 'Kraftwerk_K_htai',\n",
       " 'Kraftwerk_Silz',\n",
       " 'Laufenburg',\n",
       " 'Linz-S_d_Fernheizkraftwerk',\n",
       " 'Malta_Hauptstufe',\n",
       " 'Malta_Oberstufe',\n",
       " 'Mayrhofen',\n",
       " 'Melk',\n",
       " 'Ottensheim-Wilhering',\n",
       " 'Pumpspeicherkraftwerk_Vianden',\n",
       " 'Riedersbach',\n",
       " 'Ro_hag',\n",
       " 'Schwarzach',\n",
       " 'Thei_',\n",
       " 'Thyrow',\n",
       " 'Timelkam_',\n",
       " 'Wallsee-Mitterkirchen',\n",
       " 'Wien-Freudenau',\n",
       " 'Ybbs-Persenbeug']"
      ]
     },
     "execution_count": 27,
     "metadata": {},
     "output_type": "execute_result"
    }
   ],
   "source": [
    "diff(m2, m1)"
   ]
  },
  {
   "cell_type": "code",
   "execution_count": 28,
   "metadata": {},
   "outputs": [
    {
     "data": {
      "text/plain": [
       "{'list': ['Block A ', 'Block B '], 'Block A': '', 'Block B': ''}"
      ]
     },
     "execution_count": 28,
     "metadata": {},
     "output_type": "execute_result"
    }
   ],
   "source": [
    "mapper['Kraftwerk_Voerde']"
   ]
  },
  {
   "cell_type": "code",
   "execution_count": 26,
   "metadata": {},
   "outputs": [],
   "source": [
    "#mapper2"
   ]
  },
  {
   "cell_type": "code",
   "execution_count": null,
   "metadata": {},
   "outputs": [],
   "source": [
    "#mapper"
   ]
  },
  {
   "cell_type": "code",
   "execution_count": null,
   "metadata": {},
   "outputs": [],
   "source": [
    "#with open('mapper.json', 'w') as fp:\n",
    "#    json.dump(mapper, fp, indent=4)"
   ]
  },
  {
   "cell_type": "code",
   "execution_count": null,
   "metadata": {},
   "outputs": [],
   "source": [
    "#mj = json.loads(mapper)"
   ]
  },
  {
   "cell_type": "code",
   "execution_count": null,
   "metadata": {},
   "outputs": [],
   "source": [
    "#mapper"
   ]
  },
  {
   "cell_type": "code",
   "execution_count": null,
   "metadata": {},
   "outputs": [],
   "source": [
    "#file"
   ]
  },
  {
   "cell_type": "code",
   "execution_count": 26,
   "metadata": {},
   "outputs": [],
   "source": []
  },
  {
   "cell_type": "code",
   "execution_count": 27,
   "metadata": {},
   "outputs": [],
   "source": [
    "mapper = {}"
   ]
  },
  {
   "cell_type": "code",
   "execution_count": 28,
   "metadata": {},
   "outputs": [],
   "source": []
  },
  {
   "cell_type": "code",
   "execution_count": 31,
   "metadata": {},
   "outputs": [],
   "source": []
  },
  {
   "cell_type": "code",
   "execution_count": 29,
   "metadata": {},
   "outputs": [
    {
     "ename": "NameError",
     "evalue": "name 'get_name_from_file' is not defined",
     "output_type": "error",
     "traceback": [
      "\u001b[0;31m---------------------------------------------------------------------------\u001b[0m",
      "\u001b[0;31mNameError\u001b[0m                                 Traceback (most recent call last)",
      "Cell \u001b[0;32mIn[29], line 1\u001b[0m\n\u001b[0;32m----> 1\u001b[0m get_name_from_file(FN)\n",
      "\u001b[0;31mNameError\u001b[0m: name 'get_name_from_file' is not defined"
     ]
    }
   ],
   "source": [
    "get_name_from_file(FN)"
   ]
  },
  {
   "cell_type": "code",
   "execution_count": null,
   "metadata": {},
   "outputs": [],
   "source": [
    "tmp = get_header(FILE).split(\";\")"
   ]
  },
  {
   "cell_type": "code",
   "execution_count": null,
   "metadata": {},
   "outputs": [],
   "source": [
    "plants = [p for p in tmp[2:]]"
   ]
  },
  {
   "cell_type": "code",
   "execution_count": null,
   "metadata": {},
   "outputs": [],
   "source": [
    "blocks = [p.split(\"Generation_DE \")[1].rsplit('[MW]')[0] for p in plants]"
   ]
  },
  {
   "cell_type": "code",
   "execution_count": null,
   "metadata": {},
   "outputs": [],
   "source": [
    "blocks"
   ]
  },
  {
   "cell_type": "code",
   "execution_count": null,
   "metadata": {},
   "outputs": [],
   "source": [
    "plants"
   ]
  },
  {
   "cell_type": "code",
   "execution_count": null,
   "metadata": {},
   "outputs": [],
   "source": [
    "plants[0].split(\"Generation_DE \")[1].rsplit('[MW]')[0]"
   ]
  },
  {
   "cell_type": "code",
   "execution_count": null,
   "metadata": {},
   "outputs": [],
   "source": []
  },
  {
   "cell_type": "code",
   "execution_count": null,
   "metadata": {},
   "outputs": [],
   "source": []
  }
 ],
 "metadata": {
  "kernelspec": {
   "display_name": "Python 3 (ipykernel)",
   "language": "python",
   "name": "python3"
  },
  "language_info": {
   "codemirror_mode": {
    "name": "ipython",
    "version": 3
   },
   "file_extension": ".py",
   "mimetype": "text/x-python",
   "name": "python",
   "nbconvert_exporter": "python",
   "pygments_lexer": "ipython3",
   "version": "3.11.3"
  }
 },
 "nbformat": 4,
 "nbformat_minor": 4
}
