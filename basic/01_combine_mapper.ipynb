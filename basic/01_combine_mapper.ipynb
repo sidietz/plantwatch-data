{
 "cells": [
  {
   "cell_type": "code",
   "execution_count": 1,
   "id": "bb7f3f17-7810-44d0-b8d6-61c56551b2e4",
   "metadata": {},
   "outputs": [],
   "source": [
    "import pandas as pd"
   ]
  },
  {
   "cell_type": "code",
   "execution_count": 8,
   "id": "78428c53-670c-4fae-acea-f507e1288cae",
   "metadata": {},
   "outputs": [],
   "source": [
    "running = pd.read_csv(\"mapper_running.csv\", engine=\"python\")\n",
    "retired = pd.read_csv(\"mapper_retired.csv\", engine=\"python\")"
   ]
  },
  {
   "cell_type": "code",
   "execution_count": 5,
   "id": "29e358b5-6cd0-419d-bd92-c81236c634f0",
   "metadata": {},
   "outputs": [],
   "source": [
    "c1 = pd.concat([running, retired])"
   ]
  },
  {
   "cell_type": "code",
   "execution_count": 6,
   "id": "667f1058-04dc-4144-a4c7-d937b797ae32",
   "metadata": {},
   "outputs": [],
   "source": [
    "c2 = c1.rename(columns={\"MaStR-Nr. der Stromerzeugungseinheit\": \"sseid\"})"
   ]
  },
  {
   "cell_type": "code",
   "execution_count": 10,
   "id": "ccaf5db8-b0f2-4138-b824-b98a95bab87e",
   "metadata": {},
   "outputs": [],
   "source": [
    "c3 = c2.sort_values(by=['plantid'])"
   ]
  },
  {
   "cell_type": "code",
   "execution_count": 12,
   "id": "8305b29a-f707-4464-8057-37481fd431a3",
   "metadata": {},
   "outputs": [],
   "source": [
    "c3.to_csv(\"plant_sse_mapper.csv\", index=False)"
   ]
  },
  {
   "cell_type": "code",
   "execution_count": null,
   "id": "b085cb5f-89fb-4db4-8158-f83688706a6e",
   "metadata": {},
   "outputs": [],
   "source": []
  }
 ],
 "metadata": {
  "kernelspec": {
   "display_name": "Python 3 (ipykernel)",
   "language": "python",
   "name": "python3"
  },
  "language_info": {
   "codemirror_mode": {
    "name": "ipython",
    "version": 3
   },
   "file_extension": ".py",
   "mimetype": "text/x-python",
   "name": "python",
   "nbconvert_exporter": "python",
   "pygments_lexer": "ipython3",
   "version": "3.11.3"
  }
 },
 "nbformat": 4,
 "nbformat_minor": 5
}
