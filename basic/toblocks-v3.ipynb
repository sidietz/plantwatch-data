{
 "cells": [
  {
   "cell_type": "code",
   "execution_count": 72,
   "metadata": {},
   "outputs": [],
   "source": [
    "import pandas as pd\n",
    "from scipy import stats\n",
    "import numpy as np\n",
    "from pandas.api.types import CategoricalDtype\n",
    "import re"
   ]
  },
  {
   "cell_type": "code",
   "execution_count": 73,
   "metadata": {},
   "outputs": [],
   "source": [
    "pl0 = pd.read_excel(\"../data/Kraftwerksliste_2020_1.xlsx\", skiprows=9)\n",
    "prtr = pd.read_excel(\"../data/2020-05-19_PRTR-Deutschland_Freisetzungen.xlsx\")"
   ]
  },
  {
   "cell_type": "code",
   "execution_count": 74,
   "metadata": {},
   "outputs": [],
   "source": [
    "#prtr"
   ]
  },
  {
   "cell_type": "code",
   "execution_count": 75,
   "metadata": {},
   "outputs": [],
   "source": [
    "#pl0 = pd.read_csv(\"../Kraftwerksliste_2020.csv\", error_bad_lines=False, engine=\"python\", encoding=\"latin1\", sep=\";\", skiprows=9)\n",
    "#prtr = pd.read_csv(\"../data/2019-11-25_PRTR-Deutschland_Freisetzungen.csv\", error_bad_lines=False, engine=\"python\", encoding=\"latin1\", sep=\";\", skiprows=0)\n",
    "#pl0 = pd.read_csv(\"Kraftwerksliste_CSV.csv\", error_bad_lines=False, engine=\"python\")\n",
    "bm = pd.read_csv(\"block_plant_mapper.csv\", error_bad_lines=True, engine=\"python\")"
   ]
  },
  {
   "cell_type": "code",
   "execution_count": 76,
   "metadata": {},
   "outputs": [],
   "source": [
    "bm['plantid'] = bm['plantid'].apply(lambda x: str(x).replace('/', '_'))"
   ]
  },
  {
   "cell_type": "code",
   "execution_count": 77,
   "metadata": {},
   "outputs": [
    {
     "data": {
      "text/html": [
       "<div>\n",
       "<style scoped>\n",
       "    .dataframe tbody tr th:only-of-type {\n",
       "        vertical-align: middle;\n",
       "    }\n",
       "\n",
       "    .dataframe tbody tr th {\n",
       "        vertical-align: top;\n",
       "    }\n",
       "\n",
       "    .dataframe thead th {\n",
       "        text-align: right;\n",
       "    }\n",
       "</style>\n",
       "<table border=\"1\" class=\"dataframe\">\n",
       "  <thead>\n",
       "    <tr style=\"text-align: right;\">\n",
       "      <th></th>\n",
       "      <th>plantid</th>\n",
       "      <th>blockid</th>\n",
       "    </tr>\n",
       "  </thead>\n",
       "  <tbody>\n",
       "    <tr>\n",
       "      <th>572</th>\n",
       "      <td>06-04-11_2001178_8_0</td>\n",
       "      <td>BNA0140</td>\n",
       "    </tr>\n",
       "    <tr>\n",
       "      <th>573</th>\n",
       "      <td>06-04-11_2001178_8_0</td>\n",
       "      <td>BNA0144</td>\n",
       "    </tr>\n",
       "    <tr>\n",
       "      <th>574</th>\n",
       "      <td>06-04-11_2001178_8_1</td>\n",
       "      <td>BNA0139</td>\n",
       "    </tr>\n",
       "    <tr>\n",
       "      <th>575</th>\n",
       "      <td>06-04-11_2001178_8_1</td>\n",
       "      <td>BNA0145</td>\n",
       "    </tr>\n",
       "    <tr>\n",
       "      <th>576</th>\n",
       "      <td>06-04-11_2001178_8_1</td>\n",
       "      <td>BNA0146</td>\n",
       "    </tr>\n",
       "    <tr>\n",
       "      <th>577</th>\n",
       "      <td>06-04-11_2001178_8_2</td>\n",
       "      <td>BNA0141</td>\n",
       "    </tr>\n",
       "    <tr>\n",
       "      <th>578</th>\n",
       "      <td>06-04-11_2001178_8_2</td>\n",
       "      <td>BNA1842</td>\n",
       "    </tr>\n",
       "    <tr>\n",
       "      <th>579</th>\n",
       "      <td>06-04-11_2001178_8_2</td>\n",
       "      <td>BNA1820</td>\n",
       "    </tr>\n",
       "    <tr>\n",
       "      <th>581</th>\n",
       "      <td>06-04-11_2039669_2_0</td>\n",
       "      <td>BNA0147</td>\n",
       "    </tr>\n",
       "  </tbody>\n",
       "</table>\n",
       "</div>"
      ],
      "text/plain": [
       "                  plantid  blockid\n",
       "572  06-04-11_2001178_8_0  BNA0140\n",
       "573  06-04-11_2001178_8_0  BNA0144\n",
       "574  06-04-11_2001178_8_1  BNA0139\n",
       "575  06-04-11_2001178_8_1  BNA0145\n",
       "576  06-04-11_2001178_8_1  BNA0146\n",
       "577  06-04-11_2001178_8_2  BNA0141\n",
       "578  06-04-11_2001178_8_2  BNA1842\n",
       "579  06-04-11_2001178_8_2  BNA1820\n",
       "581  06-04-11_2039669_2_0  BNA0147"
      ]
     },
     "execution_count": 77,
     "metadata": {},
     "output_type": "execute_result"
    }
   ],
   "source": [
    "bm.loc[bm.plantid.str.contains(\"_\")]"
   ]
  },
  {
   "cell_type": "code",
   "execution_count": 78,
   "metadata": {},
   "outputs": [
    {
     "data": {
      "text/html": [
       "<div>\n",
       "<style scoped>\n",
       "    .dataframe tbody tr th:only-of-type {\n",
       "        vertical-align: middle;\n",
       "    }\n",
       "\n",
       "    .dataframe tbody tr th {\n",
       "        vertical-align: top;\n",
       "    }\n",
       "\n",
       "    .dataframe thead th {\n",
       "        text-align: right;\n",
       "    }\n",
       "</style>\n",
       "<table border=\"1\" class=\"dataframe\">\n",
       "  <thead>\n",
       "    <tr style=\"text-align: right;\">\n",
       "      <th></th>\n",
       "      <th>jahr</th>\n",
       "      <th>geo_lat_wgs84</th>\n",
       "      <th>geo_long_wgs84</th>\n",
       "      <th>haupttaetigkeit</th>\n",
       "      <th>nace_id</th>\n",
       "      <th>jahresfracht_freisetzung</th>\n",
       "      <th>versehentliche_freisetzung</th>\n",
       "      <th>schadstoff_schwellenwert</th>\n",
       "    </tr>\n",
       "  </thead>\n",
       "  <tbody>\n",
       "    <tr>\n",
       "      <th>count</th>\n",
       "      <td>55208.000000</td>\n",
       "      <td>55180.000000</td>\n",
       "      <td>55180.000000</td>\n",
       "      <td>55208.0</td>\n",
       "      <td>55208.000000</td>\n",
       "      <td>5.520800e+04</td>\n",
       "      <td>5.491000e+04</td>\n",
       "      <td>5.518600e+04</td>\n",
       "    </tr>\n",
       "    <tr>\n",
       "      <th>mean</th>\n",
       "      <td>2012.419015</td>\n",
       "      <td>51.100749</td>\n",
       "      <td>9.472607</td>\n",
       "      <td>1.0</td>\n",
       "      <td>2627.947236</td>\n",
       "      <td>1.023602e+08</td>\n",
       "      <td>1.678297e+03</td>\n",
       "      <td>8.973344e+06</td>\n",
       "    </tr>\n",
       "    <tr>\n",
       "      <th>std</th>\n",
       "      <td>3.446293</td>\n",
       "      <td>1.557373</td>\n",
       "      <td>2.285275</td>\n",
       "      <td>0.0</td>\n",
       "      <td>1297.723055</td>\n",
       "      <td>1.003942e+09</td>\n",
       "      <td>1.559399e+05</td>\n",
       "      <td>2.841689e+07</td>\n",
       "    </tr>\n",
       "    <tr>\n",
       "      <th>min</th>\n",
       "      <td>2007.000000</td>\n",
       "      <td>47.547507</td>\n",
       "      <td>6.089509</td>\n",
       "      <td>1.0</td>\n",
       "      <td>111.000000</td>\n",
       "      <td>1.010000e-04</td>\n",
       "      <td>0.000000e+00</td>\n",
       "      <td>1.000000e-04</td>\n",
       "    </tr>\n",
       "    <tr>\n",
       "      <th>25%</th>\n",
       "      <td>2009.000000</td>\n",
       "      <td>50.023316</td>\n",
       "      <td>7.416637</td>\n",
       "      <td>1.0</td>\n",
       "      <td>2013.000000</td>\n",
       "      <td>3.860000e+02</td>\n",
       "      <td>0.000000e+00</td>\n",
       "      <td>1.000000e+02</td>\n",
       "    </tr>\n",
       "    <tr>\n",
       "      <th>50%</th>\n",
       "      <td>2012.000000</td>\n",
       "      <td>51.378907</td>\n",
       "      <td>8.976796</td>\n",
       "      <td>1.0</td>\n",
       "      <td>3511.000000</td>\n",
       "      <td>2.666928e+04</td>\n",
       "      <td>0.000000e+00</td>\n",
       "      <td>1.000000e+04</td>\n",
       "    </tr>\n",
       "    <tr>\n",
       "      <th>75%</th>\n",
       "      <td>2015.000000</td>\n",
       "      <td>52.154765</td>\n",
       "      <td>11.492513</td>\n",
       "      <td>1.0</td>\n",
       "      <td>3700.000000</td>\n",
       "      <td>3.160000e+05</td>\n",
       "      <td>0.000000e+00</td>\n",
       "      <td>1.000000e+05</td>\n",
       "    </tr>\n",
       "    <tr>\n",
       "      <th>max</th>\n",
       "      <td>2018.000000</td>\n",
       "      <td>54.813533</td>\n",
       "      <td>15.000934</td>\n",
       "      <td>1.0</td>\n",
       "      <td>9609.000000</td>\n",
       "      <td>9.730000e+10</td>\n",
       "      <td>2.590000e+07</td>\n",
       "      <td>1.000000e+08</td>\n",
       "    </tr>\n",
       "  </tbody>\n",
       "</table>\n",
       "</div>"
      ],
      "text/plain": [
       "               jahr  geo_lat_wgs84  geo_long_wgs84  haupttaetigkeit  \\\n",
       "count  55208.000000   55180.000000    55180.000000          55208.0   \n",
       "mean    2012.419015      51.100749        9.472607              1.0   \n",
       "std        3.446293       1.557373        2.285275              0.0   \n",
       "min     2007.000000      47.547507        6.089509              1.0   \n",
       "25%     2009.000000      50.023316        7.416637              1.0   \n",
       "50%     2012.000000      51.378907        8.976796              1.0   \n",
       "75%     2015.000000      52.154765       11.492513              1.0   \n",
       "max     2018.000000      54.813533       15.000934              1.0   \n",
       "\n",
       "            nace_id  jahresfracht_freisetzung  versehentliche_freisetzung  \\\n",
       "count  55208.000000              5.520800e+04                5.491000e+04   \n",
       "mean    2627.947236              1.023602e+08                1.678297e+03   \n",
       "std     1297.723055              1.003942e+09                1.559399e+05   \n",
       "min      111.000000              1.010000e-04                0.000000e+00   \n",
       "25%     2013.000000              3.860000e+02                0.000000e+00   \n",
       "50%     3511.000000              2.666928e+04                0.000000e+00   \n",
       "75%     3700.000000              3.160000e+05                0.000000e+00   \n",
       "max     9609.000000              9.730000e+10                2.590000e+07   \n",
       "\n",
       "       schadstoff_schwellenwert  \n",
       "count              5.518600e+04  \n",
       "mean               8.973344e+06  \n",
       "std                2.841689e+07  \n",
       "min                1.000000e-04  \n",
       "25%                1.000000e+02  \n",
       "50%                1.000000e+04  \n",
       "75%                1.000000e+05  \n",
       "max                1.000000e+08  "
      ]
     },
     "execution_count": 78,
     "metadata": {},
     "output_type": "execute_result"
    }
   ],
   "source": [
    "prtr.describe()"
   ]
  },
  {
   "cell_type": "code",
   "execution_count": 79,
   "metadata": {},
   "outputs": [],
   "source": [
    "pl0.rename(columns={ pl0.columns[10]: \"Energieträger_old\", pl0.columns[13]: \"Energieträger\"}, inplace=True)"
   ]
  },
  {
   "cell_type": "code",
   "execution_count": 80,
   "metadata": {},
   "outputs": [],
   "source": [
    "#pl0"
   ]
  },
  {
   "cell_type": "code",
   "execution_count": 81,
   "metadata": {},
   "outputs": [],
   "source": [
    "#bm"
   ]
  },
  {
   "cell_type": "code",
   "execution_count": 82,
   "metadata": {},
   "outputs": [],
   "source": [
    "#pl0.groupby(\"Energieträger\").count()"
   ]
  },
  {
   "cell_type": "code",
   "execution_count": 83,
   "metadata": {},
   "outputs": [],
   "source": [
    "#bm\n",
    "pl1 = pl0.loc[np.logical_or(pl0.Energieträger == \"Kernenergie\", np.logical_or(pl0.Energieträger == \"Erdgas\", np.logical_or(pl0.Energieträger == \"Steinkohle\", np.logical_or(pl0.Energieträger == \"Braunkohle\", pl0.Energieträger == \"Mineralölprodukte\")))), :]"
   ]
  },
  {
   "cell_type": "code",
   "execution_count": 84,
   "metadata": {},
   "outputs": [],
   "source": [
    "plt = pl1.dropna(subset=[\"Kraftwerksnummer Bundesnetzagentur\"])"
   ]
  },
  {
   "cell_type": "code",
   "execution_count": 85,
   "metadata": {},
   "outputs": [],
   "source": [
    "plt = plt.astype({\"Energieträger\": 'category'})"
   ]
  },
  {
   "cell_type": "code",
   "execution_count": 86,
   "metadata": {},
   "outputs": [],
   "source": [
    "STATE = \"Kraftwerksstatus \\n(in Betrieb/\\nvorläufig stillgelegt/\\nsaisonale Konservierung\\nReservekraftwerk/\\nSonderfall)\"\n",
    "idxs = plt.index[plt[\"Kraftwerksnummer Bundesnetzagentur\"].isin([\"BNA0083\", \"BNA0085b\"]) & ~plt[STATE].isin([\"in Betrieb\"])].tolist()\n",
    "plt2 = plt.loc[~plt.index.isin(idxs)]"
   ]
  },
  {
   "cell_type": "code",
   "execution_count": 87,
   "metadata": {},
   "outputs": [],
   "source": [
    "#plt[\"Energieträger\"] = plt[\"Energieträger\"].astype('category')\n",
    "#plt[\"Energieträger\"] = plt[\"Energieträger\"].cat.set_categories([\"Kernenergie\", \"Braunkohle\", \"Steinkohle\", \"Erdgas\", \"Mineralölprodukte\"], ordered=True)"
   ]
  },
  {
   "cell_type": "code",
   "execution_count": 88,
   "metadata": {},
   "outputs": [],
   "source": [
    "#plt[\"Energieträger\"] = plt[\"Energieträger\"].astype('category')"
   ]
  },
  {
   "cell_type": "code",
   "execution_count": 89,
   "metadata": {},
   "outputs": [],
   "source": [
    "#plt.groupby('Energieträger').count()"
   ]
  },
  {
   "cell_type": "code",
   "execution_count": 101,
   "metadata": {},
   "outputs": [],
   "source": [
    "pl2 = plt2.loc[:]"
   ]
  },
  {
   "cell_type": "code",
   "execution_count": 102,
   "metadata": {},
   "outputs": [],
   "source": [
    "#pl2.groupby(\"Energieträger\").count()"
   ]
  },
  {
   "cell_type": "code",
   "execution_count": 103,
   "metadata": {},
   "outputs": [],
   "source": [
    "# plt.dtypes"
   ]
  },
  {
   "cell_type": "code",
   "execution_count": 104,
   "metadata": {},
   "outputs": [],
   "source": [
    "pl2 = plt.rename(columns={ pl1.columns[0]: \"blockid\", pl1.columns[3]: \"PLZ\", pl1.columns[4]: \"Ort\", pl1.columns[8]: \"Inbetriebnahme\", pl1.columns[9]: \"Status\", pl1.columns[15]: \"KWK\", pl1.columns[16]: \"Nettoleistung\"})\n",
    "#pl3 = pl2.rename(columns={ pl1.columns[1]: \"BlockID\" })"
   ]
  },
  {
   "cell_type": "code",
   "execution_count": 105,
   "metadata": {},
   "outputs": [],
   "source": [
    "def to_year(x):\n",
    "    if type(x) == type(4):\n",
    "        return x\n",
    "    elif type(x) == type(2.5):\n",
    "        return 0 # handle nans\n",
    "    return int(x[-4:])"
   ]
  },
  {
   "cell_type": "code",
   "execution_count": 111,
   "metadata": {},
   "outputs": [],
   "source": [
    "def to_year(x):\n",
    "    dt = pd.to_datetime(x)\n",
    "    return dt.year"
   ]
  },
  {
   "cell_type": "code",
   "execution_count": 106,
   "metadata": {},
   "outputs": [],
   "source": [
    "#blocks.loc[blocks.Energieträger == \"Kernenergie\"]"
   ]
  },
  {
   "cell_type": "code",
   "execution_count": 112,
   "metadata": {},
   "outputs": [],
   "source": [
    "#pl2"
   ]
  },
  {
   "cell_type": "code",
   "execution_count": 113,
   "metadata": {},
   "outputs": [],
   "source": [
    "pl2.loc[pl2.blockid == 'BNA0861a', 'Inbetriebnahme'] = 2012\n",
    "pl2.loc[pl2.blockid == 'BNA1334', 'Inbetriebnahme'] = 2002\n",
    "pl2.loc[pl2.blockid == 'BNA1141', 'Inbetriebnahme'] = 1970\n",
    "pl2.loc[pl2.blockid == 'BNA0418', 'Inbetriebnahme'] = 2013\n",
    "pl2.loc[pl2.blockid == 'BNA1499', 'Inbetriebnahme'] = 1951\n",
    "pl2.loc[pl2.blockid == 'BNA1502', 'Inbetriebnahme'] = 2013\n",
    "pl2.loc[pl2.blockid == 'BNA1500', 'Inbetriebnahme'] = 1990\n",
    "pl2.loc[pl2.blockid == 'BNA1498', 'Inbetriebnahme'] = 1953\n",
    "pl2.loc[pl2.blockid == 'BNA1260', 'Inbetriebnahme'] = 2013\n",
    "pl2.loc[pl2.blockid == 'BNA1056', 'Inbetriebnahme'] = 2006\n",
    "\n",
    "\n",
    "#pl2['Nettoleistung'] = pl2['Nettoleistung'].str.replace('\\n','')\n",
    "#pl2['Nettoleistung'] = pl2[pd.to_numeric(pl2[\"Nettoleistung\"])]\n",
    "#pl2['Nettoleistung'] = pl2['Nettoleistung'].str.replace(';','.')"
   ]
  },
  {
   "cell_type": "code",
   "execution_count": 114,
   "metadata": {},
   "outputs": [],
   "source": [
    "#pl2[] = pl2[pd.to_numeric(pl2[\"Nettoleistung\"])]\n",
    "pl2['Inbetriebnahme'] = pl2['Inbetriebnahme'].apply(to_year)\n",
    "pl2['Nettoleistung'] = pl2['Nettoleistung'].apply(pd.to_numeric)"
   ]
  },
  {
   "cell_type": "code",
   "execution_count": 115,
   "metadata": {},
   "outputs": [],
   "source": [
    "#bm[pl2.duplicated(['BlockID'], keep=False)].sort_values(\"BlockID\", ascending=False)"
   ]
  },
  {
   "cell_type": "code",
   "execution_count": 116,
   "metadata": {},
   "outputs": [],
   "source": [
    "#pl2[pl2.duplicated(['blockid'], keep=False)].sort_values(\"blockid\", ascending=False)"
   ]
  },
  {
   "cell_type": "code",
   "execution_count": 117,
   "metadata": {},
   "outputs": [],
   "source": [
    "cols = [10, 11,12,14,17,18,19]\n",
    "pl3 = pl2.drop(pl2.columns[cols],axis=1)"
   ]
  },
  {
   "cell_type": "code",
   "execution_count": 118,
   "metadata": {},
   "outputs": [],
   "source": [
    "#pl3.groupby('Unternehmen').max()"
   ]
  },
  {
   "cell_type": "code",
   "execution_count": 119,
   "metadata": {},
   "outputs": [],
   "source": [
    "pl4 = pl3.copy()"
   ]
  },
  {
   "cell_type": "code",
   "execution_count": 120,
   "metadata": {},
   "outputs": [],
   "source": [
    "def fix_company(company):\n",
    "    #print(company)\n",
    "    company_dict = {\"RWE\": \"RWE AG\", \"Vattenfall\": \"Vattenfall GmbH\", \"Uniper\": \"Uniper SE\", \"EnBW\": \"EnBW AG\", \"Steag\": \"Steag GmbH\", \"Nordzucker\": \"Nordzucker AG\", \"Lausitz Energie\": \"LEAG\"}\n",
    "    for key, value in company_dict.items():\n",
    "        if key in str(company):\n",
    "            return value\n",
    "    return company"
   ]
  },
  {
   "cell_type": "code",
   "execution_count": 121,
   "metadata": {},
   "outputs": [],
   "source": [
    "z = \"Endgültig Stillgelegt 2015\""
   ]
  },
  {
   "cell_type": "code",
   "execution_count": 122,
   "metadata": {},
   "outputs": [],
   "source": [
    "def extract_still(x):\n",
    "    match = re.findall(\"[0-9]{4}\",x)\n",
    "    return match[0] if match else np.nan"
   ]
  },
  {
   "cell_type": "code",
   "execution_count": 123,
   "metadata": {},
   "outputs": [],
   "source": [
    "def extract_state(state):\n",
    "    if state == \"In Betrieb\":\n",
    "        return \"in Betrieb\"\n",
    "    elif \"Endgültig Stillgelegt\" in state:\n",
    "        return \"stillgelegt\"\n",
    "    elif \"Vorläufig Stillgelegt\" in state:\n",
    "        return \"vorläufig stillgelegt\"\n",
    "    else:\n",
    "        return state"
   ]
  },
  {
   "cell_type": "code",
   "execution_count": 124,
   "metadata": {},
   "outputs": [
    {
     "data": {
      "text/plain": [
       "'stillgelegt'"
      ]
     },
     "execution_count": 124,
     "metadata": {},
     "output_type": "execute_result"
    }
   ],
   "source": [
    "extract_state(z)"
   ]
  },
  {
   "cell_type": "code",
   "execution_count": 125,
   "metadata": {},
   "outputs": [],
   "source": [
    "def fix_kwk(x):\n",
    "    return \"Nein\" if x == \"nein\" else \"Ja\" if x == \"ja\" else x"
   ]
  },
  {
   "cell_type": "code",
   "execution_count": 126,
   "metadata": {},
   "outputs": [],
   "source": [
    "#pl4 = pl3.ap"
   ]
  },
  {
   "cell_type": "code",
   "execution_count": 127,
   "metadata": {},
   "outputs": [],
   "source": [
    "pl4['Unternehmen'] = pl4['Unternehmen'].apply(lambda x: fix_company(x))\n",
    "pl4['Stilllegung'] = pl4['Status'].apply(lambda x: extract_still(x))\n",
    "pl4['Status'] = pl4['Status'].apply(lambda x: extract_state(x))\n",
    "pl4['KWK'] = pl4['KWK'].apply(lambda x: fix_kwk(x))"
   ]
  },
  {
   "cell_type": "code",
   "execution_count": 128,
   "metadata": {},
   "outputs": [],
   "source": [
    "newdf = pl4.copy()"
   ]
  },
  {
   "cell_type": "code",
   "execution_count": 129,
   "metadata": {},
   "outputs": [
    {
     "data": {
      "text/plain": [
       "blockid                                         object\n",
       "Unternehmen                                     object\n",
       "Kraftwerksname                                  object\n",
       "PLZ                                             object\n",
       "Ort                                             object\n",
       "Straße und Hausnummer (Standort Kraftwerk)      object\n",
       "Bundesland                                      object\n",
       "Blockname                                       object\n",
       "Inbetriebnahme                                 float64\n",
       "Status                                          object\n",
       "Energieträger                                 category\n",
       "KWK                                             object\n",
       "Nettoleistung                                  float64\n",
       "Stilllegung                                     object\n",
       "dtype: object"
      ]
     },
     "execution_count": 129,
     "metadata": {},
     "output_type": "execute_result"
    }
   ],
   "source": [
    "newdf.dtypes"
   ]
  },
  {
   "cell_type": "code",
   "execution_count": 130,
   "metadata": {},
   "outputs": [],
   "source": [
    "newdf[\"Status\"] = newdf[\"Status\"].astype('category')\n",
    "newdf[\"Status\"] = newdf[\"Status\"].cat.set_categories(['in Betrieb', 'Gesetzlich an Stilllegung gehindert', 'Netzreserve',  'Sicherheitsbereitschaft', 'Sonderfall', 'vorläufig stillgelegt', 'stillgelegt'], ordered=True)"
   ]
  },
  {
   "cell_type": "code",
   "execution_count": 131,
   "metadata": {},
   "outputs": [],
   "source": [
    "newdf[\"KWK\"] = newdf[\"KWK\"].astype('category')\n",
    "newdf[\"KWK\"] = newdf[\"KWK\"].cat.set_categories(['Ja', 'Nein'], ordered=True)"
   ]
  },
  {
   "cell_type": "code",
   "execution_count": 132,
   "metadata": {},
   "outputs": [],
   "source": [
    "atest = newdf.groupby(\"KWK\")"
   ]
  },
  {
   "cell_type": "code",
   "execution_count": 133,
   "metadata": {},
   "outputs": [
    {
     "data": {
      "text/html": [
       "<div>\n",
       "<style scoped>\n",
       "    .dataframe tbody tr th:only-of-type {\n",
       "        vertical-align: middle;\n",
       "    }\n",
       "\n",
       "    .dataframe tbody tr th {\n",
       "        vertical-align: top;\n",
       "    }\n",
       "\n",
       "    .dataframe thead th {\n",
       "        text-align: right;\n",
       "    }\n",
       "</style>\n",
       "<table border=\"1\" class=\"dataframe\">\n",
       "  <thead>\n",
       "    <tr style=\"text-align: right;\">\n",
       "      <th></th>\n",
       "      <th>blockid</th>\n",
       "      <th>Unternehmen</th>\n",
       "      <th>Kraftwerksname</th>\n",
       "      <th>PLZ</th>\n",
       "      <th>Ort</th>\n",
       "      <th>Straße und Hausnummer (Standort Kraftwerk)</th>\n",
       "      <th>Bundesland</th>\n",
       "      <th>Blockname</th>\n",
       "      <th>Inbetriebnahme</th>\n",
       "      <th>Status</th>\n",
       "      <th>KWK</th>\n",
       "      <th>Nettoleistung</th>\n",
       "      <th>Stilllegung</th>\n",
       "    </tr>\n",
       "    <tr>\n",
       "      <th>Energieträger</th>\n",
       "      <th></th>\n",
       "      <th></th>\n",
       "      <th></th>\n",
       "      <th></th>\n",
       "      <th></th>\n",
       "      <th></th>\n",
       "      <th></th>\n",
       "      <th></th>\n",
       "      <th></th>\n",
       "      <th></th>\n",
       "      <th></th>\n",
       "      <th></th>\n",
       "      <th></th>\n",
       "    </tr>\n",
       "  </thead>\n",
       "  <tbody>\n",
       "    <tr>\n",
       "      <th>Braunkohle</th>\n",
       "      <td>77</td>\n",
       "      <td>77</td>\n",
       "      <td>76</td>\n",
       "      <td>77</td>\n",
       "      <td>77</td>\n",
       "      <td>26</td>\n",
       "      <td>77</td>\n",
       "      <td>69</td>\n",
       "      <td>77</td>\n",
       "      <td>77</td>\n",
       "      <td>77</td>\n",
       "      <td>77</td>\n",
       "      <td>17</td>\n",
       "    </tr>\n",
       "    <tr>\n",
       "      <th>Erdgas</th>\n",
       "      <td>315</td>\n",
       "      <td>312</td>\n",
       "      <td>304</td>\n",
       "      <td>315</td>\n",
       "      <td>315</td>\n",
       "      <td>172</td>\n",
       "      <td>315</td>\n",
       "      <td>216</td>\n",
       "      <td>297</td>\n",
       "      <td>312</td>\n",
       "      <td>315</td>\n",
       "      <td>315</td>\n",
       "      <td>35</td>\n",
       "    </tr>\n",
       "    <tr>\n",
       "      <th>Kernenergie</th>\n",
       "      <td>9</td>\n",
       "      <td>9</td>\n",
       "      <td>9</td>\n",
       "      <td>9</td>\n",
       "      <td>9</td>\n",
       "      <td>2</td>\n",
       "      <td>9</td>\n",
       "      <td>9</td>\n",
       "      <td>8</td>\n",
       "      <td>9</td>\n",
       "      <td>9</td>\n",
       "      <td>9</td>\n",
       "      <td>3</td>\n",
       "    </tr>\n",
       "    <tr>\n",
       "      <th>Mineralölprodukte</th>\n",
       "      <td>56</td>\n",
       "      <td>56</td>\n",
       "      <td>56</td>\n",
       "      <td>56</td>\n",
       "      <td>56</td>\n",
       "      <td>30</td>\n",
       "      <td>56</td>\n",
       "      <td>47</td>\n",
       "      <td>50</td>\n",
       "      <td>51</td>\n",
       "      <td>55</td>\n",
       "      <td>56</td>\n",
       "      <td>10</td>\n",
       "    </tr>\n",
       "    <tr>\n",
       "      <th>Steinkohle</th>\n",
       "      <td>120</td>\n",
       "      <td>120</td>\n",
       "      <td>119</td>\n",
       "      <td>120</td>\n",
       "      <td>120</td>\n",
       "      <td>75</td>\n",
       "      <td>120</td>\n",
       "      <td>107</td>\n",
       "      <td>120</td>\n",
       "      <td>112</td>\n",
       "      <td>119</td>\n",
       "      <td>120</td>\n",
       "      <td>43</td>\n",
       "    </tr>\n",
       "  </tbody>\n",
       "</table>\n",
       "</div>"
      ],
      "text/plain": [
       "                   blockid  Unternehmen  Kraftwerksname  PLZ  Ort  \\\n",
       "Energieträger                                                       \n",
       "Braunkohle              77           77              76   77   77   \n",
       "Erdgas                 315          312             304  315  315   \n",
       "Kernenergie              9            9               9    9    9   \n",
       "Mineralölprodukte       56           56              56   56   56   \n",
       "Steinkohle             120          120             119  120  120   \n",
       "\n",
       "                   Straße und Hausnummer (Standort Kraftwerk)  Bundesland  \\\n",
       "Energieträger                                                               \n",
       "Braunkohle                                                 26          77   \n",
       "Erdgas                                                    172         315   \n",
       "Kernenergie                                                 2           9   \n",
       "Mineralölprodukte                                          30          56   \n",
       "Steinkohle                                                 75         120   \n",
       "\n",
       "                   Blockname  Inbetriebnahme  Status  KWK  Nettoleistung  \\\n",
       "Energieträger                                                              \n",
       "Braunkohle                69              77      77   77             77   \n",
       "Erdgas                   216             297     312  315            315   \n",
       "Kernenergie                9               8       9    9              9   \n",
       "Mineralölprodukte         47              50      51   55             56   \n",
       "Steinkohle               107             120     112  119            120   \n",
       "\n",
       "                   Stilllegung  \n",
       "Energieträger                   \n",
       "Braunkohle                  17  \n",
       "Erdgas                      35  \n",
       "Kernenergie                  3  \n",
       "Mineralölprodukte           10  \n",
       "Steinkohle                  43  "
      ]
     },
     "execution_count": 133,
     "metadata": {},
     "output_type": "execute_result"
    }
   ],
   "source": [
    "newdf.groupby(\"Energieträger\").count()"
   ]
  },
  {
   "cell_type": "code",
   "execution_count": 134,
   "metadata": {},
   "outputs": [
    {
     "data": {
      "text/html": [
       "<div>\n",
       "<style scoped>\n",
       "    .dataframe tbody tr th:only-of-type {\n",
       "        vertical-align: middle;\n",
       "    }\n",
       "\n",
       "    .dataframe tbody tr th {\n",
       "        vertical-align: top;\n",
       "    }\n",
       "\n",
       "    .dataframe thead th {\n",
       "        text-align: right;\n",
       "    }\n",
       "</style>\n",
       "<table border=\"1\" class=\"dataframe\">\n",
       "  <thead>\n",
       "    <tr style=\"text-align: right;\">\n",
       "      <th></th>\n",
       "      <th>blockid</th>\n",
       "      <th>Unternehmen</th>\n",
       "      <th>Kraftwerksname</th>\n",
       "      <th>PLZ</th>\n",
       "      <th>Ort</th>\n",
       "      <th>Straße und Hausnummer (Standort Kraftwerk)</th>\n",
       "      <th>Bundesland</th>\n",
       "      <th>Blockname</th>\n",
       "      <th>Inbetriebnahme</th>\n",
       "      <th>Status</th>\n",
       "      <th>Energieträger</th>\n",
       "      <th>Nettoleistung</th>\n",
       "      <th>Stilllegung</th>\n",
       "    </tr>\n",
       "    <tr>\n",
       "      <th>KWK</th>\n",
       "      <th></th>\n",
       "      <th></th>\n",
       "      <th></th>\n",
       "      <th></th>\n",
       "      <th></th>\n",
       "      <th></th>\n",
       "      <th></th>\n",
       "      <th></th>\n",
       "      <th></th>\n",
       "      <th></th>\n",
       "      <th></th>\n",
       "      <th></th>\n",
       "      <th></th>\n",
       "    </tr>\n",
       "  </thead>\n",
       "  <tbody>\n",
       "    <tr>\n",
       "      <th>Ja</th>\n",
       "      <td>410</td>\n",
       "      <td>407</td>\n",
       "      <td>397</td>\n",
       "      <td>410</td>\n",
       "      <td>410</td>\n",
       "      <td>243</td>\n",
       "      <td>410</td>\n",
       "      <td>297</td>\n",
       "      <td>396</td>\n",
       "      <td>406</td>\n",
       "      <td>410</td>\n",
       "      <td>410</td>\n",
       "      <td>55</td>\n",
       "    </tr>\n",
       "    <tr>\n",
       "      <th>Nein</th>\n",
       "      <td>165</td>\n",
       "      <td>165</td>\n",
       "      <td>165</td>\n",
       "      <td>165</td>\n",
       "      <td>165</td>\n",
       "      <td>61</td>\n",
       "      <td>165</td>\n",
       "      <td>149</td>\n",
       "      <td>154</td>\n",
       "      <td>153</td>\n",
       "      <td>165</td>\n",
       "      <td>165</td>\n",
       "      <td>52</td>\n",
       "    </tr>\n",
       "  </tbody>\n",
       "</table>\n",
       "</div>"
      ],
      "text/plain": [
       "      blockid  Unternehmen  Kraftwerksname  PLZ  Ort  \\\n",
       "KWK                                                    \n",
       "Ja        410          407             397  410  410   \n",
       "Nein      165          165             165  165  165   \n",
       "\n",
       "      Straße und Hausnummer (Standort Kraftwerk)  Bundesland  Blockname  \\\n",
       "KWK                                                                       \n",
       "Ja                                           243         410        297   \n",
       "Nein                                          61         165        149   \n",
       "\n",
       "      Inbetriebnahme  Status  Energieträger  Nettoleistung  Stilllegung  \n",
       "KWK                                                                      \n",
       "Ja               396     406            410            410           55  \n",
       "Nein             154     153            165            165           52  "
      ]
     },
     "execution_count": 134,
     "metadata": {},
     "output_type": "execute_result"
    }
   ],
   "source": [
    "atest.count()"
   ]
  },
  {
   "cell_type": "code",
   "execution_count": 135,
   "metadata": {},
   "outputs": [],
   "source": [
    "pl3 = newdf"
   ]
  },
  {
   "cell_type": "code",
   "execution_count": 136,
   "metadata": {},
   "outputs": [],
   "source": [
    "atest = newdf.groupby([\"Unternehmen\"]).count()\n",
    "atest.sort_values(\"Inbetriebnahme\", inplace=True, ascending=False)"
   ]
  },
  {
   "cell_type": "code",
   "execution_count": 137,
   "metadata": {},
   "outputs": [],
   "source": [
    "#print(atest)"
   ]
  },
  {
   "cell_type": "code",
   "execution_count": 138,
   "metadata": {},
   "outputs": [],
   "source": [
    "atest = pl3.groupby([\"Status\"]).count()\n",
    "# atest"
   ]
  },
  {
   "cell_type": "code",
   "execution_count": 139,
   "metadata": {},
   "outputs": [],
   "source": [
    "# pl3.rename(columns={ pl3.columns[10]: \"Energieträger\"}, inplace=True)"
   ]
  },
  {
   "cell_type": "code",
   "execution_count": 140,
   "metadata": {},
   "outputs": [
    {
     "data": {
      "text/html": [
       "<div>\n",
       "<style scoped>\n",
       "    .dataframe tbody tr th:only-of-type {\n",
       "        vertical-align: middle;\n",
       "    }\n",
       "\n",
       "    .dataframe tbody tr th {\n",
       "        vertical-align: top;\n",
       "    }\n",
       "\n",
       "    .dataframe thead th {\n",
       "        text-align: right;\n",
       "    }\n",
       "</style>\n",
       "<table border=\"1\" class=\"dataframe\">\n",
       "  <thead>\n",
       "    <tr style=\"text-align: right;\">\n",
       "      <th></th>\n",
       "      <th>plantid</th>\n",
       "      <th>blockid</th>\n",
       "    </tr>\n",
       "  </thead>\n",
       "  <tbody>\n",
       "  </tbody>\n",
       "</table>\n",
       "</div>"
      ],
      "text/plain": [
       "Empty DataFrame\n",
       "Columns: [plantid, blockid]\n",
       "Index: []"
      ]
     },
     "execution_count": 140,
     "metadata": {},
     "output_type": "execute_result"
    }
   ],
   "source": [
    "bm[bm.duplicated(['blockid'], keep=False)].sort_values(\"blockid\", ascending=False)"
   ]
  },
  {
   "cell_type": "code",
   "execution_count": 141,
   "metadata": {},
   "outputs": [],
   "source": [
    "#bm2 = bm.drop_duplicates()"
   ]
  },
  {
   "cell_type": "code",
   "execution_count": 142,
   "metadata": {},
   "outputs": [],
   "source": [
    "pl4 = bm.merge(pl3, how=\"outer\", on=\"blockid\")"
   ]
  },
  {
   "cell_type": "code",
   "execution_count": 143,
   "metadata": {},
   "outputs": [],
   "source": [
    "#pl4[pl4.duplicated(['BlocID'], keep=False)].sort_values(\"BlockID\", ascending=False)"
   ]
  },
  {
   "cell_type": "code",
   "execution_count": 144,
   "metadata": {},
   "outputs": [],
   "source": [
    "pl5 = pl4[pd.notnull(pl4['blockid'])]\n",
    "#pl5 = pl4\n",
    "pl6 = pl5[pd.notnull(pl5['Nettoleistung'])]"
   ]
  },
  {
   "cell_type": "code",
   "execution_count": 145,
   "metadata": {},
   "outputs": [],
   "source": [
    "# pl6"
   ]
  },
  {
   "cell_type": "code",
   "execution_count": 184,
   "metadata": {},
   "outputs": [
    {
     "name": "stderr",
     "output_type": "stream",
     "text": [
      "/opt/conda/envs/idp/lib/python3.7/site-packages/ipykernel_launcher.py:1: SettingWithCopyWarning: \n",
      "A value is trying to be set on a copy of a slice from a DataFrame.\n",
      "Try using .loc[row_indexer,col_indexer] = value instead\n",
      "\n",
      "See the caveats in the documentation: http://pandas.pydata.org/pandas-docs/stable/user_guide/indexing.html#returning-a-view-versus-a-copy\n",
      "  \"\"\"Entry point for launching an IPython kernel.\n"
     ]
    }
   ],
   "source": [
    "pl6['plantid'] = pl6['plantid'].apply(lambda x: str(x).replace('/', '_'))"
   ]
  },
  {
   "cell_type": "code",
   "execution_count": 185,
   "metadata": {},
   "outputs": [],
   "source": [
    "# pl7 = pl6.replace(\"/\", \"_\")"
   ]
  },
  {
   "cell_type": "code",
   "execution_count": 186,
   "metadata": {},
   "outputs": [],
   "source": [
    "#pl7 = pl6.apply(str.replace(\"/\", \"_\"))"
   ]
  },
  {
   "cell_type": "code",
   "execution_count": 187,
   "metadata": {},
   "outputs": [],
   "source": [
    "#pl6.loc[pl6.Kraftwerksname == \"KW Mittelsbüren\"]"
   ]
  },
  {
   "cell_type": "code",
   "execution_count": 188,
   "metadata": {},
   "outputs": [
    {
     "name": "stderr",
     "output_type": "stream",
     "text": [
      "/opt/conda/envs/idp/lib/python3.7/site-packages/ipykernel_launcher.py:1: SettingWithCopyWarning: \n",
      "A value is trying to be set on a copy of a slice from a DataFrame.\n",
      "Try using .loc[row_indexer,col_indexer] = value instead\n",
      "\n",
      "See the caveats in the documentation: http://pandas.pydata.org/pandas-docs/stable/user_guide/indexing.html#returning-a-view-versus-a-copy\n",
      "  \"\"\"Entry point for launching an IPython kernel.\n"
     ]
    }
   ],
   "source": [
    "pl6['Inbetriebnahme'] = pl6['Inbetriebnahme'].apply(pd.to_numeric)"
   ]
  },
  {
   "cell_type": "code",
   "execution_count": 189,
   "metadata": {},
   "outputs": [],
   "source": [
    "blocks = pl6.copy()\n",
    "stammdaten = pl6.copy()"
   ]
  },
  {
   "cell_type": "code",
   "execution_count": 190,
   "metadata": {},
   "outputs": [],
   "source": [
    "blocks.sort_values(\"Inbetriebnahme\", inplace=True, ascending=False)\n",
    "# blocks"
   ]
  },
  {
   "cell_type": "code",
   "execution_count": 227,
   "metadata": {},
   "outputs": [],
   "source": [
    "plants = blocks.loc[:]\n",
    "plants = plants.dropna(subset=[\"plantid\", \"Inbetriebnahme\"]) #TODO: remove initialop from here"
   ]
  },
  {
   "cell_type": "code",
   "execution_count": 228,
   "metadata": {},
   "outputs": [],
   "source": [
    "#plants_d = plants.loc[plants.duplicated(\"KraftwerkID\", keep=False)]\n",
    "# plants_d"
   ]
  },
  {
   "cell_type": "code",
   "execution_count": 229,
   "metadata": {},
   "outputs": [],
   "source": [
    "#plants_c = plants_d.groupby([\"KraftwerkID\"]).sum()\n",
    "#plants_count = plants_d.groupby([\"KraftwerkID\"]).count()"
   ]
  },
  {
   "cell_type": "code",
   "execution_count": 230,
   "metadata": {},
   "outputs": [],
   "source": [
    "#plants_f = plants_c.reset_index()"
   ]
  },
  {
   "cell_type": "code",
   "execution_count": 231,
   "metadata": {},
   "outputs": [],
   "source": [
    "#plants_count = plants_count.loc[:, [\"blockid\"]]"
   ]
  },
  {
   "cell_type": "code",
   "execution_count": 232,
   "metadata": {},
   "outputs": [],
   "source": [
    "#plants_count = plants_count.reset_index()\n",
    "# plants_count "
   ]
  },
  {
   "cell_type": "code",
   "execution_count": 233,
   "metadata": {},
   "outputs": [],
   "source": [
    "#plants_f = plants_f.merge(plants_count, on=\"KraftwerkID\", how=\"inner\")\n",
    "# plants_f"
   ]
  },
  {
   "cell_type": "code",
   "execution_count": 234,
   "metadata": {
    "scrolled": true
   },
   "outputs": [],
   "source": [
    "#plants[plants.duplicated(['KraftwerkID'], keep=False)].sort_values(\"BlockID\", ascending=False)"
   ]
  },
  {
   "cell_type": "code",
   "execution_count": 235,
   "metadata": {},
   "outputs": [],
   "source": [
    "plants[\"Energieträger\"] = plants[\"Energieträger\"].astype('category')\n",
    "plants[\"Energieträger\"] = plants[\"Energieträger\"].cat.set_categories([\"Kernenergie\", \"Braunkohle\", \"Steinkohle\", \"Erdgas\", \"Mineralölprodukte\"], ordered=True)\n",
    "plants[\"Status\"] = plants[\"Status\"].astype('category')\n",
    "plants[\"Status\"] = plants[\"Status\"].cat.set_categories(['in Betrieb', 'Gesetzlich an Stilllegung gehindert', 'Netzreserve',  'Sicherheitsbereitschaft', 'Sonderfall', 'vorläufig stillgelegt', 'stillgelegt'], ordered=True)\n",
    "plants[\"KWK\"] = plants[\"KWK\"].astype('category')\n",
    "plants[\"KWK\"] = plants[\"KWK\"].cat.set_categories(['Ja', 'Nein'], ordered=True)\n",
    "plants[\"Bundesland\"] = plants[\"Bundesland\"].astype('category')\n",
    "plants[\"Bundesland\"] = plants[\"Bundesland\"].cat.set_categories(['Baden-Württemberg', 'Bayern', 'Berlin', 'Brandenburg', 'Bremen', 'Hamburg', 'Hessen', 'Mecklenburg-Vorpommern', 'Niedersachsen', 'Nordrhein-Westfalen', 'Rheinland-Pfalz', 'Saarland', 'Sachsen', 'Sachsen-Anhalt', 'Schleswig-Holstein', 'Thüringen'])"
   ]
  },
  {
   "cell_type": "code",
   "execution_count": 236,
   "metadata": {},
   "outputs": [],
   "source": [
    "p_grp = plants.groupby(\"plantid\")"
   ]
  },
  {
   "cell_type": "code",
   "execution_count": 237,
   "metadata": {},
   "outputs": [],
   "source": [
    "#plants.groupby(\"Energip_subgrper\").max()"
   ]
  },
  {
   "cell_type": "code",
   "execution_count": 238,
   "metadata": {},
   "outputs": [],
   "source": [
    "p_subgrp = plants.loc[plants['Status'].isin(['in Betrieb','Gesetzlich an Stilllegung gehindert'])].groupby('plantid') # TODO: add "
   ]
  },
  {
   "cell_type": "code",
   "execution_count": 239,
   "metadata": {},
   "outputs": [],
   "source": [
    "plants_act = pd.DataFrame()\n",
    "for plantid, group in p_subgrp:\n",
    "    entry = {}\n",
    "    entry[\"plantid\"] = plantid\n",
    "    entry[\"activepower\"] = group[\"Nettoleistung\"].sum()\n",
    "    plants_act = plants_act.append(entry, ignore_index=True)"
   ]
  },
  {
   "cell_type": "code",
   "execution_count": 240,
   "metadata": {},
   "outputs": [
    {
     "data": {
      "text/html": [
       "<div>\n",
       "<style scoped>\n",
       "    .dataframe tbody tr th:only-of-type {\n",
       "        vertical-align: middle;\n",
       "    }\n",
       "\n",
       "    .dataframe tbody tr th {\n",
       "        vertical-align: top;\n",
       "    }\n",
       "\n",
       "    .dataframe thead th {\n",
       "        text-align: right;\n",
       "    }\n",
       "</style>\n",
       "<table border=\"1\" class=\"dataframe\">\n",
       "  <thead>\n",
       "    <tr style=\"text-align: right;\">\n",
       "      <th></th>\n",
       "      <th>activepower</th>\n",
       "      <th>plantid</th>\n",
       "    </tr>\n",
       "  </thead>\n",
       "  <tbody>\n",
       "    <tr>\n",
       "      <th>42</th>\n",
       "      <td>3919.0</td>\n",
       "      <td>06-05-100-0248923</td>\n",
       "    </tr>\n",
       "    <tr>\n",
       "      <th>55</th>\n",
       "      <td>2812.0</td>\n",
       "      <td>06-05-300-0326774</td>\n",
       "    </tr>\n",
       "    <tr>\n",
       "      <th>171</th>\n",
       "      <td>2427.0</td>\n",
       "      <td>14-70-46630660001</td>\n",
       "    </tr>\n",
       "    <tr>\n",
       "      <th>58</th>\n",
       "      <td>2361.0</td>\n",
       "      <td>06-05-300-0877384</td>\n",
       "    </tr>\n",
       "    <tr>\n",
       "      <th>93</th>\n",
       "      <td>1958.0</td>\n",
       "      <td>06-08-2948214</td>\n",
       "    </tr>\n",
       "    <tr>\n",
       "      <th>...</th>\n",
       "      <td>...</td>\n",
       "      <td>...</td>\n",
       "    </tr>\n",
       "    <tr>\n",
       "      <th>198</th>\n",
       "      <td>9.7</td>\n",
       "      <td>661-112</td>\n",
       "    </tr>\n",
       "    <tr>\n",
       "      <th>59</th>\n",
       "      <td>9.3</td>\n",
       "      <td>06-05-300-0890760</td>\n",
       "    </tr>\n",
       "    <tr>\n",
       "      <th>45</th>\n",
       "      <td>4.8</td>\n",
       "      <td>06-05-100-0501870</td>\n",
       "    </tr>\n",
       "    <tr>\n",
       "      <th>209</th>\n",
       "      <td>4.3</td>\n",
       "      <td>661-28</td>\n",
       "    </tr>\n",
       "    <tr>\n",
       "      <th>98</th>\n",
       "      <td>4.0</td>\n",
       "      <td>06-08-4666496</td>\n",
       "    </tr>\n",
       "  </tbody>\n",
       "</table>\n",
       "<p>268 rows × 2 columns</p>\n",
       "</div>"
      ],
      "text/plain": [
       "     activepower            plantid\n",
       "42        3919.0  06-05-100-0248923\n",
       "55        2812.0  06-05-300-0326774\n",
       "171       2427.0  14-70-46630660001\n",
       "58        2361.0  06-05-300-0877384\n",
       "93        1958.0      06-08-2948214\n",
       "..           ...                ...\n",
       "198          9.7            661-112\n",
       "59           9.3  06-05-300-0890760\n",
       "45           4.8  06-05-100-0501870\n",
       "209          4.3             661-28\n",
       "98           4.0      06-08-4666496\n",
       "\n",
       "[268 rows x 2 columns]"
      ]
     },
     "execution_count": 240,
     "metadata": {},
     "output_type": "execute_result"
    }
   ],
   "source": [
    "plants_act.sort_values('activepower', ascending=False)"
   ]
  },
  {
   "cell_type": "code",
   "execution_count": null,
   "metadata": {},
   "outputs": [],
   "source": []
  },
  {
   "cell_type": "code",
   "execution_count": 241,
   "metadata": {},
   "outputs": [],
   "source": [
    "#ap = plants.loc[plants.Status == \"in Betrieb\" | plants.Status == \"Gesetzlich an Stilllegung gehindert\"]"
   ]
  },
  {
   "cell_type": "code",
   "execution_count": 242,
   "metadata": {},
   "outputs": [],
   "source": [
    "plants_a = pd.DataFrame()\n",
    "for plantid, group in p_grp:\n",
    "    #if not plantid == \"06-05-300-9046797\":\n",
    "    #    continue\n",
    "    entry = {}\n",
    "    #print(entry)\n",
    "    entry[\"plantid\"] = plantid\n",
    "    # entry[\"BlockID\"] = group\n",
    "    try:\n",
    "        entry[\"plantname\"] = group[\"Kraftwerksname\"].value_counts().index[0]\n",
    "    except IndexError:\n",
    "        entry[\"plantname\"] = np.NaN\n",
    "    entry[\"federalstate\"] = group[\"Bundesland\"].value_counts().index[0]\n",
    "    entry[\"energysource\"] = group[\"Energieträger\"].min()\n",
    "    try:\n",
    "        entry[\"chp\"] = group[\"KWK\"].min()\n",
    "    except TypeError:\n",
    "        #print(\"aneror\")\n",
    "        #print(plantid)\n",
    "        #print(group['KWK'].count())\n",
    "        entry[\"chp\"] = \"\"\n",
    "    entry[\"latestexpanded\"] = group[\"Inbetriebnahme\"].max()\n",
    "    entry[\"initialop\"] = group[\"Inbetriebnahme\"].min()\n",
    "    entry[\"totalpower\"] = group[\"Nettoleistung\"].sum()\n",
    "    entry[\"state\"] = group[\"Status\"].min()\n",
    "    entry[\"blockcount\"] = group[\"blockid\"].count()\n",
    "    try:\n",
    "        entry[\"company\"] = group[\"Unternehmen\"].value_counts().index[0]\n",
    "    except IndexError:\n",
    "        ;\n",
    "    #print(entry)\n",
    "    #break\n",
    "    plants_a = plants_a.append(entry, ignore_index=True)"
   ]
  },
  {
   "cell_type": "code",
   "execution_count": 243,
   "metadata": {},
   "outputs": [
    {
     "data": {
      "text/html": [
       "<div>\n",
       "<style scoped>\n",
       "    .dataframe tbody tr th:only-of-type {\n",
       "        vertical-align: middle;\n",
       "    }\n",
       "\n",
       "    .dataframe tbody tr th {\n",
       "        vertical-align: top;\n",
       "    }\n",
       "\n",
       "    .dataframe thead th {\n",
       "        text-align: right;\n",
       "    }\n",
       "</style>\n",
       "<table border=\"1\" class=\"dataframe\">\n",
       "  <thead>\n",
       "    <tr style=\"text-align: right;\">\n",
       "      <th></th>\n",
       "      <th>blockcount</th>\n",
       "      <th>chp</th>\n",
       "      <th>company</th>\n",
       "      <th>energysource</th>\n",
       "      <th>federalstate</th>\n",
       "      <th>initialop</th>\n",
       "      <th>latestexpanded</th>\n",
       "      <th>plantid</th>\n",
       "      <th>plantname</th>\n",
       "      <th>state</th>\n",
       "      <th>totalpower</th>\n",
       "    </tr>\n",
       "  </thead>\n",
       "  <tbody>\n",
       "    <tr>\n",
       "      <th>0</th>\n",
       "      <td>6.0</td>\n",
       "      <td>Ja</td>\n",
       "      <td>Stadtwerke Flensburg GmbH</td>\n",
       "      <td>Steinkohle</td>\n",
       "      <td>Schleswig-Holstein</td>\n",
       "      <td>1970.0</td>\n",
       "      <td>2016.0</td>\n",
       "      <td>01-50-01000004838</td>\n",
       "      <td>Heizkraftwerk FL</td>\n",
       "      <td>in Betrieb</td>\n",
       "      <td>233.0</td>\n",
       "    </tr>\n",
       "    <tr>\n",
       "      <th>1</th>\n",
       "      <td>1.0</td>\n",
       "      <td>Ja</td>\n",
       "      <td>Gemeinschaftskraftwerk Kiel GmbH</td>\n",
       "      <td>Steinkohle</td>\n",
       "      <td>Schleswig-Holstein</td>\n",
       "      <td>1970.0</td>\n",
       "      <td>1970.0</td>\n",
       "      <td>01-50-02000283604</td>\n",
       "      <td>Gemeinschaftskraftwerk Kiel</td>\n",
       "      <td>stillgelegt</td>\n",
       "      <td>323.0</td>\n",
       "    </tr>\n",
       "    <tr>\n",
       "      <th>2</th>\n",
       "      <td>4.0</td>\n",
       "      <td>Ja</td>\n",
       "      <td>Wärme Hamburg GmbH</td>\n",
       "      <td>Steinkohle</td>\n",
       "      <td>Schleswig-Holstein</td>\n",
       "      <td>1961.0</td>\n",
       "      <td>1970.0</td>\n",
       "      <td>01-50-56050192711</td>\n",
       "      <td>Wedel</td>\n",
       "      <td>in Betrieb</td>\n",
       "      <td>361.0</td>\n",
       "    </tr>\n",
       "    <tr>\n",
       "      <th>3</th>\n",
       "      <td>1.0</td>\n",
       "      <td>Nein</td>\n",
       "      <td>Kraftwerk Mehrum GmbH</td>\n",
       "      <td>Steinkohle</td>\n",
       "      <td>Niedersachsen</td>\n",
       "      <td>1979.0</td>\n",
       "      <td>1979.0</td>\n",
       "      <td>03-01-01010098080</td>\n",
       "      <td>KWM</td>\n",
       "      <td>in Betrieb</td>\n",
       "      <td>690.0</td>\n",
       "    </tr>\n",
       "    <tr>\n",
       "      <th>4</th>\n",
       "      <td>3.0</td>\n",
       "      <td>Ja</td>\n",
       "      <td>Braunschweiger Versorgungs-AG &amp; Co. KG</td>\n",
       "      <td>Steinkohle</td>\n",
       "      <td>Niedersachsen</td>\n",
       "      <td>1971.0</td>\n",
       "      <td>2010.0</td>\n",
       "      <td>03-01-01010157480</td>\n",
       "      <td>HKW-Mitte</td>\n",
       "      <td>in Betrieb</td>\n",
       "      <td>137.3</td>\n",
       "    </tr>\n",
       "    <tr>\n",
       "      <th>...</th>\n",
       "      <td>...</td>\n",
       "      <td>...</td>\n",
       "      <td>...</td>\n",
       "      <td>...</td>\n",
       "      <td>...</td>\n",
       "      <td>...</td>\n",
       "      <td>...</td>\n",
       "      <td>...</td>\n",
       "      <td>...</td>\n",
       "      <td>...</td>\n",
       "      <td>...</td>\n",
       "    </tr>\n",
       "    <tr>\n",
       "      <th>312</th>\n",
       "      <td>1.0</td>\n",
       "      <td>Nein</td>\n",
       "      <td>Preussen Elektra GmbH</td>\n",
       "      <td>Kernenergie</td>\n",
       "      <td>Bayern</td>\n",
       "      <td>1988.0</td>\n",
       "      <td>1988.0</td>\n",
       "      <td>666-16</td>\n",
       "      <td>Isar 2</td>\n",
       "      <td>in Betrieb</td>\n",
       "      <td>1410.0</td>\n",
       "    </tr>\n",
       "    <tr>\n",
       "      <th>313</th>\n",
       "      <td>1.0</td>\n",
       "      <td>Nein</td>\n",
       "      <td>RWE AG</td>\n",
       "      <td>Kernenergie</td>\n",
       "      <td>Niedersachsen</td>\n",
       "      <td>1988.0</td>\n",
       "      <td>1988.0</td>\n",
       "      <td>666-17</td>\n",
       "      <td>Kernkraftwerk Emsland</td>\n",
       "      <td>in Betrieb</td>\n",
       "      <td>1336.0</td>\n",
       "    </tr>\n",
       "    <tr>\n",
       "      <th>314</th>\n",
       "      <td>1.0</td>\n",
       "      <td>Nein</td>\n",
       "      <td>EnBW AG</td>\n",
       "      <td>Kernenergie</td>\n",
       "      <td>Baden-Württemberg</td>\n",
       "      <td>1989.0</td>\n",
       "      <td>1989.0</td>\n",
       "      <td>666-18</td>\n",
       "      <td>Gemeinschaftskernkraftwerk Neckarwestheim II</td>\n",
       "      <td>in Betrieb</td>\n",
       "      <td>1310.0</td>\n",
       "    </tr>\n",
       "    <tr>\n",
       "      <th>315</th>\n",
       "      <td>2.0</td>\n",
       "      <td>Nein</td>\n",
       "      <td>Uniper SE</td>\n",
       "      <td>Mineralölprodukte</td>\n",
       "      <td>Bayern</td>\n",
       "      <td>1973.0</td>\n",
       "      <td>1974.0</td>\n",
       "      <td>669-01</td>\n",
       "      <td>Ingolstadt</td>\n",
       "      <td>NaN</td>\n",
       "      <td>772.0</td>\n",
       "    </tr>\n",
       "    <tr>\n",
       "      <th>316</th>\n",
       "      <td>1.0</td>\n",
       "      <td>Ja</td>\n",
       "      <td>BMW AG</td>\n",
       "      <td>Erdgas</td>\n",
       "      <td>Bayern</td>\n",
       "      <td>2019.0</td>\n",
       "      <td>2019.0</td>\n",
       "      <td>nan</td>\n",
       "      <td>Werk 1.5</td>\n",
       "      <td>in Betrieb</td>\n",
       "      <td>13.6</td>\n",
       "    </tr>\n",
       "  </tbody>\n",
       "</table>\n",
       "<p>317 rows × 11 columns</p>\n",
       "</div>"
      ],
      "text/plain": [
       "     blockcount   chp                                 company  \\\n",
       "0           6.0    Ja               Stadtwerke Flensburg GmbH   \n",
       "1           1.0    Ja        Gemeinschaftskraftwerk Kiel GmbH   \n",
       "2           4.0    Ja                      Wärme Hamburg GmbH   \n",
       "3           1.0  Nein                   Kraftwerk Mehrum GmbH   \n",
       "4           3.0    Ja  Braunschweiger Versorgungs-AG & Co. KG   \n",
       "..          ...   ...                                     ...   \n",
       "312         1.0  Nein                   Preussen Elektra GmbH   \n",
       "313         1.0  Nein                                  RWE AG   \n",
       "314         1.0  Nein                                 EnBW AG   \n",
       "315         2.0  Nein                               Uniper SE   \n",
       "316         1.0    Ja                                  BMW AG   \n",
       "\n",
       "          energysource        federalstate  initialop  latestexpanded  \\\n",
       "0           Steinkohle  Schleswig-Holstein     1970.0          2016.0   \n",
       "1           Steinkohle  Schleswig-Holstein     1970.0          1970.0   \n",
       "2           Steinkohle  Schleswig-Holstein     1961.0          1970.0   \n",
       "3           Steinkohle       Niedersachsen     1979.0          1979.0   \n",
       "4           Steinkohle       Niedersachsen     1971.0          2010.0   \n",
       "..                 ...                 ...        ...             ...   \n",
       "312        Kernenergie              Bayern     1988.0          1988.0   \n",
       "313        Kernenergie       Niedersachsen     1988.0          1988.0   \n",
       "314        Kernenergie   Baden-Württemberg     1989.0          1989.0   \n",
       "315  Mineralölprodukte              Bayern     1973.0          1974.0   \n",
       "316             Erdgas              Bayern     2019.0          2019.0   \n",
       "\n",
       "               plantid                                     plantname  \\\n",
       "0    01-50-01000004838                              Heizkraftwerk FL   \n",
       "1    01-50-02000283604                   Gemeinschaftskraftwerk Kiel   \n",
       "2    01-50-56050192711                                         Wedel   \n",
       "3    03-01-01010098080                                           KWM   \n",
       "4    03-01-01010157480                                     HKW-Mitte   \n",
       "..                 ...                                           ...   \n",
       "312             666-16                                        Isar 2   \n",
       "313             666-17                         Kernkraftwerk Emsland   \n",
       "314             666-18  Gemeinschaftskernkraftwerk Neckarwestheim II   \n",
       "315             669-01                                    Ingolstadt   \n",
       "316                nan                                      Werk 1.5   \n",
       "\n",
       "           state  totalpower  \n",
       "0     in Betrieb       233.0  \n",
       "1    stillgelegt       323.0  \n",
       "2     in Betrieb       361.0  \n",
       "3     in Betrieb       690.0  \n",
       "4     in Betrieb       137.3  \n",
       "..           ...         ...  \n",
       "312   in Betrieb      1410.0  \n",
       "313   in Betrieb      1336.0  \n",
       "314   in Betrieb      1310.0  \n",
       "315          NaN       772.0  \n",
       "316   in Betrieb        13.6  \n",
       "\n",
       "[317 rows x 11 columns]"
      ]
     },
     "execution_count": 243,
     "metadata": {},
     "output_type": "execute_result"
    }
   ],
   "source": [
    "plants_a"
   ]
  },
  {
   "cell_type": "code",
   "execution_count": 244,
   "metadata": {},
   "outputs": [],
   "source": [
    "#TODO: fix this"
   ]
  },
  {
   "cell_type": "code",
   "execution_count": 245,
   "metadata": {},
   "outputs": [],
   "source": [
    "#plants_a[pd.isnull(plants_a['initialop'])]"
   ]
  },
  {
   "cell_type": "code",
   "execution_count": 246,
   "metadata": {},
   "outputs": [],
   "source": [
    "int_list = ['blockcount', 'initialop', 'latestexpanded']\n",
    "for column in int_list:\n",
    "    plants_a[column] = plants_a[column].astype(int)\n",
    "#plant['blockcount'] = pl2['blockcount'].apply(pd.to_numeric)\n",
    "#pl2['blockcount'] = pl2['blockcount'].apply(pd.to_numeric)\n",
    "#pl2['blockcount'] = pl2['blockcount'].apply(pd.to_numeric)\n",
    "#pl2['blockcount'] = pl2['blockcount'].apply(pd.to_numeric)"
   ]
  },
  {
   "cell_type": "code",
   "execution_count": 247,
   "metadata": {},
   "outputs": [
    {
     "data": {
      "text/plain": [
       "blockcount          int64\n",
       "chp                object\n",
       "company            object\n",
       "energysource       object\n",
       "federalstate       object\n",
       "initialop           int64\n",
       "latestexpanded      int64\n",
       "plantid            object\n",
       "plantname          object\n",
       "state              object\n",
       "totalpower        float64\n",
       "dtype: object"
      ]
     },
     "execution_count": 247,
     "metadata": {},
     "output_type": "execute_result"
    }
   ],
   "source": [
    "plants_a.dtypes"
   ]
  },
  {
   "cell_type": "code",
   "execution_count": 248,
   "metadata": {},
   "outputs": [],
   "source": [
    "plants_a[\"energysource\"] = plants_a[\"energysource\"].astype('category')\n",
    "plants_a[\"energysource\"] = plants_a[\"energysource\"].cat.set_categories([\"Kernenergie\", \"Braunkohle\", \"Steinkohle\", \"Erdgas\", \"Mineralölprodukte\"], ordered=True)\n",
    "plants_a[\"state\"] = plants_a[\"state\"].astype('category')\n",
    "plants_a[\"state\"] = plants_a[\"state\"].cat.set_categories(['in Betrieb', 'Gesetzlich an Stilllegung gehindert', 'Netzreserve',  'Sicherheitsbereitschaft', 'Sonderfall', 'vorläufig stillgelegt', 'stillgelegt'], ordered=True)\n",
    "plants_a[\"chp\"] = plants_a[\"chp\"].astype('category')\n",
    "plants_a[\"chp\"] = plants_a[\"chp\"].cat.set_categories(['Ja', 'Nein'], ordered=True)\n",
    "plants_a[\"federalstate\"] = plants_a[\"federalstate\"].astype('category')\n",
    "plants_a[\"federalstate\"] = plants_a[\"federalstate\"].cat.set_categories(['Baden-Württemberg', 'Bayern', 'Berlin', 'Brandenburg', 'Bremen', 'Hamburg', 'Hessen', 'Mecklenburg-Vorpommern', 'Niedersachsen', 'Nordrhein-Westfalen', 'Rheinland-Pfalz', 'Saarland', 'Sachsen', 'Sachsen-Anhalt', 'Schleswig-Holstein', 'Thüringen'])"
   ]
  },
  {
   "cell_type": "code",
   "execution_count": 249,
   "metadata": {},
   "outputs": [
    {
     "data": {
      "text/plain": [
       "blockcount           int64\n",
       "chp               category\n",
       "company             object\n",
       "energysource      category\n",
       "federalstate      category\n",
       "initialop            int64\n",
       "latestexpanded       int64\n",
       "plantid             object\n",
       "plantname           object\n",
       "state             category\n",
       "totalpower         float64\n",
       "dtype: object"
      ]
     },
     "execution_count": 249,
     "metadata": {},
     "output_type": "execute_result"
    }
   ],
   "source": [
    "plants_a.dtypes"
   ]
  },
  {
   "cell_type": "code",
   "execution_count": 250,
   "metadata": {},
   "outputs": [
    {
     "data": {
      "text/html": [
       "<div>\n",
       "<style scoped>\n",
       "    .dataframe tbody tr th:only-of-type {\n",
       "        vertical-align: middle;\n",
       "    }\n",
       "\n",
       "    .dataframe tbody tr th {\n",
       "        vertical-align: top;\n",
       "    }\n",
       "\n",
       "    .dataframe thead th {\n",
       "        text-align: right;\n",
       "    }\n",
       "</style>\n",
       "<table border=\"1\" class=\"dataframe\">\n",
       "  <thead>\n",
       "    <tr style=\"text-align: right;\">\n",
       "      <th></th>\n",
       "      <th>blockcount</th>\n",
       "      <th>chp</th>\n",
       "      <th>company</th>\n",
       "      <th>energysource</th>\n",
       "      <th>federalstate</th>\n",
       "      <th>initialop</th>\n",
       "      <th>latestexpanded</th>\n",
       "      <th>plantid</th>\n",
       "      <th>plantname</th>\n",
       "      <th>state</th>\n",
       "      <th>totalpower</th>\n",
       "    </tr>\n",
       "  </thead>\n",
       "  <tbody>\n",
       "    <tr>\n",
       "      <th>71</th>\n",
       "      <td>9</td>\n",
       "      <td>Ja</td>\n",
       "      <td>RWE AG</td>\n",
       "      <td>Braunkohle</td>\n",
       "      <td>Nordrhein-Westfalen</td>\n",
       "      <td>1965</td>\n",
       "      <td>2002</td>\n",
       "      <td>06-05-300-0326774</td>\n",
       "      <td>Niederaußem</td>\n",
       "      <td>in Betrieb</td>\n",
       "      <td>3656.0</td>\n",
       "    </tr>\n",
       "  </tbody>\n",
       "</table>\n",
       "</div>"
      ],
      "text/plain": [
       "    blockcount chp company energysource         federalstate  initialop  \\\n",
       "71           9  Ja  RWE AG   Braunkohle  Nordrhein-Westfalen       1965   \n",
       "\n",
       "    latestexpanded            plantid    plantname       state  totalpower  \n",
       "71            2002  06-05-300-0326774  Niederaußem  in Betrieb      3656.0  "
      ]
     },
     "execution_count": 250,
     "metadata": {},
     "output_type": "execute_result"
    }
   ],
   "source": [
    "plants_a.loc[plants_a.plantid == \"06-05-300-0326774\"]"
   ]
  },
  {
   "cell_type": "code",
   "execution_count": 251,
   "metadata": {},
   "outputs": [
    {
     "data": {
      "text/html": [
       "<div>\n",
       "<style scoped>\n",
       "    .dataframe tbody tr th:only-of-type {\n",
       "        vertical-align: middle;\n",
       "    }\n",
       "\n",
       "    .dataframe tbody tr th {\n",
       "        vertical-align: top;\n",
       "    }\n",
       "\n",
       "    .dataframe thead th {\n",
       "        text-align: right;\n",
       "    }\n",
       "</style>\n",
       "<table border=\"1\" class=\"dataframe\">\n",
       "  <thead>\n",
       "    <tr style=\"text-align: right;\">\n",
       "      <th></th>\n",
       "      <th>blockcount</th>\n",
       "      <th>chp</th>\n",
       "      <th>company</th>\n",
       "      <th>energysource</th>\n",
       "      <th>federalstate</th>\n",
       "      <th>initialop</th>\n",
       "      <th>latestexpanded</th>\n",
       "      <th>plantid</th>\n",
       "      <th>plantname</th>\n",
       "      <th>state</th>\n",
       "      <th>totalpower</th>\n",
       "    </tr>\n",
       "  </thead>\n",
       "  <tbody>\n",
       "    <tr>\n",
       "      <th>33</th>\n",
       "      <td>4</td>\n",
       "      <td>Ja</td>\n",
       "      <td>Uniper SE</td>\n",
       "      <td>Steinkohle</td>\n",
       "      <td>Hessen</td>\n",
       "      <td>1970</td>\n",
       "      <td>1992</td>\n",
       "      <td>06-00176010435</td>\n",
       "      <td>Staudinger</td>\n",
       "      <td>in Betrieb</td>\n",
       "      <td>1624.0</td>\n",
       "    </tr>\n",
       "  </tbody>\n",
       "</table>\n",
       "</div>"
      ],
      "text/plain": [
       "    blockcount chp    company energysource federalstate  initialop  \\\n",
       "33           4  Ja  Uniper SE   Steinkohle       Hessen       1970   \n",
       "\n",
       "    latestexpanded         plantid   plantname       state  totalpower  \n",
       "33            1992  06-00176010435  Staudinger  in Betrieb      1624.0  "
      ]
     },
     "execution_count": 251,
     "metadata": {},
     "output_type": "execute_result"
    }
   ],
   "source": [
    "plants_a.loc[plants_a.plantid == \"06-00176010435\"]"
   ]
  },
  {
   "cell_type": "code",
   "execution_count": 252,
   "metadata": {},
   "outputs": [
    {
     "data": {
      "text/html": [
       "<div>\n",
       "<style scoped>\n",
       "    .dataframe tbody tr th:only-of-type {\n",
       "        vertical-align: middle;\n",
       "    }\n",
       "\n",
       "    .dataframe tbody tr th {\n",
       "        vertical-align: top;\n",
       "    }\n",
       "\n",
       "    .dataframe thead th {\n",
       "        text-align: right;\n",
       "    }\n",
       "</style>\n",
       "<table border=\"1\" class=\"dataframe\">\n",
       "  <thead>\n",
       "    <tr style=\"text-align: right;\">\n",
       "      <th></th>\n",
       "      <th>blockcount</th>\n",
       "      <th>chp</th>\n",
       "      <th>company</th>\n",
       "      <th>energysource</th>\n",
       "      <th>federalstate</th>\n",
       "      <th>initialop</th>\n",
       "      <th>latestexpanded</th>\n",
       "      <th>plantid</th>\n",
       "      <th>plantname</th>\n",
       "      <th>state</th>\n",
       "      <th>totalpower</th>\n",
       "    </tr>\n",
       "  </thead>\n",
       "  <tbody>\n",
       "    <tr>\n",
       "      <th>105</th>\n",
       "      <td>9</td>\n",
       "      <td>Nein</td>\n",
       "      <td>RWE AG</td>\n",
       "      <td>Steinkohle</td>\n",
       "      <td>Nordrhein-Westfalen</td>\n",
       "      <td>1973</td>\n",
       "      <td>1984</td>\n",
       "      <td>06-05-900-0865327</td>\n",
       "      <td>Gersteinwerk</td>\n",
       "      <td>in Betrieb</td>\n",
       "      <td>2011.0</td>\n",
       "    </tr>\n",
       "  </tbody>\n",
       "</table>\n",
       "</div>"
      ],
      "text/plain": [
       "     blockcount   chp company energysource         federalstate  initialop  \\\n",
       "105           9  Nein  RWE AG   Steinkohle  Nordrhein-Westfalen       1973   \n",
       "\n",
       "     latestexpanded            plantid     plantname       state  totalpower  \n",
       "105            1984  06-05-900-0865327  Gersteinwerk  in Betrieb      2011.0  "
      ]
     },
     "execution_count": 252,
     "metadata": {},
     "output_type": "execute_result"
    }
   ],
   "source": [
    "plants_a.loc[plants_a.plantid == \"06-05-900-0865327\"]"
   ]
  },
  {
   "cell_type": "code",
   "execution_count": 253,
   "metadata": {},
   "outputs": [],
   "source": [
    "#plants_a = plants.drop_duplicates(subset=\"KraftwerkID\")"
   ]
  },
  {
   "cell_type": "code",
   "execution_count": null,
   "metadata": {},
   "outputs": [],
   "source": []
  },
  {
   "cell_type": "code",
   "execution_count": 254,
   "metadata": {},
   "outputs": [],
   "source": [
    "column_titles = ['plantid', 'plantname', 'federalstate','energysource', 'chp', 'latestexpanded', 'initialop', 'totalpower', 'state', 'blockcount', 'company']\n",
    "plants_b = plants_a.reindex(columns=column_titles)"
   ]
  },
  {
   "cell_type": "code",
   "execution_count": 255,
   "metadata": {},
   "outputs": [],
   "source": [
    "#plants_b"
   ]
  },
  {
   "cell_type": "code",
   "execution_count": 256,
   "metadata": {},
   "outputs": [],
   "source": [
    "blocks.drop(['Ort', 'PLZ', 'Straße und Hausnummer (Standort Kraftwerk)'], axis=1, inplace=True)"
   ]
  },
  {
   "cell_type": "code",
   "execution_count": 257,
   "metadata": {},
   "outputs": [
    {
     "data": {
      "text/html": [
       "<div>\n",
       "<style scoped>\n",
       "    .dataframe tbody tr th:only-of-type {\n",
       "        vertical-align: middle;\n",
       "    }\n",
       "\n",
       "    .dataframe tbody tr th {\n",
       "        vertical-align: top;\n",
       "    }\n",
       "\n",
       "    .dataframe thead th {\n",
       "        text-align: right;\n",
       "    }\n",
       "</style>\n",
       "<table border=\"1\" class=\"dataframe\">\n",
       "  <thead>\n",
       "    <tr style=\"text-align: right;\">\n",
       "      <th></th>\n",
       "      <th>plantid</th>\n",
       "      <th>blockid</th>\n",
       "      <th>Unternehmen</th>\n",
       "      <th>Kraftwerksname</th>\n",
       "      <th>Bundesland</th>\n",
       "      <th>Blockname</th>\n",
       "      <th>Inbetriebnahme</th>\n",
       "      <th>Status</th>\n",
       "      <th>Energieträger</th>\n",
       "      <th>KWK</th>\n",
       "      <th>Nettoleistung</th>\n",
       "      <th>Stilllegung</th>\n",
       "    </tr>\n",
       "  </thead>\n",
       "  <tbody>\n",
       "    <tr>\n",
       "      <th>520</th>\n",
       "      <td>06-11-01-1105604</td>\n",
       "      <td>BNA0085b</td>\n",
       "      <td>Vattenfall GmbH</td>\n",
       "      <td>Moabit</td>\n",
       "      <td>Berlin</td>\n",
       "      <td>Moabit GT 7</td>\n",
       "      <td>1971.0</td>\n",
       "      <td>stillgelegt</td>\n",
       "      <td>Mineralölprodukte</td>\n",
       "      <td>Nein</td>\n",
       "      <td>17.0</td>\n",
       "      <td>2018</td>\n",
       "    </tr>\n",
       "    <tr>\n",
       "      <th>519</th>\n",
       "      <td>06-11-01-1105604</td>\n",
       "      <td>BNA0085b</td>\n",
       "      <td>Vattenfall GmbH</td>\n",
       "      <td>Moabit</td>\n",
       "      <td>Berlin</td>\n",
       "      <td>Moabit GT 7</td>\n",
       "      <td>1971.0</td>\n",
       "      <td>in Betrieb</td>\n",
       "      <td>Mineralölprodukte</td>\n",
       "      <td>Nein</td>\n",
       "      <td>34.0</td>\n",
       "      <td>NaN</td>\n",
       "    </tr>\n",
       "    <tr>\n",
       "      <th>535</th>\n",
       "      <td>06-11-01-1105608</td>\n",
       "      <td>BNA0083</td>\n",
       "      <td>Vattenfall GmbH</td>\n",
       "      <td>Wilmersdorf</td>\n",
       "      <td>Berlin</td>\n",
       "      <td>Wilmersdorf GT1</td>\n",
       "      <td>1977.0</td>\n",
       "      <td>stillgelegt</td>\n",
       "      <td>Mineralölprodukte</td>\n",
       "      <td>Ja</td>\n",
       "      <td>92.0</td>\n",
       "      <td>2018</td>\n",
       "    </tr>\n",
       "    <tr>\n",
       "      <th>534</th>\n",
       "      <td>06-11-01-1105608</td>\n",
       "      <td>BNA0083</td>\n",
       "      <td>Vattenfall GmbH</td>\n",
       "      <td>Wilmersdorf</td>\n",
       "      <td>Berlin</td>\n",
       "      <td>Wilmersdorf GT2 und GT3</td>\n",
       "      <td>1977.0</td>\n",
       "      <td>in Betrieb</td>\n",
       "      <td>Mineralölprodukte</td>\n",
       "      <td>Ja</td>\n",
       "      <td>184.0</td>\n",
       "      <td>NaN</td>\n",
       "    </tr>\n",
       "  </tbody>\n",
       "</table>\n",
       "</div>"
      ],
      "text/plain": [
       "              plantid   blockid      Unternehmen Kraftwerksname Bundesland  \\\n",
       "520  06-11-01-1105604  BNA0085b  Vattenfall GmbH         Moabit     Berlin   \n",
       "519  06-11-01-1105604  BNA0085b  Vattenfall GmbH         Moabit     Berlin   \n",
       "535  06-11-01-1105608   BNA0083  Vattenfall GmbH    Wilmersdorf     Berlin   \n",
       "534  06-11-01-1105608   BNA0083  Vattenfall GmbH    Wilmersdorf     Berlin   \n",
       "\n",
       "                   Blockname  Inbetriebnahme       Status      Energieträger  \\\n",
       "520              Moabit GT 7          1971.0  stillgelegt  Mineralölprodukte   \n",
       "519              Moabit GT 7          1971.0   in Betrieb  Mineralölprodukte   \n",
       "535          Wilmersdorf GT1          1977.0  stillgelegt  Mineralölprodukte   \n",
       "534  Wilmersdorf GT2 und GT3          1977.0   in Betrieb  Mineralölprodukte   \n",
       "\n",
       "      KWK  Nettoleistung Stilllegung  \n",
       "520  Nein           17.0        2018  \n",
       "519  Nein           34.0         NaN  \n",
       "535    Ja           92.0        2018  \n",
       "534    Ja          184.0         NaN  "
      ]
     },
     "execution_count": 257,
     "metadata": {},
     "output_type": "execute_result"
    }
   ],
   "source": [
    "blocks[blocks.duplicated(['blockid'], keep=False)].sort_values(\"blockid\", ascending=False)"
   ]
  },
  {
   "cell_type": "code",
   "execution_count": 258,
   "metadata": {},
   "outputs": [],
   "source": [
    "#blocks"
   ]
  },
  {
   "cell_type": "code",
   "execution_count": 259,
   "metadata": {},
   "outputs": [],
   "source": [
    "plants_b.sort_values(\"initialop\", ascending=False, inplace=True)"
   ]
  },
  {
   "cell_type": "code",
   "execution_count": 260,
   "metadata": {},
   "outputs": [],
   "source": [
    "#drop_list = ['Blockname', 'KWK', 'Nettoleistung', 'Stilllegung', 'Straße und Hausnummer (Standort Kraftwerk)', 'PLZ', 'Ort', 'Nettoleistung']\n",
    "#plants_g = plants_f.drop(drop_list, axis=1)"
   ]
  },
  {
   "cell_type": "code",
   "execution_count": 261,
   "metadata": {},
   "outputs": [],
   "source": [
    "#plants_h = plants_g.rename(columns={\"KraftwerkID\": \"plantid\", \"Gesamtleistung\": \"totalpower\", \"Blockzahl\": \"blockcount\", \"BlockID\": \"blockid\", \"Bundesland\": \"federalstate\", \"Energieträger\": \"energysource\", \"Inbetriebnahme\": \"latestexpanded\", \"Kraftwerksname\": \"plantname\", \"Status\": \"state\", \"Unternehmen\": \"company\"})"
   ]
  },
  {
   "cell_type": "code",
   "execution_count": 262,
   "metadata": {},
   "outputs": [],
   "source": [
    "plants_final = plants_b.loc[:]"
   ]
  },
  {
   "cell_type": "code",
   "execution_count": 263,
   "metadata": {
    "scrolled": true
   },
   "outputs": [
    {
     "data": {
      "text/plain": [
       "plantid             object\n",
       "plantname           object\n",
       "federalstate      category\n",
       "energysource      category\n",
       "chp               category\n",
       "latestexpanded       int64\n",
       "initialop            int64\n",
       "totalpower         float64\n",
       "state             category\n",
       "blockcount           int64\n",
       "company             object\n",
       "dtype: object"
      ]
     },
     "execution_count": 263,
     "metadata": {},
     "output_type": "execute_result"
    }
   ],
   "source": [
    "plants_final.dtypes"
   ]
  },
  {
   "cell_type": "code",
   "execution_count": 264,
   "metadata": {},
   "outputs": [],
   "source": [
    "# plants_final"
   ]
  },
  {
   "cell_type": "code",
   "execution_count": 265,
   "metadata": {},
   "outputs": [],
   "source": [
    "# stammdaten"
   ]
  },
  {
   "cell_type": "code",
   "execution_count": 266,
   "metadata": {},
   "outputs": [],
   "source": [
    "# cols = [0,2,3,9,10,11,12]\n",
    "stammdaten = pl6.copy()\n",
    "drop_list = ['plantid', 'Blockname', 'Energieträger', 'Inbetriebnahme', 'KWK', 'Kraftwerksname', 'Nettoleistung', 'Status', 'Stilllegung', 'Unternehmen']\n",
    "stammdaten.drop(drop_list, axis=1, inplace=True)"
   ]
  },
  {
   "cell_type": "code",
   "execution_count": 267,
   "metadata": {},
   "outputs": [],
   "source": [
    "stmp = pl6.copy()\n",
    "stammdaten2 = stmp.merge(prtr, how=\"left\", left_on=\"plantid\", right_on=\"kennnummer\")"
   ]
  },
  {
   "cell_type": "code",
   "execution_count": 268,
   "metadata": {},
   "outputs": [],
   "source": [
    "#stammdaten.to_csv(\"stammdaten.csv\", index=False)"
   ]
  },
  {
   "cell_type": "code",
   "execution_count": 269,
   "metadata": {},
   "outputs": [],
   "source": [
    "#plants_final.to_csv(\"plants.csv\", index=False)"
   ]
  },
  {
   "cell_type": "code",
   "execution_count": 270,
   "metadata": {},
   "outputs": [],
   "source": [
    "#blocks.to_csv(\"blocks_3.csv\", index=False)"
   ]
  },
  {
   "cell_type": "code",
   "execution_count": 271,
   "metadata": {},
   "outputs": [],
   "source": [
    "#stammdaten2"
   ]
  },
  {
   "cell_type": "code",
   "execution_count": 272,
   "metadata": {},
   "outputs": [],
   "source": [
    "DROP_ST = ['blockid', 'jahr', 'kennnummer','betriebsname','betriebsname_2','plz','ort','strasse','hausnr','bundesland','flusseinzugsgebiet','taet_nr','taetigkeit','activity','haupttaetigkeit','branche','sector','nace_id','nace_wirtschaftszweig','nace_sector','stoffgruppe','substances_group','schadstoff','pollutant','umweltkompartiment','releases_to','jahresfracht_freisetzung','versehentliche_freisetzung','schadstoff_schwellenwert','einheit','unit','bestimmungsmethode','determination_method','schutzgrund_fracht','confidential_reason_release','schutzgrund_betrieb','confidential_reason_facility']\n",
    "DROP_ST2 = ['jahr', 'kennnummer','betriebsname','betriebsname_2','plz','ort','strasse','hausnr','bundesland','flusseinzugsgebiet','taet_nr','taetigkeit','activity','haupttaetigkeit','branche','sector','nace_id','nace_wirtschaftszweig','nace_sector','stoffgruppe','substances_group','schadstoff','pollutant','umweltkompartiment','releases_to','jahresfracht_freisetzung','versehentliche_freisetzung','schadstoff_schwellenwert','einheit','unit','bestimmungsmethode','determination_method','schutzgrund_fracht','confidential_reason_release','schutzgrund_betrieb','confidential_reason_facility']\n",
    "DROP_ST3 = ['jahr', 'kennnummer', 'bundesland', 'flusseinzugsgebiet', \"betriebsname\", \"betriebsname_2\", 'taet_nr','taetigkeit','activity','haupttaetigkeit','branche','sector','nace_id','nace_wirtschaftszweig','nace_sector','stoffgruppe','substances_group','schadstoff','pollutant','umweltkompartiment','releases_to','jahresfracht_freisetzung','versehentliche_freisetzung','schadstoff_schwellenwert','einheit','unit','bestimmungsmethode','determination_method','schutzgrund_fracht','confidential_reason_release','schutzgrund_betrieb','confidential_reason_facility']\n"
   ]
  },
  {
   "cell_type": "code",
   "execution_count": 273,
   "metadata": {},
   "outputs": [],
   "source": [
    "#DROP_ST = ['jahr']"
   ]
  },
  {
   "cell_type": "code",
   "execution_count": 274,
   "metadata": {},
   "outputs": [],
   "source": [
    "plants_d1 = plants_final.merge(prtr, how=\"left\", left_on=\"plantid\", right_on=\"kennnummer\")"
   ]
  },
  {
   "cell_type": "code",
   "execution_count": 275,
   "metadata": {},
   "outputs": [],
   "source": [
    "#plants_d1.dtypes"
   ]
  },
  {
   "cell_type": "code",
   "execution_count": 276,
   "metadata": {},
   "outputs": [],
   "source": [
    "pld2 = plants_d1.drop_duplicates(['plantid'])"
   ]
  },
  {
   "cell_type": "code",
   "execution_count": 277,
   "metadata": {},
   "outputs": [],
   "source": [
    "pld3 = pld2.drop(DROP_ST3, axis=1)\n",
    "plants_final1 = pld3"
   ]
  },
  {
   "cell_type": "code",
   "execution_count": 278,
   "metadata": {},
   "outputs": [],
   "source": [
    "plants_final2 = plants_final1.merge(plants_act, on=\"plantid\", how='left')"
   ]
  },
  {
   "cell_type": "code",
   "execution_count": 279,
   "metadata": {},
   "outputs": [
    {
     "data": {
      "text/html": [
       "<div>\n",
       "<style scoped>\n",
       "    .dataframe tbody tr th:only-of-type {\n",
       "        vertical-align: middle;\n",
       "    }\n",
       "\n",
       "    .dataframe tbody tr th {\n",
       "        vertical-align: top;\n",
       "    }\n",
       "\n",
       "    .dataframe thead th {\n",
       "        text-align: right;\n",
       "    }\n",
       "</style>\n",
       "<table border=\"1\" class=\"dataframe\">\n",
       "  <thead>\n",
       "    <tr style=\"text-align: right;\">\n",
       "      <th></th>\n",
       "      <th>plantid</th>\n",
       "      <th>plantname</th>\n",
       "      <th>federalstate</th>\n",
       "      <th>energysource</th>\n",
       "      <th>chp</th>\n",
       "      <th>latestexpanded</th>\n",
       "      <th>initialop</th>\n",
       "      <th>totalpower</th>\n",
       "      <th>state</th>\n",
       "      <th>blockcount</th>\n",
       "      <th>company</th>\n",
       "      <th>plz</th>\n",
       "      <th>ort</th>\n",
       "      <th>strasse</th>\n",
       "      <th>hausnr</th>\n",
       "      <th>geo_lat_wgs84</th>\n",
       "      <th>geo_long_wgs84</th>\n",
       "      <th>activepower</th>\n",
       "    </tr>\n",
       "  </thead>\n",
       "  <tbody>\n",
       "    <tr>\n",
       "      <th>0</th>\n",
       "      <td>nan</td>\n",
       "      <td>Werk 1.5</td>\n",
       "      <td>Bayern</td>\n",
       "      <td>Erdgas</td>\n",
       "      <td>Ja</td>\n",
       "      <td>2019</td>\n",
       "      <td>2019</td>\n",
       "      <td>13.60</td>\n",
       "      <td>in Betrieb</td>\n",
       "      <td>1</td>\n",
       "      <td>BMW AG</td>\n",
       "      <td>NaN</td>\n",
       "      <td>NaN</td>\n",
       "      <td>NaN</td>\n",
       "      <td>NaN</td>\n",
       "      <td>NaN</td>\n",
       "      <td>NaN</td>\n",
       "      <td>13.60</td>\n",
       "    </tr>\n",
       "    <tr>\n",
       "      <th>1</th>\n",
       "      <td>661-10</td>\n",
       "      <td>Küstenkraftwerk K.I.E.L.</td>\n",
       "      <td>Schleswig-Holstein</td>\n",
       "      <td>Erdgas</td>\n",
       "      <td>Ja</td>\n",
       "      <td>2019</td>\n",
       "      <td>2019</td>\n",
       "      <td>188.00</td>\n",
       "      <td>in Betrieb</td>\n",
       "      <td>1</td>\n",
       "      <td>Stadtwerke Kiel AG</td>\n",
       "      <td>NaN</td>\n",
       "      <td>NaN</td>\n",
       "      <td>NaN</td>\n",
       "      <td>NaN</td>\n",
       "      <td>NaN</td>\n",
       "      <td>NaN</td>\n",
       "      <td>188.00</td>\n",
       "    </tr>\n",
       "    <tr>\n",
       "      <th>2</th>\n",
       "      <td>06-09-162-0025-0001</td>\n",
       "      <td>Werk 1.1</td>\n",
       "      <td>Bayern</td>\n",
       "      <td>Erdgas</td>\n",
       "      <td>Ja</td>\n",
       "      <td>2019</td>\n",
       "      <td>2019</td>\n",
       "      <td>13.50</td>\n",
       "      <td>in Betrieb</td>\n",
       "      <td>1</td>\n",
       "      <td>BMW AG</td>\n",
       "      <td>80788</td>\n",
       "      <td>München</td>\n",
       "      <td>Lerchenauer Str.</td>\n",
       "      <td>76</td>\n",
       "      <td>48.179175</td>\n",
       "      <td>11.561502</td>\n",
       "      <td>13.50</td>\n",
       "    </tr>\n",
       "    <tr>\n",
       "      <th>3</th>\n",
       "      <td>661-31</td>\n",
       "      <td>KWK Landshut</td>\n",
       "      <td>Bayern</td>\n",
       "      <td>Erdgas</td>\n",
       "      <td>Ja</td>\n",
       "      <td>2019</td>\n",
       "      <td>2019</td>\n",
       "      <td>17.60</td>\n",
       "      <td>in Betrieb</td>\n",
       "      <td>1</td>\n",
       "      <td>BMW AG</td>\n",
       "      <td>NaN</td>\n",
       "      <td>NaN</td>\n",
       "      <td>NaN</td>\n",
       "      <td>NaN</td>\n",
       "      <td>NaN</td>\n",
       "      <td>NaN</td>\n",
       "      <td>17.60</td>\n",
       "    </tr>\n",
       "    <tr>\n",
       "      <th>4</th>\n",
       "      <td>661-42</td>\n",
       "      <td>Dampfturbine 5</td>\n",
       "      <td>Hessen</td>\n",
       "      <td>Erdgas</td>\n",
       "      <td>Ja</td>\n",
       "      <td>2018</td>\n",
       "      <td>2018</td>\n",
       "      <td>77.40</td>\n",
       "      <td>in Betrieb</td>\n",
       "      <td>2</td>\n",
       "      <td>Mainova AG</td>\n",
       "      <td>NaN</td>\n",
       "      <td>NaN</td>\n",
       "      <td>NaN</td>\n",
       "      <td>NaN</td>\n",
       "      <td>NaN</td>\n",
       "      <td>NaN</td>\n",
       "      <td>77.40</td>\n",
       "    </tr>\n",
       "    <tr>\n",
       "      <th>...</th>\n",
       "      <td>...</td>\n",
       "      <td>...</td>\n",
       "      <td>...</td>\n",
       "      <td>...</td>\n",
       "      <td>...</td>\n",
       "      <td>...</td>\n",
       "      <td>...</td>\n",
       "      <td>...</td>\n",
       "      <td>...</td>\n",
       "      <td>...</td>\n",
       "      <td>...</td>\n",
       "      <td>...</td>\n",
       "      <td>...</td>\n",
       "      <td>...</td>\n",
       "      <td>...</td>\n",
       "      <td>...</td>\n",
       "      <td>...</td>\n",
       "      <td>...</td>\n",
       "    </tr>\n",
       "    <tr>\n",
       "      <th>312</th>\n",
       "      <td>664-02</td>\n",
       "      <td>Deuben</td>\n",
       "      <td>Sachsen-Anhalt</td>\n",
       "      <td>Braunkohle</td>\n",
       "      <td>Ja</td>\n",
       "      <td>1936</td>\n",
       "      <td>1936</td>\n",
       "      <td>67.00</td>\n",
       "      <td>in Betrieb</td>\n",
       "      <td>1</td>\n",
       "      <td>Mitteldeutsche Braunkohlengesellschaft mbH</td>\n",
       "      <td>NaN</td>\n",
       "      <td>NaN</td>\n",
       "      <td>NaN</td>\n",
       "      <td>NaN</td>\n",
       "      <td>NaN</td>\n",
       "      <td>NaN</td>\n",
       "      <td>67.00</td>\n",
       "    </tr>\n",
       "    <tr>\n",
       "      <th>313</th>\n",
       "      <td>661-114</td>\n",
       "      <td>HKW Schwarza</td>\n",
       "      <td>Thüringen</td>\n",
       "      <td>Erdgas</td>\n",
       "      <td>Ja</td>\n",
       "      <td>1936</td>\n",
       "      <td>1936</td>\n",
       "      <td>26.50</td>\n",
       "      <td>in Betrieb</td>\n",
       "      <td>1</td>\n",
       "      <td>TWS Thüringer Wärme Service GmbH</td>\n",
       "      <td>NaN</td>\n",
       "      <td>NaN</td>\n",
       "      <td>NaN</td>\n",
       "      <td>NaN</td>\n",
       "      <td>NaN</td>\n",
       "      <td>NaN</td>\n",
       "      <td>26.50</td>\n",
       "    </tr>\n",
       "    <tr>\n",
       "      <th>314</th>\n",
       "      <td>06-05-900-0001413</td>\n",
       "      <td>Reno De Medici</td>\n",
       "      <td>Nordrhein-Westfalen</td>\n",
       "      <td>Steinkohle</td>\n",
       "      <td>Ja</td>\n",
       "      <td>1923</td>\n",
       "      <td>1923</td>\n",
       "      <td>18.99</td>\n",
       "      <td>in Betrieb</td>\n",
       "      <td>1</td>\n",
       "      <td>R.D.M. Arnsberg GmbH</td>\n",
       "      <td>59821</td>\n",
       "      <td>Arnsberg</td>\n",
       "      <td>Hellefelderstr.</td>\n",
       "      <td>51</td>\n",
       "      <td>51.391922</td>\n",
       "      <td>8.071118</td>\n",
       "      <td>18.99</td>\n",
       "    </tr>\n",
       "    <tr>\n",
       "      <th>315</th>\n",
       "      <td>661-34</td>\n",
       "      <td>Obernburg</td>\n",
       "      <td>Bayern</td>\n",
       "      <td>Erdgas</td>\n",
       "      <td>Ja</td>\n",
       "      <td>1920</td>\n",
       "      <td>1920</td>\n",
       "      <td>40.00</td>\n",
       "      <td>in Betrieb</td>\n",
       "      <td>1</td>\n",
       "      <td>Kraftwerk Obernburg GmbH</td>\n",
       "      <td>NaN</td>\n",
       "      <td>NaN</td>\n",
       "      <td>NaN</td>\n",
       "      <td>NaN</td>\n",
       "      <td>NaN</td>\n",
       "      <td>NaN</td>\n",
       "      <td>40.00</td>\n",
       "    </tr>\n",
       "    <tr>\n",
       "      <th>316</th>\n",
       "      <td>06-05-800-0197010</td>\n",
       "      <td>Ville/Berrenrath</td>\n",
       "      <td>Nordrhein-Westfalen</td>\n",
       "      <td>Braunkohle</td>\n",
       "      <td>Ja</td>\n",
       "      <td>1917</td>\n",
       "      <td>1917</td>\n",
       "      <td>98.00</td>\n",
       "      <td>in Betrieb</td>\n",
       "      <td>1</td>\n",
       "      <td>RWE AG</td>\n",
       "      <td>50354</td>\n",
       "      <td>Hürth-Knapsack</td>\n",
       "      <td>Villenstr.</td>\n",
       "      <td>-</td>\n",
       "      <td>50.867145</td>\n",
       "      <td>6.836056</td>\n",
       "      <td>98.00</td>\n",
       "    </tr>\n",
       "  </tbody>\n",
       "</table>\n",
       "<p>317 rows × 18 columns</p>\n",
       "</div>"
      ],
      "text/plain": [
       "                 plantid                 plantname         federalstate  \\\n",
       "0                    nan                  Werk 1.5               Bayern   \n",
       "1                 661-10  Küstenkraftwerk K.I.E.L.   Schleswig-Holstein   \n",
       "2    06-09-162-0025-0001                  Werk 1.1               Bayern   \n",
       "3                 661-31              KWK Landshut               Bayern   \n",
       "4                 661-42            Dampfturbine 5               Hessen   \n",
       "..                   ...                       ...                  ...   \n",
       "312               664-02                    Deuben       Sachsen-Anhalt   \n",
       "313              661-114              HKW Schwarza            Thüringen   \n",
       "314    06-05-900-0001413            Reno De Medici  Nordrhein-Westfalen   \n",
       "315               661-34                 Obernburg               Bayern   \n",
       "316    06-05-800-0197010          Ville/Berrenrath  Nordrhein-Westfalen   \n",
       "\n",
       "    energysource chp  latestexpanded  initialop  totalpower       state  \\\n",
       "0         Erdgas  Ja            2019       2019       13.60  in Betrieb   \n",
       "1         Erdgas  Ja            2019       2019      188.00  in Betrieb   \n",
       "2         Erdgas  Ja            2019       2019       13.50  in Betrieb   \n",
       "3         Erdgas  Ja            2019       2019       17.60  in Betrieb   \n",
       "4         Erdgas  Ja            2018       2018       77.40  in Betrieb   \n",
       "..           ...  ..             ...        ...         ...         ...   \n",
       "312   Braunkohle  Ja            1936       1936       67.00  in Betrieb   \n",
       "313       Erdgas  Ja            1936       1936       26.50  in Betrieb   \n",
       "314   Steinkohle  Ja            1923       1923       18.99  in Betrieb   \n",
       "315       Erdgas  Ja            1920       1920       40.00  in Betrieb   \n",
       "316   Braunkohle  Ja            1917       1917       98.00  in Betrieb   \n",
       "\n",
       "     blockcount                                     company    plz  \\\n",
       "0             1                                      BMW AG    NaN   \n",
       "1             1                          Stadtwerke Kiel AG    NaN   \n",
       "2             1                                      BMW AG  80788   \n",
       "3             1                                      BMW AG    NaN   \n",
       "4             2                                  Mainova AG    NaN   \n",
       "..          ...                                         ...    ...   \n",
       "312           1  Mitteldeutsche Braunkohlengesellschaft mbH    NaN   \n",
       "313           1            TWS Thüringer Wärme Service GmbH    NaN   \n",
       "314           1                        R.D.M. Arnsberg GmbH  59821   \n",
       "315           1                    Kraftwerk Obernburg GmbH    NaN   \n",
       "316           1                                      RWE AG  50354   \n",
       "\n",
       "                ort           strasse hausnr  geo_lat_wgs84  geo_long_wgs84  \\\n",
       "0               NaN               NaN    NaN            NaN             NaN   \n",
       "1               NaN               NaN    NaN            NaN             NaN   \n",
       "2           München  Lerchenauer Str.     76      48.179175       11.561502   \n",
       "3               NaN               NaN    NaN            NaN             NaN   \n",
       "4               NaN               NaN    NaN            NaN             NaN   \n",
       "..              ...               ...    ...            ...             ...   \n",
       "312             NaN               NaN    NaN            NaN             NaN   \n",
       "313             NaN               NaN    NaN            NaN             NaN   \n",
       "314        Arnsberg   Hellefelderstr.     51      51.391922        8.071118   \n",
       "315             NaN               NaN    NaN            NaN             NaN   \n",
       "316  Hürth-Knapsack        Villenstr.      -      50.867145        6.836056   \n",
       "\n",
       "     activepower  \n",
       "0          13.60  \n",
       "1         188.00  \n",
       "2          13.50  \n",
       "3          17.60  \n",
       "4          77.40  \n",
       "..           ...  \n",
       "312        67.00  \n",
       "313        26.50  \n",
       "314        18.99  \n",
       "315        40.00  \n",
       "316        98.00  \n",
       "\n",
       "[317 rows x 18 columns]"
      ]
     },
     "execution_count": 279,
     "metadata": {},
     "output_type": "execute_result"
    }
   ],
   "source": [
    "plants_final2"
   ]
  },
  {
   "cell_type": "code",
   "execution_count": 280,
   "metadata": {},
   "outputs": [],
   "source": [
    "#stammdaten2.dtypes"
   ]
  },
  {
   "cell_type": "code",
   "execution_count": 281,
   "metadata": {},
   "outputs": [],
   "source": [
    "stammdaten3 = stammdaten2.drop(DROP_ST, axis=1)"
   ]
  },
  {
   "cell_type": "code",
   "execution_count": 282,
   "metadata": {},
   "outputs": [],
   "source": [
    "stammdaten4 = stammdaten3.drop_duplicates(['plantid'])"
   ]
  },
  {
   "cell_type": "code",
   "execution_count": 283,
   "metadata": {},
   "outputs": [],
   "source": [
    "#list(stammdaten2)"
   ]
  },
  {
   "cell_type": "code",
   "execution_count": 284,
   "metadata": {},
   "outputs": [
    {
     "data": {
      "text/plain": [
       "'\\n\\n\\n\"CREATE TABLE blocks(plantid TEXT, blockid TEXT NOT NULL PRIMARY KEY, blockdescription TEXT, federalstate TEXT, energysource TEXT, initialop INTEGER, chp TEXT,\\nblockname TEXT, netpower REAL, state TEXT, endop TEXT, company TEXT, FOREIGN KEY (blockid) REFERENCES addresses(blockid) ON DELETE CASCADE);\"\\n662-01|BNA0164|Vattenfall GmbH|Brunsbüttel|Schleswig-Holstein|GT D|0.0|stillgelegt|Mineralölprodukte|Nein|63.5|201\\n\\n'"
      ]
     },
     "execution_count": 284,
     "metadata": {},
     "output_type": "execute_result"
    }
   ],
   "source": [
    "'''\n",
    "\n",
    "\n",
    "\"CREATE TABLE blocks(plantid TEXT, blockid TEXT NOT NULL PRIMARY KEY, blockdescription TEXT, federalstate TEXT, energysource TEXT, initialop INTEGER, chp TEXT,\n",
    "blockname TEXT, netpower REAL, state TEXT, endop TEXT, company TEXT, FOREIGN KEY (blockid) REFERENCES addresses(blockid) ON DELETE CASCADE);\"\n",
    "662-01|BNA0164|Vattenfall GmbH|Brunsbüttel|Schleswig-Holstein|GT D|0.0|stillgelegt|Mineralölprodukte|Nein|63.5|201\n",
    "\n",
    "'''\n"
   ]
  },
  {
   "cell_type": "code",
   "execution_count": 285,
   "metadata": {},
   "outputs": [],
   "source": [
    "blocks2 = blocks[['plantid', 'blockid', 'Blockname', 'Bundesland', 'Energieträger', 'Inbetriebnahme', 'KWK', 'Kraftwerksname', 'Nettoleistung', 'Status', 'Stilllegung', 'Unternehmen']]"
   ]
  },
  {
   "cell_type": "code",
   "execution_count": 286,
   "metadata": {},
   "outputs": [
    {
     "data": {
      "text/plain": [
       "['plantid',\n",
       " 'blockid',\n",
       " 'Blockname',\n",
       " 'Bundesland',\n",
       " 'Energieträger',\n",
       " 'Inbetriebnahme',\n",
       " 'KWK',\n",
       " 'Kraftwerksname',\n",
       " 'Nettoleistung',\n",
       " 'Status',\n",
       " 'Stilllegung',\n",
       " 'Unternehmen']"
      ]
     },
     "execution_count": 286,
     "metadata": {},
     "output_type": "execute_result"
    }
   ],
   "source": [
    "list(blocks2)"
   ]
  },
  {
   "cell_type": "code",
   "execution_count": 287,
   "metadata": {},
   "outputs": [],
   "source": [
    "stammdaten.to_csv(\"stammdaten_nh.csv\", index=False, header=False)\n",
    "blocks2.to_csv(\"blocks_nh.csv\", index=False, header=False)\n",
    "plants_final2.to_csv(\"plants_nh.csv\", index=False, header=False)\n",
    "stammdaten.to_csv(\"stammdaten.csv\", index=False)\n",
    "blocks2.to_csv(\"blocks.csv\", index=False)\n",
    "plants_final2.to_csv(\"plants.csv\", index=False)"
   ]
  },
  {
   "cell_type": "code",
   "execution_count": 288,
   "metadata": {},
   "outputs": [
    {
     "data": {
      "text/html": [
       "<div>\n",
       "<style scoped>\n",
       "    .dataframe tbody tr th:only-of-type {\n",
       "        vertical-align: middle;\n",
       "    }\n",
       "\n",
       "    .dataframe tbody tr th {\n",
       "        vertical-align: top;\n",
       "    }\n",
       "\n",
       "    .dataframe thead th {\n",
       "        text-align: right;\n",
       "    }\n",
       "</style>\n",
       "<table border=\"1\" class=\"dataframe\">\n",
       "  <thead>\n",
       "    <tr style=\"text-align: right;\">\n",
       "      <th></th>\n",
       "      <th>blockid</th>\n",
       "      <th>PLZ</th>\n",
       "      <th>Ort</th>\n",
       "      <th>Straße und Hausnummer (Standort Kraftwerk)</th>\n",
       "      <th>Bundesland</th>\n",
       "    </tr>\n",
       "  </thead>\n",
       "  <tbody>\n",
       "    <tr>\n",
       "      <th>0</th>\n",
       "      <td>BNA1401a</td>\n",
       "      <td>41517</td>\n",
       "      <td>Grevenbroich</td>\n",
       "      <td>Energiestraße 101</td>\n",
       "      <td>Nordrhein-Westfalen</td>\n",
       "    </tr>\n",
       "    <tr>\n",
       "      <th>1</th>\n",
       "      <td>BNA1401b</td>\n",
       "      <td>41517</td>\n",
       "      <td>Grevenbroich</td>\n",
       "      <td>Energiestraße 101</td>\n",
       "      <td>Nordrhein-Westfalen</td>\n",
       "    </tr>\n",
       "    <tr>\n",
       "      <th>2</th>\n",
       "      <td>BNA0115</td>\n",
       "      <td>4007</td>\n",
       "      <td>Böhlen</td>\n",
       "      <td>Werkstraße</td>\n",
       "      <td>Sachsen</td>\n",
       "    </tr>\n",
       "    <tr>\n",
       "      <th>3</th>\n",
       "      <td>BNA0116</td>\n",
       "      <td>4564</td>\n",
       "      <td>Böhlen</td>\n",
       "      <td>Werkstraße</td>\n",
       "      <td>Sachsen</td>\n",
       "    </tr>\n",
       "    <tr>\n",
       "      <th>4</th>\n",
       "      <td>BNA0793</td>\n",
       "      <td>32469</td>\n",
       "      <td>Petershagen</td>\n",
       "      <td>NaN</td>\n",
       "      <td>Nordrhein-Westfalen</td>\n",
       "    </tr>\n",
       "    <tr>\n",
       "      <th>...</th>\n",
       "      <td>...</td>\n",
       "      <td>...</td>\n",
       "      <td>...</td>\n",
       "      <td>...</td>\n",
       "      <td>...</td>\n",
       "    </tr>\n",
       "    <tr>\n",
       "      <th>579</th>\n",
       "      <td>BNA0141</td>\n",
       "      <td>28237</td>\n",
       "      <td>Bremen</td>\n",
       "      <td>Auf den Delben 35</td>\n",
       "      <td>Bremen</td>\n",
       "    </tr>\n",
       "    <tr>\n",
       "      <th>581</th>\n",
       "      <td>BNA1820</td>\n",
       "      <td>28237</td>\n",
       "      <td>Bremen</td>\n",
       "      <td>NaN</td>\n",
       "      <td>Bremen</td>\n",
       "    </tr>\n",
       "    <tr>\n",
       "      <th>582</th>\n",
       "      <td>BNA1334</td>\n",
       "      <td>28237</td>\n",
       "      <td>Bremen</td>\n",
       "      <td>Waterbergstraße 14</td>\n",
       "      <td>Bremen</td>\n",
       "    </tr>\n",
       "    <tr>\n",
       "      <th>583</th>\n",
       "      <td>BNA0147</td>\n",
       "      <td>28777</td>\n",
       "      <td>Bremen</td>\n",
       "      <td>Wilhelmshavener Str. 6</td>\n",
       "      <td>Bremen</td>\n",
       "    </tr>\n",
       "    <tr>\n",
       "      <th>584</th>\n",
       "      <td>BNa1947</td>\n",
       "      <td>80937</td>\n",
       "      <td>München</td>\n",
       "      <td>Knorrstraße 147</td>\n",
       "      <td>Bayern</td>\n",
       "    </tr>\n",
       "  </tbody>\n",
       "</table>\n",
       "<p>577 rows × 5 columns</p>\n",
       "</div>"
      ],
      "text/plain": [
       "      blockid    PLZ           Ort Straße und Hausnummer (Standort Kraftwerk)  \\\n",
       "0    BNA1401a  41517  Grevenbroich                          Energiestraße 101   \n",
       "1    BNA1401b  41517  Grevenbroich                          Energiestraße 101   \n",
       "2     BNA0115   4007        Böhlen                                 Werkstraße   \n",
       "3     BNA0116   4564        Böhlen                                 Werkstraße   \n",
       "4     BNA0793  32469   Petershagen                                        NaN   \n",
       "..        ...    ...           ...                                        ...   \n",
       "579   BNA0141  28237        Bremen                          Auf den Delben 35   \n",
       "581   BNA1820  28237        Bremen                                        NaN   \n",
       "582   BNA1334  28237        Bremen                         Waterbergstraße 14   \n",
       "583   BNA0147  28777        Bremen                     Wilhelmshavener Str. 6   \n",
       "584   BNa1947  80937       München                            Knorrstraße 147   \n",
       "\n",
       "              Bundesland  \n",
       "0    Nordrhein-Westfalen  \n",
       "1    Nordrhein-Westfalen  \n",
       "2                Sachsen  \n",
       "3                Sachsen  \n",
       "4    Nordrhein-Westfalen  \n",
       "..                   ...  \n",
       "579               Bremen  \n",
       "581               Bremen  \n",
       "582               Bremen  \n",
       "583               Bremen  \n",
       "584               Bayern  \n",
       "\n",
       "[577 rows x 5 columns]"
      ]
     },
     "execution_count": 288,
     "metadata": {},
     "output_type": "execute_result"
    }
   ],
   "source": [
    "stammdaten"
   ]
  },
  {
   "cell_type": "code",
   "execution_count": null,
   "metadata": {},
   "outputs": [],
   "source": []
  },
  {
   "cell_type": "code",
   "execution_count": 289,
   "metadata": {},
   "outputs": [],
   "source": [
    "#bm2.to_csv(\"bpm.csv\", index=False)"
   ]
  },
  {
   "cell_type": "code",
   "execution_count": 290,
   "metadata": {},
   "outputs": [],
   "source": [
    "#blocks"
   ]
  },
  {
   "cell_type": "code",
   "execution_count": 291,
   "metadata": {},
   "outputs": [
    {
     "data": {
      "text/html": [
       "<div>\n",
       "<style scoped>\n",
       "    .dataframe tbody tr th:only-of-type {\n",
       "        vertical-align: middle;\n",
       "    }\n",
       "\n",
       "    .dataframe tbody tr th {\n",
       "        vertical-align: top;\n",
       "    }\n",
       "\n",
       "    .dataframe thead th {\n",
       "        text-align: right;\n",
       "    }\n",
       "</style>\n",
       "<table border=\"1\" class=\"dataframe\">\n",
       "  <thead>\n",
       "    <tr style=\"text-align: right;\">\n",
       "      <th></th>\n",
       "      <th>plantid</th>\n",
       "      <th>blockid</th>\n",
       "      <th>Unternehmen</th>\n",
       "      <th>Kraftwerksname</th>\n",
       "      <th>Bundesland</th>\n",
       "      <th>Blockname</th>\n",
       "      <th>Inbetriebnahme</th>\n",
       "      <th>Status</th>\n",
       "      <th>KWK</th>\n",
       "      <th>Nettoleistung</th>\n",
       "      <th>Stilllegung</th>\n",
       "    </tr>\n",
       "    <tr>\n",
       "      <th>Energieträger</th>\n",
       "      <th></th>\n",
       "      <th></th>\n",
       "      <th></th>\n",
       "      <th></th>\n",
       "      <th></th>\n",
       "      <th></th>\n",
       "      <th></th>\n",
       "      <th></th>\n",
       "      <th></th>\n",
       "      <th></th>\n",
       "      <th></th>\n",
       "    </tr>\n",
       "  </thead>\n",
       "  <tbody>\n",
       "    <tr>\n",
       "      <th>Braunkohle</th>\n",
       "      <td>77</td>\n",
       "      <td>77</td>\n",
       "      <td>77</td>\n",
       "      <td>76</td>\n",
       "      <td>77</td>\n",
       "      <td>69</td>\n",
       "      <td>77</td>\n",
       "      <td>77</td>\n",
       "      <td>77</td>\n",
       "      <td>77</td>\n",
       "      <td>17</td>\n",
       "    </tr>\n",
       "    <tr>\n",
       "      <th>Erdgas</th>\n",
       "      <td>315</td>\n",
       "      <td>315</td>\n",
       "      <td>312</td>\n",
       "      <td>304</td>\n",
       "      <td>315</td>\n",
       "      <td>216</td>\n",
       "      <td>297</td>\n",
       "      <td>312</td>\n",
       "      <td>315</td>\n",
       "      <td>315</td>\n",
       "      <td>35</td>\n",
       "    </tr>\n",
       "    <tr>\n",
       "      <th>Kernenergie</th>\n",
       "      <td>9</td>\n",
       "      <td>9</td>\n",
       "      <td>9</td>\n",
       "      <td>9</td>\n",
       "      <td>9</td>\n",
       "      <td>9</td>\n",
       "      <td>8</td>\n",
       "      <td>9</td>\n",
       "      <td>9</td>\n",
       "      <td>9</td>\n",
       "      <td>3</td>\n",
       "    </tr>\n",
       "    <tr>\n",
       "      <th>Mineralölprodukte</th>\n",
       "      <td>56</td>\n",
       "      <td>56</td>\n",
       "      <td>56</td>\n",
       "      <td>56</td>\n",
       "      <td>56</td>\n",
       "      <td>47</td>\n",
       "      <td>50</td>\n",
       "      <td>51</td>\n",
       "      <td>55</td>\n",
       "      <td>56</td>\n",
       "      <td>10</td>\n",
       "    </tr>\n",
       "    <tr>\n",
       "      <th>Steinkohle</th>\n",
       "      <td>120</td>\n",
       "      <td>120</td>\n",
       "      <td>120</td>\n",
       "      <td>119</td>\n",
       "      <td>120</td>\n",
       "      <td>107</td>\n",
       "      <td>120</td>\n",
       "      <td>112</td>\n",
       "      <td>119</td>\n",
       "      <td>120</td>\n",
       "      <td>43</td>\n",
       "    </tr>\n",
       "  </tbody>\n",
       "</table>\n",
       "</div>"
      ],
      "text/plain": [
       "                   plantid  blockid  Unternehmen  Kraftwerksname  Bundesland  \\\n",
       "Energieträger                                                                  \n",
       "Braunkohle              77       77           77              76          77   \n",
       "Erdgas                 315      315          312             304         315   \n",
       "Kernenergie              9        9            9               9           9   \n",
       "Mineralölprodukte       56       56           56              56          56   \n",
       "Steinkohle             120      120          120             119         120   \n",
       "\n",
       "                   Blockname  Inbetriebnahme  Status  KWK  Nettoleistung  \\\n",
       "Energieträger                                                              \n",
       "Braunkohle                69              77      77   77             77   \n",
       "Erdgas                   216             297     312  315            315   \n",
       "Kernenergie                9               8       9    9              9   \n",
       "Mineralölprodukte         47              50      51   55             56   \n",
       "Steinkohle               107             120     112  119            120   \n",
       "\n",
       "                   Stilllegung  \n",
       "Energieträger                   \n",
       "Braunkohle                  17  \n",
       "Erdgas                      35  \n",
       "Kernenergie                  3  \n",
       "Mineralölprodukte           10  \n",
       "Steinkohle                  43  "
      ]
     },
     "execution_count": 291,
     "metadata": {},
     "output_type": "execute_result"
    }
   ],
   "source": [
    "blocks.groupby('Energieträger').count()"
   ]
  },
  {
   "cell_type": "code",
   "execution_count": 292,
   "metadata": {},
   "outputs": [],
   "source": [
    "pl4 = blocks.loc[blocks['Energieträger'] == \"Mineralölprodukte\"]"
   ]
  },
  {
   "cell_type": "code",
   "execution_count": 293,
   "metadata": {},
   "outputs": [],
   "source": [
    "#pl4"
   ]
  },
  {
   "cell_type": "code",
   "execution_count": 243,
   "metadata": {},
   "outputs": [],
   "source": [
    "#pd.set_option('display.max_rows', None)"
   ]
  },
  {
   "cell_type": "code",
   "execution_count": 244,
   "metadata": {},
   "outputs": [],
   "source": [
    "#pl4.loc[pl4['Energieträger'] == \"Mineralölprodukte\"].sort_values([\"Bundesland\", \"Unternehmen\", \"Kraftwerksname\"])"
   ]
  },
  {
   "cell_type": "code",
   "execution_count": 245,
   "metadata": {},
   "outputs": [],
   "source": [
    "#plants_final2"
   ]
  },
  {
   "cell_type": "code",
   "execution_count": null,
   "metadata": {},
   "outputs": [],
   "source": []
  }
 ],
 "metadata": {
  "kernelspec": {
   "display_name": "Python 3",
   "language": "python",
   "name": "python3"
  },
  "language_info": {
   "codemirror_mode": {
    "name": "ipython",
    "version": 3
   },
   "file_extension": ".py",
   "mimetype": "text/x-python",
   "name": "python",
   "nbconvert_exporter": "python",
   "pygments_lexer": "ipython3",
   "version": "3.7.7"
  }
 },
 "nbformat": 4,
 "nbformat_minor": 4
}
