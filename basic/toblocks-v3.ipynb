{
 "cells": [
  {
   "cell_type": "code",
   "execution_count": 123,
   "metadata": {},
   "outputs": [],
   "source": [
    "import pandas as pd\n",
    "from scipy import stats\n",
    "import numpy as np\n",
    "from pandas.api.types import CategoricalDtype\n",
    "import re"
   ]
  },
  {
   "cell_type": "code",
   "execution_count": 124,
   "metadata": {},
   "outputs": [
    {
     "name": "stderr",
     "output_type": "stream",
     "text": [
      "Skipping line 639: ';' expected after '\"'\n",
      "Skipping line 2278: ';' expected after '\"'\n",
      "Skipping line 2279: ';' expected after '\"'\n",
      "Skipping line 2280: ';' expected after '\"'\n",
      "Skipping line 2281: ';' expected after '\"'\n",
      "Skipping line 2683: ';' expected after '\"'\n",
      "Skipping line 2703: ';' expected after '\"'\n",
      "Skipping line 2704: ';' expected after '\"'\n",
      "Skipping line 3370: ';' expected after '\"'\n",
      "Skipping line 3607: ';' expected after '\"'\n",
      "Skipping line 3608: ';' expected after '\"'\n",
      "Skipping line 3609: ';' expected after '\"'\n",
      "Skipping line 3898: ';' expected after '\"'\n",
      "Skipping line 3902: ';' expected after '\"'\n",
      "Skipping line 4195: ';' expected after '\"'\n",
      "Skipping line 4368: ';' expected after '\"'\n",
      "Skipping line 4391: ';' expected after '\"'\n",
      "Skipping line 4415: ';' expected after '\"'\n",
      "Skipping line 4523: ';' expected after '\"'\n",
      "Skipping line 4605: ';' expected after '\"'\n",
      "Skipping line 4608: ';' expected after '\"'\n",
      "Skipping line 5384: ';' expected after '\"'\n",
      "Skipping line 7470: ';' expected after '\"'\n",
      "Skipping line 7472: ';' expected after '\"'\n",
      "Skipping line 7473: ';' expected after '\"'\n",
      "Skipping line 8127: ';' expected after '\"'\n",
      "Skipping line 8403: ';' expected after '\"'\n",
      "Skipping line 8404: ';' expected after '\"'\n",
      "Skipping line 8405: ';' expected after '\"'\n",
      "Skipping line 8685: ';' expected after '\"'\n",
      "Skipping line 8686: ';' expected after '\"'\n",
      "Skipping line 8689: ';' expected after '\"'\n",
      "Skipping line 9017: ';' expected after '\"'\n",
      "Skipping line 9020: ';' expected after '\"'\n",
      "Skipping line 9187: ';' expected after '\"'\n",
      "Skipping line 9273: ';' expected after '\"'\n",
      "Skipping line 9364: ';' expected after '\"'\n",
      "Skipping line 10148: ';' expected after '\"'\n",
      "Skipping line 10184: ';' expected after '\"'\n",
      "Skipping line 12143: ';' expected after '\"'\n",
      "Skipping line 12145: ';' expected after '\"'\n",
      "Skipping line 13063: ';' expected after '\"'\n",
      "Skipping line 13064: ';' expected after '\"'\n",
      "Skipping line 13065: ';' expected after '\"'\n",
      "Skipping line 13342: ';' expected after '\"'\n",
      "Skipping line 13343: ';' expected after '\"'\n",
      "Skipping line 13347: ';' expected after '\"'\n",
      "Skipping line 13656: ';' expected after '\"'\n",
      "Skipping line 13658: ';' expected after '\"'\n",
      "Skipping line 13784: ';' expected after '\"'\n",
      "Skipping line 13798: ';' expected after '\"'\n",
      "Skipping line 13963: ';' expected after '\"'\n",
      "Skipping line 14040: ';' expected after '\"'\n",
      "Skipping line 14769: ';' expected after '\"'\n",
      "Skipping line 14809: ';' expected after '\"'\n",
      "Skipping line 16345: ';' expected after '\"'\n",
      "Skipping line 16789: ';' expected after '\"'\n",
      "Skipping line 16792: ';' expected after '\"'\n",
      "Skipping line 17750: ';' expected after '\"'\n",
      "Skipping line 17751: ';' expected after '\"'\n",
      "Skipping line 17752: ';' expected after '\"'\n",
      "Skipping line 17980: ';' expected after '\"'\n",
      "Skipping line 18045: ';' expected after '\"'\n",
      "Skipping line 18049: ';' expected after '\"'\n",
      "Skipping line 18144: ';' expected after '\"'\n",
      "Skipping line 18371: ';' expected after '\"'\n",
      "Skipping line 18372: ';' expected after '\"'\n",
      "Skipping line 18509: ';' expected after '\"'\n",
      "Skipping line 18594: ';' expected after '\"'\n",
      "Skipping line 18686: ';' expected after '\"'\n",
      "Skipping line 18696: ';' expected after '\"'\n",
      "Skipping line 18764: ';' expected after '\"'\n",
      "Skipping line 21031: ';' expected after '\"'\n",
      "Skipping line 21451: ';' expected after '\"'\n",
      "Skipping line 22355: ';' expected after '\"'\n",
      "Skipping line 22356: ';' expected after '\"'\n",
      "Skipping line 22357: ';' expected after '\"'\n",
      "Skipping line 22635: ';' expected after '\"'\n",
      "Skipping line 22728: ';' expected after '\"'\n",
      "Skipping line 22948: ';' expected after '\"'\n",
      "Skipping line 23173: ';' expected after '\"'\n",
      "Skipping line 23261: ';' expected after '\"'\n",
      "Skipping line 23271: ';' expected after '\"'\n",
      "Skipping line 23279: ';' expected after '\"'\n",
      "Skipping line 23280: ';' expected after '\"'\n",
      "Skipping line 23334: ';' expected after '\"'\n",
      "Skipping line 24063: ';' expected after '\"'\n",
      "Skipping line 24665: ';' expected after '\"'\n",
      "Skipping line 24666: ';' expected after '\"'\n",
      "Skipping line 24667: ';' expected after '\"'\n",
      "Skipping line 24668: ';' expected after '\"'\n",
      "Skipping line 24669: ';' expected after '\"'\n",
      "Skipping line 24670: ';' expected after '\"'\n",
      "Skipping line 24671: ';' expected after '\"'\n",
      "Skipping line 24672: ';' expected after '\"'\n",
      "Skipping line 24673: ';' expected after '\"'\n",
      "Skipping line 25668: ';' expected after '\"'\n",
      "Skipping line 26093: ';' expected after '\"'\n",
      "Skipping line 27013: ';' expected after '\"'\n",
      "Skipping line 27014: ';' expected after '\"'\n",
      "Skipping line 27015: ';' expected after '\"'\n",
      "Skipping line 27016: ';' expected after '\"'\n",
      "Skipping line 27309: ';' expected after '\"'\n",
      "Skipping line 27609: ';' expected after '\"'\n",
      "Skipping line 27822: ';' expected after '\"'\n",
      "Skipping line 27856: ';' expected after '\"'\n",
      "Skipping line 27933: ';' expected after '\"'\n",
      "Skipping line 27943: ';' expected after '\"'\n",
      "Skipping line 27952: ';' expected after '\"'\n",
      "Skipping line 27953: ';' expected after '\"'\n",
      "Skipping line 28008: ';' expected after '\"'\n",
      "Skipping line 29336: ';' expected after '\"'\n",
      "Skipping line 29337: ';' expected after '\"'\n",
      "Skipping line 29338: ';' expected after '\"'\n",
      "Skipping line 29339: ';' expected after '\"'\n",
      "Skipping line 29340: ';' expected after '\"'\n",
      "Skipping line 29341: ';' expected after '\"'\n",
      "Skipping line 29342: ';' expected after '\"'\n",
      "Skipping line 29343: ';' expected after '\"'\n",
      "Skipping line 29344: ';' expected after '\"'\n",
      "Skipping line 29345: ';' expected after '\"'\n",
      "Skipping line 30341: ';' expected after '\"'\n",
      "Skipping line 30769: ';' expected after '\"'\n",
      "Skipping line 31657: ';' expected after '\"'\n",
      "Skipping line 31658: ';' expected after '\"'\n",
      "Skipping line 31659: ';' expected after '\"'\n",
      "Skipping line 31883: ';' expected after '\"'\n",
      "Skipping line 32046: ';' expected after '\"'\n",
      "Skipping line 32264: ';' expected after '\"'\n",
      "Skipping line 32421: ';' expected after '\"'\n",
      "Skipping line 32504: ';' expected after '\"'\n",
      "Skipping line 32512: ';' expected after '\"'\n",
      "Skipping line 32605: ';' expected after '\"'\n",
      "Skipping line 32615: ';' expected after '\"'\n",
      "Skipping line 32616: ';' expected after '\"'\n",
      "Skipping line 32666: ';' expected after '\"'\n",
      "Skipping line 33935: ';' expected after '\"'\n",
      "Skipping line 33936: ';' expected after '\"'\n",
      "Skipping line 33937: ';' expected after '\"'\n",
      "Skipping line 33938: ';' expected after '\"'\n",
      "Skipping line 33939: ';' expected after '\"'\n",
      "Skipping line 33940: ';' expected after '\"'\n",
      "Skipping line 33941: ';' expected after '\"'\n",
      "Skipping line 33942: ';' expected after '\"'\n",
      "Skipping line 34915: ';' expected after '\"'\n",
      "Skipping line 35324: ';' expected after '\"'\n",
      "Skipping line 36149: ';' expected after '\"'\n",
      "Skipping line 36150: ';' expected after '\"'\n",
      "Skipping line 36151: ';' expected after '\"'\n",
      "Skipping line 36366: ';' expected after '\"'\n",
      "Skipping line 36437: ';' expected after '\"'\n",
      "Skipping line 36534: ';' expected after '\"'\n",
      "Skipping line 36740: ';' expected after '\"'\n",
      "Skipping line 36895: ';' expected after '\"'\n",
      "Skipping line 36988: ';' expected after '\"'\n",
      "Skipping line 37067: ';' expected after '\"'\n",
      "Skipping line 37069: ';' expected after '\"'\n",
      "Skipping line 37078: ';' expected after '\"'\n",
      "Skipping line 37079: ';' expected after '\"'\n",
      "Skipping line 37124: ';' expected after '\"'\n",
      "Skipping line 39418: ';' expected after '\"'\n",
      "Skipping line 39840: ';' expected after '\"'\n",
      "Skipping line 40706: ';' expected after '\"'\n",
      "Skipping line 40707: ';' expected after '\"'\n",
      "Skipping line 40708: ';' expected after '\"'\n",
      "Skipping line 40925: ';' expected after '\"'\n",
      "Skipping line 41104: ';' expected after '\"'\n",
      "Skipping line 41298: ';' expected after '\"'\n",
      "Skipping line 41455: ';' expected after '\"'\n",
      "Skipping line 41533: ';' expected after '\"'\n",
      "Skipping line 41538: ';' expected after '\"'\n",
      "Skipping line 41623: ';' expected after '\"'\n",
      "Skipping line 41630: ';' expected after '\"'\n",
      "Skipping line 41631: ';' expected after '\"'\n",
      "Skipping line 41636: ';' expected after '\"'\n",
      "Skipping line 41680: ';' expected after '\"'\n",
      "Skipping line 43987: ';' expected after '\"'\n",
      "Skipping line 44397: ';' expected after '\"'\n",
      "Skipping line 45291: ';' expected after '\"'\n",
      "Skipping line 45292: ';' expected after '\"'\n",
      "Skipping line 45293: ';' expected after '\"'\n",
      "Skipping line 45674: ';' expected after '\"'\n",
      "Skipping line 46024: ';' expected after '\"'\n",
      "Skipping line 46112: ';' expected after '\"'\n",
      "Skipping line 46117: ';' expected after '\"'\n",
      "Skipping line 46219: ';' expected after '\"'\n",
      "Skipping line 46220: ';' expected after '\"'\n",
      "Skipping line 46273: ';' expected after '\"'\n",
      "Skipping line 48518: ';' expected after '\"'\n",
      "Skipping line 49768: ';' expected after '\"'\n",
      "Skipping line 49769: ';' expected after '\"'\n",
      "Skipping line 49770: ';' expected after '\"'\n",
      "Skipping line 50150: ';' expected after '\"'\n",
      "Skipping line 50485: ';' expected after '\"'\n",
      "Skipping line 50565: ';' expected after '\"'\n",
      "Skipping line 50571: ';' expected after '\"'\n",
      "Skipping line 50659: ';' expected after '\"'\n",
      "Skipping line 50679: ';' expected after '\"'\n",
      "Skipping line 50680: ';' expected after '\"'\n",
      "Skipping line 50726: ';' expected after '\"'\n"
     ]
    }
   ],
   "source": [
    "pl0 = pd.read_csv(\"../Kraftwerksliste_2020.csv\", error_bad_lines=False, engine=\"python\", encoding=\"latin1\", sep=\";\", skiprows=9)\n",
    "prtr = pd.read_csv(\"../data/2019-11-25_PRTR-Deutschland_Freisetzungen.csv\", error_bad_lines=False, engine=\"python\", encoding=\"latin1\", sep=\";\", skiprows=0)\n",
    "#pl0 = pd.read_csv(\"Kraftwerksliste_CSV.csv\", error_bad_lines=False, engine=\"python\")\n",
    "bm = pd.read_csv(\"block_plant_mapper.csv\", error_bad_lines=False, engine=\"python\")"
   ]
  },
  {
   "cell_type": "code",
   "execution_count": 125,
   "metadata": {},
   "outputs": [],
   "source": [
    "bm['plantid'] = bm['plantid'].apply(lambda x: str(x).replace('/', '_'))"
   ]
  },
  {
   "cell_type": "code",
   "execution_count": 126,
   "metadata": {},
   "outputs": [
    {
     "data": {
      "text/html": [
       "<div>\n",
       "<style scoped>\n",
       "    .dataframe tbody tr th:only-of-type {\n",
       "        vertical-align: middle;\n",
       "    }\n",
       "\n",
       "    .dataframe tbody tr th {\n",
       "        vertical-align: top;\n",
       "    }\n",
       "\n",
       "    .dataframe thead th {\n",
       "        text-align: right;\n",
       "    }\n",
       "</style>\n",
       "<table border=\"1\" class=\"dataframe\">\n",
       "  <thead>\n",
       "    <tr style=\"text-align: right;\">\n",
       "      <th></th>\n",
       "      <th>plantid</th>\n",
       "      <th>blockid</th>\n",
       "    </tr>\n",
       "  </thead>\n",
       "  <tbody>\n",
       "    <tr>\n",
       "      <th>572</th>\n",
       "      <td>06-04-11_2001178_8_0</td>\n",
       "      <td>BNA0140</td>\n",
       "    </tr>\n",
       "    <tr>\n",
       "      <th>573</th>\n",
       "      <td>06-04-11_2001178_8_0</td>\n",
       "      <td>BNA0144</td>\n",
       "    </tr>\n",
       "    <tr>\n",
       "      <th>574</th>\n",
       "      <td>06-04-11_2001178_8_1</td>\n",
       "      <td>BNA0139</td>\n",
       "    </tr>\n",
       "    <tr>\n",
       "      <th>575</th>\n",
       "      <td>06-04-11_2001178_8_1</td>\n",
       "      <td>BNA0145</td>\n",
       "    </tr>\n",
       "    <tr>\n",
       "      <th>576</th>\n",
       "      <td>06-04-11_2001178_8_1</td>\n",
       "      <td>BNA0146</td>\n",
       "    </tr>\n",
       "    <tr>\n",
       "      <th>577</th>\n",
       "      <td>06-04-11_2001178_8_2</td>\n",
       "      <td>BNA0141</td>\n",
       "    </tr>\n",
       "    <tr>\n",
       "      <th>578</th>\n",
       "      <td>06-04-11_2001178_8_2</td>\n",
       "      <td>BNA1842</td>\n",
       "    </tr>\n",
       "    <tr>\n",
       "      <th>579</th>\n",
       "      <td>06-04-11_2001178_8_2</td>\n",
       "      <td>BNA1820</td>\n",
       "    </tr>\n",
       "    <tr>\n",
       "      <th>581</th>\n",
       "      <td>06-04-11_2039669_2_0</td>\n",
       "      <td>BNA0147</td>\n",
       "    </tr>\n",
       "  </tbody>\n",
       "</table>\n",
       "</div>"
      ],
      "text/plain": [
       "                  plantid  blockid\n",
       "572  06-04-11_2001178_8_0  BNA0140\n",
       "573  06-04-11_2001178_8_0  BNA0144\n",
       "574  06-04-11_2001178_8_1  BNA0139\n",
       "575  06-04-11_2001178_8_1  BNA0145\n",
       "576  06-04-11_2001178_8_1  BNA0146\n",
       "577  06-04-11_2001178_8_2  BNA0141\n",
       "578  06-04-11_2001178_8_2  BNA1842\n",
       "579  06-04-11_2001178_8_2  BNA1820\n",
       "581  06-04-11_2039669_2_0  BNA0147"
      ]
     },
     "execution_count": 126,
     "metadata": {},
     "output_type": "execute_result"
    }
   ],
   "source": [
    "bm.loc[bm.plantid.str.contains(\"_\")]"
   ]
  },
  {
   "cell_type": "code",
   "execution_count": 127,
   "metadata": {},
   "outputs": [
    {
     "data": {
      "text/html": [
       "<div>\n",
       "<style scoped>\n",
       "    .dataframe tbody tr th:only-of-type {\n",
       "        vertical-align: middle;\n",
       "    }\n",
       "\n",
       "    .dataframe tbody tr th {\n",
       "        vertical-align: top;\n",
       "    }\n",
       "\n",
       "    .dataframe thead th {\n",
       "        text-align: right;\n",
       "    }\n",
       "</style>\n",
       "<table border=\"1\" class=\"dataframe\">\n",
       "  <thead>\n",
       "    <tr style=\"text-align: right;\">\n",
       "      <th></th>\n",
       "      <th>jahr</th>\n",
       "      <th>geo_lat_wgs84</th>\n",
       "      <th>geo_long_wgs84</th>\n",
       "      <th>haupttaetigkeit</th>\n",
       "      <th>nace_id</th>\n",
       "      <th>jahresfracht_freisetzung</th>\n",
       "      <th>versehentliche_freisetzung</th>\n",
       "      <th>schadstoff_schwellenwert</th>\n",
       "    </tr>\n",
       "  </thead>\n",
       "  <tbody>\n",
       "    <tr>\n",
       "      <th>count</th>\n",
       "      <td>50660.000000</td>\n",
       "      <td>50641.000000</td>\n",
       "      <td>50641.000000</td>\n",
       "      <td>50660.0</td>\n",
       "      <td>50660.000000</td>\n",
       "      <td>5.066000e+04</td>\n",
       "      <td>5.036600e+04</td>\n",
       "      <td>5.063800e+04</td>\n",
       "    </tr>\n",
       "    <tr>\n",
       "      <th>mean</th>\n",
       "      <td>2011.942578</td>\n",
       "      <td>51.098703</td>\n",
       "      <td>9.468514</td>\n",
       "      <td>1.0</td>\n",
       "      <td>2630.908133</td>\n",
       "      <td>1.015176e+08</td>\n",
       "      <td>1.275358e+03</td>\n",
       "      <td>8.957339e+06</td>\n",
       "    </tr>\n",
       "    <tr>\n",
       "      <th>std</th>\n",
       "      <td>3.163675</td>\n",
       "      <td>1.560206</td>\n",
       "      <td>2.280615</td>\n",
       "      <td>0.0</td>\n",
       "      <td>1296.763830</td>\n",
       "      <td>9.187151e+08</td>\n",
       "      <td>1.148536e+05</td>\n",
       "      <td>2.839353e+07</td>\n",
       "    </tr>\n",
       "    <tr>\n",
       "      <th>min</th>\n",
       "      <td>2007.000000</td>\n",
       "      <td>47.547507</td>\n",
       "      <td>6.089509</td>\n",
       "      <td>1.0</td>\n",
       "      <td>123.000000</td>\n",
       "      <td>1.010000e-04</td>\n",
       "      <td>0.000000e+00</td>\n",
       "      <td>1.000000e-04</td>\n",
       "    </tr>\n",
       "    <tr>\n",
       "      <th>25%</th>\n",
       "      <td>2009.000000</td>\n",
       "      <td>50.002669</td>\n",
       "      <td>7.416637</td>\n",
       "      <td>1.0</td>\n",
       "      <td>2013.000000</td>\n",
       "      <td>3.907500e+02</td>\n",
       "      <td>0.000000e+00</td>\n",
       "      <td>1.000000e+02</td>\n",
       "    </tr>\n",
       "    <tr>\n",
       "      <th>50%</th>\n",
       "      <td>2012.000000</td>\n",
       "      <td>51.378907</td>\n",
       "      <td>8.976796</td>\n",
       "      <td>1.0</td>\n",
       "      <td>3511.000000</td>\n",
       "      <td>2.710000e+04</td>\n",
       "      <td>0.000000e+00</td>\n",
       "      <td>1.000000e+04</td>\n",
       "    </tr>\n",
       "    <tr>\n",
       "      <th>75%</th>\n",
       "      <td>2015.000000</td>\n",
       "      <td>52.154765</td>\n",
       "      <td>11.491190</td>\n",
       "      <td>1.0</td>\n",
       "      <td>3700.000000</td>\n",
       "      <td>3.180000e+05</td>\n",
       "      <td>0.000000e+00</td>\n",
       "      <td>1.000000e+05</td>\n",
       "    </tr>\n",
       "    <tr>\n",
       "      <th>max</th>\n",
       "      <td>2017.000000</td>\n",
       "      <td>54.813533</td>\n",
       "      <td>15.000934</td>\n",
       "      <td>1.0</td>\n",
       "      <td>9609.000000</td>\n",
       "      <td>3.330000e+10</td>\n",
       "      <td>2.450000e+07</td>\n",
       "      <td>1.000000e+08</td>\n",
       "    </tr>\n",
       "  </tbody>\n",
       "</table>\n",
       "</div>"
      ],
      "text/plain": [
       "               jahr  geo_lat_wgs84  geo_long_wgs84  haupttaetigkeit  \\\n",
       "count  50660.000000   50641.000000    50641.000000          50660.0   \n",
       "mean    2011.942578      51.098703        9.468514              1.0   \n",
       "std        3.163675       1.560206        2.280615              0.0   \n",
       "min     2007.000000      47.547507        6.089509              1.0   \n",
       "25%     2009.000000      50.002669        7.416637              1.0   \n",
       "50%     2012.000000      51.378907        8.976796              1.0   \n",
       "75%     2015.000000      52.154765       11.491190              1.0   \n",
       "max     2017.000000      54.813533       15.000934              1.0   \n",
       "\n",
       "            nace_id  jahresfracht_freisetzung  versehentliche_freisetzung  \\\n",
       "count  50660.000000              5.066000e+04                5.036600e+04   \n",
       "mean    2630.908133              1.015176e+08                1.275358e+03   \n",
       "std     1296.763830              9.187151e+08                1.148536e+05   \n",
       "min      123.000000              1.010000e-04                0.000000e+00   \n",
       "25%     2013.000000              3.907500e+02                0.000000e+00   \n",
       "50%     3511.000000              2.710000e+04                0.000000e+00   \n",
       "75%     3700.000000              3.180000e+05                0.000000e+00   \n",
       "max     9609.000000              3.330000e+10                2.450000e+07   \n",
       "\n",
       "       schadstoff_schwellenwert  \n",
       "count              5.063800e+04  \n",
       "mean               8.957339e+06  \n",
       "std                2.839353e+07  \n",
       "min                1.000000e-04  \n",
       "25%                1.000000e+02  \n",
       "50%                1.000000e+04  \n",
       "75%                1.000000e+05  \n",
       "max                1.000000e+08  "
      ]
     },
     "execution_count": 127,
     "metadata": {},
     "output_type": "execute_result"
    }
   ],
   "source": [
    "prtr.describe()"
   ]
  },
  {
   "cell_type": "code",
   "execution_count": 128,
   "metadata": {},
   "outputs": [],
   "source": [
    "pl0.rename(columns={ pl0.columns[10]: \"Energieträger_old\", pl0.columns[13]: \"Energieträger\"}, inplace=True)"
   ]
  },
  {
   "cell_type": "code",
   "execution_count": 129,
   "metadata": {},
   "outputs": [],
   "source": [
    "#pl0"
   ]
  },
  {
   "cell_type": "code",
   "execution_count": 130,
   "metadata": {},
   "outputs": [],
   "source": [
    "#bm"
   ]
  },
  {
   "cell_type": "code",
   "execution_count": 131,
   "metadata": {},
   "outputs": [],
   "source": [
    "#pl0.groupby(\"Energieträger\").count()"
   ]
  },
  {
   "cell_type": "code",
   "execution_count": 132,
   "metadata": {},
   "outputs": [],
   "source": [
    "#bm\n",
    "pl1 = pl0.loc[np.logical_or(pl0.Energieträger == \"Kernenergie\", np.logical_or(pl0.Energieträger == \"Erdgas\", np.logical_or(pl0.Energieträger == \"Steinkohle\", np.logical_or(pl0.Energieträger == \"Braunkohle\", pl0.Energieträger == \"Mineralölprodukte\")))), :]"
   ]
  },
  {
   "cell_type": "code",
   "execution_count": 133,
   "metadata": {},
   "outputs": [],
   "source": [
    "plt = pl1.dropna(subset=[\"Kraftwerksnummer Bundesnetzagentur\"])"
   ]
  },
  {
   "cell_type": "code",
   "execution_count": 134,
   "metadata": {},
   "outputs": [],
   "source": [
    "plt = plt.astype({\"Energieträger\": 'category'})"
   ]
  },
  {
   "cell_type": "code",
   "execution_count": 135,
   "metadata": {},
   "outputs": [],
   "source": [
    "#plt[\"Energieträger\"] = plt[\"Energieträger\"].astype('category')\n",
    "#plt[\"Energieträger\"] = plt[\"Energieträger\"].cat.set_categories([\"Kernenergie\", \"Braunkohle\", \"Steinkohle\", \"Erdgas\", \"Mineralölprodukte\"], ordered=True)"
   ]
  },
  {
   "cell_type": "code",
   "execution_count": 136,
   "metadata": {},
   "outputs": [],
   "source": [
    "#plt[\"Energieträger\"] = plt[\"Energieträger\"].astype('category')"
   ]
  },
  {
   "cell_type": "code",
   "execution_count": 137,
   "metadata": {},
   "outputs": [],
   "source": [
    "#plt.groupby('Energieträger').count()"
   ]
  },
  {
   "cell_type": "code",
   "execution_count": 138,
   "metadata": {},
   "outputs": [],
   "source": [
    "pl2 = plt.loc[:]"
   ]
  },
  {
   "cell_type": "code",
   "execution_count": 139,
   "metadata": {},
   "outputs": [],
   "source": [
    "#pl2.groupby(\"Energieträger\").count()"
   ]
  },
  {
   "cell_type": "code",
   "execution_count": 140,
   "metadata": {},
   "outputs": [],
   "source": [
    "# plt.dtypes"
   ]
  },
  {
   "cell_type": "code",
   "execution_count": 141,
   "metadata": {},
   "outputs": [],
   "source": [
    "pl2 = plt.rename(columns={ pl1.columns[0]: \"blockid\", pl1.columns[3]: \"PLZ\", pl1.columns[4]: \"Ort\", pl1.columns[8]: \"Inbetriebnahme\", pl1.columns[9]: \"Status\", pl1.columns[15]: \"KWK\", pl1.columns[16]: \"Nettoleistung\"})\n",
    "#pl3 = pl2.rename(columns={ pl1.columns[1]: \"BlockID\" })"
   ]
  },
  {
   "cell_type": "code",
   "execution_count": 142,
   "metadata": {},
   "outputs": [],
   "source": [
    "def to_year(x):\n",
    "    if type(x) == type(4):\n",
    "        return x\n",
    "    elif type(x) == type(2.5):\n",
    "        return 0 # handle nans\n",
    "    return int(x[-4:])"
   ]
  },
  {
   "cell_type": "code",
   "execution_count": 143,
   "metadata": {},
   "outputs": [],
   "source": [
    "#blocks.loc[blocks.Energieträger == \"Kernenergie\"]"
   ]
  },
  {
   "cell_type": "code",
   "execution_count": 144,
   "metadata": {},
   "outputs": [],
   "source": [
    "pl2['Nettoleistung'] = pl2['Nettoleistung'].str.replace('.','')\n",
    "pl2['Nettoleistung'] = pl2['Nettoleistung'].str.replace(',','.')\n",
    "pl2.loc[pl2.blockid == 'BNA0861a', 'Inbetriebnahme'] = 2012\n",
    "pl2.loc[pl2.blockid == 'BNA1334', 'Inbetriebnahme'] = 2002\n",
    "pl2.loc[pl2.blockid == 'BNA1141', 'Inbetriebnahme'] = 1970\n",
    "pl2.loc[pl2.blockid == 'BNA0418', 'Inbetriebnahme'] = 2013\n",
    "pl2.loc[pl2.blockid == 'BNA1499', 'Inbetriebnahme'] = 1951\n",
    "pl2.loc[pl2.blockid == 'BNA1502', 'Inbetriebnahme'] = 2013\n",
    "pl2.loc[pl2.blockid == 'BNA1500', 'Inbetriebnahme'] = 1990\n",
    "pl2.loc[pl2.blockid == 'BNA1498', 'Inbetriebnahme'] = 1953\n",
    "pl2.loc[pl2.blockid == 'BNA1260', 'Inbetriebnahme'] = 2013\n",
    "pl2.loc[pl2.blockid == 'BNA1056', 'Inbetriebnahme'] = 2006\n",
    "\n",
    "\n",
    "#pl2['Nettoleistung'] = pl2['Nettoleistung'].str.replace('\\n','')\n",
    "#pl2['Nettoleistung'] = pl2[pd.to_numeric(pl2[\"Nettoleistung\"])]\n",
    "#pl2['Nettoleistung'] = pl2['Nettoleistung'].str.replace(';','.')"
   ]
  },
  {
   "cell_type": "code",
   "execution_count": 145,
   "metadata": {},
   "outputs": [],
   "source": [
    "#pl2[] = pl2[pd.to_numeric(pl2[\"Nettoleistung\"])]\n",
    "pl2['Inbetriebnahme'] = pl2['Inbetriebnahme'].apply(to_year)\n",
    "pl2['Nettoleistung'] = pl2['Nettoleistung'].apply(pd.to_numeric)"
   ]
  },
  {
   "cell_type": "code",
   "execution_count": 146,
   "metadata": {},
   "outputs": [],
   "source": [
    "#bm[pl2.duplicated(['BlockID'], keep=False)].sort_values(\"BlockID\", ascending=False)"
   ]
  },
  {
   "cell_type": "code",
   "execution_count": 147,
   "metadata": {},
   "outputs": [],
   "source": [
    "#pl2[pl2.duplicated(['blockid'], keep=False)].sort_values(\"blockid\", ascending=False)"
   ]
  },
  {
   "cell_type": "code",
   "execution_count": 148,
   "metadata": {},
   "outputs": [],
   "source": [
    "cols = [10, 11,12,14,17,18,19]\n",
    "pl3 = pl2.drop(pl2.columns[cols],axis=1)"
   ]
  },
  {
   "cell_type": "code",
   "execution_count": 149,
   "metadata": {},
   "outputs": [],
   "source": [
    "#pl3.groupby('Unternehmen').max()"
   ]
  },
  {
   "cell_type": "code",
   "execution_count": 150,
   "metadata": {},
   "outputs": [],
   "source": [
    "pl4 = pl3.copy()"
   ]
  },
  {
   "cell_type": "code",
   "execution_count": 151,
   "metadata": {},
   "outputs": [],
   "source": [
    "def fix_company(company):\n",
    "    #print(company)\n",
    "    company_dict = {\"RWE\": \"RWE AG\", \"Vattenfall\": \"Vattenfall GmbH\", \"Uniper\": \"Uniper SE\", \"EnBW\": \"EnBW AG\", \"Steag\": \"Steag GmbH\", \"Nordzucker\": \"Nordzucker AG\", \"Lausitz Energie\": \"LEAG\"}\n",
    "    for key, value in company_dict.items():\n",
    "        if key in str(company):\n",
    "            return value\n",
    "    return company"
   ]
  },
  {
   "cell_type": "code",
   "execution_count": 152,
   "metadata": {},
   "outputs": [],
   "source": [
    "z = \"Endgültig Stillgelegt 2015\""
   ]
  },
  {
   "cell_type": "code",
   "execution_count": 153,
   "metadata": {},
   "outputs": [],
   "source": [
    "def extract_still(x):\n",
    "    match = re.findall(\"[0-9]{4}\",x)\n",
    "    return match[0] if match else np.nan"
   ]
  },
  {
   "cell_type": "code",
   "execution_count": 154,
   "metadata": {},
   "outputs": [],
   "source": [
    "def extract_state(state):\n",
    "    if state == \"In Betrieb\":\n",
    "        return \"in Betrieb\"\n",
    "    elif \"Endgültig Stillgelegt\" in state:\n",
    "        return \"stillgelegt\"\n",
    "    elif \"Vorläufig Stillgelegt\" in state:\n",
    "        return \"vorläufig stillgelegt\"\n",
    "    else:\n",
    "        return state"
   ]
  },
  {
   "cell_type": "code",
   "execution_count": 155,
   "metadata": {},
   "outputs": [
    {
     "data": {
      "text/plain": [
       "'stillgelegt'"
      ]
     },
     "execution_count": 155,
     "metadata": {},
     "output_type": "execute_result"
    }
   ],
   "source": [
    "extract_state(z)"
   ]
  },
  {
   "cell_type": "code",
   "execution_count": 156,
   "metadata": {},
   "outputs": [],
   "source": [
    "def fix_kwk(x):\n",
    "    return \"Nein\" if x == \"nein\" else \"Ja\" if x == \"ja\" else x"
   ]
  },
  {
   "cell_type": "code",
   "execution_count": 157,
   "metadata": {},
   "outputs": [],
   "source": [
    "#pl4 = pl3.ap"
   ]
  },
  {
   "cell_type": "code",
   "execution_count": 158,
   "metadata": {},
   "outputs": [],
   "source": [
    "pl4['Unternehmen'] = pl4['Unternehmen'].apply(lambda x: fix_company(x))\n",
    "pl4['Stilllegung'] = pl4['Status'].apply(lambda x: extract_still(x))\n",
    "pl4['Status'] = pl4['Status'].apply(lambda x: extract_state(x))\n",
    "pl4['KWK'] = pl4['KWK'].apply(lambda x: fix_kwk(x))"
   ]
  },
  {
   "cell_type": "code",
   "execution_count": 159,
   "metadata": {},
   "outputs": [],
   "source": [
    "newdf = pl4.copy()"
   ]
  },
  {
   "cell_type": "code",
   "execution_count": 160,
   "metadata": {},
   "outputs": [
    {
     "data": {
      "text/plain": [
       "blockid                                         object\n",
       "Unternehmen                                     object\n",
       "Kraftwerksname                                  object\n",
       "PLZ                                             object\n",
       "Ort                                             object\n",
       "Straße und Hausnummer (Standort Kraftwerk)      object\n",
       "Bundesland                                      object\n",
       "Blockname                                       object\n",
       "Inbetriebnahme                                   int64\n",
       "Status                                          object\n",
       "Energieträger                                 category\n",
       "KWK                                             object\n",
       "Nettoleistung                                  float64\n",
       "Stilllegung                                     object\n",
       "dtype: object"
      ]
     },
     "execution_count": 160,
     "metadata": {},
     "output_type": "execute_result"
    }
   ],
   "source": [
    "newdf.dtypes"
   ]
  },
  {
   "cell_type": "code",
   "execution_count": 161,
   "metadata": {},
   "outputs": [],
   "source": [
    "newdf[\"Status\"] = newdf[\"Status\"].astype('category')\n",
    "newdf[\"Status\"] = newdf[\"Status\"].cat.set_categories(['in Betrieb', 'Gesetzlich an Stilllegung gehindert', 'Netzreserve',  'Sicherheitsbereitschaft', 'Sonderfall', 'vorläufig stillgelegt', 'stillgelegt'], ordered=True)"
   ]
  },
  {
   "cell_type": "code",
   "execution_count": 162,
   "metadata": {},
   "outputs": [],
   "source": [
    "newdf[\"KWK\"] = newdf[\"KWK\"].astype('category')\n",
    "newdf[\"KWK\"] = newdf[\"KWK\"].cat.set_categories(['Ja', 'Nein'], ordered=True)"
   ]
  },
  {
   "cell_type": "code",
   "execution_count": 163,
   "metadata": {},
   "outputs": [],
   "source": [
    "atest = newdf.groupby(\"KWK\")"
   ]
  },
  {
   "cell_type": "code",
   "execution_count": 164,
   "metadata": {},
   "outputs": [
    {
     "data": {
      "text/html": [
       "<div>\n",
       "<style scoped>\n",
       "    .dataframe tbody tr th:only-of-type {\n",
       "        vertical-align: middle;\n",
       "    }\n",
       "\n",
       "    .dataframe tbody tr th {\n",
       "        vertical-align: top;\n",
       "    }\n",
       "\n",
       "    .dataframe thead th {\n",
       "        text-align: right;\n",
       "    }\n",
       "</style>\n",
       "<table border=\"1\" class=\"dataframe\">\n",
       "  <thead>\n",
       "    <tr style=\"text-align: right;\">\n",
       "      <th></th>\n",
       "      <th>blockid</th>\n",
       "      <th>Unternehmen</th>\n",
       "      <th>Kraftwerksname</th>\n",
       "      <th>PLZ</th>\n",
       "      <th>Ort</th>\n",
       "      <th>Straße und Hausnummer (Standort Kraftwerk)</th>\n",
       "      <th>Bundesland</th>\n",
       "      <th>Blockname</th>\n",
       "      <th>Inbetriebnahme</th>\n",
       "      <th>Status</th>\n",
       "      <th>KWK</th>\n",
       "      <th>Nettoleistung</th>\n",
       "      <th>Stilllegung</th>\n",
       "    </tr>\n",
       "    <tr>\n",
       "      <th>Energieträger</th>\n",
       "      <th></th>\n",
       "      <th></th>\n",
       "      <th></th>\n",
       "      <th></th>\n",
       "      <th></th>\n",
       "      <th></th>\n",
       "      <th></th>\n",
       "      <th></th>\n",
       "      <th></th>\n",
       "      <th></th>\n",
       "      <th></th>\n",
       "      <th></th>\n",
       "      <th></th>\n",
       "    </tr>\n",
       "  </thead>\n",
       "  <tbody>\n",
       "    <tr>\n",
       "      <th>Braunkohle</th>\n",
       "      <td>77</td>\n",
       "      <td>77</td>\n",
       "      <td>76</td>\n",
       "      <td>77</td>\n",
       "      <td>77</td>\n",
       "      <td>26</td>\n",
       "      <td>77</td>\n",
       "      <td>69</td>\n",
       "      <td>77</td>\n",
       "      <td>77</td>\n",
       "      <td>77</td>\n",
       "      <td>77</td>\n",
       "      <td>17</td>\n",
       "    </tr>\n",
       "    <tr>\n",
       "      <th>Erdgas</th>\n",
       "      <td>315</td>\n",
       "      <td>312</td>\n",
       "      <td>304</td>\n",
       "      <td>315</td>\n",
       "      <td>315</td>\n",
       "      <td>172</td>\n",
       "      <td>315</td>\n",
       "      <td>216</td>\n",
       "      <td>315</td>\n",
       "      <td>312</td>\n",
       "      <td>315</td>\n",
       "      <td>315</td>\n",
       "      <td>35</td>\n",
       "    </tr>\n",
       "    <tr>\n",
       "      <th>Kernenergie</th>\n",
       "      <td>9</td>\n",
       "      <td>9</td>\n",
       "      <td>9</td>\n",
       "      <td>9</td>\n",
       "      <td>9</td>\n",
       "      <td>2</td>\n",
       "      <td>9</td>\n",
       "      <td>9</td>\n",
       "      <td>9</td>\n",
       "      <td>9</td>\n",
       "      <td>9</td>\n",
       "      <td>9</td>\n",
       "      <td>3</td>\n",
       "    </tr>\n",
       "    <tr>\n",
       "      <th>Mineralölprodukte</th>\n",
       "      <td>56</td>\n",
       "      <td>56</td>\n",
       "      <td>56</td>\n",
       "      <td>56</td>\n",
       "      <td>56</td>\n",
       "      <td>30</td>\n",
       "      <td>56</td>\n",
       "      <td>47</td>\n",
       "      <td>56</td>\n",
       "      <td>51</td>\n",
       "      <td>55</td>\n",
       "      <td>56</td>\n",
       "      <td>10</td>\n",
       "    </tr>\n",
       "    <tr>\n",
       "      <th>Steinkohle</th>\n",
       "      <td>120</td>\n",
       "      <td>120</td>\n",
       "      <td>119</td>\n",
       "      <td>120</td>\n",
       "      <td>120</td>\n",
       "      <td>75</td>\n",
       "      <td>120</td>\n",
       "      <td>107</td>\n",
       "      <td>120</td>\n",
       "      <td>112</td>\n",
       "      <td>119</td>\n",
       "      <td>120</td>\n",
       "      <td>43</td>\n",
       "    </tr>\n",
       "  </tbody>\n",
       "</table>\n",
       "</div>"
      ],
      "text/plain": [
       "                   blockid  Unternehmen  Kraftwerksname  PLZ  Ort  \\\n",
       "Energieträger                                                       \n",
       "Braunkohle              77           77              76   77   77   \n",
       "Erdgas                 315          312             304  315  315   \n",
       "Kernenergie              9            9               9    9    9   \n",
       "Mineralölprodukte       56           56              56   56   56   \n",
       "Steinkohle             120          120             119  120  120   \n",
       "\n",
       "                   Straße und Hausnummer (Standort Kraftwerk)  Bundesland  \\\n",
       "Energieträger                                                               \n",
       "Braunkohle                                                 26          77   \n",
       "Erdgas                                                    172         315   \n",
       "Kernenergie                                                 2           9   \n",
       "Mineralölprodukte                                          30          56   \n",
       "Steinkohle                                                 75         120   \n",
       "\n",
       "                   Blockname  Inbetriebnahme  Status  KWK  Nettoleistung  \\\n",
       "Energieträger                                                              \n",
       "Braunkohle                69              77      77   77             77   \n",
       "Erdgas                   216             315     312  315            315   \n",
       "Kernenergie                9               9       9    9              9   \n",
       "Mineralölprodukte         47              56      51   55             56   \n",
       "Steinkohle               107             120     112  119            120   \n",
       "\n",
       "                   Stilllegung  \n",
       "Energieträger                   \n",
       "Braunkohle                  17  \n",
       "Erdgas                      35  \n",
       "Kernenergie                  3  \n",
       "Mineralölprodukte           10  \n",
       "Steinkohle                  43  "
      ]
     },
     "execution_count": 164,
     "metadata": {},
     "output_type": "execute_result"
    }
   ],
   "source": [
    "newdf.groupby(\"Energieträger\").count()"
   ]
  },
  {
   "cell_type": "code",
   "execution_count": 165,
   "metadata": {},
   "outputs": [
    {
     "data": {
      "text/html": [
       "<div>\n",
       "<style scoped>\n",
       "    .dataframe tbody tr th:only-of-type {\n",
       "        vertical-align: middle;\n",
       "    }\n",
       "\n",
       "    .dataframe tbody tr th {\n",
       "        vertical-align: top;\n",
       "    }\n",
       "\n",
       "    .dataframe thead th {\n",
       "        text-align: right;\n",
       "    }\n",
       "</style>\n",
       "<table border=\"1\" class=\"dataframe\">\n",
       "  <thead>\n",
       "    <tr style=\"text-align: right;\">\n",
       "      <th></th>\n",
       "      <th>blockid</th>\n",
       "      <th>Unternehmen</th>\n",
       "      <th>Kraftwerksname</th>\n",
       "      <th>PLZ</th>\n",
       "      <th>Ort</th>\n",
       "      <th>Straße und Hausnummer (Standort Kraftwerk)</th>\n",
       "      <th>Bundesland</th>\n",
       "      <th>Blockname</th>\n",
       "      <th>Inbetriebnahme</th>\n",
       "      <th>Status</th>\n",
       "      <th>Energieträger</th>\n",
       "      <th>Nettoleistung</th>\n",
       "      <th>Stilllegung</th>\n",
       "    </tr>\n",
       "    <tr>\n",
       "      <th>KWK</th>\n",
       "      <th></th>\n",
       "      <th></th>\n",
       "      <th></th>\n",
       "      <th></th>\n",
       "      <th></th>\n",
       "      <th></th>\n",
       "      <th></th>\n",
       "      <th></th>\n",
       "      <th></th>\n",
       "      <th></th>\n",
       "      <th></th>\n",
       "      <th></th>\n",
       "      <th></th>\n",
       "    </tr>\n",
       "  </thead>\n",
       "  <tbody>\n",
       "    <tr>\n",
       "      <th>Ja</th>\n",
       "      <td>410</td>\n",
       "      <td>407</td>\n",
       "      <td>397</td>\n",
       "      <td>410</td>\n",
       "      <td>410</td>\n",
       "      <td>243</td>\n",
       "      <td>410</td>\n",
       "      <td>297</td>\n",
       "      <td>410</td>\n",
       "      <td>406</td>\n",
       "      <td>410</td>\n",
       "      <td>410</td>\n",
       "      <td>55</td>\n",
       "    </tr>\n",
       "    <tr>\n",
       "      <th>Nein</th>\n",
       "      <td>165</td>\n",
       "      <td>165</td>\n",
       "      <td>165</td>\n",
       "      <td>165</td>\n",
       "      <td>165</td>\n",
       "      <td>61</td>\n",
       "      <td>165</td>\n",
       "      <td>149</td>\n",
       "      <td>165</td>\n",
       "      <td>153</td>\n",
       "      <td>165</td>\n",
       "      <td>165</td>\n",
       "      <td>52</td>\n",
       "    </tr>\n",
       "  </tbody>\n",
       "</table>\n",
       "</div>"
      ],
      "text/plain": [
       "      blockid  Unternehmen  Kraftwerksname  PLZ  Ort  \\\n",
       "KWK                                                    \n",
       "Ja        410          407             397  410  410   \n",
       "Nein      165          165             165  165  165   \n",
       "\n",
       "      Straße und Hausnummer (Standort Kraftwerk)  Bundesland  Blockname  \\\n",
       "KWK                                                                       \n",
       "Ja                                           243         410        297   \n",
       "Nein                                          61         165        149   \n",
       "\n",
       "      Inbetriebnahme  Status  Energieträger  Nettoleistung  Stilllegung  \n",
       "KWK                                                                      \n",
       "Ja               410     406            410            410           55  \n",
       "Nein             165     153            165            165           52  "
      ]
     },
     "execution_count": 165,
     "metadata": {},
     "output_type": "execute_result"
    }
   ],
   "source": [
    "atest.count()"
   ]
  },
  {
   "cell_type": "code",
   "execution_count": 166,
   "metadata": {},
   "outputs": [],
   "source": [
    "pl3 = newdf"
   ]
  },
  {
   "cell_type": "code",
   "execution_count": 167,
   "metadata": {},
   "outputs": [],
   "source": [
    "atest = newdf.groupby([\"Unternehmen\"]).count()\n",
    "atest.sort_values(\"Inbetriebnahme\", inplace=True, ascending=False)"
   ]
  },
  {
   "cell_type": "code",
   "execution_count": 168,
   "metadata": {},
   "outputs": [],
   "source": [
    "#print(atest)"
   ]
  },
  {
   "cell_type": "code",
   "execution_count": 169,
   "metadata": {},
   "outputs": [],
   "source": [
    "atest = pl3.groupby([\"Status\"]).count()\n",
    "# atest"
   ]
  },
  {
   "cell_type": "code",
   "execution_count": 170,
   "metadata": {},
   "outputs": [],
   "source": [
    "# pl3.rename(columns={ pl3.columns[10]: \"Energieträger\"}, inplace=True)"
   ]
  },
  {
   "cell_type": "code",
   "execution_count": 171,
   "metadata": {},
   "outputs": [
    {
     "data": {
      "text/html": [
       "<div>\n",
       "<style scoped>\n",
       "    .dataframe tbody tr th:only-of-type {\n",
       "        vertical-align: middle;\n",
       "    }\n",
       "\n",
       "    .dataframe tbody tr th {\n",
       "        vertical-align: top;\n",
       "    }\n",
       "\n",
       "    .dataframe thead th {\n",
       "        text-align: right;\n",
       "    }\n",
       "</style>\n",
       "<table border=\"1\" class=\"dataframe\">\n",
       "  <thead>\n",
       "    <tr style=\"text-align: right;\">\n",
       "      <th></th>\n",
       "      <th>plantid</th>\n",
       "      <th>blockid</th>\n",
       "    </tr>\n",
       "  </thead>\n",
       "  <tbody>\n",
       "  </tbody>\n",
       "</table>\n",
       "</div>"
      ],
      "text/plain": [
       "Empty DataFrame\n",
       "Columns: [plantid, blockid]\n",
       "Index: []"
      ]
     },
     "execution_count": 171,
     "metadata": {},
     "output_type": "execute_result"
    }
   ],
   "source": [
    "bm[bm.duplicated(['blockid'], keep=False)].sort_values(\"blockid\", ascending=False)"
   ]
  },
  {
   "cell_type": "code",
   "execution_count": 172,
   "metadata": {},
   "outputs": [],
   "source": [
    "#bm2 = bm.drop_duplicates()"
   ]
  },
  {
   "cell_type": "code",
   "execution_count": 173,
   "metadata": {},
   "outputs": [],
   "source": [
    "pl4 = bm.merge(pl3, how=\"outer\", on=\"blockid\")"
   ]
  },
  {
   "cell_type": "code",
   "execution_count": 174,
   "metadata": {},
   "outputs": [],
   "source": [
    "#pl4[pl4.duplicated(['BlocID'], keep=False)].sort_values(\"BlockID\", ascending=False)"
   ]
  },
  {
   "cell_type": "code",
   "execution_count": 175,
   "metadata": {},
   "outputs": [],
   "source": [
    "pl5 = pl4[pd.notnull(pl4['blockid'])]\n",
    "#pl5 = pl4\n",
    "pl6 = pl5[pd.notnull(pl5['Nettoleistung'])]"
   ]
  },
  {
   "cell_type": "code",
   "execution_count": 176,
   "metadata": {},
   "outputs": [],
   "source": [
    "# pl6"
   ]
  },
  {
   "cell_type": "code",
   "execution_count": 177,
   "metadata": {},
   "outputs": [
    {
     "name": "stderr",
     "output_type": "stream",
     "text": [
      "/opt/conda/envs/idp/lib/python3.7/site-packages/ipykernel_launcher.py:1: SettingWithCopyWarning: \n",
      "A value is trying to be set on a copy of a slice from a DataFrame.\n",
      "Try using .loc[row_indexer,col_indexer] = value instead\n",
      "\n",
      "See the caveats in the documentation: http://pandas.pydata.org/pandas-docs/stable/user_guide/indexing.html#returning-a-view-versus-a-copy\n",
      "  \"\"\"Entry point for launching an IPython kernel.\n"
     ]
    }
   ],
   "source": [
    "pl6['plantid'] = pl6['plantid'].apply(lambda x: str(x).replace('/', '_'))"
   ]
  },
  {
   "cell_type": "code",
   "execution_count": 178,
   "metadata": {},
   "outputs": [],
   "source": [
    "# pl7 = pl6.replace(\"/\", \"_\")"
   ]
  },
  {
   "cell_type": "code",
   "execution_count": 179,
   "metadata": {},
   "outputs": [],
   "source": [
    "#pl7 = pl6.apply(str.replace(\"/\", \"_\"))"
   ]
  },
  {
   "cell_type": "code",
   "execution_count": 180,
   "metadata": {},
   "outputs": [],
   "source": [
    "#pl6.loc[pl6.Kraftwerksname == \"KW Mittelsbüren\"]"
   ]
  },
  {
   "cell_type": "code",
   "execution_count": 181,
   "metadata": {},
   "outputs": [
    {
     "name": "stderr",
     "output_type": "stream",
     "text": [
      "/opt/conda/envs/idp/lib/python3.7/site-packages/ipykernel_launcher.py:1: SettingWithCopyWarning: \n",
      "A value is trying to be set on a copy of a slice from a DataFrame.\n",
      "Try using .loc[row_indexer,col_indexer] = value instead\n",
      "\n",
      "See the caveats in the documentation: http://pandas.pydata.org/pandas-docs/stable/user_guide/indexing.html#returning-a-view-versus-a-copy\n",
      "  \"\"\"Entry point for launching an IPython kernel.\n"
     ]
    }
   ],
   "source": [
    "pl6['Inbetriebnahme'] = pl6['Inbetriebnahme'].apply(pd.to_numeric)"
   ]
  },
  {
   "cell_type": "code",
   "execution_count": 182,
   "metadata": {},
   "outputs": [],
   "source": [
    "blocks = pl6.copy()\n",
    "stammdaten = pl6.copy()"
   ]
  },
  {
   "cell_type": "code",
   "execution_count": 183,
   "metadata": {},
   "outputs": [],
   "source": [
    "blocks.sort_values(\"Inbetriebnahme\", inplace=True, ascending=False)\n",
    "# blocks"
   ]
  },
  {
   "cell_type": "code",
   "execution_count": 184,
   "metadata": {},
   "outputs": [],
   "source": [
    "plants = blocks.loc[:]\n",
    "plants = plants.dropna(subset=[\"plantid\"])"
   ]
  },
  {
   "cell_type": "code",
   "execution_count": 185,
   "metadata": {},
   "outputs": [],
   "source": [
    "#plants_d = plants.loc[plants.duplicated(\"KraftwerkID\", keep=False)]\n",
    "# plants_d"
   ]
  },
  {
   "cell_type": "code",
   "execution_count": 186,
   "metadata": {},
   "outputs": [],
   "source": [
    "#plants_c = plants_d.groupby([\"KraftwerkID\"]).sum()\n",
    "#plants_count = plants_d.groupby([\"KraftwerkID\"]).count()"
   ]
  },
  {
   "cell_type": "code",
   "execution_count": 187,
   "metadata": {},
   "outputs": [],
   "source": [
    "#plants_f = plants_c.reset_index()"
   ]
  },
  {
   "cell_type": "code",
   "execution_count": 188,
   "metadata": {},
   "outputs": [],
   "source": [
    "#plants_count = plants_count.loc[:, [\"blockid\"]]"
   ]
  },
  {
   "cell_type": "code",
   "execution_count": 189,
   "metadata": {},
   "outputs": [],
   "source": [
    "#plants_count = plants_count.reset_index()\n",
    "# plants_count "
   ]
  },
  {
   "cell_type": "code",
   "execution_count": 190,
   "metadata": {},
   "outputs": [],
   "source": [
    "#plants_f = plants_f.merge(plants_count, on=\"KraftwerkID\", how=\"inner\")\n",
    "# plants_f"
   ]
  },
  {
   "cell_type": "code",
   "execution_count": 191,
   "metadata": {
    "scrolled": true
   },
   "outputs": [],
   "source": [
    "#plants[plants.duplicated(['KraftwerkID'], keep=False)].sort_values(\"BlockID\", ascending=False)"
   ]
  },
  {
   "cell_type": "code",
   "execution_count": 192,
   "metadata": {},
   "outputs": [],
   "source": [
    "plants[\"Energieträger\"] = plants[\"Energieträger\"].astype('category')\n",
    "plants[\"Energieträger\"] = plants[\"Energieträger\"].cat.set_categories([\"Kernenergie\", \"Braunkohle\", \"Steinkohle\", \"Erdgas\", \"Mineralölprodukte\"], ordered=True)\n",
    "plants[\"Status\"] = plants[\"Status\"].astype('category')\n",
    "plants[\"Status\"] = plants[\"Status\"].cat.set_categories(['in Betrieb', 'Gesetzlich an Stilllegung gehindert', 'Netzreserve',  'Sicherheitsbereitschaft', 'Sonderfall', 'vorläufig stillgelegt', 'stillgelegt'], ordered=True)\n",
    "plants[\"KWK\"] = plants[\"KWK\"].astype('category')\n",
    "plants[\"KWK\"] = plants[\"KWK\"].cat.set_categories(['Ja', 'Nein'], ordered=True)\n",
    "plants[\"Bundesland\"] = plants[\"Bundesland\"].astype('category')\n",
    "plants[\"Bundesland\"] = plants[\"Bundesland\"].cat.set_categories(['Baden-Württemberg', 'Bayern', 'Berlin', 'Brandenburg', 'Bremen', 'Hamburg', 'Hessen', 'Mecklenburg-Vorpommern', 'Niedersachsen', 'Nordrhein-Westfalen', 'Rheinland-Pfalz', 'Saarland', 'Sachsen', 'Sachsen-Anhalt', 'Schleswig-Holstein', 'Thüringen'])"
   ]
  },
  {
   "cell_type": "code",
   "execution_count": 247,
   "metadata": {},
   "outputs": [],
   "source": [
    "p_grp = plants.groupby(\"plantid\")"
   ]
  },
  {
   "cell_type": "code",
   "execution_count": 248,
   "metadata": {},
   "outputs": [
    {
     "data": {
      "text/html": [
       "<div>\n",
       "<style scoped>\n",
       "    .dataframe tbody tr th:only-of-type {\n",
       "        vertical-align: middle;\n",
       "    }\n",
       "\n",
       "    .dataframe tbody tr th {\n",
       "        vertical-align: top;\n",
       "    }\n",
       "\n",
       "    .dataframe thead th {\n",
       "        text-align: right;\n",
       "    }\n",
       "</style>\n",
       "<table border=\"1\" class=\"dataframe\">\n",
       "  <thead>\n",
       "    <tr style=\"text-align: right;\">\n",
       "      <th></th>\n",
       "      <th>plantid</th>\n",
       "      <th>blockid</th>\n",
       "      <th>PLZ</th>\n",
       "      <th>Ort</th>\n",
       "      <th>Inbetriebnahme</th>\n",
       "      <th>Status</th>\n",
       "      <th>KWK</th>\n",
       "      <th>Nettoleistung</th>\n",
       "    </tr>\n",
       "    <tr>\n",
       "      <th>Energieträger</th>\n",
       "      <th></th>\n",
       "      <th></th>\n",
       "      <th></th>\n",
       "      <th></th>\n",
       "      <th></th>\n",
       "      <th></th>\n",
       "      <th></th>\n",
       "      <th></th>\n",
       "    </tr>\n",
       "  </thead>\n",
       "  <tbody>\n",
       "    <tr>\n",
       "      <th>Kernenergie</th>\n",
       "      <td>666-18</td>\n",
       "      <td>BNA0802</td>\n",
       "      <td>97506</td>\n",
       "      <td>Philippsburg</td>\n",
       "      <td>1989.0</td>\n",
       "      <td>stillgelegt</td>\n",
       "      <td>Nein</td>\n",
       "      <td>1410.0</td>\n",
       "    </tr>\n",
       "    <tr>\n",
       "      <th>Braunkohle</th>\n",
       "      <td>664-07</td>\n",
       "      <td>BNA1511a</td>\n",
       "      <td>9116</td>\n",
       "      <td>Zülpich</td>\n",
       "      <td>2014.0</td>\n",
       "      <td>stillgelegt</td>\n",
       "      <td>Nein</td>\n",
       "      <td>1060.0</td>\n",
       "    </tr>\n",
       "    <tr>\n",
       "      <th>Steinkohle</th>\n",
       "      <td>13-30-1010101</td>\n",
       "      <td>BNA1674</td>\n",
       "      <td>A-44655</td>\n",
       "      <td>Zolling</td>\n",
       "      <td>2015.0</td>\n",
       "      <td>stillgelegt</td>\n",
       "      <td>Nein</td>\n",
       "      <td>875.0</td>\n",
       "    </tr>\n",
       "    <tr>\n",
       "      <th>Erdgas</th>\n",
       "      <td>661-99</td>\n",
       "      <td>BNA1947</td>\n",
       "      <td>A-91052</td>\n",
       "      <td>Zülpich</td>\n",
       "      <td>2019.0</td>\n",
       "      <td>stillgelegt</td>\n",
       "      <td>Nein</td>\n",
       "      <td>887.0</td>\n",
       "    </tr>\n",
       "    <tr>\n",
       "      <th>Mineralölprodukte</th>\n",
       "      <td>669-01</td>\n",
       "      <td>BNA1338</td>\n",
       "      <td>94469</td>\n",
       "      <td>Zolling</td>\n",
       "      <td>2011.0</td>\n",
       "      <td>stillgelegt</td>\n",
       "      <td>Nein</td>\n",
       "      <td>415.0</td>\n",
       "    </tr>\n",
       "  </tbody>\n",
       "</table>\n",
       "</div>"
      ],
      "text/plain": [
       "                         plantid   blockid      PLZ           Ort  \\\n",
       "Energieträger                                                       \n",
       "Kernenergie               666-18   BNA0802    97506  Philippsburg   \n",
       "Braunkohle                664-07  BNA1511a     9116       Zülpich   \n",
       "Steinkohle         13-30-1010101   BNA1674  A-44655       Zolling   \n",
       "Erdgas                    661-99   BNA1947  A-91052       Zülpich   \n",
       "Mineralölprodukte         669-01   BNA1338    94469       Zolling   \n",
       "\n",
       "                   Inbetriebnahme       Status   KWK  Nettoleistung  \n",
       "Energieträger                                                        \n",
       "Kernenergie                1989.0  stillgelegt  Nein         1410.0  \n",
       "Braunkohle                 2014.0  stillgelegt  Nein         1060.0  \n",
       "Steinkohle                 2015.0  stillgelegt  Nein          875.0  \n",
       "Erdgas                     2019.0  stillgelegt  Nein          887.0  \n",
       "Mineralölprodukte          2011.0  stillgelegt  Nein          415.0  "
      ]
     },
     "execution_count": 248,
     "metadata": {},
     "output_type": "execute_result"
    }
   ],
   "source": [
    "plants.groupby(\"Energip_subgrper\").max()"
   ]
  },
  {
   "cell_type": "code",
   "execution_count": 261,
   "metadata": {},
   "outputs": [],
   "source": [
    "p_subgrp = plants.loc[plants['Status'].isin(['in Betrieb','Gesetzlich an Stilllegung gehindert'])].groupby('plantid') # TODO: add "
   ]
  },
  {
   "cell_type": "code",
   "execution_count": 264,
   "metadata": {},
   "outputs": [],
   "source": [
    "plants_act = pd.DataFrame()\n",
    "for plantid, group in p_subgrp:\n",
    "    entry = {}\n",
    "    entry[\"plantid\"] = plantid\n",
    "    entry[\"activepower\"] = group[\"Nettoleistung\"].sum()\n",
    "    plants_act = plants_act.append(entry, ignore_index=True)"
   ]
  },
  {
   "cell_type": "code",
   "execution_count": 267,
   "metadata": {},
   "outputs": [
    {
     "data": {
      "text/html": [
       "<div>\n",
       "<style scoped>\n",
       "    .dataframe tbody tr th:only-of-type {\n",
       "        vertical-align: middle;\n",
       "    }\n",
       "\n",
       "    .dataframe tbody tr th {\n",
       "        vertical-align: top;\n",
       "    }\n",
       "\n",
       "    .dataframe thead th {\n",
       "        text-align: right;\n",
       "    }\n",
       "</style>\n",
       "<table border=\"1\" class=\"dataframe\">\n",
       "  <thead>\n",
       "    <tr style=\"text-align: right;\">\n",
       "      <th></th>\n",
       "      <th>activepower</th>\n",
       "      <th>plantid</th>\n",
       "    </tr>\n",
       "  </thead>\n",
       "  <tbody>\n",
       "    <tr>\n",
       "      <th>42</th>\n",
       "      <td>3919.0</td>\n",
       "      <td>06-05-100-0248923</td>\n",
       "    </tr>\n",
       "    <tr>\n",
       "      <th>55</th>\n",
       "      <td>2812.0</td>\n",
       "      <td>06-05-300-0326774</td>\n",
       "    </tr>\n",
       "    <tr>\n",
       "      <th>171</th>\n",
       "      <td>2427.0</td>\n",
       "      <td>14-70-46630660001</td>\n",
       "    </tr>\n",
       "    <tr>\n",
       "      <th>58</th>\n",
       "      <td>2361.0</td>\n",
       "      <td>06-05-300-0877384</td>\n",
       "    </tr>\n",
       "    <tr>\n",
       "      <th>93</th>\n",
       "      <td>1958.0</td>\n",
       "      <td>06-08-2948214</td>\n",
       "    </tr>\n",
       "    <tr>\n",
       "      <th>...</th>\n",
       "      <td>...</td>\n",
       "      <td>...</td>\n",
       "    </tr>\n",
       "    <tr>\n",
       "      <th>198</th>\n",
       "      <td>9.7</td>\n",
       "      <td>661-112</td>\n",
       "    </tr>\n",
       "    <tr>\n",
       "      <th>59</th>\n",
       "      <td>9.3</td>\n",
       "      <td>06-05-300-0890760</td>\n",
       "    </tr>\n",
       "    <tr>\n",
       "      <th>45</th>\n",
       "      <td>4.8</td>\n",
       "      <td>06-05-100-0501870</td>\n",
       "    </tr>\n",
       "    <tr>\n",
       "      <th>209</th>\n",
       "      <td>4.3</td>\n",
       "      <td>661-28</td>\n",
       "    </tr>\n",
       "    <tr>\n",
       "      <th>98</th>\n",
       "      <td>4.0</td>\n",
       "      <td>06-08-4666496</td>\n",
       "    </tr>\n",
       "  </tbody>\n",
       "</table>\n",
       "<p>267 rows × 2 columns</p>\n",
       "</div>"
      ],
      "text/plain": [
       "     activepower            plantid\n",
       "42        3919.0  06-05-100-0248923\n",
       "55        2812.0  06-05-300-0326774\n",
       "171       2427.0  14-70-46630660001\n",
       "58        2361.0  06-05-300-0877384\n",
       "93        1958.0      06-08-2948214\n",
       "..           ...                ...\n",
       "198          9.7            661-112\n",
       "59           9.3  06-05-300-0890760\n",
       "45           4.8  06-05-100-0501870\n",
       "209          4.3             661-28\n",
       "98           4.0      06-08-4666496\n",
       "\n",
       "[267 rows x 2 columns]"
      ]
     },
     "execution_count": 267,
     "metadata": {},
     "output_type": "execute_result"
    }
   ],
   "source": [
    "plants_act.sort_values('activepower', ascending=False)"
   ]
  },
  {
   "cell_type": "code",
   "execution_count": null,
   "metadata": {},
   "outputs": [],
   "source": []
  },
  {
   "cell_type": "code",
   "execution_count": 253,
   "metadata": {},
   "outputs": [],
   "source": [
    "#ap = plants.loc[plants.Status == \"in Betrieb\" | plants.Status == \"Gesetzlich an Stilllegung gehindert\"]"
   ]
  },
  {
   "cell_type": "code",
   "execution_count": 195,
   "metadata": {},
   "outputs": [],
   "source": [
    "plants_a = pd.DataFrame()\n",
    "for plantid, group in p_grp:\n",
    "    #if not plantid == \"06-05-300-9046797\":\n",
    "    #    continue\n",
    "    entry = {}\n",
    "    #print(entry)\n",
    "    entry[\"plantid\"] = plantid\n",
    "    # entry[\"BlockID\"] = group\n",
    "    try:\n",
    "        entry[\"plantname\"] = group[\"Kraftwerksname\"].value_counts().index[0]\n",
    "    except IndexError:\n",
    "        entry[\"plantname\"] = np.NaN\n",
    "    entry[\"federalstate\"] = group[\"Bundesland\"].value_counts().index[0]\n",
    "    entry[\"energysource\"] = group[\"Energieträger\"].min()\n",
    "    try:\n",
    "        entry[\"chp\"] = group[\"KWK\"].min()\n",
    "    except TypeError:\n",
    "        #print(\"aneror\")\n",
    "        #print(plantid)\n",
    "        #print(group['KWK'].count())\n",
    "        entry[\"chp\"] = \"\"\n",
    "    entry[\"latestexpanded\"] = group[\"Inbetriebnahme\"].max()\n",
    "    entry[\"initialop\"] = group[\"Inbetriebnahme\"].min()\n",
    "    entry[\"totalpower\"] = group[\"Nettoleistung\"].sum()\n",
    "    entry[\"state\"] = group[\"Status\"].min()\n",
    "    entry[\"blockcount\"] = group[\"blockid\"].count()\n",
    "    try:\n",
    "        entry[\"company\"] = group[\"Unternehmen\"].value_counts().index[0]\n",
    "    except IndexError:\n",
    "        ;\n",
    "    #print(entry)\n",
    "    #break\n",
    "    plants_a = plants_a.append(entry, ignore_index=True)"
   ]
  },
  {
   "cell_type": "code",
   "execution_count": 196,
   "metadata": {},
   "outputs": [],
   "source": [
    "int_list = ['blockcount', 'initialop', 'latestexpanded']\n",
    "for column in int_list:\n",
    "    plants_a[column] = plants_a[column].astype(int)\n",
    "#plant['blockcount'] = pl2['blockcount'].apply(pd.to_numeric)\n",
    "#pl2['blockcount'] = pl2['blockcount'].apply(pd.to_numeric)\n",
    "#pl2['blockcount'] = pl2['blockcount'].apply(pd.to_numeric)\n",
    "#pl2['blockcount'] = pl2['blockcount'].apply(pd.to_numeric)"
   ]
  },
  {
   "cell_type": "code",
   "execution_count": 197,
   "metadata": {},
   "outputs": [
    {
     "data": {
      "text/plain": [
       "blockcount          int64\n",
       "chp                object\n",
       "company            object\n",
       "energysource       object\n",
       "federalstate       object\n",
       "initialop           int64\n",
       "latestexpanded      int64\n",
       "plantid            object\n",
       "plantname          object\n",
       "state              object\n",
       "totalpower        float64\n",
       "dtype: object"
      ]
     },
     "execution_count": 197,
     "metadata": {},
     "output_type": "execute_result"
    }
   ],
   "source": [
    "plants_a.dtypes"
   ]
  },
  {
   "cell_type": "code",
   "execution_count": 198,
   "metadata": {},
   "outputs": [],
   "source": [
    "plants_a[\"energysource\"] = plants_a[\"energysource\"].astype('category')\n",
    "plants_a[\"energysource\"] = plants_a[\"energysource\"].cat.set_categories([\"Kernenergie\", \"Braunkohle\", \"Steinkohle\", \"Erdgas\", \"Mineralölprodukte\"], ordered=True)\n",
    "plants_a[\"state\"] = plants_a[\"state\"].astype('category')\n",
    "plants_a[\"state\"] = plants_a[\"state\"].cat.set_categories(['in Betrieb', 'Gesetzlich an Stilllegung gehindert', 'Netzreserve',  'Sicherheitsbereitschaft', 'Sonderfall', 'vorläufig stillgelegt', 'stillgelegt'], ordered=True)\n",
    "plants_a[\"chp\"] = plants_a[\"chp\"].astype('category')\n",
    "plants_a[\"chp\"] = plants_a[\"chp\"].cat.set_categories(['Ja', 'Nein'], ordered=True)\n",
    "plants_a[\"federalstate\"] = plants_a[\"federalstate\"].astype('category')\n",
    "plants_a[\"federalstate\"] = plants_a[\"federalstate\"].cat.set_categories(['Baden-Württemberg', 'Bayern', 'Berlin', 'Brandenburg', 'Bremen', 'Hamburg', 'Hessen', 'Mecklenburg-Vorpommern', 'Niedersachsen', 'Nordrhein-Westfalen', 'Rheinland-Pfalz', 'Saarland', 'Sachsen', 'Sachsen-Anhalt', 'Schleswig-Holstein', 'Thüringen'])"
   ]
  },
  {
   "cell_type": "code",
   "execution_count": 199,
   "metadata": {},
   "outputs": [
    {
     "data": {
      "text/plain": [
       "blockcount           int64\n",
       "chp               category\n",
       "company             object\n",
       "energysource      category\n",
       "federalstate      category\n",
       "initialop            int64\n",
       "latestexpanded       int64\n",
       "plantid             object\n",
       "plantname           object\n",
       "state             category\n",
       "totalpower         float64\n",
       "dtype: object"
      ]
     },
     "execution_count": 199,
     "metadata": {},
     "output_type": "execute_result"
    }
   ],
   "source": [
    "plants_a.dtypes"
   ]
  },
  {
   "cell_type": "code",
   "execution_count": 200,
   "metadata": {},
   "outputs": [
    {
     "data": {
      "text/html": [
       "<div>\n",
       "<style scoped>\n",
       "    .dataframe tbody tr th:only-of-type {\n",
       "        vertical-align: middle;\n",
       "    }\n",
       "\n",
       "    .dataframe tbody tr th {\n",
       "        vertical-align: top;\n",
       "    }\n",
       "\n",
       "    .dataframe thead th {\n",
       "        text-align: right;\n",
       "    }\n",
       "</style>\n",
       "<table border=\"1\" class=\"dataframe\">\n",
       "  <thead>\n",
       "    <tr style=\"text-align: right;\">\n",
       "      <th></th>\n",
       "      <th>blockcount</th>\n",
       "      <th>chp</th>\n",
       "      <th>company</th>\n",
       "      <th>energysource</th>\n",
       "      <th>federalstate</th>\n",
       "      <th>initialop</th>\n",
       "      <th>latestexpanded</th>\n",
       "      <th>plantid</th>\n",
       "      <th>plantname</th>\n",
       "      <th>state</th>\n",
       "      <th>totalpower</th>\n",
       "    </tr>\n",
       "  </thead>\n",
       "  <tbody>\n",
       "    <tr>\n",
       "      <th>71</th>\n",
       "      <td>9</td>\n",
       "      <td>Ja</td>\n",
       "      <td>RWE AG</td>\n",
       "      <td>Braunkohle</td>\n",
       "      <td>Nordrhein-Westfalen</td>\n",
       "      <td>1963</td>\n",
       "      <td>2002</td>\n",
       "      <td>06-05-300-0326774</td>\n",
       "      <td>Niederaußem</td>\n",
       "      <td>in Betrieb</td>\n",
       "      <td>3656.0</td>\n",
       "    </tr>\n",
       "  </tbody>\n",
       "</table>\n",
       "</div>"
      ],
      "text/plain": [
       "    blockcount chp company energysource         federalstate  initialop  \\\n",
       "71           9  Ja  RWE AG   Braunkohle  Nordrhein-Westfalen       1963   \n",
       "\n",
       "    latestexpanded            plantid    plantname       state  totalpower  \n",
       "71            2002  06-05-300-0326774  Niederaußem  in Betrieb      3656.0  "
      ]
     },
     "execution_count": 200,
     "metadata": {},
     "output_type": "execute_result"
    }
   ],
   "source": [
    "plants_a.loc[plants_a.plantid == \"06-05-300-0326774\"]"
   ]
  },
  {
   "cell_type": "code",
   "execution_count": 201,
   "metadata": {},
   "outputs": [
    {
     "data": {
      "text/html": [
       "<div>\n",
       "<style scoped>\n",
       "    .dataframe tbody tr th:only-of-type {\n",
       "        vertical-align: middle;\n",
       "    }\n",
       "\n",
       "    .dataframe tbody tr th {\n",
       "        vertical-align: top;\n",
       "    }\n",
       "\n",
       "    .dataframe thead th {\n",
       "        text-align: right;\n",
       "    }\n",
       "</style>\n",
       "<table border=\"1\" class=\"dataframe\">\n",
       "  <thead>\n",
       "    <tr style=\"text-align: right;\">\n",
       "      <th></th>\n",
       "      <th>blockcount</th>\n",
       "      <th>chp</th>\n",
       "      <th>company</th>\n",
       "      <th>energysource</th>\n",
       "      <th>federalstate</th>\n",
       "      <th>initialop</th>\n",
       "      <th>latestexpanded</th>\n",
       "      <th>plantid</th>\n",
       "      <th>plantname</th>\n",
       "      <th>state</th>\n",
       "      <th>totalpower</th>\n",
       "    </tr>\n",
       "  </thead>\n",
       "  <tbody>\n",
       "    <tr>\n",
       "      <th>33</th>\n",
       "      <td>4</td>\n",
       "      <td>Ja</td>\n",
       "      <td>Uniper SE</td>\n",
       "      <td>Steinkohle</td>\n",
       "      <td>Hessen</td>\n",
       "      <td>1965</td>\n",
       "      <td>1992</td>\n",
       "      <td>06-00176010435</td>\n",
       "      <td>Staudinger</td>\n",
       "      <td>in Betrieb</td>\n",
       "      <td>1624.0</td>\n",
       "    </tr>\n",
       "  </tbody>\n",
       "</table>\n",
       "</div>"
      ],
      "text/plain": [
       "    blockcount chp    company energysource federalstate  initialop  \\\n",
       "33           4  Ja  Uniper SE   Steinkohle       Hessen       1965   \n",
       "\n",
       "    latestexpanded         plantid   plantname       state  totalpower  \n",
       "33            1992  06-00176010435  Staudinger  in Betrieb      1624.0  "
      ]
     },
     "execution_count": 201,
     "metadata": {},
     "output_type": "execute_result"
    }
   ],
   "source": [
    "plants_a.loc[plants_a.plantid == \"06-00176010435\"]"
   ]
  },
  {
   "cell_type": "code",
   "execution_count": 202,
   "metadata": {},
   "outputs": [
    {
     "data": {
      "text/html": [
       "<div>\n",
       "<style scoped>\n",
       "    .dataframe tbody tr th:only-of-type {\n",
       "        vertical-align: middle;\n",
       "    }\n",
       "\n",
       "    .dataframe tbody tr th {\n",
       "        vertical-align: top;\n",
       "    }\n",
       "\n",
       "    .dataframe thead th {\n",
       "        text-align: right;\n",
       "    }\n",
       "</style>\n",
       "<table border=\"1\" class=\"dataframe\">\n",
       "  <thead>\n",
       "    <tr style=\"text-align: right;\">\n",
       "      <th></th>\n",
       "      <th>blockcount</th>\n",
       "      <th>chp</th>\n",
       "      <th>company</th>\n",
       "      <th>energysource</th>\n",
       "      <th>federalstate</th>\n",
       "      <th>initialop</th>\n",
       "      <th>latestexpanded</th>\n",
       "      <th>plantid</th>\n",
       "      <th>plantname</th>\n",
       "      <th>state</th>\n",
       "      <th>totalpower</th>\n",
       "    </tr>\n",
       "  </thead>\n",
       "  <tbody>\n",
       "    <tr>\n",
       "      <th>105</th>\n",
       "      <td>9</td>\n",
       "      <td>Nein</td>\n",
       "      <td>RWE AG</td>\n",
       "      <td>Steinkohle</td>\n",
       "      <td>Nordrhein-Westfalen</td>\n",
       "      <td>1973</td>\n",
       "      <td>1984</td>\n",
       "      <td>06-05-900-0865327</td>\n",
       "      <td>Gersteinwerk</td>\n",
       "      <td>in Betrieb</td>\n",
       "      <td>2011.0</td>\n",
       "    </tr>\n",
       "  </tbody>\n",
       "</table>\n",
       "</div>"
      ],
      "text/plain": [
       "     blockcount   chp company energysource         federalstate  initialop  \\\n",
       "105           9  Nein  RWE AG   Steinkohle  Nordrhein-Westfalen       1973   \n",
       "\n",
       "     latestexpanded            plantid     plantname       state  totalpower  \n",
       "105            1984  06-05-900-0865327  Gersteinwerk  in Betrieb      2011.0  "
      ]
     },
     "execution_count": 202,
     "metadata": {},
     "output_type": "execute_result"
    }
   ],
   "source": [
    "plants_a.loc[plants_a.plantid == \"06-05-900-0865327\"]"
   ]
  },
  {
   "cell_type": "code",
   "execution_count": 203,
   "metadata": {},
   "outputs": [],
   "source": [
    "#plants_a = plants.drop_duplicates(subset=\"KraftwerkID\")"
   ]
  },
  {
   "cell_type": "code",
   "execution_count": null,
   "metadata": {},
   "outputs": [],
   "source": []
  },
  {
   "cell_type": "code",
   "execution_count": 204,
   "metadata": {},
   "outputs": [],
   "source": [
    "column_titles = ['plantid', 'plantname', 'federalstate','energysource', 'chp', 'latestexpanded', 'initialop', 'totalpower', 'state', 'blockcount', 'company']\n",
    "plants_b = plants_a.reindex(columns=column_titles)"
   ]
  },
  {
   "cell_type": "code",
   "execution_count": 205,
   "metadata": {},
   "outputs": [],
   "source": [
    "#plants_b"
   ]
  },
  {
   "cell_type": "code",
   "execution_count": 206,
   "metadata": {},
   "outputs": [],
   "source": [
    "blocks.drop(['Ort', 'PLZ', 'Straße und Hausnummer (Standort Kraftwerk)'], axis=1, inplace=True)"
   ]
  },
  {
   "cell_type": "code",
   "execution_count": 207,
   "metadata": {},
   "outputs": [
    {
     "data": {
      "text/html": [
       "<div>\n",
       "<style scoped>\n",
       "    .dataframe tbody tr th:only-of-type {\n",
       "        vertical-align: middle;\n",
       "    }\n",
       "\n",
       "    .dataframe tbody tr th {\n",
       "        vertical-align: top;\n",
       "    }\n",
       "\n",
       "    .dataframe thead th {\n",
       "        text-align: right;\n",
       "    }\n",
       "</style>\n",
       "<table border=\"1\" class=\"dataframe\">\n",
       "  <thead>\n",
       "    <tr style=\"text-align: right;\">\n",
       "      <th></th>\n",
       "      <th>plantid</th>\n",
       "      <th>blockid</th>\n",
       "      <th>Unternehmen</th>\n",
       "      <th>Kraftwerksname</th>\n",
       "      <th>Bundesland</th>\n",
       "      <th>Blockname</th>\n",
       "      <th>Inbetriebnahme</th>\n",
       "      <th>Status</th>\n",
       "      <th>Energieträger</th>\n",
       "      <th>KWK</th>\n",
       "      <th>Nettoleistung</th>\n",
       "      <th>Stilllegung</th>\n",
       "    </tr>\n",
       "  </thead>\n",
       "  <tbody>\n",
       "    <tr>\n",
       "      <th>519</th>\n",
       "      <td>06-11-01-1105604</td>\n",
       "      <td>BNA0085b</td>\n",
       "      <td>Vattenfall GmbH</td>\n",
       "      <td>Moabit</td>\n",
       "      <td>Berlin</td>\n",
       "      <td>Moabit GT 7</td>\n",
       "      <td>1971.0</td>\n",
       "      <td>in Betrieb</td>\n",
       "      <td>Mineralölprodukte</td>\n",
       "      <td>Nein</td>\n",
       "      <td>34.0</td>\n",
       "      <td>NaN</td>\n",
       "    </tr>\n",
       "    <tr>\n",
       "      <th>520</th>\n",
       "      <td>06-11-01-1105604</td>\n",
       "      <td>BNA0085b</td>\n",
       "      <td>Vattenfall GmbH</td>\n",
       "      <td>Moabit</td>\n",
       "      <td>Berlin</td>\n",
       "      <td>Moabit GT 7</td>\n",
       "      <td>1971.0</td>\n",
       "      <td>stillgelegt</td>\n",
       "      <td>Mineralölprodukte</td>\n",
       "      <td>Nein</td>\n",
       "      <td>17.0</td>\n",
       "      <td>2018</td>\n",
       "    </tr>\n",
       "    <tr>\n",
       "      <th>534</th>\n",
       "      <td>06-11-01-1105608</td>\n",
       "      <td>BNA0083</td>\n",
       "      <td>Vattenfall GmbH</td>\n",
       "      <td>Wilmersdorf</td>\n",
       "      <td>Berlin</td>\n",
       "      <td>Wilmersdorf GT2 und GT3</td>\n",
       "      <td>1977.0</td>\n",
       "      <td>in Betrieb</td>\n",
       "      <td>Mineralölprodukte</td>\n",
       "      <td>Ja</td>\n",
       "      <td>184.0</td>\n",
       "      <td>NaN</td>\n",
       "    </tr>\n",
       "    <tr>\n",
       "      <th>535</th>\n",
       "      <td>06-11-01-1105608</td>\n",
       "      <td>BNA0083</td>\n",
       "      <td>Vattenfall GmbH</td>\n",
       "      <td>Wilmersdorf</td>\n",
       "      <td>Berlin</td>\n",
       "      <td>Wilmersdorf GT1</td>\n",
       "      <td>1977.0</td>\n",
       "      <td>stillgelegt</td>\n",
       "      <td>Mineralölprodukte</td>\n",
       "      <td>Ja</td>\n",
       "      <td>92.0</td>\n",
       "      <td>2018</td>\n",
       "    </tr>\n",
       "  </tbody>\n",
       "</table>\n",
       "</div>"
      ],
      "text/plain": [
       "              plantid   blockid      Unternehmen Kraftwerksname Bundesland  \\\n",
       "519  06-11-01-1105604  BNA0085b  Vattenfall GmbH         Moabit     Berlin   \n",
       "520  06-11-01-1105604  BNA0085b  Vattenfall GmbH         Moabit     Berlin   \n",
       "534  06-11-01-1105608   BNA0083  Vattenfall GmbH    Wilmersdorf     Berlin   \n",
       "535  06-11-01-1105608   BNA0083  Vattenfall GmbH    Wilmersdorf     Berlin   \n",
       "\n",
       "                   Blockname  Inbetriebnahme       Status      Energieträger  \\\n",
       "519              Moabit GT 7          1971.0   in Betrieb  Mineralölprodukte   \n",
       "520              Moabit GT 7          1971.0  stillgelegt  Mineralölprodukte   \n",
       "534  Wilmersdorf GT2 und GT3          1977.0   in Betrieb  Mineralölprodukte   \n",
       "535          Wilmersdorf GT1          1977.0  stillgelegt  Mineralölprodukte   \n",
       "\n",
       "      KWK  Nettoleistung Stilllegung  \n",
       "519  Nein           34.0         NaN  \n",
       "520  Nein           17.0        2018  \n",
       "534    Ja          184.0         NaN  \n",
       "535    Ja           92.0        2018  "
      ]
     },
     "execution_count": 207,
     "metadata": {},
     "output_type": "execute_result"
    }
   ],
   "source": [
    "blocks[blocks.duplicated(['blockid'], keep=False)].sort_values(\"blockid\", ascending=False)"
   ]
  },
  {
   "cell_type": "code",
   "execution_count": 208,
   "metadata": {},
   "outputs": [],
   "source": [
    "#blocks"
   ]
  },
  {
   "cell_type": "code",
   "execution_count": 209,
   "metadata": {},
   "outputs": [],
   "source": [
    "plants_b.sort_values(\"initialop\", ascending=False, inplace=True)"
   ]
  },
  {
   "cell_type": "code",
   "execution_count": 210,
   "metadata": {},
   "outputs": [],
   "source": [
    "#drop_list = ['Blockname', 'KWK', 'Nettoleistung', 'Stilllegung', 'Straße und Hausnummer (Standort Kraftwerk)', 'PLZ', 'Ort', 'Nettoleistung']\n",
    "#plants_g = plants_f.drop(drop_list, axis=1)"
   ]
  },
  {
   "cell_type": "code",
   "execution_count": 211,
   "metadata": {},
   "outputs": [],
   "source": [
    "#plants_h = plants_g.rename(columns={\"KraftwerkID\": \"plantid\", \"Gesamtleistung\": \"totalpower\", \"Blockzahl\": \"blockcount\", \"BlockID\": \"blockid\", \"Bundesland\": \"federalstate\", \"Energieträger\": \"energysource\", \"Inbetriebnahme\": \"latestexpanded\", \"Kraftwerksname\": \"plantname\", \"Status\": \"state\", \"Unternehmen\": \"company\"})"
   ]
  },
  {
   "cell_type": "code",
   "execution_count": 212,
   "metadata": {},
   "outputs": [],
   "source": [
    "plants_final = plants_b.loc[:]"
   ]
  },
  {
   "cell_type": "code",
   "execution_count": 213,
   "metadata": {
    "scrolled": true
   },
   "outputs": [
    {
     "data": {
      "text/plain": [
       "plantid             object\n",
       "plantname           object\n",
       "federalstate      category\n",
       "energysource      category\n",
       "chp               category\n",
       "latestexpanded       int64\n",
       "initialop            int64\n",
       "totalpower         float64\n",
       "state             category\n",
       "blockcount           int64\n",
       "company             object\n",
       "dtype: object"
      ]
     },
     "execution_count": 213,
     "metadata": {},
     "output_type": "execute_result"
    }
   ],
   "source": [
    "plants_final.dtypes"
   ]
  },
  {
   "cell_type": "code",
   "execution_count": 214,
   "metadata": {},
   "outputs": [],
   "source": [
    "# plants_final"
   ]
  },
  {
   "cell_type": "code",
   "execution_count": 215,
   "metadata": {},
   "outputs": [],
   "source": [
    "# stammdaten"
   ]
  },
  {
   "cell_type": "code",
   "execution_count": 216,
   "metadata": {},
   "outputs": [],
   "source": [
    "# cols = [0,2,3,9,10,11,12]\n",
    "stammdaten = pl6.copy()\n",
    "drop_list = ['plantid', 'Blockname', 'Energieträger', 'Inbetriebnahme', 'KWK', 'Kraftwerksname', 'Nettoleistung', 'Status', 'Stilllegung', 'Unternehmen']\n",
    "stammdaten.drop(drop_list, axis=1, inplace=True)"
   ]
  },
  {
   "cell_type": "code",
   "execution_count": 217,
   "metadata": {},
   "outputs": [],
   "source": [
    "stmp = pl6.copy()\n",
    "stammdaten2 = stmp.merge(prtr, how=\"left\", left_on=\"plantid\", right_on=\"kennnummer\")"
   ]
  },
  {
   "cell_type": "code",
   "execution_count": 218,
   "metadata": {},
   "outputs": [],
   "source": [
    "#stammdaten.to_csv(\"stammdaten.csv\", index=False)"
   ]
  },
  {
   "cell_type": "code",
   "execution_count": 219,
   "metadata": {},
   "outputs": [],
   "source": [
    "#plants_final.to_csv(\"plants.csv\", index=False)"
   ]
  },
  {
   "cell_type": "code",
   "execution_count": 220,
   "metadata": {},
   "outputs": [],
   "source": [
    "#blocks.to_csv(\"blocks_3.csv\", index=False)"
   ]
  },
  {
   "cell_type": "code",
   "execution_count": 221,
   "metadata": {},
   "outputs": [],
   "source": [
    "#stammdaten2"
   ]
  },
  {
   "cell_type": "code",
   "execution_count": 222,
   "metadata": {},
   "outputs": [],
   "source": [
    "DROP_ST = ['blockid', 'jahr', 'kennnummer','betriebsname','betriebsname_2','plz','ort','strasse','hausnr','bundesland','flusseinzugsgebiet','taet_nr','taetigkeit','activity','haupttaetigkeit','branche','sector','nace_id','nace_wirtschaftszweig','nace_sector','stoffgruppe','substances_group','schadstoff','pollutant','umweltkompartiment','releases_to','jahresfracht_freisetzung','versehentliche_freisetzung','schadstoff_schwellenwert','einheit','unit','bestimmungsmethode','determination_method','schutzgrund_fracht','confidential_reason_release','schutzgrund_betrieb','confidential_reason_facility']\n",
    "DROP_ST2 = ['jahr', 'kennnummer','betriebsname','betriebsname_2','plz','ort','strasse','hausnr','bundesland','flusseinzugsgebiet','taet_nr','taetigkeit','activity','haupttaetigkeit','branche','sector','nace_id','nace_wirtschaftszweig','nace_sector','stoffgruppe','substances_group','schadstoff','pollutant','umweltkompartiment','releases_to','jahresfracht_freisetzung','versehentliche_freisetzung','schadstoff_schwellenwert','einheit','unit','bestimmungsmethode','determination_method','schutzgrund_fracht','confidential_reason_release','schutzgrund_betrieb','confidential_reason_facility']\n",
    "DROP_ST3 = ['jahr', 'kennnummer', 'bundesland', 'flusseinzugsgebiet', \"betriebsname\", \"betriebsname_2\", 'taet_nr','taetigkeit','activity','haupttaetigkeit','branche','sector','nace_id','nace_wirtschaftszweig','nace_sector','stoffgruppe','substances_group','schadstoff','pollutant','umweltkompartiment','releases_to','jahresfracht_freisetzung','versehentliche_freisetzung','schadstoff_schwellenwert','einheit','unit','bestimmungsmethode','determination_method','schutzgrund_fracht','confidential_reason_release','schutzgrund_betrieb','confidential_reason_facility']\n"
   ]
  },
  {
   "cell_type": "code",
   "execution_count": 223,
   "metadata": {},
   "outputs": [],
   "source": [
    "#DROP_ST = ['jahr']"
   ]
  },
  {
   "cell_type": "code",
   "execution_count": 224,
   "metadata": {},
   "outputs": [],
   "source": [
    "plants_d1 = plants_final.merge(prtr, how=\"left\", left_on=\"plantid\", right_on=\"kennnummer\")"
   ]
  },
  {
   "cell_type": "code",
   "execution_count": 225,
   "metadata": {},
   "outputs": [],
   "source": [
    "#plants_d1.dtypes"
   ]
  },
  {
   "cell_type": "code",
   "execution_count": 226,
   "metadata": {},
   "outputs": [],
   "source": [
    "pld2 = plants_d1.drop_duplicates(['plantid'])"
   ]
  },
  {
   "cell_type": "code",
   "execution_count": 268,
   "metadata": {},
   "outputs": [],
   "source": [
    "pld3 = pld2.drop(DROP_ST3, axis=1)\n",
    "plants_final1 = pld3"
   ]
  },
  {
   "cell_type": "code",
   "execution_count": 269,
   "metadata": {},
   "outputs": [],
   "source": [
    "plants_final2 = plants_final1.merge(plants_act, on=\"plantid\", how='left')"
   ]
  },
  {
   "cell_type": "code",
   "execution_count": 270,
   "metadata": {},
   "outputs": [
    {
     "data": {
      "text/html": [
       "<div>\n",
       "<style scoped>\n",
       "    .dataframe tbody tr th:only-of-type {\n",
       "        vertical-align: middle;\n",
       "    }\n",
       "\n",
       "    .dataframe tbody tr th {\n",
       "        vertical-align: top;\n",
       "    }\n",
       "\n",
       "    .dataframe thead th {\n",
       "        text-align: right;\n",
       "    }\n",
       "</style>\n",
       "<table border=\"1\" class=\"dataframe\">\n",
       "  <thead>\n",
       "    <tr style=\"text-align: right;\">\n",
       "      <th></th>\n",
       "      <th>plantid</th>\n",
       "      <th>plantname</th>\n",
       "      <th>federalstate</th>\n",
       "      <th>energysource</th>\n",
       "      <th>chp</th>\n",
       "      <th>latestexpanded</th>\n",
       "      <th>initialop</th>\n",
       "      <th>totalpower</th>\n",
       "      <th>state</th>\n",
       "      <th>blockcount</th>\n",
       "      <th>company</th>\n",
       "      <th>plz</th>\n",
       "      <th>ort</th>\n",
       "      <th>strasse</th>\n",
       "      <th>hausnr</th>\n",
       "      <th>geo_lat_wgs84</th>\n",
       "      <th>geo_long_wgs84</th>\n",
       "      <th>activepower</th>\n",
       "    </tr>\n",
       "  </thead>\n",
       "  <tbody>\n",
       "    <tr>\n",
       "      <th>0</th>\n",
       "      <td>06-09-162-0025-0001</td>\n",
       "      <td>Werk 1.1</td>\n",
       "      <td>Bayern</td>\n",
       "      <td>Erdgas</td>\n",
       "      <td>Ja</td>\n",
       "      <td>2019</td>\n",
       "      <td>2019</td>\n",
       "      <td>27.1</td>\n",
       "      <td>in Betrieb</td>\n",
       "      <td>2</td>\n",
       "      <td>BMW AG</td>\n",
       "      <td>80788</td>\n",
       "      <td>München</td>\n",
       "      <td>Lerchenauer Str.</td>\n",
       "      <td>76</td>\n",
       "      <td>48.179175</td>\n",
       "      <td>11.561502</td>\n",
       "      <td>27.1</td>\n",
       "    </tr>\n",
       "    <tr>\n",
       "      <th>1</th>\n",
       "      <td>661-10</td>\n",
       "      <td>Küstenkraftwerk K.I.E.L.</td>\n",
       "      <td>Schleswig-Holstein</td>\n",
       "      <td>Erdgas</td>\n",
       "      <td>Ja</td>\n",
       "      <td>2019</td>\n",
       "      <td>2019</td>\n",
       "      <td>188.0</td>\n",
       "      <td>in Betrieb</td>\n",
       "      <td>1</td>\n",
       "      <td>Stadtwerke Kiel AG</td>\n",
       "      <td>NaN</td>\n",
       "      <td>NaN</td>\n",
       "      <td>NaN</td>\n",
       "      <td>NaN</td>\n",
       "      <td>NaN</td>\n",
       "      <td>NaN</td>\n",
       "      <td>188.0</td>\n",
       "    </tr>\n",
       "    <tr>\n",
       "      <th>2</th>\n",
       "      <td>661-31</td>\n",
       "      <td>KWK Landshut</td>\n",
       "      <td>Bayern</td>\n",
       "      <td>Erdgas</td>\n",
       "      <td>Ja</td>\n",
       "      <td>2019</td>\n",
       "      <td>2019</td>\n",
       "      <td>17.6</td>\n",
       "      <td>in Betrieb</td>\n",
       "      <td>1</td>\n",
       "      <td>BMW AG</td>\n",
       "      <td>NaN</td>\n",
       "      <td>NaN</td>\n",
       "      <td>NaN</td>\n",
       "      <td>NaN</td>\n",
       "      <td>NaN</td>\n",
       "      <td>NaN</td>\n",
       "      <td>17.6</td>\n",
       "    </tr>\n",
       "    <tr>\n",
       "      <th>3</th>\n",
       "      <td>661-93</td>\n",
       "      <td>HKW Dresden-Nord</td>\n",
       "      <td>Sachsen</td>\n",
       "      <td>Erdgas</td>\n",
       "      <td>Ja</td>\n",
       "      <td>2018</td>\n",
       "      <td>2018</td>\n",
       "      <td>11.5</td>\n",
       "      <td>in Betrieb</td>\n",
       "      <td>1</td>\n",
       "      <td>DREWAG Stadtwerke Dresden GmbH</td>\n",
       "      <td>NaN</td>\n",
       "      <td>NaN</td>\n",
       "      <td>NaN</td>\n",
       "      <td>NaN</td>\n",
       "      <td>NaN</td>\n",
       "      <td>NaN</td>\n",
       "      <td>11.5</td>\n",
       "    </tr>\n",
       "    <tr>\n",
       "      <th>4</th>\n",
       "      <td>661-107</td>\n",
       "      <td>HKW Tinz</td>\n",
       "      <td>Thüringen</td>\n",
       "      <td>Erdgas</td>\n",
       "      <td>Ja</td>\n",
       "      <td>2018</td>\n",
       "      <td>2018</td>\n",
       "      <td>22.1</td>\n",
       "      <td>in Betrieb</td>\n",
       "      <td>1</td>\n",
       "      <td>ENGIE Deutschland GmbH</td>\n",
       "      <td>NaN</td>\n",
       "      <td>NaN</td>\n",
       "      <td>NaN</td>\n",
       "      <td>NaN</td>\n",
       "      <td>NaN</td>\n",
       "      <td>NaN</td>\n",
       "      <td>22.1</td>\n",
       "    </tr>\n",
       "    <tr>\n",
       "      <th>...</th>\n",
       "      <td>...</td>\n",
       "      <td>...</td>\n",
       "      <td>...</td>\n",
       "      <td>...</td>\n",
       "      <td>...</td>\n",
       "      <td>...</td>\n",
       "      <td>...</td>\n",
       "      <td>...</td>\n",
       "      <td>...</td>\n",
       "      <td>...</td>\n",
       "      <td>...</td>\n",
       "      <td>...</td>\n",
       "      <td>...</td>\n",
       "      <td>...</td>\n",
       "      <td>...</td>\n",
       "      <td>...</td>\n",
       "      <td>...</td>\n",
       "      <td>...</td>\n",
       "    </tr>\n",
       "    <tr>\n",
       "      <th>319</th>\n",
       "      <td>662-20</td>\n",
       "      <td>Spitzenkraftwerk</td>\n",
       "      <td>Bayern</td>\n",
       "      <td>Mineralölprodukte</td>\n",
       "      <td>Ja</td>\n",
       "      <td>0</td>\n",
       "      <td>0</td>\n",
       "      <td>19.0</td>\n",
       "      <td>stillgelegt</td>\n",
       "      <td>1</td>\n",
       "      <td>Eurowatt Spitzenkraft GmbH</td>\n",
       "      <td>NaN</td>\n",
       "      <td>NaN</td>\n",
       "      <td>NaN</td>\n",
       "      <td>NaN</td>\n",
       "      <td>NaN</td>\n",
       "      <td>NaN</td>\n",
       "      <td>NaN</td>\n",
       "    </tr>\n",
       "    <tr>\n",
       "      <th>320</th>\n",
       "      <td>14326</td>\n",
       "      <td>GuD-Ikw Staßfurt</td>\n",
       "      <td>Sachsen-Anhalt</td>\n",
       "      <td>Erdgas</td>\n",
       "      <td>Ja</td>\n",
       "      <td>2015</td>\n",
       "      <td>0</td>\n",
       "      <td>109.0</td>\n",
       "      <td>in Betrieb</td>\n",
       "      <td>2</td>\n",
       "      <td>CIECH Energy Deutschland GmbH</td>\n",
       "      <td>39418</td>\n",
       "      <td>Staßfurt</td>\n",
       "      <td>An der Löderburger Bahn</td>\n",
       "      <td>4a</td>\n",
       "      <td>51.863617</td>\n",
       "      <td>11.573377</td>\n",
       "      <td>100.0</td>\n",
       "    </tr>\n",
       "    <tr>\n",
       "      <th>321</th>\n",
       "      <td>661-92</td>\n",
       "      <td>GuD Anlage Spreetal</td>\n",
       "      <td>Sachsen</td>\n",
       "      <td>Erdgas</td>\n",
       "      <td>Nein</td>\n",
       "      <td>0</td>\n",
       "      <td>0</td>\n",
       "      <td>50.0</td>\n",
       "      <td>stillgelegt</td>\n",
       "      <td>1</td>\n",
       "      <td>Alpiq Spreetal GmbH</td>\n",
       "      <td>NaN</td>\n",
       "      <td>NaN</td>\n",
       "      <td>NaN</td>\n",
       "      <td>NaN</td>\n",
       "      <td>NaN</td>\n",
       "      <td>NaN</td>\n",
       "      <td>NaN</td>\n",
       "    </tr>\n",
       "    <tr>\n",
       "      <th>322</th>\n",
       "      <td>662-01</td>\n",
       "      <td>Brunsbüttel</td>\n",
       "      <td>Schleswig-Holstein</td>\n",
       "      <td>Mineralölprodukte</td>\n",
       "      <td>Nein</td>\n",
       "      <td>0</td>\n",
       "      <td>0</td>\n",
       "      <td>254.0</td>\n",
       "      <td>stillgelegt</td>\n",
       "      <td>4</td>\n",
       "      <td>Vattenfall GmbH</td>\n",
       "      <td>NaN</td>\n",
       "      <td>NaN</td>\n",
       "      <td>NaN</td>\n",
       "      <td>NaN</td>\n",
       "      <td>NaN</td>\n",
       "      <td>NaN</td>\n",
       "      <td>NaN</td>\n",
       "    </tr>\n",
       "    <tr>\n",
       "      <th>323</th>\n",
       "      <td>01-50-01000004838</td>\n",
       "      <td>Heizkraftwerk FL</td>\n",
       "      <td>Schleswig-Holstein</td>\n",
       "      <td>Steinkohle</td>\n",
       "      <td>Ja</td>\n",
       "      <td>2016</td>\n",
       "      <td>0</td>\n",
       "      <td>263.0</td>\n",
       "      <td>in Betrieb</td>\n",
       "      <td>7</td>\n",
       "      <td>Stadtwerke Flensburg GmbH</td>\n",
       "      <td>24939</td>\n",
       "      <td>Flensburg</td>\n",
       "      <td>Batteriestr.</td>\n",
       "      <td>48</td>\n",
       "      <td>54.804837</td>\n",
       "      <td>9.432680</td>\n",
       "      <td>175.0</td>\n",
       "    </tr>\n",
       "  </tbody>\n",
       "</table>\n",
       "<p>324 rows × 18 columns</p>\n",
       "</div>"
      ],
      "text/plain": [
       "                 plantid                 plantname        federalstate  \\\n",
       "0    06-09-162-0025-0001                  Werk 1.1              Bayern   \n",
       "1                 661-10  Küstenkraftwerk K.I.E.L.  Schleswig-Holstein   \n",
       "2                 661-31              KWK Landshut              Bayern   \n",
       "3                 661-93          HKW Dresden-Nord             Sachsen   \n",
       "4                661-107                  HKW Tinz           Thüringen   \n",
       "..                   ...                       ...                 ...   \n",
       "319               662-20          Spitzenkraftwerk              Bayern   \n",
       "320                14326          GuD-Ikw Staßfurt      Sachsen-Anhalt   \n",
       "321               661-92       GuD Anlage Spreetal             Sachsen   \n",
       "322               662-01               Brunsbüttel  Schleswig-Holstein   \n",
       "323    01-50-01000004838          Heizkraftwerk FL  Schleswig-Holstein   \n",
       "\n",
       "          energysource   chp  latestexpanded  initialop  totalpower  \\\n",
       "0               Erdgas    Ja            2019       2019        27.1   \n",
       "1               Erdgas    Ja            2019       2019       188.0   \n",
       "2               Erdgas    Ja            2019       2019        17.6   \n",
       "3               Erdgas    Ja            2018       2018        11.5   \n",
       "4               Erdgas    Ja            2018       2018        22.1   \n",
       "..                 ...   ...             ...        ...         ...   \n",
       "319  Mineralölprodukte    Ja               0          0        19.0   \n",
       "320             Erdgas    Ja            2015          0       109.0   \n",
       "321             Erdgas  Nein               0          0        50.0   \n",
       "322  Mineralölprodukte  Nein               0          0       254.0   \n",
       "323         Steinkohle    Ja            2016          0       263.0   \n",
       "\n",
       "           state  blockcount                         company    plz  \\\n",
       "0     in Betrieb           2                          BMW AG  80788   \n",
       "1     in Betrieb           1              Stadtwerke Kiel AG    NaN   \n",
       "2     in Betrieb           1                          BMW AG    NaN   \n",
       "3     in Betrieb           1  DREWAG Stadtwerke Dresden GmbH    NaN   \n",
       "4     in Betrieb           1          ENGIE Deutschland GmbH    NaN   \n",
       "..           ...         ...                             ...    ...   \n",
       "319  stillgelegt           1      Eurowatt Spitzenkraft GmbH    NaN   \n",
       "320   in Betrieb           2   CIECH Energy Deutschland GmbH  39418   \n",
       "321  stillgelegt           1             Alpiq Spreetal GmbH    NaN   \n",
       "322  stillgelegt           4                 Vattenfall GmbH    NaN   \n",
       "323   in Betrieb           7       Stadtwerke Flensburg GmbH  24939   \n",
       "\n",
       "           ort                  strasse hausnr  geo_lat_wgs84  geo_long_wgs84  \\\n",
       "0      München         Lerchenauer Str.     76      48.179175       11.561502   \n",
       "1          NaN                      NaN    NaN            NaN             NaN   \n",
       "2          NaN                      NaN    NaN            NaN             NaN   \n",
       "3          NaN                      NaN    NaN            NaN             NaN   \n",
       "4          NaN                      NaN    NaN            NaN             NaN   \n",
       "..         ...                      ...    ...            ...             ...   \n",
       "319        NaN                      NaN    NaN            NaN             NaN   \n",
       "320   Staßfurt  An der Löderburger Bahn     4a      51.863617       11.573377   \n",
       "321        NaN                      NaN    NaN            NaN             NaN   \n",
       "322        NaN                      NaN    NaN            NaN             NaN   \n",
       "323  Flensburg             Batteriestr.     48      54.804837        9.432680   \n",
       "\n",
       "     activepower  \n",
       "0           27.1  \n",
       "1          188.0  \n",
       "2           17.6  \n",
       "3           11.5  \n",
       "4           22.1  \n",
       "..           ...  \n",
       "319          NaN  \n",
       "320        100.0  \n",
       "321          NaN  \n",
       "322          NaN  \n",
       "323        175.0  \n",
       "\n",
       "[324 rows x 18 columns]"
      ]
     },
     "execution_count": 270,
     "metadata": {},
     "output_type": "execute_result"
    }
   ],
   "source": [
    "plants_final2"
   ]
  },
  {
   "cell_type": "code",
   "execution_count": 229,
   "metadata": {},
   "outputs": [],
   "source": [
    "#stammdaten2.dtypes"
   ]
  },
  {
   "cell_type": "code",
   "execution_count": 230,
   "metadata": {},
   "outputs": [],
   "source": [
    "stammdaten3 = stammdaten2.drop(DROP_ST, axis=1)"
   ]
  },
  {
   "cell_type": "code",
   "execution_count": 231,
   "metadata": {},
   "outputs": [],
   "source": [
    "stammdaten4 = stammdaten3.drop_duplicates(['plantid'])"
   ]
  },
  {
   "cell_type": "code",
   "execution_count": 232,
   "metadata": {},
   "outputs": [],
   "source": [
    "#list(stammdaten2)"
   ]
  },
  {
   "cell_type": "code",
   "execution_count": 233,
   "metadata": {},
   "outputs": [
    {
     "data": {
      "text/plain": [
       "'\\n\\n\\n\"CREATE TABLE blocks(plantid TEXT, blockid TEXT NOT NULL PRIMARY KEY, blockdescription TEXT, federalstate TEXT, energysource TEXT, initialop INTEGER, chp TEXT,\\nblockname TEXT, netpower REAL, state TEXT, endop TEXT, company TEXT, FOREIGN KEY (blockid) REFERENCES addresses(blockid) ON DELETE CASCADE);\"\\n662-01|BNA0164|Vattenfall GmbH|Brunsbüttel|Schleswig-Holstein|GT D|0.0|stillgelegt|Mineralölprodukte|Nein|63.5|201\\n\\n'"
      ]
     },
     "execution_count": 233,
     "metadata": {},
     "output_type": "execute_result"
    }
   ],
   "source": [
    "'''\n",
    "\n",
    "\n",
    "\"CREATE TABLE blocks(plantid TEXT, blockid TEXT NOT NULL PRIMARY KEY, blockdescription TEXT, federalstate TEXT, energysource TEXT, initialop INTEGER, chp TEXT,\n",
    "blockname TEXT, netpower REAL, state TEXT, endop TEXT, company TEXT, FOREIGN KEY (blockid) REFERENCES addresses(blockid) ON DELETE CASCADE);\"\n",
    "662-01|BNA0164|Vattenfall GmbH|Brunsbüttel|Schleswig-Holstein|GT D|0.0|stillgelegt|Mineralölprodukte|Nein|63.5|201\n",
    "\n",
    "'''\n"
   ]
  },
  {
   "cell_type": "code",
   "execution_count": 234,
   "metadata": {},
   "outputs": [],
   "source": [
    "blocks2 = blocks[['plantid', 'blockid', 'Blockname', 'Bundesland', 'Energieträger', 'Inbetriebnahme', 'KWK', 'Kraftwerksname', 'Nettoleistung', 'Status', 'Stilllegung', 'Unternehmen']]"
   ]
  },
  {
   "cell_type": "code",
   "execution_count": 235,
   "metadata": {},
   "outputs": [
    {
     "data": {
      "text/plain": [
       "['plantid',\n",
       " 'blockid',\n",
       " 'Blockname',\n",
       " 'Bundesland',\n",
       " 'Energieträger',\n",
       " 'Inbetriebnahme',\n",
       " 'KWK',\n",
       " 'Kraftwerksname',\n",
       " 'Nettoleistung',\n",
       " 'Status',\n",
       " 'Stilllegung',\n",
       " 'Unternehmen']"
      ]
     },
     "execution_count": 235,
     "metadata": {},
     "output_type": "execute_result"
    }
   ],
   "source": [
    "list(blocks2)"
   ]
  },
  {
   "cell_type": "code",
   "execution_count": 271,
   "metadata": {},
   "outputs": [],
   "source": [
    "stammdaten.to_csv(\"stammdaten_nh.csv\", index=False, header=False)\n",
    "blocks2.to_csv(\"blocks_nh.csv\", index=False, header=False)\n",
    "plants_final2.to_csv(\"plants_nh.csv\", index=False, header=False)\n",
    "stammdaten.to_csv(\"stammdaten.csv\", index=False)\n",
    "blocks2.to_csv(\"blocks.csv\", index=False)\n",
    "plants_final2.to_csv(\"plants.csv\", index=False)"
   ]
  },
  {
   "cell_type": "code",
   "execution_count": 237,
   "metadata": {},
   "outputs": [
    {
     "data": {
      "text/html": [
       "<div>\n",
       "<style scoped>\n",
       "    .dataframe tbody tr th:only-of-type {\n",
       "        vertical-align: middle;\n",
       "    }\n",
       "\n",
       "    .dataframe tbody tr th {\n",
       "        vertical-align: top;\n",
       "    }\n",
       "\n",
       "    .dataframe thead th {\n",
       "        text-align: right;\n",
       "    }\n",
       "</style>\n",
       "<table border=\"1\" class=\"dataframe\">\n",
       "  <thead>\n",
       "    <tr style=\"text-align: right;\">\n",
       "      <th></th>\n",
       "      <th>blockid</th>\n",
       "      <th>PLZ</th>\n",
       "      <th>Ort</th>\n",
       "      <th>Straße und Hausnummer (Standort Kraftwerk)</th>\n",
       "      <th>Bundesland</th>\n",
       "    </tr>\n",
       "  </thead>\n",
       "  <tbody>\n",
       "    <tr>\n",
       "      <th>0</th>\n",
       "      <td>BNA1401a</td>\n",
       "      <td>41517</td>\n",
       "      <td>Grevenbroich</td>\n",
       "      <td>Energiestraße 101</td>\n",
       "      <td>Nordrhein-Westfalen</td>\n",
       "    </tr>\n",
       "    <tr>\n",
       "      <th>1</th>\n",
       "      <td>BNA1401b</td>\n",
       "      <td>41517</td>\n",
       "      <td>Grevenbroich</td>\n",
       "      <td>Energiestraße 101</td>\n",
       "      <td>Nordrhein-Westfalen</td>\n",
       "    </tr>\n",
       "    <tr>\n",
       "      <th>2</th>\n",
       "      <td>BNA0115</td>\n",
       "      <td>4007</td>\n",
       "      <td>Böhlen</td>\n",
       "      <td>Werkstraße</td>\n",
       "      <td>Sachsen</td>\n",
       "    </tr>\n",
       "    <tr>\n",
       "      <th>3</th>\n",
       "      <td>BNA0116</td>\n",
       "      <td>4564</td>\n",
       "      <td>Böhlen</td>\n",
       "      <td>Werkstraße</td>\n",
       "      <td>Sachsen</td>\n",
       "    </tr>\n",
       "    <tr>\n",
       "      <th>4</th>\n",
       "      <td>BNA0793</td>\n",
       "      <td>32469</td>\n",
       "      <td>Petershagen</td>\n",
       "      <td>NaN</td>\n",
       "      <td>Nordrhein-Westfalen</td>\n",
       "    </tr>\n",
       "    <tr>\n",
       "      <th>...</th>\n",
       "      <td>...</td>\n",
       "      <td>...</td>\n",
       "      <td>...</td>\n",
       "      <td>...</td>\n",
       "      <td>...</td>\n",
       "    </tr>\n",
       "    <tr>\n",
       "      <th>578</th>\n",
       "      <td>BNA0146</td>\n",
       "      <td>28237</td>\n",
       "      <td>Bremen</td>\n",
       "      <td>Otavistr. 7-9</td>\n",
       "      <td>Bremen</td>\n",
       "    </tr>\n",
       "    <tr>\n",
       "      <th>579</th>\n",
       "      <td>BNA0141</td>\n",
       "      <td>28237</td>\n",
       "      <td>Bremen</td>\n",
       "      <td>Auf den Delben 35</td>\n",
       "      <td>Bremen</td>\n",
       "    </tr>\n",
       "    <tr>\n",
       "      <th>581</th>\n",
       "      <td>BNA1820</td>\n",
       "      <td>28237</td>\n",
       "      <td>Bremen</td>\n",
       "      <td>NaN</td>\n",
       "      <td>Bremen</td>\n",
       "    </tr>\n",
       "    <tr>\n",
       "      <th>582</th>\n",
       "      <td>BNA1334</td>\n",
       "      <td>28237</td>\n",
       "      <td>Bremen</td>\n",
       "      <td>Waterbergstraße 14</td>\n",
       "      <td>Bremen</td>\n",
       "    </tr>\n",
       "    <tr>\n",
       "      <th>583</th>\n",
       "      <td>BNA0147</td>\n",
       "      <td>28777</td>\n",
       "      <td>Bremen</td>\n",
       "      <td>Wilhelmshavener Str. 6</td>\n",
       "      <td>Bremen</td>\n",
       "    </tr>\n",
       "  </tbody>\n",
       "</table>\n",
       "<p>577 rows × 5 columns</p>\n",
       "</div>"
      ],
      "text/plain": [
       "      blockid    PLZ           Ort Straße und Hausnummer (Standort Kraftwerk)  \\\n",
       "0    BNA1401a  41517  Grevenbroich                          Energiestraße 101   \n",
       "1    BNA1401b  41517  Grevenbroich                          Energiestraße 101   \n",
       "2     BNA0115   4007        Böhlen                                 Werkstraße   \n",
       "3     BNA0116   4564        Böhlen                                 Werkstraße   \n",
       "4     BNA0793  32469   Petershagen                                        NaN   \n",
       "..        ...    ...           ...                                        ...   \n",
       "578   BNA0146  28237        Bremen                              Otavistr. 7-9   \n",
       "579   BNA0141  28237        Bremen                          Auf den Delben 35   \n",
       "581   BNA1820  28237        Bremen                                        NaN   \n",
       "582   BNA1334  28237        Bremen                         Waterbergstraße 14   \n",
       "583   BNA0147  28777        Bremen                     Wilhelmshavener Str. 6   \n",
       "\n",
       "              Bundesland  \n",
       "0    Nordrhein-Westfalen  \n",
       "1    Nordrhein-Westfalen  \n",
       "2                Sachsen  \n",
       "3                Sachsen  \n",
       "4    Nordrhein-Westfalen  \n",
       "..                   ...  \n",
       "578               Bremen  \n",
       "579               Bremen  \n",
       "581               Bremen  \n",
       "582               Bremen  \n",
       "583               Bremen  \n",
       "\n",
       "[577 rows x 5 columns]"
      ]
     },
     "execution_count": 237,
     "metadata": {},
     "output_type": "execute_result"
    }
   ],
   "source": [
    "stammdaten"
   ]
  },
  {
   "cell_type": "code",
   "execution_count": null,
   "metadata": {},
   "outputs": [],
   "source": []
  },
  {
   "cell_type": "code",
   "execution_count": 238,
   "metadata": {},
   "outputs": [],
   "source": [
    "#bm2.to_csv(\"bpm.csv\", index=False)"
   ]
  },
  {
   "cell_type": "code",
   "execution_count": 239,
   "metadata": {},
   "outputs": [],
   "source": [
    "#blocks"
   ]
  },
  {
   "cell_type": "code",
   "execution_count": 240,
   "metadata": {},
   "outputs": [
    {
     "data": {
      "text/html": [
       "<div>\n",
       "<style scoped>\n",
       "    .dataframe tbody tr th:only-of-type {\n",
       "        vertical-align: middle;\n",
       "    }\n",
       "\n",
       "    .dataframe tbody tr th {\n",
       "        vertical-align: top;\n",
       "    }\n",
       "\n",
       "    .dataframe thead th {\n",
       "        text-align: right;\n",
       "    }\n",
       "</style>\n",
       "<table border=\"1\" class=\"dataframe\">\n",
       "  <thead>\n",
       "    <tr style=\"text-align: right;\">\n",
       "      <th></th>\n",
       "      <th>plantid</th>\n",
       "      <th>blockid</th>\n",
       "      <th>Unternehmen</th>\n",
       "      <th>Kraftwerksname</th>\n",
       "      <th>Bundesland</th>\n",
       "      <th>Blockname</th>\n",
       "      <th>Inbetriebnahme</th>\n",
       "      <th>Status</th>\n",
       "      <th>KWK</th>\n",
       "      <th>Nettoleistung</th>\n",
       "      <th>Stilllegung</th>\n",
       "    </tr>\n",
       "    <tr>\n",
       "      <th>Energieträger</th>\n",
       "      <th></th>\n",
       "      <th></th>\n",
       "      <th></th>\n",
       "      <th></th>\n",
       "      <th></th>\n",
       "      <th></th>\n",
       "      <th></th>\n",
       "      <th></th>\n",
       "      <th></th>\n",
       "      <th></th>\n",
       "      <th></th>\n",
       "    </tr>\n",
       "  </thead>\n",
       "  <tbody>\n",
       "    <tr>\n",
       "      <th>Braunkohle</th>\n",
       "      <td>77</td>\n",
       "      <td>77</td>\n",
       "      <td>77</td>\n",
       "      <td>76</td>\n",
       "      <td>77</td>\n",
       "      <td>69</td>\n",
       "      <td>77</td>\n",
       "      <td>77</td>\n",
       "      <td>77</td>\n",
       "      <td>77</td>\n",
       "      <td>17</td>\n",
       "    </tr>\n",
       "    <tr>\n",
       "      <th>Erdgas</th>\n",
       "      <td>315</td>\n",
       "      <td>315</td>\n",
       "      <td>312</td>\n",
       "      <td>304</td>\n",
       "      <td>315</td>\n",
       "      <td>216</td>\n",
       "      <td>315</td>\n",
       "      <td>312</td>\n",
       "      <td>315</td>\n",
       "      <td>315</td>\n",
       "      <td>35</td>\n",
       "    </tr>\n",
       "    <tr>\n",
       "      <th>Kernenergie</th>\n",
       "      <td>9</td>\n",
       "      <td>9</td>\n",
       "      <td>9</td>\n",
       "      <td>9</td>\n",
       "      <td>9</td>\n",
       "      <td>9</td>\n",
       "      <td>9</td>\n",
       "      <td>9</td>\n",
       "      <td>9</td>\n",
       "      <td>9</td>\n",
       "      <td>3</td>\n",
       "    </tr>\n",
       "    <tr>\n",
       "      <th>Mineralölprodukte</th>\n",
       "      <td>56</td>\n",
       "      <td>56</td>\n",
       "      <td>56</td>\n",
       "      <td>56</td>\n",
       "      <td>56</td>\n",
       "      <td>47</td>\n",
       "      <td>56</td>\n",
       "      <td>51</td>\n",
       "      <td>55</td>\n",
       "      <td>56</td>\n",
       "      <td>10</td>\n",
       "    </tr>\n",
       "    <tr>\n",
       "      <th>Steinkohle</th>\n",
       "      <td>120</td>\n",
       "      <td>120</td>\n",
       "      <td>120</td>\n",
       "      <td>119</td>\n",
       "      <td>120</td>\n",
       "      <td>107</td>\n",
       "      <td>120</td>\n",
       "      <td>112</td>\n",
       "      <td>119</td>\n",
       "      <td>120</td>\n",
       "      <td>43</td>\n",
       "    </tr>\n",
       "  </tbody>\n",
       "</table>\n",
       "</div>"
      ],
      "text/plain": [
       "                   plantid  blockid  Unternehmen  Kraftwerksname  Bundesland  \\\n",
       "Energieträger                                                                  \n",
       "Braunkohle              77       77           77              76          77   \n",
       "Erdgas                 315      315          312             304         315   \n",
       "Kernenergie              9        9            9               9           9   \n",
       "Mineralölprodukte       56       56           56              56          56   \n",
       "Steinkohle             120      120          120             119         120   \n",
       "\n",
       "                   Blockname  Inbetriebnahme  Status  KWK  Nettoleistung  \\\n",
       "Energieträger                                                              \n",
       "Braunkohle                69              77      77   77             77   \n",
       "Erdgas                   216             315     312  315            315   \n",
       "Kernenergie                9               9       9    9              9   \n",
       "Mineralölprodukte         47              56      51   55             56   \n",
       "Steinkohle               107             120     112  119            120   \n",
       "\n",
       "                   Stilllegung  \n",
       "Energieträger                   \n",
       "Braunkohle                  17  \n",
       "Erdgas                      35  \n",
       "Kernenergie                  3  \n",
       "Mineralölprodukte           10  \n",
       "Steinkohle                  43  "
      ]
     },
     "execution_count": 240,
     "metadata": {},
     "output_type": "execute_result"
    }
   ],
   "source": [
    "blocks.groupby('Energieträger').count()"
   ]
  },
  {
   "cell_type": "code",
   "execution_count": 241,
   "metadata": {},
   "outputs": [],
   "source": [
    "pl4 = blocks.loc[blocks['Energieträger'] == \"Mineralölprodukte\"]"
   ]
  },
  {
   "cell_type": "code",
   "execution_count": 242,
   "metadata": {},
   "outputs": [],
   "source": [
    "#pl4"
   ]
  },
  {
   "cell_type": "code",
   "execution_count": 243,
   "metadata": {},
   "outputs": [],
   "source": [
    "#pd.set_option('display.max_rows', None)"
   ]
  },
  {
   "cell_type": "code",
   "execution_count": 244,
   "metadata": {},
   "outputs": [],
   "source": [
    "#pl4.loc[pl4['Energieträger'] == \"Mineralölprodukte\"].sort_values([\"Bundesland\", \"Unternehmen\", \"Kraftwerksname\"])"
   ]
  },
  {
   "cell_type": "code",
   "execution_count": 245,
   "metadata": {},
   "outputs": [],
   "source": [
    "#plants_final2"
   ]
  },
  {
   "cell_type": "code",
   "execution_count": null,
   "metadata": {},
   "outputs": [],
   "source": []
  }
 ],
 "metadata": {
  "kernelspec": {
   "display_name": "Python 3",
   "language": "python",
   "name": "python3"
  },
  "language_info": {
   "codemirror_mode": {
    "name": "ipython",
    "version": 3
   },
   "file_extension": ".py",
   "mimetype": "text/x-python",
   "name": "python",
   "nbconvert_exporter": "python",
   "pygments_lexer": "ipython3",
   "version": "3.7.7"
  }
 },
 "nbformat": 4,
 "nbformat_minor": 4
}
