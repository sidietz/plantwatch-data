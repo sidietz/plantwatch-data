{
 "cells": [
  {
   "cell_type": "code",
   "execution_count": 268,
   "metadata": {},
   "outputs": [],
   "source": [
    "import pandas as pd\n",
    "from scipy import stats\n",
    "import numpy as np\n",
    "from pandas.api.types import CategoricalDtype\n",
    "import re\n",
    "from helpers import get_renamed_blocks"
   ]
  },
  {
   "cell_type": "code",
   "execution_count": 269,
   "metadata": {},
   "outputs": [],
   "source": [
    "STATES = ['in Betrieb', 'Gesetzlich an Stilllegung gehindert', 'Netzreserve',  'Sicherheitsbereitschaft', 'Sonderfall', 'vorläufig stillgelegt', 'stillgelegt', 'Kohlestromvermarktungsverbot']\n",
    "ENERGIES = [\"Kernenergie\", \"Braunkohle\", \"Steinkohle\", \"Erdgas\", \"Mineralölprodukte\", \"Abfall\", \"Biomasse\", \"\"]\n"
   ]
  },
  {
   "cell_type": "code",
   "execution_count": 270,
   "metadata": {},
   "outputs": [],
   "source": [
    "pl0 = pd.read_excel(\"../data/Kraftwerksliste_2021_1.xlsx\", skiprows=9)\n",
    "prtr = pd.read_excel(\"../data/2021-12-15_PRTR-Deutschland_Freisetzungen.xlsx\")"
   ]
  },
  {
   "cell_type": "code",
   "execution_count": 271,
   "metadata": {},
   "outputs": [],
   "source": [
    "#list(pl0)"
   ]
  },
  {
   "cell_type": "code",
   "execution_count": 272,
   "metadata": {},
   "outputs": [],
   "source": [
    "#pl0"
   ]
  },
  {
   "cell_type": "code",
   "execution_count": 273,
   "metadata": {},
   "outputs": [],
   "source": [
    "cols = [10,11,12,14,17,18,19]\n",
    "plt = get_renamed_blocks(pl0)\n",
    "plq = plt.drop(plt.columns[cols],axis=1)"
   ]
  },
  {
   "cell_type": "code",
   "execution_count": 274,
   "metadata": {},
   "outputs": [],
   "source": [
    "#list(plq)"
   ]
  },
  {
   "cell_type": "code",
   "execution_count": 275,
   "metadata": {},
   "outputs": [],
   "source": [
    "#plt.groupby(\"energysource\").count()"
   ]
  },
  {
   "cell_type": "code",
   "execution_count": 276,
   "metadata": {},
   "outputs": [],
   "source": [
    "#list(blocks2)"
   ]
  },
  {
   "cell_type": "code",
   "execution_count": 277,
   "metadata": {},
   "outputs": [],
   "source": [
    "#pl0"
   ]
  },
  {
   "cell_type": "code",
   "execution_count": 278,
   "metadata": {},
   "outputs": [],
   "source": [
    "#prtr"
   ]
  },
  {
   "cell_type": "code",
   "execution_count": 279,
   "metadata": {},
   "outputs": [],
   "source": [
    "#pl0 = pd.read_csv(\"../Kraftwerksliste_2020.csv\", error_bad_lines=False, engine=\"python\", encoding=\"latin1\", sep=\";\", skiprows=9)\n",
    "#prtr = pd.read_csv(\"../data/2019-11-25_PRTR-Deutschland_Freisetzungen.csv\", error_bad_lines=False, engine=\"python\", encoding=\"latin1\", sep=\";\", skiprows=0)\n",
    "#pl0 = pd.read_csv(\"Kraftwerksliste_CSV.csv\", error_bad_lines=False, engine=\"python\")\n",
    "bm = pd.read_csv(\"block_plant_mapper.csv\", engine=\"python\")"
   ]
  },
  {
   "cell_type": "code",
   "execution_count": 280,
   "metadata": {},
   "outputs": [],
   "source": [
    "bm['plantid'] = bm['plantid'].apply(lambda x: str(x).replace('/', '_'))"
   ]
  },
  {
   "cell_type": "code",
   "execution_count": 281,
   "metadata": {},
   "outputs": [
    {
     "data": {
      "text/html": [
       "<div>\n",
       "<style scoped>\n",
       "    .dataframe tbody tr th:only-of-type {\n",
       "        vertical-align: middle;\n",
       "    }\n",
       "\n",
       "    .dataframe tbody tr th {\n",
       "        vertical-align: top;\n",
       "    }\n",
       "\n",
       "    .dataframe thead th {\n",
       "        text-align: right;\n",
       "    }\n",
       "</style>\n",
       "<table border=\"1\" class=\"dataframe\">\n",
       "  <thead>\n",
       "    <tr style=\"text-align: right;\">\n",
       "      <th></th>\n",
       "      <th>plantid</th>\n",
       "      <th>blockid</th>\n",
       "    </tr>\n",
       "  </thead>\n",
       "  <tbody>\n",
       "    <tr>\n",
       "      <th>573</th>\n",
       "      <td>06-04-11_2001178_8_0</td>\n",
       "      <td>BNA0140</td>\n",
       "    </tr>\n",
       "    <tr>\n",
       "      <th>574</th>\n",
       "      <td>06-04-11_2001178_8_0</td>\n",
       "      <td>BNA0144</td>\n",
       "    </tr>\n",
       "    <tr>\n",
       "      <th>575</th>\n",
       "      <td>06-04-11_2001178_8_1</td>\n",
       "      <td>BNA0139</td>\n",
       "    </tr>\n",
       "    <tr>\n",
       "      <th>576</th>\n",
       "      <td>06-04-11_2001178_8_1</td>\n",
       "      <td>BNA0145</td>\n",
       "    </tr>\n",
       "    <tr>\n",
       "      <th>577</th>\n",
       "      <td>06-04-11_2001178_8_1</td>\n",
       "      <td>BNA0146</td>\n",
       "    </tr>\n",
       "    <tr>\n",
       "      <th>578</th>\n",
       "      <td>06-04-11_2001178_8_2</td>\n",
       "      <td>BNA0141</td>\n",
       "    </tr>\n",
       "    <tr>\n",
       "      <th>579</th>\n",
       "      <td>06-04-11_2001178_8_2</td>\n",
       "      <td>BNA1842</td>\n",
       "    </tr>\n",
       "    <tr>\n",
       "      <th>580</th>\n",
       "      <td>06-04-11_2001178_8_2</td>\n",
       "      <td>BNA1820</td>\n",
       "    </tr>\n",
       "    <tr>\n",
       "      <th>582</th>\n",
       "      <td>06-04-11_2039669_2_0</td>\n",
       "      <td>BNA0147</td>\n",
       "    </tr>\n",
       "  </tbody>\n",
       "</table>\n",
       "</div>"
      ],
      "text/plain": [
       "                  plantid  blockid\n",
       "573  06-04-11_2001178_8_0  BNA0140\n",
       "574  06-04-11_2001178_8_0  BNA0144\n",
       "575  06-04-11_2001178_8_1  BNA0139\n",
       "576  06-04-11_2001178_8_1  BNA0145\n",
       "577  06-04-11_2001178_8_1  BNA0146\n",
       "578  06-04-11_2001178_8_2  BNA0141\n",
       "579  06-04-11_2001178_8_2  BNA1842\n",
       "580  06-04-11_2001178_8_2  BNA1820\n",
       "582  06-04-11_2039669_2_0  BNA0147"
      ]
     },
     "execution_count": 281,
     "metadata": {},
     "output_type": "execute_result"
    }
   ],
   "source": [
    "bm.loc[bm.plantid.str.contains(\"_\")]"
   ]
  },
  {
   "cell_type": "code",
   "execution_count": 282,
   "metadata": {},
   "outputs": [],
   "source": [
    "#prtr.describe()"
   ]
  },
  {
   "cell_type": "code",
   "execution_count": 283,
   "metadata": {},
   "outputs": [],
   "source": [
    "pl0 = plq.loc[:]"
   ]
  },
  {
   "cell_type": "code",
   "execution_count": 284,
   "metadata": {},
   "outputs": [
    {
     "data": {
      "text/html": [
       "<div>\n",
       "<style scoped>\n",
       "    .dataframe tbody tr th:only-of-type {\n",
       "        vertical-align: middle;\n",
       "    }\n",
       "\n",
       "    .dataframe tbody tr th {\n",
       "        vertical-align: top;\n",
       "    }\n",
       "\n",
       "    .dataframe thead th {\n",
       "        text-align: right;\n",
       "    }\n",
       "</style>\n",
       "<table border=\"1\" class=\"dataframe\">\n",
       "  <thead>\n",
       "    <tr style=\"text-align: right;\">\n",
       "      <th></th>\n",
       "      <th>blockid</th>\n",
       "      <th>company</th>\n",
       "      <th>plantname</th>\n",
       "      <th>plz</th>\n",
       "      <th>place</th>\n",
       "      <th>street</th>\n",
       "      <th>federalstate</th>\n",
       "      <th>blockname</th>\n",
       "      <th>initialop</th>\n",
       "      <th>state</th>\n",
       "      <th>energysource</th>\n",
       "      <th>chp</th>\n",
       "      <th>power</th>\n",
       "    </tr>\n",
       "  </thead>\n",
       "  <tbody>\n",
       "    <tr>\n",
       "      <th>1016</th>\n",
       "      <td>BNA0645</td>\n",
       "      <td>Grosskraftwerk Mannheim AG</td>\n",
       "      <td>GKM</td>\n",
       "      <td>68199</td>\n",
       "      <td>Mannheim</td>\n",
       "      <td>Marguerrestraße 1</td>\n",
       "      <td>Baden-Württemberg</td>\n",
       "      <td>Block 7</td>\n",
       "      <td>30256</td>\n",
       "      <td>gesetzlich an Stilllegung gehindert</td>\n",
       "      <td>Steinkohle</td>\n",
       "      <td>Ja</td>\n",
       "      <td>425.0</td>\n",
       "    </tr>\n",
       "  </tbody>\n",
       "</table>\n",
       "</div>"
      ],
      "text/plain": [
       "      blockid                     company plantname    plz     place  \\\n",
       "1016  BNA0645  Grosskraftwerk Mannheim AG      GKM   68199  Mannheim   \n",
       "\n",
       "                 street       federalstate blockname initialop  \\\n",
       "1016  Marguerrestraße 1  Baden-Württemberg   Block 7     30256   \n",
       "\n",
       "                                    state energysource chp  power  \n",
       "1016  gesetzlich an Stilllegung gehindert   Steinkohle  Ja  425.0  "
      ]
     },
     "execution_count": 284,
     "metadata": {},
     "output_type": "execute_result"
    }
   ],
   "source": [
    "pl0.loc[pl0[\"blockid\"] == \"BNA0645\"]"
   ]
  },
  {
   "cell_type": "code",
   "execution_count": 285,
   "metadata": {},
   "outputs": [],
   "source": [
    "#pl0.groupby(\"energysource\").count()"
   ]
  },
  {
   "cell_type": "code",
   "execution_count": 286,
   "metadata": {},
   "outputs": [],
   "source": [
    "#pl0.groupby(\"state\").count()"
   ]
  },
  {
   "cell_type": "code",
   "execution_count": 287,
   "metadata": {},
   "outputs": [],
   "source": [
    "pl1 = pl0.loc[pl0[\"energysource\"].isin(ENERGIES)]"
   ]
  },
  {
   "cell_type": "code",
   "execution_count": 288,
   "metadata": {},
   "outputs": [
    {
     "data": {
      "text/html": [
       "<div>\n",
       "<style scoped>\n",
       "    .dataframe tbody tr th:only-of-type {\n",
       "        vertical-align: middle;\n",
       "    }\n",
       "\n",
       "    .dataframe tbody tr th {\n",
       "        vertical-align: top;\n",
       "    }\n",
       "\n",
       "    .dataframe thead th {\n",
       "        text-align: right;\n",
       "    }\n",
       "</style>\n",
       "<table border=\"1\" class=\"dataframe\">\n",
       "  <thead>\n",
       "    <tr style=\"text-align: right;\">\n",
       "      <th></th>\n",
       "      <th>blockid</th>\n",
       "      <th>company</th>\n",
       "      <th>plantname</th>\n",
       "      <th>plz</th>\n",
       "      <th>place</th>\n",
       "      <th>street</th>\n",
       "      <th>federalstate</th>\n",
       "      <th>blockname</th>\n",
       "      <th>initialop</th>\n",
       "      <th>state</th>\n",
       "      <th>chp</th>\n",
       "      <th>power</th>\n",
       "    </tr>\n",
       "    <tr>\n",
       "      <th>energysource</th>\n",
       "      <th></th>\n",
       "      <th></th>\n",
       "      <th></th>\n",
       "      <th></th>\n",
       "      <th></th>\n",
       "      <th></th>\n",
       "      <th></th>\n",
       "      <th></th>\n",
       "      <th></th>\n",
       "      <th></th>\n",
       "      <th></th>\n",
       "      <th></th>\n",
       "    </tr>\n",
       "  </thead>\n",
       "  <tbody>\n",
       "    <tr>\n",
       "      <th>Abfall</th>\n",
       "      <td>85</td>\n",
       "      <td>86</td>\n",
       "      <td>81</td>\n",
       "      <td>85</td>\n",
       "      <td>85</td>\n",
       "      <td>66</td>\n",
       "      <td>86</td>\n",
       "      <td>54</td>\n",
       "      <td>83</td>\n",
       "      <td>86</td>\n",
       "      <td>85</td>\n",
       "      <td>86</td>\n",
       "    </tr>\n",
       "    <tr>\n",
       "      <th>Biomasse</th>\n",
       "      <td>58</td>\n",
       "      <td>75</td>\n",
       "      <td>47</td>\n",
       "      <td>58</td>\n",
       "      <td>58</td>\n",
       "      <td>38</td>\n",
       "      <td>75</td>\n",
       "      <td>17</td>\n",
       "      <td>57</td>\n",
       "      <td>75</td>\n",
       "      <td>54</td>\n",
       "      <td>75</td>\n",
       "    </tr>\n",
       "    <tr>\n",
       "      <th>Braunkohle</th>\n",
       "      <td>77</td>\n",
       "      <td>78</td>\n",
       "      <td>76</td>\n",
       "      <td>77</td>\n",
       "      <td>77</td>\n",
       "      <td>26</td>\n",
       "      <td>78</td>\n",
       "      <td>69</td>\n",
       "      <td>77</td>\n",
       "      <td>78</td>\n",
       "      <td>77</td>\n",
       "      <td>78</td>\n",
       "    </tr>\n",
       "    <tr>\n",
       "      <th>Erdgas</th>\n",
       "      <td>317</td>\n",
       "      <td>315</td>\n",
       "      <td>306</td>\n",
       "      <td>317</td>\n",
       "      <td>317</td>\n",
       "      <td>170</td>\n",
       "      <td>318</td>\n",
       "      <td>219</td>\n",
       "      <td>297</td>\n",
       "      <td>318</td>\n",
       "      <td>317</td>\n",
       "      <td>318</td>\n",
       "    </tr>\n",
       "    <tr>\n",
       "      <th>Kernenergie</th>\n",
       "      <td>9</td>\n",
       "      <td>9</td>\n",
       "      <td>9</td>\n",
       "      <td>9</td>\n",
       "      <td>9</td>\n",
       "      <td>2</td>\n",
       "      <td>9</td>\n",
       "      <td>9</td>\n",
       "      <td>8</td>\n",
       "      <td>9</td>\n",
       "      <td>9</td>\n",
       "      <td>9</td>\n",
       "    </tr>\n",
       "    <tr>\n",
       "      <th>Mineralölprodukte</th>\n",
       "      <td>56</td>\n",
       "      <td>57</td>\n",
       "      <td>56</td>\n",
       "      <td>56</td>\n",
       "      <td>56</td>\n",
       "      <td>30</td>\n",
       "      <td>57</td>\n",
       "      <td>47</td>\n",
       "      <td>50</td>\n",
       "      <td>57</td>\n",
       "      <td>55</td>\n",
       "      <td>57</td>\n",
       "    </tr>\n",
       "    <tr>\n",
       "      <th>Steinkohle</th>\n",
       "      <td>120</td>\n",
       "      <td>121</td>\n",
       "      <td>119</td>\n",
       "      <td>120</td>\n",
       "      <td>120</td>\n",
       "      <td>75</td>\n",
       "      <td>121</td>\n",
       "      <td>107</td>\n",
       "      <td>120</td>\n",
       "      <td>121</td>\n",
       "      <td>119</td>\n",
       "      <td>121</td>\n",
       "    </tr>\n",
       "  </tbody>\n",
       "</table>\n",
       "</div>"
      ],
      "text/plain": [
       "                   blockid  company  plantname  plz  place  street  \\\n",
       "energysource                                                         \n",
       "Abfall                  85       86         81   85     85      66   \n",
       "Biomasse                58       75         47   58     58      38   \n",
       "Braunkohle              77       78         76   77     77      26   \n",
       "Erdgas                 317      315        306  317    317     170   \n",
       "Kernenergie              9        9          9    9      9       2   \n",
       "Mineralölprodukte       56       57         56   56     56      30   \n",
       "Steinkohle             120      121        119  120    120      75   \n",
       "\n",
       "                   federalstate  blockname  initialop  state  chp  power  \n",
       "energysource                                                              \n",
       "Abfall                       86         54         83     86   85     86  \n",
       "Biomasse                     75         17         57     75   54     75  \n",
       "Braunkohle                   78         69         77     78   77     78  \n",
       "Erdgas                      318        219        297    318  317    318  \n",
       "Kernenergie                   9          9          8      9    9      9  \n",
       "Mineralölprodukte            57         47         50     57   55     57  \n",
       "Steinkohle                  121        107        120    121  119    121  "
      ]
     },
     "execution_count": 288,
     "metadata": {},
     "output_type": "execute_result"
    }
   ],
   "source": [
    "pl1.groupby(\"energysource\").count()"
   ]
  },
  {
   "cell_type": "code",
   "execution_count": 289,
   "metadata": {},
   "outputs": [],
   "source": [
    "#pl0.rename(columns={ pl0.columns[10]: \"Energieträger_old\", pl0.columns[13]: \"Energieträger\"}, inplace=True)"
   ]
  },
  {
   "cell_type": "code",
   "execution_count": 290,
   "metadata": {},
   "outputs": [],
   "source": [
    "#pl0"
   ]
  },
  {
   "cell_type": "code",
   "execution_count": 291,
   "metadata": {},
   "outputs": [],
   "source": [
    "#bm"
   ]
  },
  {
   "cell_type": "code",
   "execution_count": 292,
   "metadata": {},
   "outputs": [],
   "source": [
    "#pl0.groupby(\"Energieträger\").count()"
   ]
  },
  {
   "cell_type": "code",
   "execution_count": 293,
   "metadata": {},
   "outputs": [],
   "source": [
    "#list(plt)"
   ]
  },
  {
   "cell_type": "code",
   "execution_count": 294,
   "metadata": {},
   "outputs": [],
   "source": [
    "plt = pl1.dropna(subset=[\"blockid\"])"
   ]
  },
  {
   "cell_type": "code",
   "execution_count": 28,
   "metadata": {},
   "outputs": [],
   "source": [
    "plt = plt.astype({\"energysource\": 'category'})"
   ]
  },
  {
   "cell_type": "code",
   "execution_count": 29,
   "metadata": {},
   "outputs": [],
   "source": [
    "# remove duplicates blocks in berlin\n",
    "idxs = plt.index[plt[\"blockid\"].isin([\"BNA0083\", \"BNA0085b\"]) & ~plt[\"state\"].isin([\"in Betrieb\"])].tolist()\n",
    "plt2 = plt.loc[~plt.index.isin(idxs)]"
   ]
  },
  {
   "cell_type": "code",
   "execution_count": 30,
   "metadata": {},
   "outputs": [],
   "source": [
    "#plt[\"Energieträger\"] = plt[\"Energieträger\"].astype('category')\n",
    "#plt[\"Energieträger\"] = plt[\"Energieträger\"].cat.set_categories([\"Kernenergie\", \"Braunkohle\", \"Steinkohle\", \"Erdgas\", \"Mineralölprodukte\"], ordered=True)"
   ]
  },
  {
   "cell_type": "code",
   "execution_count": 31,
   "metadata": {},
   "outputs": [],
   "source": [
    "#plt[\"Energieträger\"] = plt[\"Energieträger\"].astype('category')"
   ]
  },
  {
   "cell_type": "code",
   "execution_count": 32,
   "metadata": {},
   "outputs": [],
   "source": [
    "#plt.groupby('Energieträger').count()"
   ]
  },
  {
   "cell_type": "code",
   "execution_count": 33,
   "metadata": {},
   "outputs": [],
   "source": [
    "pl2 = plt2.loc[:]"
   ]
  },
  {
   "cell_type": "code",
   "execution_count": 34,
   "metadata": {},
   "outputs": [],
   "source": [
    "#pl2.groupby(\"Energieträger\").count()"
   ]
  },
  {
   "cell_type": "code",
   "execution_count": 35,
   "metadata": {},
   "outputs": [],
   "source": [
    "# plt.dtypes"
   ]
  },
  {
   "cell_type": "code",
   "execution_count": 36,
   "metadata": {},
   "outputs": [],
   "source": [
    "#pl2 = plt.rename(columns={ pl1.columns[0]: \"blockid\", pl1.columns[3]: \"PLZ\", pl1.columns[4]: \"Ort\", pl1.columns[8]: \"Inbetriebnahme\", pl1.columns[9]: \"Status\", pl1.columns[15]: \"KWK\", pl1.columns[16]: \"Nettoleistung\"})\n",
    "#pl3 = pl2.rename(columns={ pl1.columns[1]: \"BlockID\" })"
   ]
  },
  {
   "cell_type": "code",
   "execution_count": 37,
   "metadata": {},
   "outputs": [],
   "source": [
    "def to_year(x):\n",
    "    if type(x) == type(4):\n",
    "        return x\n",
    "    elif type(x) == type(2.5):\n",
    "        return 0 # handle nans\n",
    "    return int(x[-4:])"
   ]
  },
  {
   "cell_type": "code",
   "execution_count": 38,
   "metadata": {},
   "outputs": [],
   "source": [
    "def to_year(x):\n",
    "    dt = pd.to_datetime(x)\n",
    "    return dt.year"
   ]
  },
  {
   "cell_type": "code",
   "execution_count": 39,
   "metadata": {},
   "outputs": [],
   "source": [
    "#blocks.loc[blocks.Energieträger == \"Kernenergie\"]"
   ]
  },
  {
   "cell_type": "code",
   "execution_count": 40,
   "metadata": {},
   "outputs": [],
   "source": [
    "#pl2"
   ]
  },
  {
   "cell_type": "code",
   "execution_count": 41,
   "metadata": {},
   "outputs": [],
   "source": [
    "pl2.loc[pl2.blockid == 'BNA0861a', 'initialop'] = 2012\n",
    "pl2.loc[pl2.blockid == 'BNA1334', 'initialop'] = 2002\n",
    "pl2.loc[pl2.blockid == 'BNA1141', 'initialop'] = 1970\n",
    "pl2.loc[pl2.blockid == 'BNA0418', 'initialop'] = 2013\n",
    "pl2.loc[pl2.blockid == 'BNA1499', 'initialop'] = 1951\n",
    "pl2.loc[pl2.blockid == 'BNA1502', 'initialop'] = 2013\n",
    "pl2.loc[pl2.blockid == 'BNA1500', 'initialop'] = 1990\n",
    "pl2.loc[pl2.blockid == 'BNA1498', 'initialop'] = 1953\n",
    "pl2.loc[pl2.blockid == 'BNA1260', 'initialop'] = 2013\n",
    "pl2.loc[pl2.blockid == 'BNA1056', 'initialop'] = 2006\n",
    "pl2.loc[pl2.blockid == 'BNA1114', 'initialop'] = 2012\n",
    "\n",
    "\n",
    "\n",
    "pl2.loc[pl2.blockid == 'BNA0413b', 'initialop'] = 2014 # Westfalen D\n",
    "\n",
    "pl2.loc[pl2.blockid == 'BNA0355', 'initialop'] = 1981 # Grafenrheinfeld\n",
    "\n",
    "\n",
    "#pl2['Nettoleistung'] = pl2['Nettoleistung'].str.replace('\\n','')\n",
    "#pl2['Nettoleistung'] = pl2[pd.to_numeric(pl2[\"Nettoleistung\"])]\n",
    "#pl2['Nettoleistung'] = pl2['Nettoleistung'].str.replace(';','.')"
   ]
  },
  {
   "cell_type": "code",
   "execution_count": 42,
   "metadata": {},
   "outputs": [],
   "source": [
    "#pl2[] = pl2[pd.to_numeric(pl2[\"Nettoleistung\"])]\n",
    "pl2['initialop'] = pl2['initialop'].apply(to_year)\n",
    "pl2['power'] = pl2['power'].apply(pd.to_numeric)"
   ]
  },
  {
   "cell_type": "code",
   "execution_count": 43,
   "metadata": {},
   "outputs": [],
   "source": [
    "#bm[pl2.duplicated(['BlockID'], keep=False)].sort_values(\"BlockID\", ascending=False)"
   ]
  },
  {
   "cell_type": "code",
   "execution_count": 44,
   "metadata": {},
   "outputs": [],
   "source": [
    "#pl2[pl2.duplicated(['blockid'], keep=False)].sort_values(\"blockid\", ascending=False)"
   ]
  },
  {
   "cell_type": "code",
   "execution_count": 45,
   "metadata": {},
   "outputs": [],
   "source": [
    "#cols = [10,11,12,14,17,18,19]\n",
    "#pl3 = pl2.drop(pl2.columns[cols],axis=1)"
   ]
  },
  {
   "cell_type": "code",
   "execution_count": 46,
   "metadata": {},
   "outputs": [],
   "source": [
    "#pl3.groupby('Unternehmen').max()"
   ]
  },
  {
   "cell_type": "code",
   "execution_count": 47,
   "metadata": {},
   "outputs": [],
   "source": [
    "#pl3"
   ]
  },
  {
   "cell_type": "code",
   "execution_count": 48,
   "metadata": {},
   "outputs": [],
   "source": [
    "pl4 = pl2.copy()"
   ]
  },
  {
   "cell_type": "code",
   "execution_count": 49,
   "metadata": {},
   "outputs": [],
   "source": [
    "def fix_company(company):\n",
    "    #print(company)\n",
    "    company_dict = {\"RWE\": \"RWE AG\", \"Vattenfall\": \"Vattenfall GmbH\", \"Uniper\": \"Uniper SE\", \"EnBW\": \"EnBW AG\", \"Steag\": \"Steag GmbH\", \"Nordzucker\": \"Nordzucker AG\", \"Lausitz Energie\": \"LEAG\"}\n",
    "    for key, value in company_dict.items():\n",
    "        if key in str(company):\n",
    "            return value\n",
    "    return company"
   ]
  },
  {
   "cell_type": "code",
   "execution_count": 50,
   "metadata": {},
   "outputs": [],
   "source": [
    "z = \"Endgültig Stillgelegt 2015\""
   ]
  },
  {
   "cell_type": "code",
   "execution_count": 51,
   "metadata": {},
   "outputs": [],
   "source": [
    "def extract_still(x):\n",
    "    match = re.findall(\"[0-9]{4}\",x)\n",
    "    return match[0] if match else np.nan"
   ]
  },
  {
   "cell_type": "code",
   "execution_count": 52,
   "metadata": {},
   "outputs": [],
   "source": [
    "def extract_state(state):\n",
    "    if state == \"In Betrieb\":\n",
    "        return \"in Betrieb\"\n",
    "    elif \"Endgültig Stillgelegt\" in state:\n",
    "        return \"stillgelegt\"\n",
    "    elif \"Vorläufig Stillgelegt\" in state:\n",
    "        return \"vorläufig stillgelegt\"\n",
    "    elif \"an Stilllegung gehindert\" in state:\n",
    "        return \"Gesetzlich an Stilllegung gehindert\"\n",
    "    else:\n",
    "        return state"
   ]
  },
  {
   "cell_type": "code",
   "execution_count": 53,
   "metadata": {},
   "outputs": [
    {
     "data": {
      "text/plain": [
       "'stillgelegt'"
      ]
     },
     "execution_count": 53,
     "metadata": {},
     "output_type": "execute_result"
    }
   ],
   "source": [
    "extract_state(z)"
   ]
  },
  {
   "cell_type": "code",
   "execution_count": 54,
   "metadata": {},
   "outputs": [],
   "source": [
    "def fix_kwk(x):\n",
    "    return \"Nein\" if x == \"nein\" else \"Ja\" if x == \"ja\" else x"
   ]
  },
  {
   "cell_type": "code",
   "execution_count": 55,
   "metadata": {},
   "outputs": [],
   "source": [
    "#pl4 = pl3.ap"
   ]
  },
  {
   "cell_type": "code",
   "execution_count": 56,
   "metadata": {},
   "outputs": [],
   "source": [
    "pl4['company'] = pl4['company'].apply(lambda x: fix_company(x))\n",
    "pl4['endop'] = pl4['state'].apply(lambda x: extract_still(x))\n",
    "pl4['state'] = pl4['state'].apply(lambda x: extract_state(x))\n",
    "pl4['chp'] = pl4['chp'].apply(lambda x: fix_kwk(x))"
   ]
  },
  {
   "cell_type": "code",
   "execution_count": 57,
   "metadata": {},
   "outputs": [
    {
     "data": {
      "text/html": [
       "<div>\n",
       "<style scoped>\n",
       "    .dataframe tbody tr th:only-of-type {\n",
       "        vertical-align: middle;\n",
       "    }\n",
       "\n",
       "    .dataframe tbody tr th {\n",
       "        vertical-align: top;\n",
       "    }\n",
       "\n",
       "    .dataframe thead th {\n",
       "        text-align: right;\n",
       "    }\n",
       "</style>\n",
       "<table border=\"1\" class=\"dataframe\">\n",
       "  <thead>\n",
       "    <tr style=\"text-align: right;\">\n",
       "      <th></th>\n",
       "      <th>blockid</th>\n",
       "      <th>company</th>\n",
       "      <th>plantname</th>\n",
       "      <th>plz</th>\n",
       "      <th>place</th>\n",
       "      <th>street</th>\n",
       "      <th>federalstate</th>\n",
       "      <th>blockname</th>\n",
       "      <th>initialop</th>\n",
       "      <th>state</th>\n",
       "      <th>energysource</th>\n",
       "      <th>chp</th>\n",
       "      <th>power</th>\n",
       "      <th>endop</th>\n",
       "    </tr>\n",
       "  </thead>\n",
       "  <tbody>\n",
       "    <tr>\n",
       "      <th>2160</th>\n",
       "      <td>BNA0261b</td>\n",
       "      <td>Erlanger Stadtwerke AG</td>\n",
       "      <td>HKW Erlangen</td>\n",
       "      <td>91052</td>\n",
       "      <td>Erlangen</td>\n",
       "      <td>Äußere Bruckerstr. 33</td>\n",
       "      <td>Bayern</td>\n",
       "      <td>K6 DT2</td>\n",
       "      <td>1982.0</td>\n",
       "      <td>stillgelegt</td>\n",
       "      <td>Steinkohle</td>\n",
       "      <td>Ja</td>\n",
       "      <td>17.4</td>\n",
       "      <td>2020</td>\n",
       "    </tr>\n",
       "    <tr>\n",
       "      <th>2159</th>\n",
       "      <td>BNA1183</td>\n",
       "      <td>RheinEnergie AG</td>\n",
       "      <td>HKW Merheim</td>\n",
       "      <td>51109</td>\n",
       "      <td>Köln</td>\n",
       "      <td>NaN</td>\n",
       "      <td>Nordrhein-Westfalen</td>\n",
       "      <td>GuD</td>\n",
       "      <td>1970.0</td>\n",
       "      <td>stillgelegt</td>\n",
       "      <td>Erdgas</td>\n",
       "      <td>Ja</td>\n",
       "      <td>15.8</td>\n",
       "      <td>2020</td>\n",
       "    </tr>\n",
       "    <tr>\n",
       "      <th>2158</th>\n",
       "      <td>BNA0705</td>\n",
       "      <td>RWE AG</td>\n",
       "      <td>Niederaußem</td>\n",
       "      <td>50129</td>\n",
       "      <td>Bergheim</td>\n",
       "      <td>NaN</td>\n",
       "      <td>Nordrhein-Westfalen</td>\n",
       "      <td>D</td>\n",
       "      <td>1968.0</td>\n",
       "      <td>stillgelegt</td>\n",
       "      <td>Braunkohle</td>\n",
       "      <td>Ja</td>\n",
       "      <td>297.0</td>\n",
       "      <td>2020</td>\n",
       "    </tr>\n",
       "    <tr>\n",
       "      <th>2157</th>\n",
       "      <td>BNA0439</td>\n",
       "      <td>Helmstedter Revier GmbH</td>\n",
       "      <td>Buschhaus</td>\n",
       "      <td>38350</td>\n",
       "      <td>Helmstedt</td>\n",
       "      <td>NaN</td>\n",
       "      <td>Niedersachsen</td>\n",
       "      <td>D</td>\n",
       "      <td>1970.0</td>\n",
       "      <td>stillgelegt</td>\n",
       "      <td>Braunkohle</td>\n",
       "      <td>Nein</td>\n",
       "      <td>352.0</td>\n",
       "      <td>2020</td>\n",
       "    </tr>\n",
       "    <tr>\n",
       "      <th>2152</th>\n",
       "      <td>BNA0343</td>\n",
       "      <td>Energieversorgung Gera GmbH</td>\n",
       "      <td>Heizkraftwerk Gera-Nord</td>\n",
       "      <td>7546</td>\n",
       "      <td>Gera</td>\n",
       "      <td>Siemensstraße 45</td>\n",
       "      <td>Thüringen</td>\n",
       "      <td>NaN</td>\n",
       "      <td>1996.0</td>\n",
       "      <td>stillgelegt</td>\n",
       "      <td>Erdgas</td>\n",
       "      <td>Ja</td>\n",
       "      <td>74.0</td>\n",
       "      <td>2019</td>\n",
       "    </tr>\n",
       "    <tr>\n",
       "      <th>...</th>\n",
       "      <td>...</td>\n",
       "      <td>...</td>\n",
       "      <td>...</td>\n",
       "      <td>...</td>\n",
       "      <td>...</td>\n",
       "      <td>...</td>\n",
       "      <td>...</td>\n",
       "      <td>...</td>\n",
       "      <td>...</td>\n",
       "      <td>...</td>\n",
       "      <td>...</td>\n",
       "      <td>...</td>\n",
       "      <td>...</td>\n",
       "      <td>...</td>\n",
       "    </tr>\n",
       "    <tr>\n",
       "      <th>2038</th>\n",
       "      <td>BNA0413c</td>\n",
       "      <td>RWE AG</td>\n",
       "      <td>Westfalen</td>\n",
       "      <td>59071</td>\n",
       "      <td>Hamm-Uentrop</td>\n",
       "      <td>NaN</td>\n",
       "      <td>Nordrhein-Westfalen</td>\n",
       "      <td>E</td>\n",
       "      <td>1970.0</td>\n",
       "      <td>Kohlestromvermarktungsverbot</td>\n",
       "      <td>Steinkohle</td>\n",
       "      <td>Nein</td>\n",
       "      <td>763.7</td>\n",
       "      <td>NaN</td>\n",
       "    </tr>\n",
       "    <tr>\n",
       "      <th>2039</th>\n",
       "      <td>BNA1673</td>\n",
       "      <td>Vattenfall GmbH</td>\n",
       "      <td>Moorburg A</td>\n",
       "      <td>21079</td>\n",
       "      <td>Hamburg</td>\n",
       "      <td>Moorburger Schanze 2</td>\n",
       "      <td>Hamburg</td>\n",
       "      <td>A</td>\n",
       "      <td>1970.0</td>\n",
       "      <td>Kohlestromvermarktungsverbot</td>\n",
       "      <td>Steinkohle</td>\n",
       "      <td>Ja</td>\n",
       "      <td>800.0</td>\n",
       "      <td>NaN</td>\n",
       "    </tr>\n",
       "    <tr>\n",
       "      <th>2040</th>\n",
       "      <td>BNA1558</td>\n",
       "      <td>Vattenfall GmbH</td>\n",
       "      <td>Moorburg B</td>\n",
       "      <td>21079</td>\n",
       "      <td>Hamburg</td>\n",
       "      <td>Moorburger Schanze 2</td>\n",
       "      <td>Hamburg</td>\n",
       "      <td>B</td>\n",
       "      <td>2015.0</td>\n",
       "      <td>Kohlestromvermarktungsverbot</td>\n",
       "      <td>Steinkohle</td>\n",
       "      <td>Ja</td>\n",
       "      <td>800.0</td>\n",
       "      <td>NaN</td>\n",
       "    </tr>\n",
       "    <tr>\n",
       "      <th>2041</th>\n",
       "      <td>BNA0216a</td>\n",
       "      <td>Steag GmbH</td>\n",
       "      <td>KW Walsum</td>\n",
       "      <td>47179</td>\n",
       "      <td>Duisburg</td>\n",
       "      <td>Dr. Wilhelm-Roelen-Str.129</td>\n",
       "      <td>Nordrhein-Westfalen</td>\n",
       "      <td>Walsum 9</td>\n",
       "      <td>1988.0</td>\n",
       "      <td>Kohlestromvermarktungsverbot</td>\n",
       "      <td>Steinkohle</td>\n",
       "      <td>Ja</td>\n",
       "      <td>370.0</td>\n",
       "      <td>NaN</td>\n",
       "    </tr>\n",
       "    <tr>\n",
       "      <th>2042</th>\n",
       "      <td>BNA0146</td>\n",
       "      <td>swb Erzeugung AG &amp; Co. KG</td>\n",
       "      <td>KW Hafen</td>\n",
       "      <td>28237</td>\n",
       "      <td>Bremen</td>\n",
       "      <td>Otavistr. 7-9</td>\n",
       "      <td>Bremen</td>\n",
       "      <td>Block 6</td>\n",
       "      <td>1970.0</td>\n",
       "      <td>Kohlestromvermarktungsverbot</td>\n",
       "      <td>Steinkohle</td>\n",
       "      <td>Ja</td>\n",
       "      <td>303.0</td>\n",
       "      <td>NaN</td>\n",
       "    </tr>\n",
       "  </tbody>\n",
       "</table>\n",
       "<p>720 rows × 14 columns</p>\n",
       "</div>"
      ],
      "text/plain": [
       "       blockid                      company                plantname    plz  \\\n",
       "2160  BNA0261b       Erlanger Stadtwerke AG             HKW Erlangen  91052   \n",
       "2159   BNA1183              RheinEnergie AG              HKW Merheim  51109   \n",
       "2158   BNA0705                       RWE AG              Niederaußem  50129   \n",
       "2157   BNA0439      Helmstedter Revier GmbH                Buschhaus  38350   \n",
       "2152   BNA0343  Energieversorgung Gera GmbH  Heizkraftwerk Gera-Nord   7546   \n",
       "...        ...                          ...                      ...    ...   \n",
       "2038  BNA0413c                       RWE AG                Westfalen  59071   \n",
       "2039   BNA1673              Vattenfall GmbH               Moorburg A  21079   \n",
       "2040   BNA1558              Vattenfall GmbH               Moorburg B  21079   \n",
       "2041  BNA0216a                   Steag GmbH                KW Walsum  47179   \n",
       "2042   BNA0146    swb Erzeugung AG & Co. KG                 KW Hafen  28237   \n",
       "\n",
       "             place                      street         federalstate blockname  \\\n",
       "2160      Erlangen       Äußere Bruckerstr. 33               Bayern    K6 DT2   \n",
       "2159          Köln                         NaN  Nordrhein-Westfalen       GuD   \n",
       "2158      Bergheim                         NaN  Nordrhein-Westfalen         D   \n",
       "2157     Helmstedt                         NaN        Niedersachsen         D   \n",
       "2152          Gera            Siemensstraße 45            Thüringen       NaN   \n",
       "...            ...                         ...                  ...       ...   \n",
       "2038  Hamm-Uentrop                         NaN  Nordrhein-Westfalen         E   \n",
       "2039       Hamburg        Moorburger Schanze 2              Hamburg         A   \n",
       "2040       Hamburg        Moorburger Schanze 2              Hamburg         B   \n",
       "2041      Duisburg  Dr. Wilhelm-Roelen-Str.129  Nordrhein-Westfalen  Walsum 9   \n",
       "2042        Bremen               Otavistr. 7-9               Bremen   Block 6   \n",
       "\n",
       "      initialop                         state energysource   chp  power endop  \n",
       "2160     1982.0                   stillgelegt   Steinkohle    Ja   17.4  2020  \n",
       "2159     1970.0                   stillgelegt       Erdgas    Ja   15.8  2020  \n",
       "2158     1968.0                   stillgelegt   Braunkohle    Ja  297.0  2020  \n",
       "2157     1970.0                   stillgelegt   Braunkohle  Nein  352.0  2020  \n",
       "2152     1996.0                   stillgelegt       Erdgas    Ja   74.0  2019  \n",
       "...         ...                           ...          ...   ...    ...   ...  \n",
       "2038     1970.0  Kohlestromvermarktungsverbot   Steinkohle  Nein  763.7   NaN  \n",
       "2039     1970.0  Kohlestromvermarktungsverbot   Steinkohle    Ja  800.0   NaN  \n",
       "2040     2015.0  Kohlestromvermarktungsverbot   Steinkohle    Ja  800.0   NaN  \n",
       "2041     1988.0  Kohlestromvermarktungsverbot   Steinkohle    Ja  370.0   NaN  \n",
       "2042     1970.0  Kohlestromvermarktungsverbot   Steinkohle    Ja  303.0   NaN  \n",
       "\n",
       "[720 rows x 14 columns]"
      ]
     },
     "execution_count": 57,
     "metadata": {},
     "output_type": "execute_result"
    }
   ],
   "source": [
    "pl4.sort_values('endop', ascending=False)"
   ]
  },
  {
   "cell_type": "code",
   "execution_count": 58,
   "metadata": {},
   "outputs": [],
   "source": [
    "newdf = pl4.copy()"
   ]
  },
  {
   "cell_type": "code",
   "execution_count": 59,
   "metadata": {},
   "outputs": [],
   "source": [
    "#newdf.dtypes"
   ]
  },
  {
   "cell_type": "code",
   "execution_count": 60,
   "metadata": {},
   "outputs": [],
   "source": [
    "newdf[\"state\"] = newdf[\"state\"].astype('category')\n",
    "newdf[\"state\"] = newdf[\"state\"].cat.set_categories(STATES, ordered=True)"
   ]
  },
  {
   "cell_type": "code",
   "execution_count": 61,
   "metadata": {},
   "outputs": [],
   "source": [
    "newdf[\"chp\"] = newdf[\"chp\"].astype('category')\n",
    "newdf[\"chp\"] = newdf[\"chp\"].cat.set_categories(['Ja', 'Nein'], ordered=True)"
   ]
  },
  {
   "cell_type": "code",
   "execution_count": 62,
   "metadata": {},
   "outputs": [],
   "source": [
    "atest = newdf.groupby(\"chp\")"
   ]
  },
  {
   "cell_type": "code",
   "execution_count": 63,
   "metadata": {},
   "outputs": [],
   "source": [
    "#newdf.groupby(\"energysource\").count()"
   ]
  },
  {
   "cell_type": "code",
   "execution_count": 64,
   "metadata": {},
   "outputs": [
    {
     "data": {
      "text/html": [
       "<div>\n",
       "<style scoped>\n",
       "    .dataframe tbody tr th:only-of-type {\n",
       "        vertical-align: middle;\n",
       "    }\n",
       "\n",
       "    .dataframe tbody tr th {\n",
       "        vertical-align: top;\n",
       "    }\n",
       "\n",
       "    .dataframe thead th {\n",
       "        text-align: right;\n",
       "    }\n",
       "</style>\n",
       "<table border=\"1\" class=\"dataframe\">\n",
       "  <thead>\n",
       "    <tr style=\"text-align: right;\">\n",
       "      <th></th>\n",
       "      <th>blockid</th>\n",
       "      <th>company</th>\n",
       "      <th>plantname</th>\n",
       "      <th>plz</th>\n",
       "      <th>place</th>\n",
       "      <th>street</th>\n",
       "      <th>federalstate</th>\n",
       "      <th>blockname</th>\n",
       "      <th>initialop</th>\n",
       "      <th>state</th>\n",
       "      <th>energysource</th>\n",
       "      <th>power</th>\n",
       "      <th>endop</th>\n",
       "    </tr>\n",
       "    <tr>\n",
       "      <th>chp</th>\n",
       "      <th></th>\n",
       "      <th></th>\n",
       "      <th></th>\n",
       "      <th></th>\n",
       "      <th></th>\n",
       "      <th></th>\n",
       "      <th></th>\n",
       "      <th></th>\n",
       "      <th></th>\n",
       "      <th></th>\n",
       "      <th></th>\n",
       "      <th></th>\n",
       "      <th></th>\n",
       "    </tr>\n",
       "  </thead>\n",
       "  <tbody>\n",
       "    <tr>\n",
       "      <th>Ja</th>\n",
       "      <td>523</td>\n",
       "      <td>520</td>\n",
       "      <td>500</td>\n",
       "      <td>523</td>\n",
       "      <td>523</td>\n",
       "      <td>324</td>\n",
       "      <td>523</td>\n",
       "      <td>356</td>\n",
       "      <td>506</td>\n",
       "      <td>523</td>\n",
       "      <td>523</td>\n",
       "      <td>523</td>\n",
       "      <td>59</td>\n",
       "    </tr>\n",
       "    <tr>\n",
       "      <th>Nein</th>\n",
       "      <td>191</td>\n",
       "      <td>191</td>\n",
       "      <td>190</td>\n",
       "      <td>191</td>\n",
       "      <td>191</td>\n",
       "      <td>80</td>\n",
       "      <td>191</td>\n",
       "      <td>162</td>\n",
       "      <td>180</td>\n",
       "      <td>191</td>\n",
       "      <td>191</td>\n",
       "      <td>191</td>\n",
       "      <td>53</td>\n",
       "    </tr>\n",
       "  </tbody>\n",
       "</table>\n",
       "</div>"
      ],
      "text/plain": [
       "      blockid  company  plantname  plz  place  street  federalstate  \\\n",
       "chp                                                                   \n",
       "Ja        523      520        500  523    523     324           523   \n",
       "Nein      191      191        190  191    191      80           191   \n",
       "\n",
       "      blockname  initialop  state  energysource  power  endop  \n",
       "chp                                                            \n",
       "Ja          356        506    523           523    523     59  \n",
       "Nein        162        180    191           191    191     53  "
      ]
     },
     "execution_count": 64,
     "metadata": {},
     "output_type": "execute_result"
    }
   ],
   "source": [
    "atest.count()"
   ]
  },
  {
   "cell_type": "code",
   "execution_count": 65,
   "metadata": {},
   "outputs": [],
   "source": [
    "pl3 = newdf"
   ]
  },
  {
   "cell_type": "code",
   "execution_count": 66,
   "metadata": {},
   "outputs": [],
   "source": [
    "atest = newdf.groupby([\"power\"]).count()\n",
    "atest.sort_values(\"initialop\", inplace=True, ascending=False)"
   ]
  },
  {
   "cell_type": "code",
   "execution_count": 67,
   "metadata": {},
   "outputs": [],
   "source": [
    "#print(atest)"
   ]
  },
  {
   "cell_type": "code",
   "execution_count": 68,
   "metadata": {},
   "outputs": [],
   "source": [
    "atest = pl3.groupby([\"state\"]).count()\n",
    "# atest"
   ]
  },
  {
   "cell_type": "code",
   "execution_count": 69,
   "metadata": {},
   "outputs": [],
   "source": [
    "# pl3.rename(columns={ pl3.columns[10]: \"Energieträger\"}, inplace=True)"
   ]
  },
  {
   "cell_type": "code",
   "execution_count": 70,
   "metadata": {},
   "outputs": [
    {
     "data": {
      "text/html": [
       "<div>\n",
       "<style scoped>\n",
       "    .dataframe tbody tr th:only-of-type {\n",
       "        vertical-align: middle;\n",
       "    }\n",
       "\n",
       "    .dataframe tbody tr th {\n",
       "        vertical-align: top;\n",
       "    }\n",
       "\n",
       "    .dataframe thead th {\n",
       "        text-align: right;\n",
       "    }\n",
       "</style>\n",
       "<table border=\"1\" class=\"dataframe\">\n",
       "  <thead>\n",
       "    <tr style=\"text-align: right;\">\n",
       "      <th></th>\n",
       "      <th>plantid</th>\n",
       "      <th>blockid</th>\n",
       "    </tr>\n",
       "  </thead>\n",
       "  <tbody>\n",
       "  </tbody>\n",
       "</table>\n",
       "</div>"
      ],
      "text/plain": [
       "Empty DataFrame\n",
       "Columns: [plantid, blockid]\n",
       "Index: []"
      ]
     },
     "execution_count": 70,
     "metadata": {},
     "output_type": "execute_result"
    }
   ],
   "source": [
    "bm[bm.duplicated(['blockid'], keep=False)].sort_values(\"blockid\", ascending=False)"
   ]
  },
  {
   "cell_type": "code",
   "execution_count": 71,
   "metadata": {},
   "outputs": [],
   "source": [
    "#bm2 = bm.drop_duplicates()"
   ]
  },
  {
   "cell_type": "code",
   "execution_count": 72,
   "metadata": {},
   "outputs": [],
   "source": [
    "pl4 = bm.merge(pl3, how=\"outer\", on=\"blockid\")"
   ]
  },
  {
   "cell_type": "code",
   "execution_count": 73,
   "metadata": {},
   "outputs": [],
   "source": [
    "#pl4[pl4.duplicated(['BlocID'], keep=False)].sort_values(\"BlockID\", ascending=False)"
   ]
  },
  {
   "cell_type": "code",
   "execution_count": 178,
   "metadata": {},
   "outputs": [],
   "source": [
    "pl5 = pl4[pd.notnull(pl4['blockid'])]\n",
    "#pl5 = pl4\n",
    "pl5a = pl5[pd.notnull(pl5['power'])]"
   ]
  },
  {
   "cell_type": "code",
   "execution_count": 295,
   "metadata": {},
   "outputs": [],
   "source": [
    "pl6 =  pl5a #[pd.notnull(pl5a['plantid'])]"
   ]
  },
  {
   "cell_type": "code",
   "execution_count": 296,
   "metadata": {},
   "outputs": [],
   "source": [
    "#pl4[pl4['plantid'].isnull()].sort_values(by=[\"power\"])"
   ]
  },
  {
   "cell_type": "code",
   "execution_count": 297,
   "metadata": {},
   "outputs": [
    {
     "name": "stderr",
     "output_type": "stream",
     "text": [
      "/tmp/ipykernel_607927/118278390.py:1: SettingWithCopyWarning: \n",
      "A value is trying to be set on a copy of a slice from a DataFrame.\n",
      "Try using .loc[row_indexer,col_indexer] = value instead\n",
      "\n",
      "See the caveats in the documentation: https://pandas.pydata.org/pandas-docs/stable/user_guide/indexing.html#returning-a-view-versus-a-copy\n",
      "  pl6['plantid'] = pl6['plantid'].apply(lambda x: str(x).replace('/', '_'))\n"
     ]
    }
   ],
   "source": [
    "pl6['plantid'] = pl6['plantid'].apply(lambda x: str(x).replace('/', '_'))"
   ]
  },
  {
   "cell_type": "code",
   "execution_count": 298,
   "metadata": {},
   "outputs": [],
   "source": [
    "# pl7 = pl6.replace(\"/\", \"_\")"
   ]
  },
  {
   "cell_type": "code",
   "execution_count": 299,
   "metadata": {},
   "outputs": [],
   "source": [
    "#pl7 = pl6.apply(str.replace(\"/\", \"_\"))"
   ]
  },
  {
   "cell_type": "code",
   "execution_count": 300,
   "metadata": {},
   "outputs": [],
   "source": [
    "#pl6.loc[pl6.Kraftwerksname == \"KW Mittelsbüren\"]"
   ]
  },
  {
   "cell_type": "code",
   "execution_count": 301,
   "metadata": {},
   "outputs": [
    {
     "name": "stderr",
     "output_type": "stream",
     "text": [
      "/tmp/ipykernel_607927/4201543385.py:1: SettingWithCopyWarning: \n",
      "A value is trying to be set on a copy of a slice from a DataFrame.\n",
      "Try using .loc[row_indexer,col_indexer] = value instead\n",
      "\n",
      "See the caveats in the documentation: https://pandas.pydata.org/pandas-docs/stable/user_guide/indexing.html#returning-a-view-versus-a-copy\n",
      "  pl6['initialop'] = pl6['initialop'].apply(pd.to_numeric)\n"
     ]
    }
   ],
   "source": [
    "pl6['initialop'] = pl6['initialop'].apply(pd.to_numeric)"
   ]
  },
  {
   "cell_type": "code",
   "execution_count": 302,
   "metadata": {},
   "outputs": [],
   "source": [
    "blocks = pl6.copy()\n",
    "stammdaten = pl6.copy()"
   ]
  },
  {
   "cell_type": "code",
   "execution_count": 303,
   "metadata": {},
   "outputs": [],
   "source": [
    "blocks.sort_values(\"initialop\", inplace=True, ascending=False)\n",
    "# blocks"
   ]
  },
  {
   "cell_type": "code",
   "execution_count": 304,
   "metadata": {},
   "outputs": [],
   "source": [
    "plants = blocks.loc[:]\n",
    "plants = plants.dropna(subset=[\"plantid\", \"initialop\"]) #TODO: remove initialop from here"
   ]
  },
  {
   "cell_type": "code",
   "execution_count": 305,
   "metadata": {},
   "outputs": [
    {
     "data": {
      "text/html": [
       "<div>\n",
       "<style scoped>\n",
       "    .dataframe tbody tr th:only-of-type {\n",
       "        vertical-align: middle;\n",
       "    }\n",
       "\n",
       "    .dataframe tbody tr th {\n",
       "        vertical-align: top;\n",
       "    }\n",
       "\n",
       "    .dataframe thead th {\n",
       "        text-align: right;\n",
       "    }\n",
       "</style>\n",
       "<table border=\"1\" class=\"dataframe\">\n",
       "  <thead>\n",
       "    <tr style=\"text-align: right;\">\n",
       "      <th></th>\n",
       "      <th>plantid</th>\n",
       "      <th>blockid</th>\n",
       "      <th>company</th>\n",
       "      <th>plantname</th>\n",
       "      <th>plz</th>\n",
       "      <th>place</th>\n",
       "      <th>street</th>\n",
       "      <th>federalstate</th>\n",
       "      <th>blockname</th>\n",
       "      <th>initialop</th>\n",
       "      <th>state</th>\n",
       "      <th>energysource</th>\n",
       "      <th>chp</th>\n",
       "      <th>power</th>\n",
       "      <th>endop</th>\n",
       "    </tr>\n",
       "  </thead>\n",
       "  <tbody>\n",
       "    <tr>\n",
       "      <th>724</th>\n",
       "      <td>nan</td>\n",
       "      <td>BNA1950</td>\n",
       "      <td>Vattenfall GmbH</td>\n",
       "      <td>GuD Marzahn</td>\n",
       "      <td>12681</td>\n",
       "      <td>Berlin</td>\n",
       "      <td>NaN</td>\n",
       "      <td>Berlin</td>\n",
       "      <td>GuD Marzahn</td>\n",
       "      <td>2020.0</td>\n",
       "      <td>in Betrieb</td>\n",
       "      <td>Erdgas</td>\n",
       "      <td>Ja</td>\n",
       "      <td>258.000</td>\n",
       "      <td>NaN</td>\n",
       "    </tr>\n",
       "    <tr>\n",
       "      <th>140</th>\n",
       "      <td>06-05-500-0342713</td>\n",
       "      <td>BNA1949</td>\n",
       "      <td>Uniper SE</td>\n",
       "      <td>Datteln</td>\n",
       "      <td>45711</td>\n",
       "      <td>Datteln</td>\n",
       "      <td>NaN</td>\n",
       "      <td>Nordrhein-Westfalen</td>\n",
       "      <td>Datteln 4</td>\n",
       "      <td>2020.0</td>\n",
       "      <td>in Betrieb</td>\n",
       "      <td>Steinkohle</td>\n",
       "      <td>Ja</td>\n",
       "      <td>1052.000</td>\n",
       "      <td>NaN</td>\n",
       "    </tr>\n",
       "    <tr>\n",
       "      <th>720</th>\n",
       "      <td>nan</td>\n",
       "      <td>BNA1989</td>\n",
       "      <td>EVH GmbH</td>\n",
       "      <td>Block C</td>\n",
       "      <td>6130</td>\n",
       "      <td>Halle (Saale)</td>\n",
       "      <td>NaN</td>\n",
       "      <td>Sachsen-Anhalt</td>\n",
       "      <td>Block C</td>\n",
       "      <td>2020.0</td>\n",
       "      <td>in Betrieb</td>\n",
       "      <td>Erdgas</td>\n",
       "      <td>Ja</td>\n",
       "      <td>57.250</td>\n",
       "      <td>NaN</td>\n",
       "    </tr>\n",
       "    <tr>\n",
       "      <th>433</th>\n",
       "      <td>06-09-162-0025-0001</td>\n",
       "      <td>BNA1947</td>\n",
       "      <td>BMW AG</td>\n",
       "      <td>Werk 1.5</td>\n",
       "      <td>80937</td>\n",
       "      <td>München</td>\n",
       "      <td>Knorrstraße 147</td>\n",
       "      <td>Bayern</td>\n",
       "      <td>KWK 1-4</td>\n",
       "      <td>2019.0</td>\n",
       "      <td>in Betrieb</td>\n",
       "      <td>Erdgas</td>\n",
       "      <td>Ja</td>\n",
       "      <td>13.600</td>\n",
       "      <td>NaN</td>\n",
       "    </tr>\n",
       "    <tr>\n",
       "      <th>432</th>\n",
       "      <td>06-09-162-0025-0001</td>\n",
       "      <td>BNA1946</td>\n",
       "      <td>BMW AG</td>\n",
       "      <td>Werk 1.1</td>\n",
       "      <td>80809</td>\n",
       "      <td>München</td>\n",
       "      <td>Lerchennauerstraße 76</td>\n",
       "      <td>Bayern</td>\n",
       "      <td>KWK 1-3</td>\n",
       "      <td>2019.0</td>\n",
       "      <td>in Betrieb</td>\n",
       "      <td>Erdgas</td>\n",
       "      <td>Ja</td>\n",
       "      <td>13.500</td>\n",
       "      <td>NaN</td>\n",
       "    </tr>\n",
       "    <tr>\n",
       "      <th>...</th>\n",
       "      <td>...</td>\n",
       "      <td>...</td>\n",
       "      <td>...</td>\n",
       "      <td>...</td>\n",
       "      <td>...</td>\n",
       "      <td>...</td>\n",
       "      <td>...</td>\n",
       "      <td>...</td>\n",
       "      <td>...</td>\n",
       "      <td>...</td>\n",
       "      <td>...</td>\n",
       "      <td>...</td>\n",
       "      <td>...</td>\n",
       "      <td>...</td>\n",
       "      <td>...</td>\n",
       "    </tr>\n",
       "    <tr>\n",
       "      <th>518</th>\n",
       "      <td>661-114</td>\n",
       "      <td>BNA0856</td>\n",
       "      <td>TWS Thüringer Wärme Service GmbH</td>\n",
       "      <td>HKW Schwarza</td>\n",
       "      <td>7407</td>\n",
       "      <td>Rudolstadt</td>\n",
       "      <td>NaN</td>\n",
       "      <td>Thüringen</td>\n",
       "      <td>NaN</td>\n",
       "      <td>1936.0</td>\n",
       "      <td>in Betrieb</td>\n",
       "      <td>Erdgas</td>\n",
       "      <td>Ja</td>\n",
       "      <td>26.500</td>\n",
       "      <td>NaN</td>\n",
       "    </tr>\n",
       "    <tr>\n",
       "      <th>372</th>\n",
       "      <td>664-02</td>\n",
       "      <td>BNA0196</td>\n",
       "      <td>Mitteldeutsche Braunkohlengesellschaft mbH</td>\n",
       "      <td>Deuben</td>\n",
       "      <td>6682</td>\n",
       "      <td>Teuchern</td>\n",
       "      <td>NaN</td>\n",
       "      <td>Sachsen-Anhalt</td>\n",
       "      <td>NaN</td>\n",
       "      <td>1936.0</td>\n",
       "      <td>in Betrieb</td>\n",
       "      <td>Braunkohle</td>\n",
       "      <td>Ja</td>\n",
       "      <td>67.000</td>\n",
       "      <td>NaN</td>\n",
       "    </tr>\n",
       "    <tr>\n",
       "      <th>361</th>\n",
       "      <td>06-05-900-0001413</td>\n",
       "      <td>BNA1331</td>\n",
       "      <td>R.D.M. Arnsberg GmbH</td>\n",
       "      <td>Reno De Medici</td>\n",
       "      <td>59821</td>\n",
       "      <td>Arnsberg</td>\n",
       "      <td>Hellefelderstr. 51</td>\n",
       "      <td>Nordrhein-Westfalen</td>\n",
       "      <td>HD - Kraftwerk</td>\n",
       "      <td>1923.0</td>\n",
       "      <td>in Betrieb</td>\n",
       "      <td>Steinkohle</td>\n",
       "      <td>Ja</td>\n",
       "      <td>18.025</td>\n",
       "      <td>NaN</td>\n",
       "    </tr>\n",
       "    <tr>\n",
       "      <th>434</th>\n",
       "      <td>661-34</td>\n",
       "      <td>BNA0755a</td>\n",
       "      <td>Kraftwerk Obernburg GmbH</td>\n",
       "      <td>Obernburg</td>\n",
       "      <td>63784</td>\n",
       "      <td>Obernburg</td>\n",
       "      <td>NaN</td>\n",
       "      <td>Bayern</td>\n",
       "      <td>2</td>\n",
       "      <td>1920.0</td>\n",
       "      <td>in Betrieb</td>\n",
       "      <td>Erdgas</td>\n",
       "      <td>Ja</td>\n",
       "      <td>40.000</td>\n",
       "      <td>NaN</td>\n",
       "    </tr>\n",
       "    <tr>\n",
       "      <th>632</th>\n",
       "      <td>nan</td>\n",
       "      <td>BNA0407</td>\n",
       "      <td>Enertec Hameln GmbH</td>\n",
       "      <td>Enertec Hameln</td>\n",
       "      <td>31789</td>\n",
       "      <td>Hameln</td>\n",
       "      <td>NaN</td>\n",
       "      <td>Niedersachsen</td>\n",
       "      <td>Linien 1,3,4</td>\n",
       "      <td>1913.0</td>\n",
       "      <td>in Betrieb</td>\n",
       "      <td>Abfall</td>\n",
       "      <td>Ja</td>\n",
       "      <td>13.200</td>\n",
       "      <td>NaN</td>\n",
       "    </tr>\n",
       "  </tbody>\n",
       "</table>\n",
       "<p>691 rows × 15 columns</p>\n",
       "</div>"
      ],
      "text/plain": [
       "                 plantid   blockid  \\\n",
       "724                  nan   BNA1950   \n",
       "140    06-05-500-0342713   BNA1949   \n",
       "720                  nan   BNA1989   \n",
       "433  06-09-162-0025-0001   BNA1947   \n",
       "432  06-09-162-0025-0001   BNA1946   \n",
       "..                   ...       ...   \n",
       "518              661-114   BNA0856   \n",
       "372               664-02   BNA0196   \n",
       "361    06-05-900-0001413   BNA1331   \n",
       "434               661-34  BNA0755a   \n",
       "632                  nan   BNA0407   \n",
       "\n",
       "                                        company       plantname    plz  \\\n",
       "724                             Vattenfall GmbH     GuD Marzahn  12681   \n",
       "140                                   Uniper SE         Datteln  45711   \n",
       "720                                    EVH GmbH         Block C   6130   \n",
       "433                                      BMW AG        Werk 1.5  80937   \n",
       "432                                      BMW AG        Werk 1.1  80809   \n",
       "..                                          ...             ...    ...   \n",
       "518            TWS Thüringer Wärme Service GmbH    HKW Schwarza   7407   \n",
       "372  Mitteldeutsche Braunkohlengesellschaft mbH          Deuben   6682   \n",
       "361                        R.D.M. Arnsberg GmbH  Reno De Medici  59821   \n",
       "434                    Kraftwerk Obernburg GmbH       Obernburg  63784   \n",
       "632                         Enertec Hameln GmbH  Enertec Hameln  31789   \n",
       "\n",
       "             place                 street         federalstate  \\\n",
       "724         Berlin                    NaN               Berlin   \n",
       "140        Datteln                    NaN  Nordrhein-Westfalen   \n",
       "720  Halle (Saale)                    NaN       Sachsen-Anhalt   \n",
       "433        München        Knorrstraße 147               Bayern   \n",
       "432        München  Lerchennauerstraße 76               Bayern   \n",
       "..             ...                    ...                  ...   \n",
       "518     Rudolstadt                    NaN            Thüringen   \n",
       "372       Teuchern                    NaN       Sachsen-Anhalt   \n",
       "361       Arnsberg     Hellefelderstr. 51  Nordrhein-Westfalen   \n",
       "434      Obernburg                    NaN               Bayern   \n",
       "632         Hameln                    NaN        Niedersachsen   \n",
       "\n",
       "          blockname  initialop       state energysource chp     power endop  \n",
       "724     GuD Marzahn     2020.0  in Betrieb       Erdgas  Ja   258.000   NaN  \n",
       "140       Datteln 4     2020.0  in Betrieb   Steinkohle  Ja  1052.000   NaN  \n",
       "720         Block C     2020.0  in Betrieb       Erdgas  Ja    57.250   NaN  \n",
       "433         KWK 1-4     2019.0  in Betrieb       Erdgas  Ja    13.600   NaN  \n",
       "432         KWK 1-3     2019.0  in Betrieb       Erdgas  Ja    13.500   NaN  \n",
       "..              ...        ...         ...          ...  ..       ...   ...  \n",
       "518             NaN     1936.0  in Betrieb       Erdgas  Ja    26.500   NaN  \n",
       "372             NaN     1936.0  in Betrieb   Braunkohle  Ja    67.000   NaN  \n",
       "361  HD - Kraftwerk     1923.0  in Betrieb   Steinkohle  Ja    18.025   NaN  \n",
       "434               2     1920.0  in Betrieb       Erdgas  Ja    40.000   NaN  \n",
       "632    Linien 1,3,4     1913.0  in Betrieb       Abfall  Ja    13.200   NaN  \n",
       "\n",
       "[691 rows x 15 columns]"
      ]
     },
     "execution_count": 305,
     "metadata": {},
     "output_type": "execute_result"
    }
   ],
   "source": [
    "plants"
   ]
  },
  {
   "cell_type": "code",
   "execution_count": 306,
   "metadata": {},
   "outputs": [],
   "source": [
    "#plants_d = plants.loc[plants.duplicated(\"KraftwerkID\", keep=False)]\n",
    "# plants_d"
   ]
  },
  {
   "cell_type": "code",
   "execution_count": 307,
   "metadata": {},
   "outputs": [],
   "source": [
    "#plants_c = plants_d.groupby([\"KraftwerkID\"]).sum()\n",
    "#plants_count = plants_d.groupby([\"KraftwerkID\"]).count()"
   ]
  },
  {
   "cell_type": "code",
   "execution_count": 308,
   "metadata": {},
   "outputs": [],
   "source": [
    "#plants_f = plants_c.reset_index()"
   ]
  },
  {
   "cell_type": "code",
   "execution_count": 309,
   "metadata": {},
   "outputs": [],
   "source": [
    "#plants_count = plants_count.loc[:, [\"blockid\"]]"
   ]
  },
  {
   "cell_type": "code",
   "execution_count": 310,
   "metadata": {},
   "outputs": [],
   "source": [
    "#plants_count = plants_count.reset_index()\n",
    "# plants_count "
   ]
  },
  {
   "cell_type": "code",
   "execution_count": 311,
   "metadata": {},
   "outputs": [],
   "source": [
    "#plants_f = plants_f.merge(plants_count, on=\"KraftwerkID\", how=\"inner\")\n",
    "# plants_f"
   ]
  },
  {
   "cell_type": "code",
   "execution_count": 312,
   "metadata": {
    "scrolled": true
   },
   "outputs": [],
   "source": [
    "#plants[plants.duplicated(['KraftwerkID'], keep=False)].sort_values(\"BlockID\", ascending=False)"
   ]
  },
  {
   "cell_type": "code",
   "execution_count": 313,
   "metadata": {},
   "outputs": [],
   "source": [
    "plants[\"energysource\"] = plants[\"energysource\"].astype('category')\n",
    "plants[\"energysource\"] = plants[\"energysource\"].cat.set_categories(ENERGIES, ordered=True)\n",
    "plants[\"state\"] = plants[\"state\"].astype('category')\n",
    "plants[\"state\"] = plants[\"state\"].cat.set_categories(STATES, ordered=True)\n",
    "plants[\"chp\"] = plants[\"chp\"].astype('category')\n",
    "plants[\"chp\"] = plants[\"chp\"].cat.set_categories(['Ja', 'Nein'], ordered=True)\n",
    "plants[\"federalstate\"] = plants[\"federalstate\"].astype('category')\n",
    "plants[\"federalstate\"] = plants[\"federalstate\"].cat.set_categories(['Baden-Württemberg', 'Bayern', 'Berlin', 'Brandenburg', 'Bremen', 'Hamburg', 'Hessen', 'Mecklenburg-Vorpommern', 'Niedersachsen', 'Nordrhein-Westfalen', 'Rheinland-Pfalz', 'Saarland', 'Sachsen', 'Sachsen-Anhalt', 'Schleswig-Holstein', 'Thüringen'])"
   ]
  },
  {
   "cell_type": "code",
   "execution_count": 314,
   "metadata": {},
   "outputs": [],
   "source": [
    "pl1 = pl0.loc[pl0[\"energysource\"].isin([\"Kernenergie\", \"Erdgas\", \"Steinkohle\", \"Braunkohle\", \"Steinkohle\"])]"
   ]
  },
  {
   "cell_type": "code",
   "execution_count": 315,
   "metadata": {},
   "outputs": [],
   "source": [
    "p_grp = plants.groupby(\"plantid\")"
   ]
  },
  {
   "cell_type": "code",
   "execution_count": 316,
   "metadata": {},
   "outputs": [],
   "source": [
    "#plants.groupby(\"Energip_subgrper\").max()"
   ]
  },
  {
   "cell_type": "code",
   "execution_count": 317,
   "metadata": {},
   "outputs": [],
   "source": [
    "p_subgrp = plants.loc[plants['state'].isin(['in Betrieb','Gesetzlich an Stilllegung gehindert'])].groupby('plantid') # TODO: add "
   ]
  },
  {
   "cell_type": "code",
   "execution_count": 318,
   "metadata": {},
   "outputs": [],
   "source": [
    "plants_act = pd.DataFrame()\n",
    "for plantid, group in p_subgrp:\n",
    "    entry = {}\n",
    "    entry[\"plantid\"] = plantid\n",
    "    entry[\"activepower\"] = group[\"power\"].sum()\n",
    "    plants_act = plants_act.append(entry, ignore_index=True)"
   ]
  },
  {
   "cell_type": "code",
   "execution_count": 319,
   "metadata": {},
   "outputs": [],
   "source": [
    "#plants_act.sort_values('activepower', ascending=False)"
   ]
  },
  {
   "cell_type": "code",
   "execution_count": null,
   "metadata": {},
   "outputs": [],
   "source": []
  },
  {
   "cell_type": "code",
   "execution_count": 320,
   "metadata": {},
   "outputs": [],
   "source": [
    "#ap = plants.loc[plants.state == \"in Betrieb\" | plants.state == \"Gesetzlich an Stilllegung gehindert\"]"
   ]
  },
  {
   "cell_type": "code",
   "execution_count": 321,
   "metadata": {},
   "outputs": [],
   "source": [
    "plants_a = pd.DataFrame()\n",
    "for plantid, group in p_grp:\n",
    "    #if not plantid == \"06-05-300-9046797\":\n",
    "    #    continue\n",
    "    entry = {}\n",
    "    #print(entry)\n",
    "    entry[\"plantid\"] = plantid\n",
    "    # entry[\"BlockID\"] = group\n",
    "    try:\n",
    "        entry[\"plantname\"] = group[\"plantname\"].value_counts().index[0]\n",
    "    except IndexError:\n",
    "        entry[\"plantname\"] = np.NaN\n",
    "    entry[\"federalstate\"] = group[\"federalstate\"].value_counts().index[0]\n",
    "    entry[\"energysource\"] = group[\"energysource\"].min()\n",
    "    try:\n",
    "        entry[\"chp\"] = group[\"chp\"].min()\n",
    "    except TypeError:\n",
    "        #print(\"aneror\")\n",
    "        #print(plantid)\n",
    "        #print(group['KWK'].count())\n",
    "        entry[\"chp\"] = \"\"\n",
    "    entry[\"latestexpanded\"] = group[\"initialop\"].max()\n",
    "    entry[\"initialop\"] = group[\"initialop\"].min()\n",
    "    entry[\"totalpower\"] = group[\"power\"].sum()\n",
    "    entry[\"state\"] = group[\"state\"].min()\n",
    "    entry[\"blockcount\"] = group[\"blockid\"].count()\n",
    "    try:\n",
    "        entry[\"company\"] = group[\"company\"].value_counts().index[0]\n",
    "    except IndexError:\n",
    "        ;\n",
    "    #print(entry)\n",
    "    #break\n",
    "    plants_a = plants_a.append(entry, ignore_index=True)"
   ]
  },
  {
   "cell_type": "code",
   "execution_count": 322,
   "metadata": {},
   "outputs": [],
   "source": [
    "#plants_a"
   ]
  },
  {
   "cell_type": "code",
   "execution_count": 323,
   "metadata": {},
   "outputs": [],
   "source": [
    "#TODO: fix this"
   ]
  },
  {
   "cell_type": "code",
   "execution_count": null,
   "metadata": {},
   "outputs": [],
   "source": []
  },
  {
   "cell_type": "code",
   "execution_count": 324,
   "metadata": {},
   "outputs": [],
   "source": [
    "#plants_a[pd.isnull(plants_a)]"
   ]
  },
  {
   "cell_type": "code",
   "execution_count": 325,
   "metadata": {},
   "outputs": [],
   "source": [
    "int_list = ['blockcount', 'initialop', 'latestexpanded']\n",
    "for column in int_list:\n",
    "    plants_a[column] = plants_a[column].astype(int)\n",
    "#plant['blockcount'] = pl2['blockcount'].apply(pd.to_numeric)\n",
    "#pl2['blockcount'] = pl2['blockcount'].apply(pd.to_numeric)\n",
    "#pl2['blockcount'] = pl2['blockcount'].apply(pd.to_numeric)\n",
    "#pl2['blockcount'] = pl2['blockcount'].apply(pd.to_numeric)"
   ]
  },
  {
   "cell_type": "code",
   "execution_count": 326,
   "metadata": {},
   "outputs": [
    {
     "data": {
      "text/plain": [
       "plantid            object\n",
       "plantname          object\n",
       "federalstate       object\n",
       "energysource       object\n",
       "chp                object\n",
       "latestexpanded      int64\n",
       "initialop           int64\n",
       "totalpower        float64\n",
       "state              object\n",
       "blockcount          int64\n",
       "company            object\n",
       "dtype: object"
      ]
     },
     "execution_count": 326,
     "metadata": {},
     "output_type": "execute_result"
    }
   ],
   "source": [
    "plants_a.dtypes"
   ]
  },
  {
   "cell_type": "code",
   "execution_count": 327,
   "metadata": {},
   "outputs": [],
   "source": [
    "plants_a[\"energysource\"] = plants_a[\"energysource\"].astype('category')\n",
    "plants_a[\"energysource\"] = plants_a[\"energysource\"].cat.set_categories(ENERGIES, ordered=True)\n",
    "plants_a[\"state\"] = plants_a[\"state\"].astype('category')\n",
    "plants_a[\"state\"] = plants_a[\"state\"].cat.set_categories(STATES, ordered=True)\n",
    "plants_a[\"chp\"] = plants_a[\"chp\"].astype('category')\n",
    "plants_a[\"chp\"] = plants_a[\"chp\"].cat.set_categories(['Ja', 'Nein'], ordered=True)\n",
    "plants_a[\"federalstate\"] = plants_a[\"federalstate\"].astype('category')\n",
    "plants_a[\"federalstate\"] = plants_a[\"federalstate\"].cat.set_categories(['Baden-Württemberg', 'Bayern', 'Berlin', 'Brandenburg', 'Bremen', 'Hamburg', 'Hessen', 'Mecklenburg-Vorpommern', 'Niedersachsen', 'Nordrhein-Westfalen', 'Rheinland-Pfalz', 'Saarland', 'Sachsen', 'Sachsen-Anhalt', 'Schleswig-Holstein', 'Thüringen'])"
   ]
  },
  {
   "cell_type": "code",
   "execution_count": 328,
   "metadata": {},
   "outputs": [
    {
     "data": {
      "text/plain": [
       "plantid             object\n",
       "plantname           object\n",
       "federalstate      category\n",
       "energysource      category\n",
       "chp               category\n",
       "latestexpanded       int64\n",
       "initialop            int64\n",
       "totalpower         float64\n",
       "state             category\n",
       "blockcount           int64\n",
       "company             object\n",
       "dtype: object"
      ]
     },
     "execution_count": 328,
     "metadata": {},
     "output_type": "execute_result"
    }
   ],
   "source": [
    "plants_a.dtypes"
   ]
  },
  {
   "cell_type": "code",
   "execution_count": 329,
   "metadata": {},
   "outputs": [
    {
     "data": {
      "text/html": [
       "<div>\n",
       "<style scoped>\n",
       "    .dataframe tbody tr th:only-of-type {\n",
       "        vertical-align: middle;\n",
       "    }\n",
       "\n",
       "    .dataframe tbody tr th {\n",
       "        vertical-align: top;\n",
       "    }\n",
       "\n",
       "    .dataframe thead th {\n",
       "        text-align: right;\n",
       "    }\n",
       "</style>\n",
       "<table border=\"1\" class=\"dataframe\">\n",
       "  <thead>\n",
       "    <tr style=\"text-align: right;\">\n",
       "      <th></th>\n",
       "      <th>plantid</th>\n",
       "      <th>plantname</th>\n",
       "      <th>federalstate</th>\n",
       "      <th>energysource</th>\n",
       "      <th>chp</th>\n",
       "      <th>latestexpanded</th>\n",
       "      <th>initialop</th>\n",
       "      <th>totalpower</th>\n",
       "      <th>state</th>\n",
       "      <th>blockcount</th>\n",
       "      <th>company</th>\n",
       "    </tr>\n",
       "  </thead>\n",
       "  <tbody>\n",
       "  </tbody>\n",
       "</table>\n",
       "</div>"
      ],
      "text/plain": [
       "Empty DataFrame\n",
       "Columns: [plantid, plantname, federalstate, energysource, chp, latestexpanded, initialop, totalpower, state, blockcount, company]\n",
       "Index: []"
      ]
     },
     "execution_count": 329,
     "metadata": {},
     "output_type": "execute_result"
    }
   ],
   "source": [
    "plants_a.loc[plants_a.plantid == \"666-999\"]"
   ]
  },
  {
   "cell_type": "code",
   "execution_count": 330,
   "metadata": {},
   "outputs": [
    {
     "data": {
      "text/html": [
       "<div>\n",
       "<style scoped>\n",
       "    .dataframe tbody tr th:only-of-type {\n",
       "        vertical-align: middle;\n",
       "    }\n",
       "\n",
       "    .dataframe tbody tr th {\n",
       "        vertical-align: top;\n",
       "    }\n",
       "\n",
       "    .dataframe thead th {\n",
       "        text-align: right;\n",
       "    }\n",
       "</style>\n",
       "<table border=\"1\" class=\"dataframe\">\n",
       "  <thead>\n",
       "    <tr style=\"text-align: right;\">\n",
       "      <th></th>\n",
       "      <th>plantid</th>\n",
       "      <th>plantname</th>\n",
       "      <th>federalstate</th>\n",
       "      <th>energysource</th>\n",
       "      <th>chp</th>\n",
       "      <th>latestexpanded</th>\n",
       "      <th>initialop</th>\n",
       "      <th>totalpower</th>\n",
       "      <th>state</th>\n",
       "      <th>blockcount</th>\n",
       "      <th>company</th>\n",
       "    </tr>\n",
       "  </thead>\n",
       "  <tbody>\n",
       "    <tr>\n",
       "      <th>33</th>\n",
       "      <td>06-00176010435</td>\n",
       "      <td>Staudinger</td>\n",
       "      <td>Hessen</td>\n",
       "      <td>Steinkohle</td>\n",
       "      <td>Ja</td>\n",
       "      <td>1992</td>\n",
       "      <td>1970</td>\n",
       "      <td>1632.0</td>\n",
       "      <td>in Betrieb</td>\n",
       "      <td>4</td>\n",
       "      <td>Uniper SE</td>\n",
       "    </tr>\n",
       "  </tbody>\n",
       "</table>\n",
       "</div>"
      ],
      "text/plain": [
       "           plantid   plantname federalstate energysource chp  latestexpanded  \\\n",
       "33  06-00176010435  Staudinger       Hessen   Steinkohle  Ja            1992   \n",
       "\n",
       "    initialop  totalpower       state  blockcount    company  \n",
       "33       1970      1632.0  in Betrieb           4  Uniper SE  "
      ]
     },
     "execution_count": 330,
     "metadata": {},
     "output_type": "execute_result"
    }
   ],
   "source": [
    "plants_a.loc[plants_a.plantid == \"06-00176010435\"]"
   ]
  },
  {
   "cell_type": "code",
   "execution_count": 331,
   "metadata": {},
   "outputs": [
    {
     "data": {
      "text/html": [
       "<div>\n",
       "<style scoped>\n",
       "    .dataframe tbody tr th:only-of-type {\n",
       "        vertical-align: middle;\n",
       "    }\n",
       "\n",
       "    .dataframe tbody tr th {\n",
       "        vertical-align: top;\n",
       "    }\n",
       "\n",
       "    .dataframe thead th {\n",
       "        text-align: right;\n",
       "    }\n",
       "</style>\n",
       "<table border=\"1\" class=\"dataframe\">\n",
       "  <thead>\n",
       "    <tr style=\"text-align: right;\">\n",
       "      <th></th>\n",
       "      <th>plantid</th>\n",
       "      <th>plantname</th>\n",
       "      <th>federalstate</th>\n",
       "      <th>energysource</th>\n",
       "      <th>chp</th>\n",
       "      <th>latestexpanded</th>\n",
       "      <th>initialop</th>\n",
       "      <th>totalpower</th>\n",
       "      <th>state</th>\n",
       "      <th>blockcount</th>\n",
       "      <th>company</th>\n",
       "    </tr>\n",
       "  </thead>\n",
       "  <tbody>\n",
       "    <tr>\n",
       "      <th>105</th>\n",
       "      <td>06-05-900-0865327</td>\n",
       "      <td>Gersteinwerk</td>\n",
       "      <td>Nordrhein-Westfalen</td>\n",
       "      <td>Steinkohle</td>\n",
       "      <td>Nein</td>\n",
       "      <td>1984</td>\n",
       "      <td>1973</td>\n",
       "      <td>2011.0</td>\n",
       "      <td>in Betrieb</td>\n",
       "      <td>9</td>\n",
       "      <td>RWE AG</td>\n",
       "    </tr>\n",
       "  </tbody>\n",
       "</table>\n",
       "</div>"
      ],
      "text/plain": [
       "               plantid     plantname         federalstate energysource   chp  \\\n",
       "105  06-05-900-0865327  Gersteinwerk  Nordrhein-Westfalen   Steinkohle  Nein   \n",
       "\n",
       "     latestexpanded  initialop  totalpower       state  blockcount company  \n",
       "105            1984       1973      2011.0  in Betrieb           9  RWE AG  "
      ]
     },
     "execution_count": 331,
     "metadata": {},
     "output_type": "execute_result"
    }
   ],
   "source": [
    "plants_a.loc[plants_a.plantid == \"06-05-900-0865327\"]"
   ]
  },
  {
   "cell_type": "code",
   "execution_count": 332,
   "metadata": {},
   "outputs": [],
   "source": [
    "#plants_a = plants.drop_duplicates(subset=\"KraftwerkID\")"
   ]
  },
  {
   "cell_type": "code",
   "execution_count": null,
   "metadata": {},
   "outputs": [],
   "source": []
  },
  {
   "cell_type": "code",
   "execution_count": 333,
   "metadata": {},
   "outputs": [],
   "source": [
    "column_titles = ['plantid', 'plantname', 'federalstate','energysource', 'chp', 'latestexpanded', 'initialop', 'totalpower', 'state', 'blockcount', 'company']\n",
    "plants_b = plants_a.reindex(columns=column_titles)"
   ]
  },
  {
   "cell_type": "code",
   "execution_count": 334,
   "metadata": {},
   "outputs": [],
   "source": [
    "#plants_b"
   ]
  },
  {
   "cell_type": "code",
   "execution_count": 335,
   "metadata": {},
   "outputs": [
    {
     "data": {
      "text/plain": [
       "['plantid',\n",
       " 'blockid',\n",
       " 'company',\n",
       " 'plantname',\n",
       " 'plz',\n",
       " 'place',\n",
       " 'street',\n",
       " 'federalstate',\n",
       " 'blockname',\n",
       " 'initialop',\n",
       " 'state',\n",
       " 'energysource',\n",
       " 'chp',\n",
       " 'power',\n",
       " 'endop']"
      ]
     },
     "execution_count": 335,
     "metadata": {},
     "output_type": "execute_result"
    }
   ],
   "source": [
    "list(blocks)"
   ]
  },
  {
   "cell_type": "code",
   "execution_count": 336,
   "metadata": {},
   "outputs": [],
   "source": [
    "#blocks.drop(['place', 'plz', 'street'], axis=1, inplace=True)"
   ]
  },
  {
   "cell_type": "code",
   "execution_count": 337,
   "metadata": {},
   "outputs": [
    {
     "data": {
      "text/html": [
       "<div>\n",
       "<style scoped>\n",
       "    .dataframe tbody tr th:only-of-type {\n",
       "        vertical-align: middle;\n",
       "    }\n",
       "\n",
       "    .dataframe tbody tr th {\n",
       "        vertical-align: top;\n",
       "    }\n",
       "\n",
       "    .dataframe thead th {\n",
       "        text-align: right;\n",
       "    }\n",
       "</style>\n",
       "<table border=\"1\" class=\"dataframe\">\n",
       "  <thead>\n",
       "    <tr style=\"text-align: right;\">\n",
       "      <th></th>\n",
       "      <th>plantid</th>\n",
       "      <th>blockid</th>\n",
       "      <th>company</th>\n",
       "      <th>plantname</th>\n",
       "      <th>plz</th>\n",
       "      <th>place</th>\n",
       "      <th>street</th>\n",
       "      <th>federalstate</th>\n",
       "      <th>blockname</th>\n",
       "      <th>initialop</th>\n",
       "      <th>state</th>\n",
       "      <th>energysource</th>\n",
       "      <th>chp</th>\n",
       "      <th>power</th>\n",
       "      <th>endop</th>\n",
       "    </tr>\n",
       "  </thead>\n",
       "  <tbody>\n",
       "  </tbody>\n",
       "</table>\n",
       "</div>"
      ],
      "text/plain": [
       "Empty DataFrame\n",
       "Columns: [plantid, blockid, company, plantname, plz, place, street, federalstate, blockname, initialop, state, energysource, chp, power, endop]\n",
       "Index: []"
      ]
     },
     "execution_count": 337,
     "metadata": {},
     "output_type": "execute_result"
    }
   ],
   "source": [
    "blocks[blocks.duplicated(['blockid'], keep=False)].sort_values(\"blockid\", ascending=False)"
   ]
  },
  {
   "cell_type": "code",
   "execution_count": 338,
   "metadata": {},
   "outputs": [],
   "source": [
    "#blocks"
   ]
  },
  {
   "cell_type": "code",
   "execution_count": 339,
   "metadata": {},
   "outputs": [],
   "source": [
    "plants_b.sort_values(\"initialop\", ascending=False, inplace=True)"
   ]
  },
  {
   "cell_type": "code",
   "execution_count": 340,
   "metadata": {},
   "outputs": [],
   "source": [
    "#drop_list = ['Blockname', 'KWK', 'Nettoleistung', 'Stilllegung', 'Straße und Hausnummer (Standort Kraftwerk)', 'PLZ', 'Ort', 'Nettoleistung']\n",
    "#plants_g = plants_f.drop(drop_list, axis=1)"
   ]
  },
  {
   "cell_type": "code",
   "execution_count": 341,
   "metadata": {},
   "outputs": [],
   "source": [
    "#plants_h = plants_g.rename(columns={\"KraftwerkID\": \"plantid\", \"Gesamtleistung\": \"totalpower\", \"Blockzahl\": \"blockcount\", \"BlockID\": \"blockid\", \"Bundesland\": \"federalstate\", \"Energieträger\": \"energysource\", \"Inbetriebnahme\": \"latestexpanded\", \"Kraftwerksname\": \"plantname\", \"Status\": \"state\", \"Unternehmen\": \"company\"})"
   ]
  },
  {
   "cell_type": "code",
   "execution_count": 342,
   "metadata": {},
   "outputs": [],
   "source": [
    "plants_final = plants_b.loc[:]"
   ]
  },
  {
   "cell_type": "code",
   "execution_count": 343,
   "metadata": {
    "scrolled": true
   },
   "outputs": [
    {
     "data": {
      "text/plain": [
       "plantid             object\n",
       "plantname           object\n",
       "federalstate      category\n",
       "energysource      category\n",
       "chp               category\n",
       "latestexpanded       int64\n",
       "initialop            int64\n",
       "totalpower         float64\n",
       "state             category\n",
       "blockcount           int64\n",
       "company             object\n",
       "dtype: object"
      ]
     },
     "execution_count": 343,
     "metadata": {},
     "output_type": "execute_result"
    }
   ],
   "source": [
    "plants_final.dtypes"
   ]
  },
  {
   "cell_type": "code",
   "execution_count": 344,
   "metadata": {},
   "outputs": [],
   "source": [
    "# plants_final"
   ]
  },
  {
   "cell_type": "code",
   "execution_count": 345,
   "metadata": {},
   "outputs": [],
   "source": [
    "# stammdaten"
   ]
  },
  {
   "cell_type": "code",
   "execution_count": 346,
   "metadata": {},
   "outputs": [],
   "source": [
    "# cols = [0,2,3,9,10,11,12]\n",
    "stammdaten = pl6.copy()\n",
    "drop_list = ['plantid', 'blockname', 'energysource', 'initialop', 'chp', 'plantname', 'power', 'state', 'endop', 'company']\n",
    "stammdaten.drop(drop_list, axis=1, inplace=True)"
   ]
  },
  {
   "cell_type": "code",
   "execution_count": 347,
   "metadata": {},
   "outputs": [],
   "source": [
    "stmp = pl6.copy()\n",
    "stammdaten2 = stmp.merge(prtr, how=\"left\", left_on=\"plantid\", right_on=\"kennnummer\")"
   ]
  },
  {
   "cell_type": "code",
   "execution_count": 348,
   "metadata": {},
   "outputs": [],
   "source": [
    "#stammdaten.to_csv(\"stammdaten.csv\", index=False)"
   ]
  },
  {
   "cell_type": "code",
   "execution_count": 349,
   "metadata": {},
   "outputs": [],
   "source": [
    "#plants_final.to_csv(\"plants.csv\", index=False)"
   ]
  },
  {
   "cell_type": "code",
   "execution_count": 350,
   "metadata": {},
   "outputs": [],
   "source": [
    "#blocks.to_csv(\"blocks_3.csv\", index=False)"
   ]
  },
  {
   "cell_type": "code",
   "execution_count": 351,
   "metadata": {},
   "outputs": [],
   "source": [
    "#stammdaten2"
   ]
  },
  {
   "cell_type": "code",
   "execution_count": 352,
   "metadata": {},
   "outputs": [],
   "source": [
    "DROP_ST = ['blockid', 'jahr', 'kennnummer','betriebsname','betriebsname_2','plz_x','ort','strasse','hausnr','bundesland','flusseinzugsgebiet','taet_nr','taetigkeit','activity','haupttaetigkeit','branche','sector','nace_id','nace_wirtschaftszweig','nace_sector','stoffgruppe','substances_group','schadstoff','pollutant','umweltkompartiment','releases_to','jahresfracht_freisetzung','versehentliche_freisetzung','schadstoff_schwellenwert','einheit','unit','bestimmungsmethode','determination_method','schutzgrund_fracht','confidential_reason_release','schutzgrund_betrieb','confidential_reason_facility']\n",
    "DROP_ST2 = ['jahr', 'kennnummer','betriebsname','betriebsname_2','plz','ort','strasse','hausnr','bundesland','flusseinzugsgebiet','taet_nr','taetigkeit','activity','haupttaetigkeit','branche','sector','nace_id','nace_wirtschaftszweig','nace_sector','stoffgruppe','substances_group','schadstoff','pollutant','umweltkompartiment','releases_to','jahresfracht_freisetzung','versehentliche_freisetzung','schadstoff_schwellenwert','einheit','unit','bestimmungsmethode','determination_method','schutzgrund_fracht','confidential_reason_release','schutzgrund_betrieb','confidential_reason_facility']\n",
    "DROP_ST3 = ['jahr', 'kennnummer', 'bundesland', 'flusseinzugsgebiet', \"betriebsname\", \"betriebsname_2\", 'taet_nr','taetigkeit','activity','haupttaetigkeit','branche','sector','nace_id','nace_wirtschaftszweig','nace_sector','stoffgruppe','substances_group','schadstoff','pollutant','umweltkompartiment','releases_to','jahresfracht_freisetzung','versehentliche_freisetzung','schadstoff_schwellenwert','einheit','unit','bestimmungsmethode','determination_method','schutzgrund_fracht','confidential_reason_release','schutzgrund_betrieb','confidential_reason_facility']\n"
   ]
  },
  {
   "cell_type": "code",
   "execution_count": 353,
   "metadata": {},
   "outputs": [],
   "source": [
    "#DROP_ST = ['jahr']"
   ]
  },
  {
   "cell_type": "code",
   "execution_count": 354,
   "metadata": {},
   "outputs": [],
   "source": [
    "plants_d1 = plants_final.merge(prtr, how=\"left\", left_on=\"plantid\", right_on=\"kennnummer\")"
   ]
  },
  {
   "cell_type": "code",
   "execution_count": 355,
   "metadata": {},
   "outputs": [],
   "source": [
    "#plants_d1.dtypes"
   ]
  },
  {
   "cell_type": "code",
   "execution_count": 356,
   "metadata": {},
   "outputs": [],
   "source": [
    "pld2 = plants_d1.drop_duplicates(['plantid'])"
   ]
  },
  {
   "cell_type": "code",
   "execution_count": 357,
   "metadata": {},
   "outputs": [],
   "source": [
    "pld3 = pld2.drop(DROP_ST3, axis=1)\n",
    "plants_final1 = pld3"
   ]
  },
  {
   "cell_type": "code",
   "execution_count": 358,
   "metadata": {},
   "outputs": [],
   "source": [
    "plants_final2 = plants_final1.merge(plants_act, on=\"plantid\", how='left')"
   ]
  },
  {
   "cell_type": "code",
   "execution_count": 359,
   "metadata": {},
   "outputs": [],
   "source": [
    "plants_final3 = plants_final2.dropna(subset=[\"plantid\"])"
   ]
  },
  {
   "cell_type": "code",
   "execution_count": 360,
   "metadata": {},
   "outputs": [
    {
     "data": {
      "text/html": [
       "<div>\n",
       "<style scoped>\n",
       "    .dataframe tbody tr th:only-of-type {\n",
       "        vertical-align: middle;\n",
       "    }\n",
       "\n",
       "    .dataframe tbody tr th {\n",
       "        vertical-align: top;\n",
       "    }\n",
       "\n",
       "    .dataframe thead th {\n",
       "        text-align: right;\n",
       "    }\n",
       "</style>\n",
       "<table border=\"1\" class=\"dataframe\">\n",
       "  <thead>\n",
       "    <tr style=\"text-align: right;\">\n",
       "      <th></th>\n",
       "      <th>plantid</th>\n",
       "      <th>plantname</th>\n",
       "      <th>federalstate</th>\n",
       "      <th>chp</th>\n",
       "      <th>latestexpanded</th>\n",
       "      <th>initialop</th>\n",
       "      <th>totalpower</th>\n",
       "      <th>state</th>\n",
       "      <th>blockcount</th>\n",
       "      <th>company</th>\n",
       "      <th>plz</th>\n",
       "      <th>ort</th>\n",
       "      <th>strasse</th>\n",
       "      <th>hausnr</th>\n",
       "      <th>geo_lat_wgs84</th>\n",
       "      <th>geo_long_wgs84</th>\n",
       "      <th>activepower</th>\n",
       "    </tr>\n",
       "    <tr>\n",
       "      <th>energysource</th>\n",
       "      <th></th>\n",
       "      <th></th>\n",
       "      <th></th>\n",
       "      <th></th>\n",
       "      <th></th>\n",
       "      <th></th>\n",
       "      <th></th>\n",
       "      <th></th>\n",
       "      <th></th>\n",
       "      <th></th>\n",
       "      <th></th>\n",
       "      <th></th>\n",
       "      <th></th>\n",
       "      <th></th>\n",
       "      <th></th>\n",
       "      <th></th>\n",
       "      <th></th>\n",
       "    </tr>\n",
       "  </thead>\n",
       "  <tbody>\n",
       "    <tr>\n",
       "      <th>Kernenergie</th>\n",
       "      <td>8</td>\n",
       "      <td>8</td>\n",
       "      <td>8</td>\n",
       "      <td>8</td>\n",
       "      <td>8</td>\n",
       "      <td>8</td>\n",
       "      <td>8</td>\n",
       "      <td>8</td>\n",
       "      <td>8</td>\n",
       "      <td>8</td>\n",
       "      <td>0</td>\n",
       "      <td>0</td>\n",
       "      <td>0</td>\n",
       "      <td>0</td>\n",
       "      <td>0</td>\n",
       "      <td>0</td>\n",
       "      <td>6</td>\n",
       "    </tr>\n",
       "    <tr>\n",
       "      <th>Braunkohle</th>\n",
       "      <td>31</td>\n",
       "      <td>30</td>\n",
       "      <td>31</td>\n",
       "      <td>31</td>\n",
       "      <td>31</td>\n",
       "      <td>31</td>\n",
       "      <td>31</td>\n",
       "      <td>31</td>\n",
       "      <td>31</td>\n",
       "      <td>31</td>\n",
       "      <td>29</td>\n",
       "      <td>29</td>\n",
       "      <td>29</td>\n",
       "      <td>29</td>\n",
       "      <td>29</td>\n",
       "      <td>29</td>\n",
       "      <td>26</td>\n",
       "    </tr>\n",
       "    <tr>\n",
       "      <th>Steinkohle</th>\n",
       "      <td>69</td>\n",
       "      <td>68</td>\n",
       "      <td>69</td>\n",
       "      <td>69</td>\n",
       "      <td>69</td>\n",
       "      <td>69</td>\n",
       "      <td>69</td>\n",
       "      <td>69</td>\n",
       "      <td>69</td>\n",
       "      <td>69</td>\n",
       "      <td>66</td>\n",
       "      <td>66</td>\n",
       "      <td>66</td>\n",
       "      <td>66</td>\n",
       "      <td>66</td>\n",
       "      <td>66</td>\n",
       "      <td>50</td>\n",
       "    </tr>\n",
       "    <tr>\n",
       "      <th>Erdgas</th>\n",
       "      <td>189</td>\n",
       "      <td>180</td>\n",
       "      <td>189</td>\n",
       "      <td>189</td>\n",
       "      <td>189</td>\n",
       "      <td>189</td>\n",
       "      <td>189</td>\n",
       "      <td>189</td>\n",
       "      <td>189</td>\n",
       "      <td>188</td>\n",
       "      <td>118</td>\n",
       "      <td>118</td>\n",
       "      <td>118</td>\n",
       "      <td>118</td>\n",
       "      <td>118</td>\n",
       "      <td>118</td>\n",
       "      <td>170</td>\n",
       "    </tr>\n",
       "    <tr>\n",
       "      <th>Mineralölprodukte</th>\n",
       "      <td>20</td>\n",
       "      <td>20</td>\n",
       "      <td>20</td>\n",
       "      <td>20</td>\n",
       "      <td>20</td>\n",
       "      <td>20</td>\n",
       "      <td>20</td>\n",
       "      <td>20</td>\n",
       "      <td>20</td>\n",
       "      <td>20</td>\n",
       "      <td>7</td>\n",
       "      <td>7</td>\n",
       "      <td>7</td>\n",
       "      <td>7</td>\n",
       "      <td>7</td>\n",
       "      <td>7</td>\n",
       "      <td>18</td>\n",
       "    </tr>\n",
       "    <tr>\n",
       "      <th>Abfall</th>\n",
       "      <td>0</td>\n",
       "      <td>0</td>\n",
       "      <td>0</td>\n",
       "      <td>0</td>\n",
       "      <td>0</td>\n",
       "      <td>0</td>\n",
       "      <td>0</td>\n",
       "      <td>0</td>\n",
       "      <td>0</td>\n",
       "      <td>0</td>\n",
       "      <td>0</td>\n",
       "      <td>0</td>\n",
       "      <td>0</td>\n",
       "      <td>0</td>\n",
       "      <td>0</td>\n",
       "      <td>0</td>\n",
       "      <td>0</td>\n",
       "    </tr>\n",
       "    <tr>\n",
       "      <th>Biomasse</th>\n",
       "      <td>0</td>\n",
       "      <td>0</td>\n",
       "      <td>0</td>\n",
       "      <td>0</td>\n",
       "      <td>0</td>\n",
       "      <td>0</td>\n",
       "      <td>0</td>\n",
       "      <td>0</td>\n",
       "      <td>0</td>\n",
       "      <td>0</td>\n",
       "      <td>0</td>\n",
       "      <td>0</td>\n",
       "      <td>0</td>\n",
       "      <td>0</td>\n",
       "      <td>0</td>\n",
       "      <td>0</td>\n",
       "      <td>0</td>\n",
       "    </tr>\n",
       "    <tr>\n",
       "      <th></th>\n",
       "      <td>0</td>\n",
       "      <td>0</td>\n",
       "      <td>0</td>\n",
       "      <td>0</td>\n",
       "      <td>0</td>\n",
       "      <td>0</td>\n",
       "      <td>0</td>\n",
       "      <td>0</td>\n",
       "      <td>0</td>\n",
       "      <td>0</td>\n",
       "      <td>0</td>\n",
       "      <td>0</td>\n",
       "      <td>0</td>\n",
       "      <td>0</td>\n",
       "      <td>0</td>\n",
       "      <td>0</td>\n",
       "      <td>0</td>\n",
       "    </tr>\n",
       "  </tbody>\n",
       "</table>\n",
       "</div>"
      ],
      "text/plain": [
       "                   plantid  plantname  federalstate  chp  latestexpanded  \\\n",
       "energysource                                                               \n",
       "Kernenergie              8          8             8    8               8   \n",
       "Braunkohle              31         30            31   31              31   \n",
       "Steinkohle              69         68            69   69              69   \n",
       "Erdgas                 189        180           189  189             189   \n",
       "Mineralölprodukte       20         20            20   20              20   \n",
       "Abfall                   0          0             0    0               0   \n",
       "Biomasse                 0          0             0    0               0   \n",
       "                         0          0             0    0               0   \n",
       "\n",
       "                   initialop  totalpower  state  blockcount  company  plz  \\\n",
       "energysource                                                                \n",
       "Kernenergie                8           8      8           8        8    0   \n",
       "Braunkohle                31          31     31          31       31   29   \n",
       "Steinkohle                69          69     69          69       69   66   \n",
       "Erdgas                   189         189    189         189      188  118   \n",
       "Mineralölprodukte         20          20     20          20       20    7   \n",
       "Abfall                     0           0      0           0        0    0   \n",
       "Biomasse                   0           0      0           0        0    0   \n",
       "                           0           0      0           0        0    0   \n",
       "\n",
       "                   ort  strasse  hausnr  geo_lat_wgs84  geo_long_wgs84  \\\n",
       "energysource                                                             \n",
       "Kernenergie          0        0       0              0               0   \n",
       "Braunkohle          29       29      29             29              29   \n",
       "Steinkohle          66       66      66             66              66   \n",
       "Erdgas             118      118     118            118             118   \n",
       "Mineralölprodukte    7        7       7              7               7   \n",
       "Abfall               0        0       0              0               0   \n",
       "Biomasse             0        0       0              0               0   \n",
       "                     0        0       0              0               0   \n",
       "\n",
       "                   activepower  \n",
       "energysource                    \n",
       "Kernenergie                  6  \n",
       "Braunkohle                  26  \n",
       "Steinkohle                  50  \n",
       "Erdgas                     170  \n",
       "Mineralölprodukte           18  \n",
       "Abfall                       0  \n",
       "Biomasse                     0  \n",
       "                             0  "
      ]
     },
     "execution_count": 360,
     "metadata": {},
     "output_type": "execute_result"
    }
   ],
   "source": [
    "plants_final3.groupby(\"energysource\").count()"
   ]
  },
  {
   "cell_type": "code",
   "execution_count": null,
   "metadata": {},
   "outputs": [],
   "source": []
  },
  {
   "cell_type": "code",
   "execution_count": null,
   "metadata": {},
   "outputs": [],
   "source": []
  },
  {
   "cell_type": "code",
   "execution_count": 361,
   "metadata": {},
   "outputs": [
    {
     "data": {
      "text/html": [
       "<div>\n",
       "<style scoped>\n",
       "    .dataframe tbody tr th:only-of-type {\n",
       "        vertical-align: middle;\n",
       "    }\n",
       "\n",
       "    .dataframe tbody tr th {\n",
       "        vertical-align: top;\n",
       "    }\n",
       "\n",
       "    .dataframe thead th {\n",
       "        text-align: right;\n",
       "    }\n",
       "</style>\n",
       "<table border=\"1\" class=\"dataframe\">\n",
       "  <thead>\n",
       "    <tr style=\"text-align: right;\">\n",
       "      <th></th>\n",
       "      <th>plantid</th>\n",
       "      <th>plantname</th>\n",
       "      <th>federalstate</th>\n",
       "      <th>energysource</th>\n",
       "      <th>chp</th>\n",
       "      <th>latestexpanded</th>\n",
       "      <th>initialop</th>\n",
       "      <th>totalpower</th>\n",
       "      <th>state</th>\n",
       "      <th>blockcount</th>\n",
       "      <th>company</th>\n",
       "      <th>plz</th>\n",
       "      <th>ort</th>\n",
       "      <th>strasse</th>\n",
       "      <th>hausnr</th>\n",
       "      <th>geo_lat_wgs84</th>\n",
       "      <th>geo_long_wgs84</th>\n",
       "      <th>activepower</th>\n",
       "    </tr>\n",
       "  </thead>\n",
       "  <tbody>\n",
       "  </tbody>\n",
       "</table>\n",
       "</div>"
      ],
      "text/plain": [
       "Empty DataFrame\n",
       "Columns: [plantid, plantname, federalstate, energysource, chp, latestexpanded, initialop, totalpower, state, blockcount, company, plz, ort, strasse, hausnr, geo_lat_wgs84, geo_long_wgs84, activepower]\n",
       "Index: []"
      ]
     },
     "execution_count": 361,
     "metadata": {},
     "output_type": "execute_result"
    }
   ],
   "source": [
    "plants_final2[pd.isnull(plants_final2['plantid'])]"
   ]
  },
  {
   "cell_type": "code",
   "execution_count": 362,
   "metadata": {},
   "outputs": [],
   "source": [
    "#stammdaten2"
   ]
  },
  {
   "cell_type": "code",
   "execution_count": 363,
   "metadata": {},
   "outputs": [],
   "source": [
    "#plants_final2.sort_values(\"activepower\", ascending=False)"
   ]
  },
  {
   "cell_type": "code",
   "execution_count": 364,
   "metadata": {},
   "outputs": [],
   "source": [
    "#stammdaten2.dtypes"
   ]
  },
  {
   "cell_type": "code",
   "execution_count": 365,
   "metadata": {},
   "outputs": [],
   "source": [
    "stammdaten3 = stammdaten2.drop(DROP_ST, axis=1)"
   ]
  },
  {
   "cell_type": "code",
   "execution_count": 366,
   "metadata": {},
   "outputs": [],
   "source": [
    "stammdaten4 = stammdaten3.drop_duplicates(['plantid'])"
   ]
  },
  {
   "cell_type": "code",
   "execution_count": 367,
   "metadata": {},
   "outputs": [],
   "source": [
    "#list(stammdaten2)"
   ]
  },
  {
   "cell_type": "code",
   "execution_count": 368,
   "metadata": {},
   "outputs": [
    {
     "data": {
      "text/plain": [
       "'\\n\\n\\n\"CREATE TABLE blocks(plantid TEXT, blockid TEXT NOT NULL PRIMARY KEY, blockdescription TEXT, federalstate TEXT, energysource TEXT, initialop INTEGER, chp TEXT,\\nblockname TEXT, netpower REAL, state TEXT, endop TEXT, company TEXT, FOREIGN KEY (blockid) REFERENCES addresses(blockid) ON DELETE CASCADE);\"\\n662-01|BNA0164|Vattenfall GmbH|Brunsbüttel|Schleswig-Holstein|GT D|0.0|stillgelegt|Mineralölprodukte|Nein|63.5|201\\n\\n'"
      ]
     },
     "execution_count": 368,
     "metadata": {},
     "output_type": "execute_result"
    }
   ],
   "source": [
    "'''\n",
    "\n",
    "\n",
    "\"CREATE TABLE blocks(plantid TEXT, blockid TEXT NOT NULL PRIMARY KEY, blockdescription TEXT, federalstate TEXT, energysource TEXT, initialop INTEGER, chp TEXT,\n",
    "blockname TEXT, netpower REAL, state TEXT, endop TEXT, company TEXT, FOREIGN KEY (blockid) REFERENCES addresses(blockid) ON DELETE CASCADE);\"\n",
    "662-01|BNA0164|Vattenfall GmbH|Brunsbüttel|Schleswig-Holstein|GT D|0.0|stillgelegt|Mineralölprodukte|Nein|63.5|201\n",
    "\n",
    "'''\n"
   ]
  },
  {
   "cell_type": "code",
   "execution_count": 369,
   "metadata": {},
   "outputs": [],
   "source": [
    "blocks2 = blocks[['plantid', 'blockid', 'blockname', 'federalstate', 'energysource', 'initialop', 'chp', 'plantname', 'power', 'state', 'endop', 'company']]"
   ]
  },
  {
   "cell_type": "code",
   "execution_count": 370,
   "metadata": {},
   "outputs": [
    {
     "data": {
      "text/plain": [
       "['plantid',\n",
       " 'blockid',\n",
       " 'blockname',\n",
       " 'federalstate',\n",
       " 'energysource',\n",
       " 'initialop',\n",
       " 'chp',\n",
       " 'plantname',\n",
       " 'power',\n",
       " 'state',\n",
       " 'endop',\n",
       " 'company']"
      ]
     },
     "execution_count": 370,
     "metadata": {},
     "output_type": "execute_result"
    }
   ],
   "source": [
    "list(blocks2)"
   ]
  },
  {
   "cell_type": "code",
   "execution_count": 371,
   "metadata": {},
   "outputs": [],
   "source": [
    "#blocks2.loc['C', 'x'] = \"BNA1949\""
   ]
  },
  {
   "cell_type": "code",
   "execution_count": 372,
   "metadata": {},
   "outputs": [],
   "source": [
    "stammdaten.to_csv(\"stammdaten_nh.csv\", index=False, header=False)\n",
    "blocks2.to_csv(\"blocks_nh.csv\", index=False, header=False)\n",
    "plants_final2.to_csv(\"plants_nh.csv\", index=False, header=False)\n",
    "stammdaten.to_csv(\"stammdaten.csv\", index=False)\n",
    "blocks2.to_csv(\"blocks.csv\", index=False)\n",
    "plants_final2.to_csv(\"plants.csv\", index=False)"
   ]
  },
  {
   "cell_type": "code",
   "execution_count": 373,
   "metadata": {},
   "outputs": [
    {
     "data": {
      "text/html": [
       "<div>\n",
       "<style scoped>\n",
       "    .dataframe tbody tr th:only-of-type {\n",
       "        vertical-align: middle;\n",
       "    }\n",
       "\n",
       "    .dataframe tbody tr th {\n",
       "        vertical-align: top;\n",
       "    }\n",
       "\n",
       "    .dataframe thead th {\n",
       "        text-align: right;\n",
       "    }\n",
       "</style>\n",
       "<table border=\"1\" class=\"dataframe\">\n",
       "  <thead>\n",
       "    <tr style=\"text-align: right;\">\n",
       "      <th></th>\n",
       "      <th>blockid</th>\n",
       "      <th>plz</th>\n",
       "      <th>place</th>\n",
       "      <th>street</th>\n",
       "      <th>federalstate</th>\n",
       "    </tr>\n",
       "  </thead>\n",
       "  <tbody>\n",
       "    <tr>\n",
       "      <th>0</th>\n",
       "      <td>BNA1401a</td>\n",
       "      <td>41517</td>\n",
       "      <td>Grevenbroich</td>\n",
       "      <td>Energiestraße 101</td>\n",
       "      <td>Nordrhein-Westfalen</td>\n",
       "    </tr>\n",
       "    <tr>\n",
       "      <th>1</th>\n",
       "      <td>BNA1401b</td>\n",
       "      <td>41517</td>\n",
       "      <td>Grevenbroich</td>\n",
       "      <td>Energiestraße 101</td>\n",
       "      <td>Nordrhein-Westfalen</td>\n",
       "    </tr>\n",
       "    <tr>\n",
       "      <th>2</th>\n",
       "      <td>BNA0115</td>\n",
       "      <td>4564</td>\n",
       "      <td>Böhlen</td>\n",
       "      <td>Werkstraße</td>\n",
       "      <td>Sachsen</td>\n",
       "    </tr>\n",
       "    <tr>\n",
       "      <th>3</th>\n",
       "      <td>BNA0116</td>\n",
       "      <td>4564</td>\n",
       "      <td>Böhlen</td>\n",
       "      <td>Werkstraße</td>\n",
       "      <td>Sachsen</td>\n",
       "    </tr>\n",
       "    <tr>\n",
       "      <th>4</th>\n",
       "      <td>BNA0793</td>\n",
       "      <td>32469</td>\n",
       "      <td>Petershagen</td>\n",
       "      <td>NaN</td>\n",
       "      <td>Nordrhein-Westfalen</td>\n",
       "    </tr>\n",
       "    <tr>\n",
       "      <th>...</th>\n",
       "      <td>...</td>\n",
       "      <td>...</td>\n",
       "      <td>...</td>\n",
       "      <td>...</td>\n",
       "      <td>...</td>\n",
       "    </tr>\n",
       "    <tr>\n",
       "      <th>724</th>\n",
       "      <td>BNA1950</td>\n",
       "      <td>12681</td>\n",
       "      <td>Berlin</td>\n",
       "      <td>NaN</td>\n",
       "      <td>Berlin</td>\n",
       "    </tr>\n",
       "    <tr>\n",
       "      <th>725</th>\n",
       "      <td>BNA1948</td>\n",
       "      <td>55120</td>\n",
       "      <td>Mainz</td>\n",
       "      <td>NaN</td>\n",
       "      <td>Rheinland-Pfalz</td>\n",
       "    </tr>\n",
       "    <tr>\n",
       "      <th>726</th>\n",
       "      <td>BNA0639</td>\n",
       "      <td>68169</td>\n",
       "      <td>Mannheim</td>\n",
       "      <td>Otto-Hahn-Straße 1</td>\n",
       "      <td>Baden-Württemberg</td>\n",
       "    </tr>\n",
       "    <tr>\n",
       "      <th>727</th>\n",
       "      <td>BNA0638</td>\n",
       "      <td>68169</td>\n",
       "      <td>Mannheim</td>\n",
       "      <td>Otto-Hahn-Straße 1</td>\n",
       "      <td>Baden-Württemberg</td>\n",
       "    </tr>\n",
       "    <tr>\n",
       "      <th>728</th>\n",
       "      <td>BNA0192</td>\n",
       "      <td>4509</td>\n",
       "      <td>Delitzsch</td>\n",
       "      <td>NaN</td>\n",
       "      <td>Sachsen</td>\n",
       "    </tr>\n",
       "  </tbody>\n",
       "</table>\n",
       "<p>720 rows × 5 columns</p>\n",
       "</div>"
      ],
      "text/plain": [
       "      blockid    plz         place              street         federalstate\n",
       "0    BNA1401a  41517  Grevenbroich   Energiestraße 101  Nordrhein-Westfalen\n",
       "1    BNA1401b  41517  Grevenbroich   Energiestraße 101  Nordrhein-Westfalen\n",
       "2     BNA0115   4564        Böhlen          Werkstraße              Sachsen\n",
       "3     BNA0116   4564        Böhlen          Werkstraße              Sachsen\n",
       "4     BNA0793  32469   Petershagen                 NaN  Nordrhein-Westfalen\n",
       "..        ...    ...           ...                 ...                  ...\n",
       "724   BNA1950  12681        Berlin                 NaN               Berlin\n",
       "725   BNA1948  55120         Mainz                 NaN      Rheinland-Pfalz\n",
       "726   BNA0639  68169      Mannheim  Otto-Hahn-Straße 1    Baden-Württemberg\n",
       "727   BNA0638  68169      Mannheim  Otto-Hahn-Straße 1    Baden-Württemberg\n",
       "728   BNA0192   4509     Delitzsch                 NaN              Sachsen\n",
       "\n",
       "[720 rows x 5 columns]"
      ]
     },
     "execution_count": 373,
     "metadata": {},
     "output_type": "execute_result"
    }
   ],
   "source": [
    "stammdaten"
   ]
  },
  {
   "cell_type": "code",
   "execution_count": 374,
   "metadata": {},
   "outputs": [
    {
     "data": {
      "text/html": [
       "<div>\n",
       "<style scoped>\n",
       "    .dataframe tbody tr th:only-of-type {\n",
       "        vertical-align: middle;\n",
       "    }\n",
       "\n",
       "    .dataframe tbody tr th {\n",
       "        vertical-align: top;\n",
       "    }\n",
       "\n",
       "    .dataframe thead th {\n",
       "        text-align: right;\n",
       "    }\n",
       "</style>\n",
       "<table border=\"1\" class=\"dataframe\">\n",
       "  <thead>\n",
       "    <tr style=\"text-align: right;\">\n",
       "      <th></th>\n",
       "      <th>plantid</th>\n",
       "      <th>blockid</th>\n",
       "      <th>company</th>\n",
       "      <th>plantname</th>\n",
       "      <th>plz</th>\n",
       "      <th>place</th>\n",
       "      <th>street</th>\n",
       "      <th>federalstate</th>\n",
       "      <th>blockname</th>\n",
       "      <th>initialop</th>\n",
       "      <th>state</th>\n",
       "      <th>energysource</th>\n",
       "      <th>chp</th>\n",
       "      <th>power</th>\n",
       "      <th>endop</th>\n",
       "    </tr>\n",
       "  </thead>\n",
       "  <tbody>\n",
       "    <tr>\n",
       "      <th>59</th>\n",
       "      <td>06-08-2948214</td>\n",
       "      <td>BNA0645</td>\n",
       "      <td>Grosskraftwerk Mannheim AG</td>\n",
       "      <td>GKM</td>\n",
       "      <td>68199</td>\n",
       "      <td>Mannheim</td>\n",
       "      <td>Marguerrestraße 1</td>\n",
       "      <td>Baden-Württemberg</td>\n",
       "      <td>Block 7</td>\n",
       "      <td>1970.0</td>\n",
       "      <td>Gesetzlich an Stilllegung gehindert</td>\n",
       "      <td>Steinkohle</td>\n",
       "      <td>Ja</td>\n",
       "      <td>425.0</td>\n",
       "      <td>NaN</td>\n",
       "    </tr>\n",
       "  </tbody>\n",
       "</table>\n",
       "</div>"
      ],
      "text/plain": [
       "          plantid  blockid                     company plantname    plz  \\\n",
       "59  06-08-2948214  BNA0645  Grosskraftwerk Mannheim AG      GKM   68199   \n",
       "\n",
       "       place             street       federalstate blockname  initialop  \\\n",
       "59  Mannheim  Marguerrestraße 1  Baden-Württemberg   Block 7     1970.0   \n",
       "\n",
       "                                  state energysource chp  power endop  \n",
       "59  Gesetzlich an Stilllegung gehindert   Steinkohle  Ja  425.0   NaN  "
      ]
     },
     "execution_count": 374,
     "metadata": {},
     "output_type": "execute_result"
    }
   ],
   "source": [
    "blocks.loc[blocks[\"blockid\"] == \"BNA0645\"]"
   ]
  },
  {
   "cell_type": "code",
   "execution_count": 375,
   "metadata": {},
   "outputs": [],
   "source": [
    "#bm2.to_csv(\"bpm.csv\", index=False)"
   ]
  },
  {
   "cell_type": "code",
   "execution_count": 376,
   "metadata": {},
   "outputs": [],
   "source": [
    "#blocks"
   ]
  },
  {
   "cell_type": "code",
   "execution_count": 377,
   "metadata": {},
   "outputs": [],
   "source": [
    "#blocks.groupby('Energieträger').count()"
   ]
  },
  {
   "cell_type": "code",
   "execution_count": 378,
   "metadata": {},
   "outputs": [],
   "source": [
    "#pl4 = blocks.loc[blocks['Energieträger'] == \"Mineralölprodukte\"]"
   ]
  },
  {
   "cell_type": "code",
   "execution_count": 379,
   "metadata": {},
   "outputs": [],
   "source": [
    "#pl4"
   ]
  },
  {
   "cell_type": "code",
   "execution_count": 380,
   "metadata": {},
   "outputs": [],
   "source": [
    "#pd.set_option('display.max_rows', None)"
   ]
  },
  {
   "cell_type": "code",
   "execution_count": 381,
   "metadata": {},
   "outputs": [],
   "source": [
    "#pl4.loc[pl4['Energieträger'] == \"Mineralölprodukte\"].sort_values([\"Bundesland\", \"Unternehmen\", \"Kraftwerksname\"])"
   ]
  },
  {
   "cell_type": "code",
   "execution_count": 382,
   "metadata": {},
   "outputs": [],
   "source": [
    "#plants_final2"
   ]
  },
  {
   "cell_type": "code",
   "execution_count": 383,
   "metadata": {},
   "outputs": [
    {
     "data": {
      "text/html": [
       "<div>\n",
       "<style scoped>\n",
       "    .dataframe tbody tr th:only-of-type {\n",
       "        vertical-align: middle;\n",
       "    }\n",
       "\n",
       "    .dataframe tbody tr th {\n",
       "        vertical-align: top;\n",
       "    }\n",
       "\n",
       "    .dataframe thead th {\n",
       "        text-align: right;\n",
       "    }\n",
       "</style>\n",
       "<table border=\"1\" class=\"dataframe\">\n",
       "  <thead>\n",
       "    <tr style=\"text-align: right;\">\n",
       "      <th></th>\n",
       "      <th>plantid</th>\n",
       "      <th>blockid</th>\n",
       "      <th>blockname</th>\n",
       "      <th>federalstate</th>\n",
       "      <th>energysource</th>\n",
       "      <th>initialop</th>\n",
       "      <th>chp</th>\n",
       "      <th>plantname</th>\n",
       "      <th>power</th>\n",
       "      <th>state</th>\n",
       "      <th>endop</th>\n",
       "      <th>company</th>\n",
       "    </tr>\n",
       "  </thead>\n",
       "  <tbody>\n",
       "    <tr>\n",
       "      <th>355</th>\n",
       "      <td>666-14</td>\n",
       "      <td>BNA0157</td>\n",
       "      <td>KBR</td>\n",
       "      <td>Schleswig-Holstein</td>\n",
       "      <td>Kernenergie</td>\n",
       "      <td>1970.0</td>\n",
       "      <td>Nein</td>\n",
       "      <td>Brokdorf</td>\n",
       "      <td>1410.0</td>\n",
       "      <td>in Betrieb</td>\n",
       "      <td>NaN</td>\n",
       "      <td>PreussenElektra GmbH</td>\n",
       "    </tr>\n",
       "    <tr>\n",
       "      <th>357</th>\n",
       "      <td>666-16</td>\n",
       "      <td>BNA0263</td>\n",
       "      <td>KKI 2</td>\n",
       "      <td>Bayern</td>\n",
       "      <td>Kernenergie</td>\n",
       "      <td>1970.0</td>\n",
       "      <td>Nein</td>\n",
       "      <td>Isar 2</td>\n",
       "      <td>1410.0</td>\n",
       "      <td>in Betrieb</td>\n",
       "      <td>NaN</td>\n",
       "      <td>PreussenElektra GmbH</td>\n",
       "    </tr>\n",
       "    <tr>\n",
       "      <th>353</th>\n",
       "      <td>666-12</td>\n",
       "      <td>BNA0802</td>\n",
       "      <td>KKP 2</td>\n",
       "      <td>Baden-Württemberg</td>\n",
       "      <td>Kernenergie</td>\n",
       "      <td>1985.0</td>\n",
       "      <td>Nein</td>\n",
       "      <td>Kernkraftwerk Philippsburg 2</td>\n",
       "      <td>1402.0</td>\n",
       "      <td>stillgelegt</td>\n",
       "      <td>2019</td>\n",
       "      <td>EnBW AG</td>\n",
       "    </tr>\n",
       "    <tr>\n",
       "      <th>354</th>\n",
       "      <td>666-13</td>\n",
       "      <td>BNA0251</td>\n",
       "      <td>KWG</td>\n",
       "      <td>Niedersachsen</td>\n",
       "      <td>Kernenergie</td>\n",
       "      <td>1970.0</td>\n",
       "      <td>Nein</td>\n",
       "      <td>Grohnde</td>\n",
       "      <td>1360.0</td>\n",
       "      <td>in Betrieb</td>\n",
       "      <td>NaN</td>\n",
       "      <td>PreussenElektra GmbH</td>\n",
       "    </tr>\n",
       "    <tr>\n",
       "      <th>358</th>\n",
       "      <td>666-17</td>\n",
       "      <td>BNA0607</td>\n",
       "      <td>KKE</td>\n",
       "      <td>Niedersachsen</td>\n",
       "      <td>Kernenergie</td>\n",
       "      <td>1970.0</td>\n",
       "      <td>Nein</td>\n",
       "      <td>Kernkraftwerk Emsland</td>\n",
       "      <td>1336.0</td>\n",
       "      <td>in Betrieb</td>\n",
       "      <td>NaN</td>\n",
       "      <td>RWE AG</td>\n",
       "    </tr>\n",
       "    <tr>\n",
       "      <th>359</th>\n",
       "      <td>666-18</td>\n",
       "      <td>BNA0686</td>\n",
       "      <td>GKN II</td>\n",
       "      <td>Baden-Württemberg</td>\n",
       "      <td>Kernenergie</td>\n",
       "      <td>1989.0</td>\n",
       "      <td>Nein</td>\n",
       "      <td>Gemeinschaftskernkraftwerk Neckarwestheim II</td>\n",
       "      <td>1310.0</td>\n",
       "      <td>in Betrieb</td>\n",
       "      <td>NaN</td>\n",
       "      <td>EnBW AG</td>\n",
       "    </tr>\n",
       "    <tr>\n",
       "      <th>352</th>\n",
       "      <td>666-11</td>\n",
       "      <td>BNA0382</td>\n",
       "      <td>C</td>\n",
       "      <td>Bayern</td>\n",
       "      <td>Kernenergie</td>\n",
       "      <td>1970.0</td>\n",
       "      <td>Nein</td>\n",
       "      <td>Kernkraft Gundremmingen</td>\n",
       "      <td>1288.0</td>\n",
       "      <td>in Betrieb</td>\n",
       "      <td>NaN</td>\n",
       "      <td>RWE AG</td>\n",
       "    </tr>\n",
       "    <tr>\n",
       "      <th>351</th>\n",
       "      <td>666-11</td>\n",
       "      <td>BNA0381</td>\n",
       "      <td>B</td>\n",
       "      <td>Bayern</td>\n",
       "      <td>Kernenergie</td>\n",
       "      <td>1970.0</td>\n",
       "      <td>Nein</td>\n",
       "      <td>Kernkraft Gundremmingen</td>\n",
       "      <td>1284.0</td>\n",
       "      <td>stillgelegt</td>\n",
       "      <td>2017</td>\n",
       "      <td>RWE AG</td>\n",
       "    </tr>\n",
       "    <tr>\n",
       "      <th>356</th>\n",
       "      <td>666-15</td>\n",
       "      <td>BNA0355</td>\n",
       "      <td>KKG</td>\n",
       "      <td>Bayern</td>\n",
       "      <td>Kernenergie</td>\n",
       "      <td>1970.0</td>\n",
       "      <td>Nein</td>\n",
       "      <td>Grafenrheinfeld</td>\n",
       "      <td>1275.0</td>\n",
       "      <td>stillgelegt</td>\n",
       "      <td>2015</td>\n",
       "      <td>E.ON Kernkraft GmbH</td>\n",
       "    </tr>\n",
       "    <tr>\n",
       "      <th>0</th>\n",
       "      <td>06-05-100-0248923</td>\n",
       "      <td>BNA1401a</td>\n",
       "      <td>Neurath F</td>\n",
       "      <td>Nordrhein-Westfalen</td>\n",
       "      <td>Braunkohle</td>\n",
       "      <td>1970.0</td>\n",
       "      <td>Nein</td>\n",
       "      <td>BoA 2</td>\n",
       "      <td>1060.0</td>\n",
       "      <td>in Betrieb</td>\n",
       "      <td>NaN</td>\n",
       "      <td>RWE AG</td>\n",
       "    </tr>\n",
       "    <tr>\n",
       "      <th>1</th>\n",
       "      <td>06-05-100-0248923</td>\n",
       "      <td>BNA1401b</td>\n",
       "      <td>Neurath G</td>\n",
       "      <td>Nordrhein-Westfalen</td>\n",
       "      <td>Braunkohle</td>\n",
       "      <td>1970.0</td>\n",
       "      <td>Nein</td>\n",
       "      <td>BoA 3</td>\n",
       "      <td>1060.0</td>\n",
       "      <td>in Betrieb</td>\n",
       "      <td>NaN</td>\n",
       "      <td>RWE AG</td>\n",
       "    </tr>\n",
       "    <tr>\n",
       "      <th>140</th>\n",
       "      <td>06-05-500-0342713</td>\n",
       "      <td>BNA1949</td>\n",
       "      <td>Datteln 4</td>\n",
       "      <td>Nordrhein-Westfalen</td>\n",
       "      <td>Steinkohle</td>\n",
       "      <td>2020.0</td>\n",
       "      <td>Ja</td>\n",
       "      <td>Datteln</td>\n",
       "      <td>1052.0</td>\n",
       "      <td>in Betrieb</td>\n",
       "      <td>NaN</td>\n",
       "      <td>Uniper SE</td>\n",
       "    </tr>\n",
       "    <tr>\n",
       "      <th>29</th>\n",
       "      <td>06-05-300-0326774</td>\n",
       "      <td>BNA0709</td>\n",
       "      <td>K</td>\n",
       "      <td>Nordrhein-Westfalen</td>\n",
       "      <td>Braunkohle</td>\n",
       "      <td>2002.0</td>\n",
       "      <td>Ja</td>\n",
       "      <td>Niederaußem</td>\n",
       "      <td>944.0</td>\n",
       "      <td>in Betrieb</td>\n",
       "      <td>NaN</td>\n",
       "      <td>RWE AG</td>\n",
       "    </tr>\n",
       "    <tr>\n",
       "      <th>336</th>\n",
       "      <td>03-10-10257673950</td>\n",
       "      <td>BNA0606</td>\n",
       "      <td>D</td>\n",
       "      <td>Niedersachsen</td>\n",
       "      <td>Erdgas</td>\n",
       "      <td>1970.0</td>\n",
       "      <td>Ja</td>\n",
       "      <td>Emsland</td>\n",
       "      <td>887.0</td>\n",
       "      <td>in Betrieb</td>\n",
       "      <td>NaN</td>\n",
       "      <td>RWE AG</td>\n",
       "    </tr>\n",
       "    <tr>\n",
       "      <th>4</th>\n",
       "      <td>06-05-700-0105516</td>\n",
       "      <td>BNA0793</td>\n",
       "      <td>4</td>\n",
       "      <td>Nordrhein-Westfalen</td>\n",
       "      <td>Steinkohle</td>\n",
       "      <td>1987.0</td>\n",
       "      <td>Nein</td>\n",
       "      <td>Heyden</td>\n",
       "      <td>875.0</td>\n",
       "      <td>Kohlestromvermarktungsverbot</td>\n",
       "      <td>NaN</td>\n",
       "      <td>Uniper SE</td>\n",
       "    </tr>\n",
       "    <tr>\n",
       "      <th>3</th>\n",
       "      <td>14-80-00009560000</td>\n",
       "      <td>BNA0116</td>\n",
       "      <td>LIP S</td>\n",
       "      <td>Sachsen</td>\n",
       "      <td>Braunkohle</td>\n",
       "      <td>1999.0</td>\n",
       "      <td>Ja</td>\n",
       "      <td>Braunkohlekraftwerk Lippendorf</td>\n",
       "      <td>875.0</td>\n",
       "      <td>in Betrieb</td>\n",
       "      <td>NaN</td>\n",
       "      <td>EnBW AG</td>\n",
       "    </tr>\n",
       "    <tr>\n",
       "      <th>2</th>\n",
       "      <td>14-80-00009560000</td>\n",
       "      <td>BNA0115</td>\n",
       "      <td>R</td>\n",
       "      <td>Sachsen</td>\n",
       "      <td>Braunkohle</td>\n",
       "      <td>2000.0</td>\n",
       "      <td>Ja</td>\n",
       "      <td>Lippendorf</td>\n",
       "      <td>875.0</td>\n",
       "      <td>in Betrieb</td>\n",
       "      <td>NaN</td>\n",
       "      <td>LEAG</td>\n",
       "    </tr>\n",
       "    <tr>\n",
       "      <th>5</th>\n",
       "      <td>14-70-46630660001</td>\n",
       "      <td>BNA0124</td>\n",
       "      <td>Q</td>\n",
       "      <td>Sachsen</td>\n",
       "      <td>Braunkohle</td>\n",
       "      <td>2000.0</td>\n",
       "      <td>Ja</td>\n",
       "      <td>Boxberg</td>\n",
       "      <td>857.0</td>\n",
       "      <td>in Betrieb</td>\n",
       "      <td>NaN</td>\n",
       "      <td>LEAG</td>\n",
       "    </tr>\n",
       "    <tr>\n",
       "      <th>174</th>\n",
       "      <td>06-09-100-0001-0002</td>\n",
       "      <td>BNA0994</td>\n",
       "      <td>5</td>\n",
       "      <td>Bayern</td>\n",
       "      <td>Erdgas</td>\n",
       "      <td>2010.0</td>\n",
       "      <td>Nein</td>\n",
       "      <td>Gemeinschaftskraftwerk Irsching</td>\n",
       "      <td>846.0</td>\n",
       "      <td>in Betrieb</td>\n",
       "      <td>NaN</td>\n",
       "      <td>Gemeinschaftskraftwerk Irsching GmbH</td>\n",
       "    </tr>\n",
       "    <tr>\n",
       "      <th>6</th>\n",
       "      <td>06-08-2948214</td>\n",
       "      <td>BNA0646b</td>\n",
       "      <td>Block 9</td>\n",
       "      <td>Baden-Württemberg</td>\n",
       "      <td>Steinkohle</td>\n",
       "      <td>1970.0</td>\n",
       "      <td>Ja</td>\n",
       "      <td>GKM</td>\n",
       "      <td>843.0</td>\n",
       "      <td>in Betrieb</td>\n",
       "      <td>NaN</td>\n",
       "      <td>Grosskraftwerk Mannheim AG</td>\n",
       "    </tr>\n",
       "  </tbody>\n",
       "</table>\n",
       "</div>"
      ],
      "text/plain": [
       "                 plantid   blockid  blockname         federalstate  \\\n",
       "355               666-14   BNA0157        KBR   Schleswig-Holstein   \n",
       "357               666-16   BNA0263      KKI 2               Bayern   \n",
       "353               666-12   BNA0802      KKP 2    Baden-Württemberg   \n",
       "354               666-13   BNA0251        KWG        Niedersachsen   \n",
       "358               666-17   BNA0607        KKE        Niedersachsen   \n",
       "359               666-18   BNA0686     GKN II    Baden-Württemberg   \n",
       "352               666-11   BNA0382          C               Bayern   \n",
       "351               666-11   BNA0381          B               Bayern   \n",
       "356               666-15   BNA0355        KKG               Bayern   \n",
       "0      06-05-100-0248923  BNA1401a  Neurath F  Nordrhein-Westfalen   \n",
       "1      06-05-100-0248923  BNA1401b  Neurath G  Nordrhein-Westfalen   \n",
       "140    06-05-500-0342713   BNA1949  Datteln 4  Nordrhein-Westfalen   \n",
       "29     06-05-300-0326774   BNA0709          K  Nordrhein-Westfalen   \n",
       "336    03-10-10257673950   BNA0606          D        Niedersachsen   \n",
       "4      06-05-700-0105516   BNA0793          4  Nordrhein-Westfalen   \n",
       "3      14-80-00009560000   BNA0116      LIP S              Sachsen   \n",
       "2      14-80-00009560000   BNA0115          R              Sachsen   \n",
       "5      14-70-46630660001   BNA0124          Q              Sachsen   \n",
       "174  06-09-100-0001-0002   BNA0994          5               Bayern   \n",
       "6          06-08-2948214  BNA0646b    Block 9    Baden-Württemberg   \n",
       "\n",
       "    energysource  initialop   chp  \\\n",
       "355  Kernenergie     1970.0  Nein   \n",
       "357  Kernenergie     1970.0  Nein   \n",
       "353  Kernenergie     1985.0  Nein   \n",
       "354  Kernenergie     1970.0  Nein   \n",
       "358  Kernenergie     1970.0  Nein   \n",
       "359  Kernenergie     1989.0  Nein   \n",
       "352  Kernenergie     1970.0  Nein   \n",
       "351  Kernenergie     1970.0  Nein   \n",
       "356  Kernenergie     1970.0  Nein   \n",
       "0     Braunkohle     1970.0  Nein   \n",
       "1     Braunkohle     1970.0  Nein   \n",
       "140   Steinkohle     2020.0    Ja   \n",
       "29    Braunkohle     2002.0    Ja   \n",
       "336       Erdgas     1970.0    Ja   \n",
       "4     Steinkohle     1987.0  Nein   \n",
       "3     Braunkohle     1999.0    Ja   \n",
       "2     Braunkohle     2000.0    Ja   \n",
       "5     Braunkohle     2000.0    Ja   \n",
       "174       Erdgas     2010.0  Nein   \n",
       "6     Steinkohle     1970.0    Ja   \n",
       "\n",
       "                                        plantname   power  \\\n",
       "355                                      Brokdorf  1410.0   \n",
       "357                                        Isar 2  1410.0   \n",
       "353                  Kernkraftwerk Philippsburg 2  1402.0   \n",
       "354                                       Grohnde  1360.0   \n",
       "358                         Kernkraftwerk Emsland  1336.0   \n",
       "359  Gemeinschaftskernkraftwerk Neckarwestheim II  1310.0   \n",
       "352                      Kernkraft Gundremmingen   1288.0   \n",
       "351                      Kernkraft Gundremmingen   1284.0   \n",
       "356                               Grafenrheinfeld  1275.0   \n",
       "0                                           BoA 2  1060.0   \n",
       "1                                           BoA 3  1060.0   \n",
       "140                                       Datteln  1052.0   \n",
       "29                                    Niederaußem   944.0   \n",
       "336                                       Emsland   887.0   \n",
       "4                                          Heyden   875.0   \n",
       "3                  Braunkohlekraftwerk Lippendorf   875.0   \n",
       "2                                      Lippendorf   875.0   \n",
       "5                                         Boxberg   857.0   \n",
       "174              Gemeinschaftskraftwerk Irsching    846.0   \n",
       "6                                            GKM    843.0   \n",
       "\n",
       "                            state endop                               company  \n",
       "355                    in Betrieb   NaN                  PreussenElektra GmbH  \n",
       "357                    in Betrieb   NaN                  PreussenElektra GmbH  \n",
       "353                   stillgelegt  2019                               EnBW AG  \n",
       "354                    in Betrieb   NaN                  PreussenElektra GmbH  \n",
       "358                    in Betrieb   NaN                                RWE AG  \n",
       "359                    in Betrieb   NaN                               EnBW AG  \n",
       "352                    in Betrieb   NaN                                RWE AG  \n",
       "351                   stillgelegt  2017                                RWE AG  \n",
       "356                   stillgelegt  2015                   E.ON Kernkraft GmbH  \n",
       "0                      in Betrieb   NaN                                RWE AG  \n",
       "1                      in Betrieb   NaN                                RWE AG  \n",
       "140                    in Betrieb   NaN                             Uniper SE  \n",
       "29                     in Betrieb   NaN                                RWE AG  \n",
       "336                    in Betrieb   NaN                                RWE AG  \n",
       "4    Kohlestromvermarktungsverbot   NaN                             Uniper SE  \n",
       "3                      in Betrieb   NaN                               EnBW AG  \n",
       "2                      in Betrieb   NaN                                  LEAG  \n",
       "5                      in Betrieb   NaN                                  LEAG  \n",
       "174                    in Betrieb   NaN  Gemeinschaftskraftwerk Irsching GmbH  \n",
       "6                      in Betrieb   NaN            Grosskraftwerk Mannheim AG  "
      ]
     },
     "execution_count": 383,
     "metadata": {},
     "output_type": "execute_result"
    }
   ],
   "source": [
    "blocks2.sort_values('power', ascending=False)[0:20]"
   ]
  }
 ],
 "metadata": {
  "kernelspec": {
   "display_name": "Python 3 (ipykernel)",
   "language": "python",
   "name": "python3"
  },
  "language_info": {
   "codemirror_mode": {
    "name": "ipython",
    "version": 3
   },
   "file_extension": ".py",
   "mimetype": "text/x-python",
   "name": "python",
   "nbconvert_exporter": "python",
   "pygments_lexer": "ipython3",
   "version": "3.9.7"
  }
 },
 "nbformat": 4,
 "nbformat_minor": 4
}
