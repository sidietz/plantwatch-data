{
 "cells": [
  {
   "cell_type": "code",
   "execution_count": 364,
   "metadata": {},
   "outputs": [],
   "source": [
    "import pandas as pd\n",
    "from scipy import stats\n",
    "import numpy as np\n",
    "from pandas.api.types import CategoricalDtype\n",
    "import re"
   ]
  },
  {
   "cell_type": "code",
   "execution_count": 365,
   "metadata": {},
   "outputs": [],
   "source": [
    "pl0 = pd.read_excel(\"../data/Kraftwerksliste_2020_1.xlsx\", skiprows=9)\n",
    "prtr = pd.read_excel(\"../data/2020-05-19_PRTR-Deutschland_Freisetzungen.xlsx\")"
   ]
  },
  {
   "cell_type": "code",
   "execution_count": 366,
   "metadata": {},
   "outputs": [],
   "source": [
    "pl0nd1 = {0: \"blockid\", 1: \"company\", 2: \"plantname\", 3: \"plz\", 4: \"place\", 5: \"street\", 6: \"federalstate\", 7: \"blockname\", 8: \"initialop\", 9: \"state\", 10: \"e1\", 11: \"e2\", 12: \"e3\", 13: \"energysource\", 14: \"eeg\", 15: \"chp\", 16: \"power\"}"
   ]
  },
  {
   "cell_type": "code",
   "execution_count": 367,
   "metadata": {},
   "outputs": [
    {
     "data": {
      "text/plain": [
       "['plantid',\n",
       " 'plantname',\n",
       " 'federalstate',\n",
       " 'energysource',\n",
       " 'chp',\n",
       " 'latestexpanded',\n",
       " 'initialop',\n",
       " 'totalpower',\n",
       " 'state',\n",
       " 'blockcount',\n",
       " 'company']"
      ]
     },
     "execution_count": 367,
     "metadata": {},
     "output_type": "execute_result"
    }
   ],
   "source": [
    "list(plants_final)"
   ]
  },
  {
   "cell_type": "code",
   "execution_count": 368,
   "metadata": {},
   "outputs": [],
   "source": [
    "test = list(zip(pl0nd1.keys(), pl0nd1.values(), list(pl0)))"
   ]
  },
  {
   "cell_type": "code",
   "execution_count": 369,
   "metadata": {},
   "outputs": [],
   "source": [
    "#test"
   ]
  },
  {
   "cell_type": "code",
   "execution_count": 370,
   "metadata": {},
   "outputs": [],
   "source": [
    "pl0nd2 = {}\n",
    "\n",
    "for idx, new, old in list(zip(pl0nd1.keys(), pl0nd1.values(), list(pl0))):\n",
    "    pl0nd2[old] = new\n"
   ]
  },
  {
   "cell_type": "code",
   "execution_count": 371,
   "metadata": {},
   "outputs": [],
   "source": [
    "#list(pl0)"
   ]
  },
  {
   "cell_type": "code",
   "execution_count": null,
   "metadata": {},
   "outputs": [],
   "source": []
  },
  {
   "cell_type": "code",
   "execution_count": 430,
   "metadata": {},
   "outputs": [],
   "source": [
    "cols = [10,11,12,14,17,18,19]\n",
    "plt = pl0.rename(columns=pl0nd2)\n",
    "plq = plt.drop(plt.columns[cols],axis=1)"
   ]
  },
  {
   "cell_type": "code",
   "execution_count": null,
   "metadata": {},
   "outputs": [],
   "source": []
  },
  {
   "cell_type": "code",
   "execution_count": 431,
   "metadata": {},
   "outputs": [
    {
     "data": {
      "text/plain": [
       "['blockid',\n",
       " 'company',\n",
       " 'plantname',\n",
       " 'plz',\n",
       " 'place',\n",
       " 'street',\n",
       " 'federalstate',\n",
       " 'blockname',\n",
       " 'initialop',\n",
       " 'state',\n",
       " 'energysource',\n",
       " 'chp',\n",
       " 'power']"
      ]
     },
     "execution_count": 431,
     "metadata": {},
     "output_type": "execute_result"
    }
   ],
   "source": [
    "list(plq)"
   ]
  },
  {
   "cell_type": "code",
   "execution_count": 432,
   "metadata": {},
   "outputs": [],
   "source": [
    "#list(plq)"
   ]
  },
  {
   "cell_type": "code",
   "execution_count": 433,
   "metadata": {},
   "outputs": [],
   "source": [
    "#def get_renamed_blocks(df):\n",
    "#   "
   ]
  },
  {
   "cell_type": "code",
   "execution_count": 434,
   "metadata": {},
   "outputs": [],
   "source": [
    "#list(blocks2)"
   ]
  },
  {
   "cell_type": "code",
   "execution_count": 435,
   "metadata": {},
   "outputs": [
    {
     "data": {
      "text/html": [
       "<div>\n",
       "<style scoped>\n",
       "    .dataframe tbody tr th:only-of-type {\n",
       "        vertical-align: middle;\n",
       "    }\n",
       "\n",
       "    .dataframe tbody tr th {\n",
       "        vertical-align: top;\n",
       "    }\n",
       "\n",
       "    .dataframe thead th {\n",
       "        text-align: right;\n",
       "    }\n",
       "</style>\n",
       "<table border=\"1\" class=\"dataframe\">\n",
       "  <thead>\n",
       "    <tr style=\"text-align: right;\">\n",
       "      <th></th>\n",
       "      <th>blockid</th>\n",
       "      <th>company</th>\n",
       "      <th>plantname</th>\n",
       "      <th>plz</th>\n",
       "      <th>place</th>\n",
       "      <th>street</th>\n",
       "      <th>federalstate</th>\n",
       "      <th>blockname</th>\n",
       "      <th>initialop</th>\n",
       "      <th>state</th>\n",
       "      <th>e1</th>\n",
       "      <th>e2</th>\n",
       "      <th>e3</th>\n",
       "      <th>energysource</th>\n",
       "      <th>eeg</th>\n",
       "      <th>chp</th>\n",
       "      <th>power</th>\n",
       "      <th>Bezeichnung Verknüpfungspunkt (Schaltanlage) mit dem Stromnetz der Allgemeinen Versorgung gemäß Netzbetreiber</th>\n",
       "      <th>Netz- oder Umspannebene des Anschlusses</th>\n",
       "      <th>Name Stromnetzbetreiber</th>\n",
       "    </tr>\n",
       "  </thead>\n",
       "  <tbody>\n",
       "    <tr>\n",
       "      <th>0</th>\n",
       "      <td>BNA0001</td>\n",
       "      <td>NaN</td>\n",
       "      <td>NaN</td>\n",
       "      <td>52074</td>\n",
       "      <td>Aachen</td>\n",
       "      <td>NaN</td>\n",
       "      <td>Nordrhein-Westfalen</td>\n",
       "      <td>NaN</td>\n",
       "      <td>1997</td>\n",
       "      <td>in Betrieb</td>\n",
       "      <td>Windenergie (Onshore-Anlage)</td>\n",
       "      <td>NaN</td>\n",
       "      <td>NaN</td>\n",
       "      <td>Windenergie (Onshore-Anlage)</td>\n",
       "      <td>Ja</td>\n",
       "      <td>NaN</td>\n",
       "      <td>15.0</td>\n",
       "      <td>NaN</td>\n",
       "      <td>Mittelspannung (MS)</td>\n",
       "      <td>INFRAWEST GmbH</td>\n",
       "    </tr>\n",
       "    <tr>\n",
       "      <th>1</th>\n",
       "      <td>BNA1888</td>\n",
       "      <td>STAWAG Energie GmbH</td>\n",
       "      <td>Windpark Aachen Nord GmbH &amp; Co. KG</td>\n",
       "      <td>NaN</td>\n",
       "      <td>Aachen</td>\n",
       "      <td>NaN</td>\n",
       "      <td>Nordrhein-Westfalen</td>\n",
       "      <td>NaN</td>\n",
       "      <td>2017-06-08 00:00:00</td>\n",
       "      <td>in Betrieb</td>\n",
       "      <td>Windenergie (Onshore-Anlage)</td>\n",
       "      <td>NaN</td>\n",
       "      <td>NaN</td>\n",
       "      <td>Windenergie (Onshore-Anlage)</td>\n",
       "      <td>Ja</td>\n",
       "      <td>NaN</td>\n",
       "      <td>12.1</td>\n",
       "      <td>NaN</td>\n",
       "      <td>NaN</td>\n",
       "      <td>NaN</td>\n",
       "    </tr>\n",
       "    <tr>\n",
       "      <th>2</th>\n",
       "      <td>BNA1011</td>\n",
       "      <td>Breeze Three Energy GmbH &amp; Co. KG</td>\n",
       "      <td>Windpark Waldhausen</td>\n",
       "      <td>73433</td>\n",
       "      <td>Aalen</td>\n",
       "      <td>NaN</td>\n",
       "      <td>Baden-Württemberg</td>\n",
       "      <td>NaN</td>\n",
       "      <td>2006-12-30 00:00:00</td>\n",
       "      <td>in Betrieb</td>\n",
       "      <td>Windenergie (Onshore-Anlage)</td>\n",
       "      <td>NaN</td>\n",
       "      <td>NaN</td>\n",
       "      <td>Windenergie (Onshore-Anlage)</td>\n",
       "      <td>Ja</td>\n",
       "      <td>Nein</td>\n",
       "      <td>14.0</td>\n",
       "      <td>DE0010107343300000000000000287689 &amp; DE 0010107...</td>\n",
       "      <td>Mittelspannung (MS)</td>\n",
       "      <td>Netzgesellschaft Ostwürttemberg DonauRies GmbH</td>\n",
       "    </tr>\n",
       "    <tr>\n",
       "      <th>3</th>\n",
       "      <td>BNA1938</td>\n",
       "      <td>Papierfabrik Palm GmbH &amp; Co. KG</td>\n",
       "      <td>KWK-Anlage Neukochen</td>\n",
       "      <td>73432</td>\n",
       "      <td>Aalen</td>\n",
       "      <td>NaN</td>\n",
       "      <td>Baden-Württemberg</td>\n",
       "      <td>Neukochen 10</td>\n",
       "      <td>1960-01-01 00:00:00</td>\n",
       "      <td>in Betrieb</td>\n",
       "      <td>Erdgas</td>\n",
       "      <td>NaN</td>\n",
       "      <td>NaN</td>\n",
       "      <td>Erdgas</td>\n",
       "      <td>Nein</td>\n",
       "      <td>Ja</td>\n",
       "      <td>15.0</td>\n",
       "      <td>UW Erlau</td>\n",
       "      <td>Mittelspannung (MS)</td>\n",
       "      <td>Stadtwerke Aalen</td>\n",
       "    </tr>\n",
       "    <tr>\n",
       "      <th>4</th>\n",
       "      <td>BNA0002</td>\n",
       "      <td>ecoJoule construct GmbH</td>\n",
       "      <td>NaN</td>\n",
       "      <td>28832</td>\n",
       "      <td>Achim</td>\n",
       "      <td>NaN</td>\n",
       "      <td>Niedersachsen</td>\n",
       "      <td>NaN</td>\n",
       "      <td>2002</td>\n",
       "      <td>in Betrieb</td>\n",
       "      <td>Windenergie (Onshore-Anlage)</td>\n",
       "      <td>NaN</td>\n",
       "      <td>NaN</td>\n",
       "      <td>Windenergie (Onshore-Anlage)</td>\n",
       "      <td>Ja</td>\n",
       "      <td>NaN</td>\n",
       "      <td>13.3</td>\n",
       "      <td>NaN</td>\n",
       "      <td>USp. Hoch- / Mittelspannung (HS/MS)</td>\n",
       "      <td>EWE NETZ GmbH</td>\n",
       "    </tr>\n",
       "    <tr>\n",
       "      <th>...</th>\n",
       "      <td>...</td>\n",
       "      <td>...</td>\n",
       "      <td>...</td>\n",
       "      <td>...</td>\n",
       "      <td>...</td>\n",
       "      <td>...</td>\n",
       "      <td>...</td>\n",
       "      <td>...</td>\n",
       "      <td>...</td>\n",
       "      <td>...</td>\n",
       "      <td>...</td>\n",
       "      <td>...</td>\n",
       "      <td>...</td>\n",
       "      <td>...</td>\n",
       "      <td>...</td>\n",
       "      <td>...</td>\n",
       "      <td>...</td>\n",
       "      <td>...</td>\n",
       "      <td>...</td>\n",
       "      <td>...</td>\n",
       "    </tr>\n",
       "    <tr>\n",
       "      <th>2123</th>\n",
       "      <td>BNA1672</td>\n",
       "      <td>EnBW Energie Baden-Württemberg AG</td>\n",
       "      <td>Walgauwerk</td>\n",
       "      <td>A-06710</td>\n",
       "      <td>Nenzing</td>\n",
       "      <td>Eichholz 1</td>\n",
       "      <td>Österreich</td>\n",
       "      <td>NaN</td>\n",
       "      <td>1984-09-01 00:00:00</td>\n",
       "      <td>Wegfall IWA nach DE</td>\n",
       "      <td>Speicherwasser (ohne Pumpspeicher)</td>\n",
       "      <td>NaN</td>\n",
       "      <td>NaN</td>\n",
       "      <td>Speicherwasser (ohne Pumpspeicher)</td>\n",
       "      <td>Nein</td>\n",
       "      <td>Nein</td>\n",
       "      <td>86.0</td>\n",
       "      <td>Bürs / Werben</td>\n",
       "      <td>Höchstspannung (HöS)</td>\n",
       "      <td>Transnet BW GmbH</td>\n",
       "    </tr>\n",
       "    <tr>\n",
       "      <th>2124</th>\n",
       "      <td>BNA0748</td>\n",
       "      <td>Innwerk AG</td>\n",
       "      <td>Oberaudorf-Ebbs</td>\n",
       "      <td>83080</td>\n",
       "      <td>Oberaudorf</td>\n",
       "      <td>Untere Innauen 1</td>\n",
       "      <td>Bayern</td>\n",
       "      <td>Oberaudorf-Ebbs</td>\n",
       "      <td>1992-04-27 00:00:00</td>\n",
       "      <td>Wegfall IWA nach DE</td>\n",
       "      <td>Laufwasser</td>\n",
       "      <td>NaN</td>\n",
       "      <td>NaN</td>\n",
       "      <td>Laufwasser</td>\n",
       "      <td>Nein</td>\n",
       "      <td>Nein</td>\n",
       "      <td>60.0</td>\n",
       "      <td>Schaltanlage vor Ort</td>\n",
       "      <td>Hochspannung (HS)</td>\n",
       "      <td>APG/Bayernwerk AG</td>\n",
       "    </tr>\n",
       "    <tr>\n",
       "      <th>2125</th>\n",
       "      <td>BNA0816</td>\n",
       "      <td>TIWAG-Tiroler Wasserkraft AG</td>\n",
       "      <td>KW Kaunertal</td>\n",
       "      <td>A-6522</td>\n",
       "      <td>Prutz</td>\n",
       "      <td>NaN</td>\n",
       "      <td>Österreich</td>\n",
       "      <td>Prutz</td>\n",
       "      <td>1964-10-02 00:00:00</td>\n",
       "      <td>Wegfall IWA nach DE</td>\n",
       "      <td>Speicherwasser (ohne Pumpspeicher)</td>\n",
       "      <td>NaN</td>\n",
       "      <td>NaN</td>\n",
       "      <td>Speicherwasser (ohne Pumpspeicher)</td>\n",
       "      <td>Nein</td>\n",
       "      <td>Nein</td>\n",
       "      <td>392.0</td>\n",
       "      <td>UW Prutz</td>\n",
       "      <td>Höchstspannung (HöS)</td>\n",
       "      <td>TIWAG-Netz AG/APG bzw. Amprion</td>\n",
       "    </tr>\n",
       "    <tr>\n",
       "      <th>2126</th>\n",
       "      <td>BNA0917</td>\n",
       "      <td>Innwerk AG</td>\n",
       "      <td>Schärding-Neuhaus</td>\n",
       "      <td>A-4782</td>\n",
       "      <td>St. Florian am Inn</td>\n",
       "      <td>Badhöring 16</td>\n",
       "      <td>Österreich</td>\n",
       "      <td>Schärding-Neuhaus</td>\n",
       "      <td>1961-10-12 00:00:00</td>\n",
       "      <td>Wegfall IWA nach DE</td>\n",
       "      <td>Laufwasser</td>\n",
       "      <td>NaN</td>\n",
       "      <td>NaN</td>\n",
       "      <td>Laufwasser</td>\n",
       "      <td>Nein</td>\n",
       "      <td>Nein</td>\n",
       "      <td>96.0</td>\n",
       "      <td>Schaltanlage vor Ort</td>\n",
       "      <td>Höchstspannung (HöS)</td>\n",
       "      <td>APG/Bayernwerk AG</td>\n",
       "    </tr>\n",
       "    <tr>\n",
       "      <th>2127</th>\n",
       "      <td>BNA0024</td>\n",
       "      <td>TIWAG-Tiroler Wasserkraft AG</td>\n",
       "      <td>KW Amlach</td>\n",
       "      <td>A-9900</td>\n",
       "      <td>Amlach</td>\n",
       "      <td>NaN</td>\n",
       "      <td>Österreich</td>\n",
       "      <td>Amlach</td>\n",
       "      <td>1989-02-05 00:00:00</td>\n",
       "      <td>Wegfall IWA nach DE</td>\n",
       "      <td>Laufwasser</td>\n",
       "      <td>NaN</td>\n",
       "      <td>NaN</td>\n",
       "      <td>Laufwasser</td>\n",
       "      <td>Nein</td>\n",
       "      <td>Nein</td>\n",
       "      <td>60.0</td>\n",
       "      <td>UW Amlach</td>\n",
       "      <td>Hochspannung (HS)</td>\n",
       "      <td>TIWAG-Netz AG/APG bzw. Tennet</td>\n",
       "    </tr>\n",
       "  </tbody>\n",
       "</table>\n",
       "<p>2128 rows × 20 columns</p>\n",
       "</div>"
      ],
      "text/plain": [
       "      blockid                            company  \\\n",
       "0     BNA0001                                NaN   \n",
       "1     BNA1888                STAWAG Energie GmbH   \n",
       "2     BNA1011  Breeze Three Energy GmbH & Co. KG   \n",
       "3     BNA1938    Papierfabrik Palm GmbH & Co. KG   \n",
       "4     BNA0002            ecoJoule construct GmbH   \n",
       "...       ...                                ...   \n",
       "2123  BNA1672  EnBW Energie Baden-Württemberg AG   \n",
       "2124  BNA0748                         Innwerk AG   \n",
       "2125  BNA0816       TIWAG-Tiroler Wasserkraft AG   \n",
       "2126  BNA0917                         Innwerk AG   \n",
       "2127  BNA0024       TIWAG-Tiroler Wasserkraft AG   \n",
       "\n",
       "                               plantname      plz               place  \\\n",
       "0                                    NaN    52074              Aachen   \n",
       "1     Windpark Aachen Nord GmbH & Co. KG      NaN              Aachen   \n",
       "2                    Windpark Waldhausen    73433               Aalen   \n",
       "3                   KWK-Anlage Neukochen    73432               Aalen   \n",
       "4                                    NaN    28832               Achim   \n",
       "...                                  ...      ...                 ...   \n",
       "2123                          Walgauwerk  A-06710             Nenzing   \n",
       "2124                     Oberaudorf-Ebbs    83080          Oberaudorf   \n",
       "2125                        KW Kaunertal   A-6522               Prutz   \n",
       "2126                   Schärding-Neuhaus   A-4782  St. Florian am Inn   \n",
       "2127                           KW Amlach   A-9900              Amlach   \n",
       "\n",
       "                street         federalstate          blockname  \\\n",
       "0                  NaN  Nordrhein-Westfalen                NaN   \n",
       "1                  NaN  Nordrhein-Westfalen                NaN   \n",
       "2                  NaN    Baden-Württemberg                NaN   \n",
       "3                  NaN    Baden-Württemberg       Neukochen 10   \n",
       "4                  NaN        Niedersachsen                NaN   \n",
       "...                ...                  ...                ...   \n",
       "2123        Eichholz 1           Österreich                NaN   \n",
       "2124  Untere Innauen 1               Bayern    Oberaudorf-Ebbs   \n",
       "2125               NaN           Österreich              Prutz   \n",
       "2126      Badhöring 16           Österreich  Schärding-Neuhaus   \n",
       "2127               NaN           Österreich             Amlach   \n",
       "\n",
       "                initialop                state  \\\n",
       "0                    1997           in Betrieb   \n",
       "1     2017-06-08 00:00:00           in Betrieb   \n",
       "2     2006-12-30 00:00:00           in Betrieb   \n",
       "3     1960-01-01 00:00:00           in Betrieb   \n",
       "4                    2002           in Betrieb   \n",
       "...                   ...                  ...   \n",
       "2123  1984-09-01 00:00:00  Wegfall IWA nach DE   \n",
       "2124  1992-04-27 00:00:00  Wegfall IWA nach DE   \n",
       "2125  1964-10-02 00:00:00  Wegfall IWA nach DE   \n",
       "2126  1961-10-12 00:00:00  Wegfall IWA nach DE   \n",
       "2127  1989-02-05 00:00:00  Wegfall IWA nach DE   \n",
       "\n",
       "                                      e1   e2   e3  \\\n",
       "0           Windenergie (Onshore-Anlage)  NaN  NaN   \n",
       "1           Windenergie (Onshore-Anlage)  NaN  NaN   \n",
       "2           Windenergie (Onshore-Anlage)  NaN  NaN   \n",
       "3                                 Erdgas  NaN  NaN   \n",
       "4           Windenergie (Onshore-Anlage)  NaN  NaN   \n",
       "...                                  ...  ...  ...   \n",
       "2123  Speicherwasser (ohne Pumpspeicher)  NaN  NaN   \n",
       "2124                          Laufwasser  NaN  NaN   \n",
       "2125  Speicherwasser (ohne Pumpspeicher)  NaN  NaN   \n",
       "2126                          Laufwasser  NaN  NaN   \n",
       "2127                          Laufwasser  NaN  NaN   \n",
       "\n",
       "                            energysource   eeg   chp  power  \\\n",
       "0           Windenergie (Onshore-Anlage)    Ja   NaN   15.0   \n",
       "1           Windenergie (Onshore-Anlage)    Ja   NaN   12.1   \n",
       "2           Windenergie (Onshore-Anlage)    Ja  Nein   14.0   \n",
       "3                                 Erdgas  Nein    Ja   15.0   \n",
       "4           Windenergie (Onshore-Anlage)    Ja   NaN   13.3   \n",
       "...                                  ...   ...   ...    ...   \n",
       "2123  Speicherwasser (ohne Pumpspeicher)  Nein  Nein   86.0   \n",
       "2124                          Laufwasser  Nein  Nein   60.0   \n",
       "2125  Speicherwasser (ohne Pumpspeicher)  Nein  Nein  392.0   \n",
       "2126                          Laufwasser  Nein  Nein   96.0   \n",
       "2127                          Laufwasser  Nein  Nein   60.0   \n",
       "\n",
       "     Bezeichnung Verknüpfungspunkt (Schaltanlage) mit dem Stromnetz der Allgemeinen Versorgung gemäß Netzbetreiber  \\\n",
       "0                                                   NaN                                                              \n",
       "1                                                   NaN                                                              \n",
       "2     DE0010107343300000000000000287689 & DE 0010107...                                                              \n",
       "3                                              UW Erlau                                                              \n",
       "4                                                   NaN                                                              \n",
       "...                                                 ...                                                              \n",
       "2123                                      Bürs / Werben                                                              \n",
       "2124                               Schaltanlage vor Ort                                                              \n",
       "2125                                           UW Prutz                                                              \n",
       "2126                               Schaltanlage vor Ort                                                              \n",
       "2127                                          UW Amlach                                                              \n",
       "\n",
       "     Netz- oder Umspannebene des Anschlusses  \\\n",
       "0                        Mittelspannung (MS)   \n",
       "1                                        NaN   \n",
       "2                        Mittelspannung (MS)   \n",
       "3                        Mittelspannung (MS)   \n",
       "4        USp. Hoch- / Mittelspannung (HS/MS)   \n",
       "...                                      ...   \n",
       "2123                    Höchstspannung (HöS)   \n",
       "2124                       Hochspannung (HS)   \n",
       "2125                    Höchstspannung (HöS)   \n",
       "2126                    Höchstspannung (HöS)   \n",
       "2127                       Hochspannung (HS)   \n",
       "\n",
       "                             Name Stromnetzbetreiber  \n",
       "0                                     INFRAWEST GmbH  \n",
       "1                                                NaN  \n",
       "2     Netzgesellschaft Ostwürttemberg DonauRies GmbH  \n",
       "3                                   Stadtwerke Aalen  \n",
       "4                                      EWE NETZ GmbH  \n",
       "...                                              ...  \n",
       "2123                                Transnet BW GmbH  \n",
       "2124                               APG/Bayernwerk AG  \n",
       "2125                  TIWAG-Netz AG/APG bzw. Amprion  \n",
       "2126                               APG/Bayernwerk AG  \n",
       "2127                   TIWAG-Netz AG/APG bzw. Tennet  \n",
       "\n",
       "[2128 rows x 20 columns]"
      ]
     },
     "execution_count": 435,
     "metadata": {},
     "output_type": "execute_result"
    }
   ],
   "source": [
    "pl0"
   ]
  },
  {
   "cell_type": "code",
   "execution_count": 436,
   "metadata": {},
   "outputs": [],
   "source": [
    "#prtr"
   ]
  },
  {
   "cell_type": "code",
   "execution_count": 437,
   "metadata": {},
   "outputs": [],
   "source": [
    "#pl0 = pd.read_csv(\"../Kraftwerksliste_2020.csv\", error_bad_lines=False, engine=\"python\", encoding=\"latin1\", sep=\";\", skiprows=9)\n",
    "#prtr = pd.read_csv(\"../data/2019-11-25_PRTR-Deutschland_Freisetzungen.csv\", error_bad_lines=False, engine=\"python\", encoding=\"latin1\", sep=\";\", skiprows=0)\n",
    "#pl0 = pd.read_csv(\"Kraftwerksliste_CSV.csv\", error_bad_lines=False, engine=\"python\")\n",
    "bm = pd.read_csv(\"block_plant_mapper.csv\", error_bad_lines=True, engine=\"python\")"
   ]
  },
  {
   "cell_type": "code",
   "execution_count": 438,
   "metadata": {},
   "outputs": [],
   "source": [
    "bm['plantid'] = bm['plantid'].apply(lambda x: str(x).replace('/', '_'))"
   ]
  },
  {
   "cell_type": "code",
   "execution_count": 439,
   "metadata": {},
   "outputs": [
    {
     "data": {
      "text/html": [
       "<div>\n",
       "<style scoped>\n",
       "    .dataframe tbody tr th:only-of-type {\n",
       "        vertical-align: middle;\n",
       "    }\n",
       "\n",
       "    .dataframe tbody tr th {\n",
       "        vertical-align: top;\n",
       "    }\n",
       "\n",
       "    .dataframe thead th {\n",
       "        text-align: right;\n",
       "    }\n",
       "</style>\n",
       "<table border=\"1\" class=\"dataframe\">\n",
       "  <thead>\n",
       "    <tr style=\"text-align: right;\">\n",
       "      <th></th>\n",
       "      <th>plantid</th>\n",
       "      <th>blockid</th>\n",
       "    </tr>\n",
       "  </thead>\n",
       "  <tbody>\n",
       "    <tr>\n",
       "      <th>572</th>\n",
       "      <td>06-04-11_2001178_8_0</td>\n",
       "      <td>BNA0140</td>\n",
       "    </tr>\n",
       "    <tr>\n",
       "      <th>573</th>\n",
       "      <td>06-04-11_2001178_8_0</td>\n",
       "      <td>BNA0144</td>\n",
       "    </tr>\n",
       "    <tr>\n",
       "      <th>574</th>\n",
       "      <td>06-04-11_2001178_8_1</td>\n",
       "      <td>BNA0139</td>\n",
       "    </tr>\n",
       "    <tr>\n",
       "      <th>575</th>\n",
       "      <td>06-04-11_2001178_8_1</td>\n",
       "      <td>BNA0145</td>\n",
       "    </tr>\n",
       "    <tr>\n",
       "      <th>576</th>\n",
       "      <td>06-04-11_2001178_8_1</td>\n",
       "      <td>BNA0146</td>\n",
       "    </tr>\n",
       "    <tr>\n",
       "      <th>577</th>\n",
       "      <td>06-04-11_2001178_8_2</td>\n",
       "      <td>BNA0141</td>\n",
       "    </tr>\n",
       "    <tr>\n",
       "      <th>578</th>\n",
       "      <td>06-04-11_2001178_8_2</td>\n",
       "      <td>BNA1842</td>\n",
       "    </tr>\n",
       "    <tr>\n",
       "      <th>579</th>\n",
       "      <td>06-04-11_2001178_8_2</td>\n",
       "      <td>BNA1820</td>\n",
       "    </tr>\n",
       "    <tr>\n",
       "      <th>581</th>\n",
       "      <td>06-04-11_2039669_2_0</td>\n",
       "      <td>BNA0147</td>\n",
       "    </tr>\n",
       "  </tbody>\n",
       "</table>\n",
       "</div>"
      ],
      "text/plain": [
       "                  plantid  blockid\n",
       "572  06-04-11_2001178_8_0  BNA0140\n",
       "573  06-04-11_2001178_8_0  BNA0144\n",
       "574  06-04-11_2001178_8_1  BNA0139\n",
       "575  06-04-11_2001178_8_1  BNA0145\n",
       "576  06-04-11_2001178_8_1  BNA0146\n",
       "577  06-04-11_2001178_8_2  BNA0141\n",
       "578  06-04-11_2001178_8_2  BNA1842\n",
       "579  06-04-11_2001178_8_2  BNA1820\n",
       "581  06-04-11_2039669_2_0  BNA0147"
      ]
     },
     "execution_count": 439,
     "metadata": {},
     "output_type": "execute_result"
    }
   ],
   "source": [
    "bm.loc[bm.plantid.str.contains(\"_\")]"
   ]
  },
  {
   "cell_type": "code",
   "execution_count": 440,
   "metadata": {},
   "outputs": [
    {
     "data": {
      "text/html": [
       "<div>\n",
       "<style scoped>\n",
       "    .dataframe tbody tr th:only-of-type {\n",
       "        vertical-align: middle;\n",
       "    }\n",
       "\n",
       "    .dataframe tbody tr th {\n",
       "        vertical-align: top;\n",
       "    }\n",
       "\n",
       "    .dataframe thead th {\n",
       "        text-align: right;\n",
       "    }\n",
       "</style>\n",
       "<table border=\"1\" class=\"dataframe\">\n",
       "  <thead>\n",
       "    <tr style=\"text-align: right;\">\n",
       "      <th></th>\n",
       "      <th>jahr</th>\n",
       "      <th>geo_lat_wgs84</th>\n",
       "      <th>geo_long_wgs84</th>\n",
       "      <th>haupttaetigkeit</th>\n",
       "      <th>nace_id</th>\n",
       "      <th>jahresfracht_freisetzung</th>\n",
       "      <th>versehentliche_freisetzung</th>\n",
       "      <th>schadstoff_schwellenwert</th>\n",
       "    </tr>\n",
       "  </thead>\n",
       "  <tbody>\n",
       "    <tr>\n",
       "      <th>count</th>\n",
       "      <td>55208.000000</td>\n",
       "      <td>55180.000000</td>\n",
       "      <td>55180.000000</td>\n",
       "      <td>55208.0</td>\n",
       "      <td>55208.000000</td>\n",
       "      <td>5.520800e+04</td>\n",
       "      <td>5.491000e+04</td>\n",
       "      <td>5.518600e+04</td>\n",
       "    </tr>\n",
       "    <tr>\n",
       "      <th>mean</th>\n",
       "      <td>2012.419015</td>\n",
       "      <td>51.100749</td>\n",
       "      <td>9.472607</td>\n",
       "      <td>1.0</td>\n",
       "      <td>2627.947236</td>\n",
       "      <td>1.023602e+08</td>\n",
       "      <td>1.678297e+03</td>\n",
       "      <td>8.973344e+06</td>\n",
       "    </tr>\n",
       "    <tr>\n",
       "      <th>std</th>\n",
       "      <td>3.446293</td>\n",
       "      <td>1.557373</td>\n",
       "      <td>2.285275</td>\n",
       "      <td>0.0</td>\n",
       "      <td>1297.723055</td>\n",
       "      <td>1.003942e+09</td>\n",
       "      <td>1.559399e+05</td>\n",
       "      <td>2.841689e+07</td>\n",
       "    </tr>\n",
       "    <tr>\n",
       "      <th>min</th>\n",
       "      <td>2007.000000</td>\n",
       "      <td>47.547507</td>\n",
       "      <td>6.089509</td>\n",
       "      <td>1.0</td>\n",
       "      <td>111.000000</td>\n",
       "      <td>1.010000e-04</td>\n",
       "      <td>0.000000e+00</td>\n",
       "      <td>1.000000e-04</td>\n",
       "    </tr>\n",
       "    <tr>\n",
       "      <th>25%</th>\n",
       "      <td>2009.000000</td>\n",
       "      <td>50.023316</td>\n",
       "      <td>7.416637</td>\n",
       "      <td>1.0</td>\n",
       "      <td>2013.000000</td>\n",
       "      <td>3.860000e+02</td>\n",
       "      <td>0.000000e+00</td>\n",
       "      <td>1.000000e+02</td>\n",
       "    </tr>\n",
       "    <tr>\n",
       "      <th>50%</th>\n",
       "      <td>2012.000000</td>\n",
       "      <td>51.378907</td>\n",
       "      <td>8.976796</td>\n",
       "      <td>1.0</td>\n",
       "      <td>3511.000000</td>\n",
       "      <td>2.666928e+04</td>\n",
       "      <td>0.000000e+00</td>\n",
       "      <td>1.000000e+04</td>\n",
       "    </tr>\n",
       "    <tr>\n",
       "      <th>75%</th>\n",
       "      <td>2015.000000</td>\n",
       "      <td>52.154765</td>\n",
       "      <td>11.492513</td>\n",
       "      <td>1.0</td>\n",
       "      <td>3700.000000</td>\n",
       "      <td>3.160000e+05</td>\n",
       "      <td>0.000000e+00</td>\n",
       "      <td>1.000000e+05</td>\n",
       "    </tr>\n",
       "    <tr>\n",
       "      <th>max</th>\n",
       "      <td>2018.000000</td>\n",
       "      <td>54.813533</td>\n",
       "      <td>15.000934</td>\n",
       "      <td>1.0</td>\n",
       "      <td>9609.000000</td>\n",
       "      <td>9.730000e+10</td>\n",
       "      <td>2.590000e+07</td>\n",
       "      <td>1.000000e+08</td>\n",
       "    </tr>\n",
       "  </tbody>\n",
       "</table>\n",
       "</div>"
      ],
      "text/plain": [
       "               jahr  geo_lat_wgs84  geo_long_wgs84  haupttaetigkeit  \\\n",
       "count  55208.000000   55180.000000    55180.000000          55208.0   \n",
       "mean    2012.419015      51.100749        9.472607              1.0   \n",
       "std        3.446293       1.557373        2.285275              0.0   \n",
       "min     2007.000000      47.547507        6.089509              1.0   \n",
       "25%     2009.000000      50.023316        7.416637              1.0   \n",
       "50%     2012.000000      51.378907        8.976796              1.0   \n",
       "75%     2015.000000      52.154765       11.492513              1.0   \n",
       "max     2018.000000      54.813533       15.000934              1.0   \n",
       "\n",
       "            nace_id  jahresfracht_freisetzung  versehentliche_freisetzung  \\\n",
       "count  55208.000000              5.520800e+04                5.491000e+04   \n",
       "mean    2627.947236              1.023602e+08                1.678297e+03   \n",
       "std     1297.723055              1.003942e+09                1.559399e+05   \n",
       "min      111.000000              1.010000e-04                0.000000e+00   \n",
       "25%     2013.000000              3.860000e+02                0.000000e+00   \n",
       "50%     3511.000000              2.666928e+04                0.000000e+00   \n",
       "75%     3700.000000              3.160000e+05                0.000000e+00   \n",
       "max     9609.000000              9.730000e+10                2.590000e+07   \n",
       "\n",
       "       schadstoff_schwellenwert  \n",
       "count              5.518600e+04  \n",
       "mean               8.973344e+06  \n",
       "std                2.841689e+07  \n",
       "min                1.000000e-04  \n",
       "25%                1.000000e+02  \n",
       "50%                1.000000e+04  \n",
       "75%                1.000000e+05  \n",
       "max                1.000000e+08  "
      ]
     },
     "execution_count": 440,
     "metadata": {},
     "output_type": "execute_result"
    }
   ],
   "source": [
    "prtr.describe()"
   ]
  },
  {
   "cell_type": "code",
   "execution_count": 441,
   "metadata": {},
   "outputs": [],
   "source": [
    "pl0 = plq.loc[:]"
   ]
  },
  {
   "cell_type": "code",
   "execution_count": 442,
   "metadata": {},
   "outputs": [],
   "source": [
    "pl1 = pl0.loc[pl0[\"energysource\"].isin([\"Kernenergie\", \"Erdgas\", \"Steinkohle\", \"Braunkohle\", \"Steinkohle\"])]"
   ]
  },
  {
   "cell_type": "code",
   "execution_count": 443,
   "metadata": {},
   "outputs": [],
   "source": [
    "#pl1"
   ]
  },
  {
   "cell_type": "code",
   "execution_count": 444,
   "metadata": {},
   "outputs": [],
   "source": [
    "#pl0.rename(columns={ pl0.columns[10]: \"Energieträger_old\", pl0.columns[13]: \"Energieträger\"}, inplace=True)"
   ]
  },
  {
   "cell_type": "code",
   "execution_count": 445,
   "metadata": {},
   "outputs": [],
   "source": [
    "#pl0"
   ]
  },
  {
   "cell_type": "code",
   "execution_count": 446,
   "metadata": {},
   "outputs": [],
   "source": [
    "#bm"
   ]
  },
  {
   "cell_type": "code",
   "execution_count": 447,
   "metadata": {},
   "outputs": [],
   "source": [
    "#pl0.groupby(\"Energieträger\").count()"
   ]
  },
  {
   "cell_type": "code",
   "execution_count": 448,
   "metadata": {},
   "outputs": [],
   "source": [
    "#list(plt)"
   ]
  },
  {
   "cell_type": "code",
   "execution_count": 449,
   "metadata": {},
   "outputs": [],
   "source": [
    "plt = pl1.dropna(subset=[\"blockid\"])"
   ]
  },
  {
   "cell_type": "code",
   "execution_count": 450,
   "metadata": {},
   "outputs": [],
   "source": [
    "plt = plt.astype({\"energysource\": 'category'})"
   ]
  },
  {
   "cell_type": "code",
   "execution_count": 451,
   "metadata": {},
   "outputs": [],
   "source": [
    "# remove duplicates blocks in berlin\n",
    "idxs = plt.index[plt[\"blockid\"].isin([\"BNA0083\", \"BNA0085b\"]) & ~plt[\"state\"].isin([\"in Betrieb\"])].tolist()\n",
    "plt2 = plt.loc[~plt.index.isin(idxs)]"
   ]
  },
  {
   "cell_type": "code",
   "execution_count": 452,
   "metadata": {},
   "outputs": [],
   "source": [
    "#plt[\"Energieträger\"] = plt[\"Energieträger\"].astype('category')\n",
    "#plt[\"Energieträger\"] = plt[\"Energieträger\"].cat.set_categories([\"Kernenergie\", \"Braunkohle\", \"Steinkohle\", \"Erdgas\", \"Mineralölprodukte\"], ordered=True)"
   ]
  },
  {
   "cell_type": "code",
   "execution_count": 453,
   "metadata": {},
   "outputs": [],
   "source": [
    "#plt[\"Energieträger\"] = plt[\"Energieträger\"].astype('category')"
   ]
  },
  {
   "cell_type": "code",
   "execution_count": 454,
   "metadata": {},
   "outputs": [],
   "source": [
    "#plt.groupby('Energieträger').count()"
   ]
  },
  {
   "cell_type": "code",
   "execution_count": 455,
   "metadata": {},
   "outputs": [],
   "source": [
    "pl2 = plt2.loc[:]"
   ]
  },
  {
   "cell_type": "code",
   "execution_count": 456,
   "metadata": {},
   "outputs": [],
   "source": [
    "#pl2.groupby(\"Energieträger\").count()"
   ]
  },
  {
   "cell_type": "code",
   "execution_count": 457,
   "metadata": {},
   "outputs": [],
   "source": [
    "# plt.dtypes"
   ]
  },
  {
   "cell_type": "code",
   "execution_count": 458,
   "metadata": {},
   "outputs": [],
   "source": [
    "#pl2 = plt.rename(columns={ pl1.columns[0]: \"blockid\", pl1.columns[3]: \"PLZ\", pl1.columns[4]: \"Ort\", pl1.columns[8]: \"Inbetriebnahme\", pl1.columns[9]: \"Status\", pl1.columns[15]: \"KWK\", pl1.columns[16]: \"Nettoleistung\"})\n",
    "#pl3 = pl2.rename(columns={ pl1.columns[1]: \"BlockID\" })"
   ]
  },
  {
   "cell_type": "code",
   "execution_count": 459,
   "metadata": {},
   "outputs": [],
   "source": [
    "def to_year(x):\n",
    "    if type(x) == type(4):\n",
    "        return x\n",
    "    elif type(x) == type(2.5):\n",
    "        return 0 # handle nans\n",
    "    return int(x[-4:])"
   ]
  },
  {
   "cell_type": "code",
   "execution_count": 460,
   "metadata": {},
   "outputs": [],
   "source": [
    "def to_year(x):\n",
    "    dt = pd.to_datetime(x)\n",
    "    return dt.year"
   ]
  },
  {
   "cell_type": "code",
   "execution_count": 461,
   "metadata": {},
   "outputs": [],
   "source": [
    "#blocks.loc[blocks.Energieträger == \"Kernenergie\"]"
   ]
  },
  {
   "cell_type": "code",
   "execution_count": 462,
   "metadata": {},
   "outputs": [],
   "source": [
    "#pl2"
   ]
  },
  {
   "cell_type": "code",
   "execution_count": 463,
   "metadata": {},
   "outputs": [],
   "source": [
    "pl2.loc[pl2.blockid == 'BNA0861a', 'initialop'] = 2012\n",
    "pl2.loc[pl2.blockid == 'BNA1334', 'initialop'] = 2002\n",
    "pl2.loc[pl2.blockid == 'BNA1141', 'initialop'] = 1970\n",
    "pl2.loc[pl2.blockid == 'BNA0418', 'initialop'] = 2013\n",
    "pl2.loc[pl2.blockid == 'BNA1499', 'initialop'] = 1951\n",
    "pl2.loc[pl2.blockid == 'BNA1502', 'initialop'] = 2013\n",
    "pl2.loc[pl2.blockid == 'BNA1500', 'initialop'] = 1990\n",
    "pl2.loc[pl2.blockid == 'BNA1498', 'initialop'] = 1953\n",
    "pl2.loc[pl2.blockid == 'BNA1260', 'initialop'] = 2013\n",
    "pl2.loc[pl2.blockid == 'BNA1056', 'initialop'] = 2006\n",
    "\n",
    "\n",
    "#pl2['Nettoleistung'] = pl2['Nettoleistung'].str.replace('\\n','')\n",
    "#pl2['Nettoleistung'] = pl2[pd.to_numeric(pl2[\"Nettoleistung\"])]\n",
    "#pl2['Nettoleistung'] = pl2['Nettoleistung'].str.replace(';','.')"
   ]
  },
  {
   "cell_type": "code",
   "execution_count": 470,
   "metadata": {},
   "outputs": [],
   "source": [
    "#pl2[] = pl2[pd.to_numeric(pl2[\"Nettoleistung\"])]\n",
    "pl2['initialop'] = pl2['initialop'].apply(to_year)\n",
    "pl2['power'] = pl2['power'].apply(pd.to_numeric)"
   ]
  },
  {
   "cell_type": "code",
   "execution_count": 471,
   "metadata": {},
   "outputs": [],
   "source": [
    "#bm[pl2.duplicated(['BlockID'], keep=False)].sort_values(\"BlockID\", ascending=False)"
   ]
  },
  {
   "cell_type": "code",
   "execution_count": 472,
   "metadata": {},
   "outputs": [],
   "source": [
    "#pl2[pl2.duplicated(['blockid'], keep=False)].sort_values(\"blockid\", ascending=False)"
   ]
  },
  {
   "cell_type": "code",
   "execution_count": 473,
   "metadata": {},
   "outputs": [],
   "source": [
    "#cols = [10,11,12,14,17,18,19]\n",
    "#pl3 = pl2.drop(pl2.columns[cols],axis=1)"
   ]
  },
  {
   "cell_type": "code",
   "execution_count": 474,
   "metadata": {},
   "outputs": [],
   "source": [
    "#pl3.groupby('Unternehmen').max()"
   ]
  },
  {
   "cell_type": "code",
   "execution_count": 475,
   "metadata": {},
   "outputs": [],
   "source": [
    "#pl3"
   ]
  },
  {
   "cell_type": "code",
   "execution_count": 476,
   "metadata": {},
   "outputs": [],
   "source": [
    "pl4 = pl3.copy()"
   ]
  },
  {
   "cell_type": "code",
   "execution_count": 477,
   "metadata": {},
   "outputs": [],
   "source": [
    "def fix_company(company):\n",
    "    #print(company)\n",
    "    company_dict = {\"RWE\": \"RWE AG\", \"Vattenfall\": \"Vattenfall GmbH\", \"Uniper\": \"Uniper SE\", \"EnBW\": \"EnBW AG\", \"Steag\": \"Steag GmbH\", \"Nordzucker\": \"Nordzucker AG\", \"Lausitz Energie\": \"LEAG\"}\n",
    "    for key, value in company_dict.items():\n",
    "        if key in str(company):\n",
    "            return value\n",
    "    return company"
   ]
  },
  {
   "cell_type": "code",
   "execution_count": 478,
   "metadata": {},
   "outputs": [],
   "source": [
    "z = \"Endgültig Stillgelegt 2015\""
   ]
  },
  {
   "cell_type": "code",
   "execution_count": 479,
   "metadata": {},
   "outputs": [],
   "source": [
    "def extract_still(x):\n",
    "    match = re.findall(\"[0-9]{4}\",x)\n",
    "    return match[0] if match else np.nan"
   ]
  },
  {
   "cell_type": "code",
   "execution_count": 480,
   "metadata": {},
   "outputs": [],
   "source": [
    "def extract_state(state):\n",
    "    if state == \"In Betrieb\":\n",
    "        return \"in Betrieb\"\n",
    "    elif \"Endgültig Stillgelegt\" in state:\n",
    "        return \"stillgelegt\"\n",
    "    elif \"Vorläufig Stillgelegt\" in state:\n",
    "        return \"vorläufig stillgelegt\"\n",
    "    else:\n",
    "        return state"
   ]
  },
  {
   "cell_type": "code",
   "execution_count": 481,
   "metadata": {},
   "outputs": [
    {
     "data": {
      "text/plain": [
       "'stillgelegt'"
      ]
     },
     "execution_count": 481,
     "metadata": {},
     "output_type": "execute_result"
    }
   ],
   "source": [
    "extract_state(z)"
   ]
  },
  {
   "cell_type": "code",
   "execution_count": 482,
   "metadata": {},
   "outputs": [],
   "source": [
    "def fix_kwk(x):\n",
    "    return \"Nein\" if x == \"nein\" else \"Ja\" if x == \"ja\" else x"
   ]
  },
  {
   "cell_type": "code",
   "execution_count": 483,
   "metadata": {},
   "outputs": [],
   "source": [
    "#pl4 = pl3.ap"
   ]
  },
  {
   "cell_type": "code",
   "execution_count": 490,
   "metadata": {},
   "outputs": [],
   "source": [
    "pl4['company'] = pl4['company'].apply(lambda x: fix_company(x))\n",
    "pl4['endop'] = pl4['state'].apply(lambda x: extract_still(x))\n",
    "pl4['state'] = pl4['state'].apply(lambda x: extract_state(x))\n",
    "pl4['chp'] = pl4['chp'].apply(lambda x: fix_kwk(x))"
   ]
  },
  {
   "cell_type": "code",
   "execution_count": 491,
   "metadata": {},
   "outputs": [],
   "source": [
    "newdf = pl4.copy()"
   ]
  },
  {
   "cell_type": "code",
   "execution_count": 492,
   "metadata": {},
   "outputs": [
    {
     "data": {
      "text/plain": [
       "blockid           object\n",
       "company           object\n",
       "plantname         object\n",
       "plz               object\n",
       "place             object\n",
       "street            object\n",
       "federalstate      object\n",
       "blockname         object\n",
       "initialop        float64\n",
       "state             object\n",
       "energysource    category\n",
       "chp               object\n",
       "power            float64\n",
       "endop            float64\n",
       "dtype: object"
      ]
     },
     "execution_count": 492,
     "metadata": {},
     "output_type": "execute_result"
    }
   ],
   "source": [
    "newdf.dtypes"
   ]
  },
  {
   "cell_type": "code",
   "execution_count": 493,
   "metadata": {},
   "outputs": [],
   "source": [
    "newdf[\"state\"] = newdf[\"state\"].astype('category')\n",
    "newdf[\"state\"] = newdf[\"state\"].cat.set_categories(['in Betrieb', 'Gesetzlich an Stilllegung gehindert', 'Netzreserve',  'Sicherheitsbereitschaft', 'Sonderfall', 'vorläufig stillgelegt', 'stillgelegt'], ordered=True)"
   ]
  },
  {
   "cell_type": "code",
   "execution_count": 494,
   "metadata": {},
   "outputs": [],
   "source": [
    "newdf[\"chp\"] = newdf[\"chp\"].astype('category')\n",
    "newdf[\"chp\"] = newdf[\"chp\"].cat.set_categories(['Ja', 'Nein'], ordered=True)"
   ]
  },
  {
   "cell_type": "code",
   "execution_count": 495,
   "metadata": {},
   "outputs": [],
   "source": [
    "atest = newdf.groupby(\"chp\")"
   ]
  },
  {
   "cell_type": "code",
   "execution_count": 496,
   "metadata": {},
   "outputs": [
    {
     "data": {
      "text/html": [
       "<div>\n",
       "<style scoped>\n",
       "    .dataframe tbody tr th:only-of-type {\n",
       "        vertical-align: middle;\n",
       "    }\n",
       "\n",
       "    .dataframe tbody tr th {\n",
       "        vertical-align: top;\n",
       "    }\n",
       "\n",
       "    .dataframe thead th {\n",
       "        text-align: right;\n",
       "    }\n",
       "</style>\n",
       "<table border=\"1\" class=\"dataframe\">\n",
       "  <thead>\n",
       "    <tr style=\"text-align: right;\">\n",
       "      <th></th>\n",
       "      <th>blockid</th>\n",
       "      <th>company</th>\n",
       "      <th>plantname</th>\n",
       "      <th>plz</th>\n",
       "      <th>place</th>\n",
       "      <th>street</th>\n",
       "      <th>federalstate</th>\n",
       "      <th>blockname</th>\n",
       "      <th>initialop</th>\n",
       "      <th>state</th>\n",
       "      <th>chp</th>\n",
       "      <th>power</th>\n",
       "      <th>endop</th>\n",
       "    </tr>\n",
       "    <tr>\n",
       "      <th>energysource</th>\n",
       "      <th></th>\n",
       "      <th></th>\n",
       "      <th></th>\n",
       "      <th></th>\n",
       "      <th></th>\n",
       "      <th></th>\n",
       "      <th></th>\n",
       "      <th></th>\n",
       "      <th></th>\n",
       "      <th></th>\n",
       "      <th></th>\n",
       "      <th></th>\n",
       "      <th></th>\n",
       "    </tr>\n",
       "  </thead>\n",
       "  <tbody>\n",
       "    <tr>\n",
       "      <th>Braunkohle</th>\n",
       "      <td>77</td>\n",
       "      <td>77</td>\n",
       "      <td>76</td>\n",
       "      <td>77</td>\n",
       "      <td>77</td>\n",
       "      <td>26</td>\n",
       "      <td>77</td>\n",
       "      <td>69</td>\n",
       "      <td>77</td>\n",
       "      <td>77</td>\n",
       "      <td>77</td>\n",
       "      <td>77</td>\n",
       "      <td>0</td>\n",
       "    </tr>\n",
       "    <tr>\n",
       "      <th>Erdgas</th>\n",
       "      <td>315</td>\n",
       "      <td>312</td>\n",
       "      <td>304</td>\n",
       "      <td>315</td>\n",
       "      <td>315</td>\n",
       "      <td>172</td>\n",
       "      <td>315</td>\n",
       "      <td>216</td>\n",
       "      <td>297</td>\n",
       "      <td>312</td>\n",
       "      <td>315</td>\n",
       "      <td>315</td>\n",
       "      <td>0</td>\n",
       "    </tr>\n",
       "    <tr>\n",
       "      <th>Kernenergie</th>\n",
       "      <td>9</td>\n",
       "      <td>9</td>\n",
       "      <td>9</td>\n",
       "      <td>9</td>\n",
       "      <td>9</td>\n",
       "      <td>2</td>\n",
       "      <td>9</td>\n",
       "      <td>9</td>\n",
       "      <td>8</td>\n",
       "      <td>9</td>\n",
       "      <td>9</td>\n",
       "      <td>9</td>\n",
       "      <td>0</td>\n",
       "    </tr>\n",
       "    <tr>\n",
       "      <th>Steinkohle</th>\n",
       "      <td>120</td>\n",
       "      <td>120</td>\n",
       "      <td>119</td>\n",
       "      <td>120</td>\n",
       "      <td>120</td>\n",
       "      <td>75</td>\n",
       "      <td>120</td>\n",
       "      <td>107</td>\n",
       "      <td>120</td>\n",
       "      <td>112</td>\n",
       "      <td>119</td>\n",
       "      <td>120</td>\n",
       "      <td>0</td>\n",
       "    </tr>\n",
       "  </tbody>\n",
       "</table>\n",
       "</div>"
      ],
      "text/plain": [
       "              blockid  company  plantname  plz  place  street  federalstate  \\\n",
       "energysource                                                                  \n",
       "Braunkohle         77       77         76   77     77      26            77   \n",
       "Erdgas            315      312        304  315    315     172           315   \n",
       "Kernenergie         9        9          9    9      9       2             9   \n",
       "Steinkohle        120      120        119  120    120      75           120   \n",
       "\n",
       "              blockname  initialop  state  chp  power  endop  \n",
       "energysource                                                  \n",
       "Braunkohle           69         77     77   77     77      0  \n",
       "Erdgas              216        297    312  315    315      0  \n",
       "Kernenergie           9          8      9    9      9      0  \n",
       "Steinkohle          107        120    112  119    120      0  "
      ]
     },
     "execution_count": 496,
     "metadata": {},
     "output_type": "execute_result"
    }
   ],
   "source": [
    "newdf.groupby(\"energysource\").count()"
   ]
  },
  {
   "cell_type": "code",
   "execution_count": 497,
   "metadata": {},
   "outputs": [
    {
     "data": {
      "text/html": [
       "<div>\n",
       "<style scoped>\n",
       "    .dataframe tbody tr th:only-of-type {\n",
       "        vertical-align: middle;\n",
       "    }\n",
       "\n",
       "    .dataframe tbody tr th {\n",
       "        vertical-align: top;\n",
       "    }\n",
       "\n",
       "    .dataframe thead th {\n",
       "        text-align: right;\n",
       "    }\n",
       "</style>\n",
       "<table border=\"1\" class=\"dataframe\">\n",
       "  <thead>\n",
       "    <tr style=\"text-align: right;\">\n",
       "      <th></th>\n",
       "      <th>blockid</th>\n",
       "      <th>company</th>\n",
       "      <th>plantname</th>\n",
       "      <th>plz</th>\n",
       "      <th>place</th>\n",
       "      <th>street</th>\n",
       "      <th>federalstate</th>\n",
       "      <th>blockname</th>\n",
       "      <th>initialop</th>\n",
       "      <th>state</th>\n",
       "      <th>energysource</th>\n",
       "      <th>power</th>\n",
       "      <th>endop</th>\n",
       "    </tr>\n",
       "    <tr>\n",
       "      <th>chp</th>\n",
       "      <th></th>\n",
       "      <th></th>\n",
       "      <th></th>\n",
       "      <th></th>\n",
       "      <th></th>\n",
       "      <th></th>\n",
       "      <th></th>\n",
       "      <th></th>\n",
       "      <th></th>\n",
       "      <th></th>\n",
       "      <th></th>\n",
       "      <th></th>\n",
       "      <th></th>\n",
       "    </tr>\n",
       "  </thead>\n",
       "  <tbody>\n",
       "    <tr>\n",
       "      <th>Ja</th>\n",
       "      <td>397</td>\n",
       "      <td>394</td>\n",
       "      <td>384</td>\n",
       "      <td>397</td>\n",
       "      <td>397</td>\n",
       "      <td>237</td>\n",
       "      <td>397</td>\n",
       "      <td>286</td>\n",
       "      <td>385</td>\n",
       "      <td>393</td>\n",
       "      <td>397</td>\n",
       "      <td>397</td>\n",
       "      <td>0</td>\n",
       "    </tr>\n",
       "    <tr>\n",
       "      <th>Nein</th>\n",
       "      <td>123</td>\n",
       "      <td>123</td>\n",
       "      <td>123</td>\n",
       "      <td>123</td>\n",
       "      <td>123</td>\n",
       "      <td>38</td>\n",
       "      <td>123</td>\n",
       "      <td>114</td>\n",
       "      <td>116</td>\n",
       "      <td>116</td>\n",
       "      <td>123</td>\n",
       "      <td>123</td>\n",
       "      <td>0</td>\n",
       "    </tr>\n",
       "  </tbody>\n",
       "</table>\n",
       "</div>"
      ],
      "text/plain": [
       "      blockid  company  plantname  plz  place  street  federalstate  \\\n",
       "chp                                                                   \n",
       "Ja        397      394        384  397    397     237           397   \n",
       "Nein      123      123        123  123    123      38           123   \n",
       "\n",
       "      blockname  initialop  state  energysource  power  endop  \n",
       "chp                                                            \n",
       "Ja          286        385    393           397    397      0  \n",
       "Nein        114        116    116           123    123      0  "
      ]
     },
     "execution_count": 497,
     "metadata": {},
     "output_type": "execute_result"
    }
   ],
   "source": [
    "atest.count()"
   ]
  },
  {
   "cell_type": "code",
   "execution_count": 498,
   "metadata": {},
   "outputs": [],
   "source": [
    "pl3 = newdf"
   ]
  },
  {
   "cell_type": "code",
   "execution_count": 500,
   "metadata": {},
   "outputs": [],
   "source": [
    "atest = newdf.groupby([\"power\"]).count()\n",
    "atest.sort_values(\"initialop\", inplace=True, ascending=False)"
   ]
  },
  {
   "cell_type": "code",
   "execution_count": 501,
   "metadata": {},
   "outputs": [],
   "source": [
    "#print(atest)"
   ]
  },
  {
   "cell_type": "code",
   "execution_count": 502,
   "metadata": {},
   "outputs": [],
   "source": [
    "atest = pl3.groupby([\"state\"]).count()\n",
    "# atest"
   ]
  },
  {
   "cell_type": "code",
   "execution_count": 503,
   "metadata": {},
   "outputs": [],
   "source": [
    "# pl3.rename(columns={ pl3.columns[10]: \"Energieträger\"}, inplace=True)"
   ]
  },
  {
   "cell_type": "code",
   "execution_count": 504,
   "metadata": {},
   "outputs": [
    {
     "data": {
      "text/html": [
       "<div>\n",
       "<style scoped>\n",
       "    .dataframe tbody tr th:only-of-type {\n",
       "        vertical-align: middle;\n",
       "    }\n",
       "\n",
       "    .dataframe tbody tr th {\n",
       "        vertical-align: top;\n",
       "    }\n",
       "\n",
       "    .dataframe thead th {\n",
       "        text-align: right;\n",
       "    }\n",
       "</style>\n",
       "<table border=\"1\" class=\"dataframe\">\n",
       "  <thead>\n",
       "    <tr style=\"text-align: right;\">\n",
       "      <th></th>\n",
       "      <th>plantid</th>\n",
       "      <th>blockid</th>\n",
       "    </tr>\n",
       "  </thead>\n",
       "  <tbody>\n",
       "  </tbody>\n",
       "</table>\n",
       "</div>"
      ],
      "text/plain": [
       "Empty DataFrame\n",
       "Columns: [plantid, blockid]\n",
       "Index: []"
      ]
     },
     "execution_count": 504,
     "metadata": {},
     "output_type": "execute_result"
    }
   ],
   "source": [
    "bm[bm.duplicated(['blockid'], keep=False)].sort_values(\"blockid\", ascending=False)"
   ]
  },
  {
   "cell_type": "code",
   "execution_count": 505,
   "metadata": {},
   "outputs": [],
   "source": [
    "#bm2 = bm.drop_duplicates()"
   ]
  },
  {
   "cell_type": "code",
   "execution_count": 506,
   "metadata": {},
   "outputs": [],
   "source": [
    "pl4 = bm.merge(pl3, how=\"outer\", on=\"blockid\")"
   ]
  },
  {
   "cell_type": "code",
   "execution_count": 507,
   "metadata": {},
   "outputs": [],
   "source": [
    "#pl4[pl4.duplicated(['BlocID'], keep=False)].sort_values(\"BlockID\", ascending=False)"
   ]
  },
  {
   "cell_type": "code",
   "execution_count": 510,
   "metadata": {},
   "outputs": [],
   "source": [
    "pl5 = pl4[pd.notnull(pl4['blockid'])]\n",
    "#pl5 = pl4\n",
    "pl6 = pl5[pd.notnull(pl5['power'])]"
   ]
  },
  {
   "cell_type": "code",
   "execution_count": 511,
   "metadata": {},
   "outputs": [],
   "source": [
    "# pl6"
   ]
  },
  {
   "cell_type": "code",
   "execution_count": 516,
   "metadata": {},
   "outputs": [
    {
     "name": "stderr",
     "output_type": "stream",
     "text": [
      "/opt/conda/envs/idp/lib/python3.7/site-packages/ipykernel_launcher.py:1: SettingWithCopyWarning: \n",
      "A value is trying to be set on a copy of a slice from a DataFrame.\n",
      "Try using .loc[row_indexer,col_indexer] = value instead\n",
      "\n",
      "See the caveats in the documentation: http://pandas.pydata.org/pandas-docs/stable/user_guide/indexing.html#returning-a-view-versus-a-copy\n",
      "  \"\"\"Entry point for launching an IPython kernel.\n"
     ]
    }
   ],
   "source": [
    "pl6['plantid'] = pl6['plantid'].apply(lambda x: str(x).replace('/', '_'))"
   ]
  },
  {
   "cell_type": "code",
   "execution_count": 517,
   "metadata": {},
   "outputs": [],
   "source": [
    "# pl7 = pl6.replace(\"/\", \"_\")"
   ]
  },
  {
   "cell_type": "code",
   "execution_count": 518,
   "metadata": {},
   "outputs": [],
   "source": [
    "#pl7 = pl6.apply(str.replace(\"/\", \"_\"))"
   ]
  },
  {
   "cell_type": "code",
   "execution_count": 519,
   "metadata": {},
   "outputs": [],
   "source": [
    "#pl6.loc[pl6.Kraftwerksname == \"KW Mittelsbüren\"]"
   ]
  },
  {
   "cell_type": "code",
   "execution_count": 520,
   "metadata": {},
   "outputs": [
    {
     "name": "stderr",
     "output_type": "stream",
     "text": [
      "/opt/conda/envs/idp/lib/python3.7/site-packages/ipykernel_launcher.py:1: SettingWithCopyWarning: \n",
      "A value is trying to be set on a copy of a slice from a DataFrame.\n",
      "Try using .loc[row_indexer,col_indexer] = value instead\n",
      "\n",
      "See the caveats in the documentation: http://pandas.pydata.org/pandas-docs/stable/user_guide/indexing.html#returning-a-view-versus-a-copy\n",
      "  \"\"\"Entry point for launching an IPython kernel.\n"
     ]
    }
   ],
   "source": [
    "pl6['initialop'] = pl6['initialop'].apply(pd.to_numeric)"
   ]
  },
  {
   "cell_type": "code",
   "execution_count": 521,
   "metadata": {},
   "outputs": [],
   "source": [
    "blocks = pl6.copy()\n",
    "stammdaten = pl6.copy()"
   ]
  },
  {
   "cell_type": "code",
   "execution_count": 522,
   "metadata": {},
   "outputs": [],
   "source": [
    "blocks.sort_values(\"initialop\", inplace=True, ascending=False)\n",
    "# blocks"
   ]
  },
  {
   "cell_type": "code",
   "execution_count": 534,
   "metadata": {},
   "outputs": [],
   "source": [
    "plants = blocks.loc[:]\n",
    "plants = plants.dropna(subset=[\"plantid\", \"initialop\"]) #TODO: remove initialop from here"
   ]
  },
  {
   "cell_type": "code",
   "execution_count": 543,
   "metadata": {},
   "outputs": [
    {
     "data": {
      "text/html": [
       "<div>\n",
       "<style scoped>\n",
       "    .dataframe tbody tr th:only-of-type {\n",
       "        vertical-align: middle;\n",
       "    }\n",
       "\n",
       "    .dataframe tbody tr th {\n",
       "        vertical-align: top;\n",
       "    }\n",
       "\n",
       "    .dataframe thead th {\n",
       "        text-align: right;\n",
       "    }\n",
       "</style>\n",
       "<table border=\"1\" class=\"dataframe\">\n",
       "  <thead>\n",
       "    <tr style=\"text-align: right;\">\n",
       "      <th></th>\n",
       "      <th>plantid</th>\n",
       "      <th>blockid</th>\n",
       "      <th>company</th>\n",
       "      <th>plantname</th>\n",
       "      <th>plz</th>\n",
       "      <th>place</th>\n",
       "      <th>street</th>\n",
       "      <th>federalstate</th>\n",
       "      <th>blockname</th>\n",
       "      <th>initialop</th>\n",
       "      <th>state</th>\n",
       "      <th>energysource</th>\n",
       "      <th>chp</th>\n",
       "      <th>power</th>\n",
       "      <th>endop</th>\n",
       "    </tr>\n",
       "  </thead>\n",
       "  <tbody>\n",
       "    <tr>\n",
       "      <th>582</th>\n",
       "      <td>nan</td>\n",
       "      <td>BNa1947</td>\n",
       "      <td>BMW AG</td>\n",
       "      <td>Werk 1.5</td>\n",
       "      <td>80937</td>\n",
       "      <td>München</td>\n",
       "      <td>Knorrstraße 147</td>\n",
       "      <td>Bayern</td>\n",
       "      <td>KWK 1-4</td>\n",
       "      <td>2019.0</td>\n",
       "      <td>in Betrieb</td>\n",
       "      <td>Erdgas</td>\n",
       "      <td>Ja</td>\n",
       "      <td>13.60</td>\n",
       "      <td>NaN</td>\n",
       "    </tr>\n",
       "    <tr>\n",
       "      <th>431</th>\n",
       "      <td>06-09-162-0025-0001</td>\n",
       "      <td>BNA1946</td>\n",
       "      <td>BMW AG</td>\n",
       "      <td>Werk 1.1</td>\n",
       "      <td>80809</td>\n",
       "      <td>München</td>\n",
       "      <td>Lerchennauerstraße 76</td>\n",
       "      <td>Bayern</td>\n",
       "      <td>KWK 1-3</td>\n",
       "      <td>2019.0</td>\n",
       "      <td>in Betrieb</td>\n",
       "      <td>Erdgas</td>\n",
       "      <td>Ja</td>\n",
       "      <td>13.50</td>\n",
       "      <td>NaN</td>\n",
       "    </tr>\n",
       "    <tr>\n",
       "      <th>386</th>\n",
       "      <td>06-11-01-1105607</td>\n",
       "      <td>BNA1935</td>\n",
       "      <td>Vattenfall GmbH</td>\n",
       "      <td>Lichterfelde</td>\n",
       "      <td>12207</td>\n",
       "      <td>Berlin</td>\n",
       "      <td>NaN</td>\n",
       "      <td>Berlin</td>\n",
       "      <td>NaN</td>\n",
       "      <td>2019.0</td>\n",
       "      <td>in Betrieb</td>\n",
       "      <td>Erdgas</td>\n",
       "      <td>Ja</td>\n",
       "      <td>289.00</td>\n",
       "      <td>NaN</td>\n",
       "    </tr>\n",
       "    <tr>\n",
       "      <th>399</th>\n",
       "      <td>661-10</td>\n",
       "      <td>BNA1945</td>\n",
       "      <td>Stadtwerke Kiel AG</td>\n",
       "      <td>Küstenkraftwerk K.I.E.L.</td>\n",
       "      <td>24149</td>\n",
       "      <td>Kiel</td>\n",
       "      <td>Hasselfelde 30</td>\n",
       "      <td>Schleswig-Holstein</td>\n",
       "      <td>BHKW Modul 1-20</td>\n",
       "      <td>2019.0</td>\n",
       "      <td>in Betrieb</td>\n",
       "      <td>Erdgas</td>\n",
       "      <td>Ja</td>\n",
       "      <td>188.00</td>\n",
       "      <td>NaN</td>\n",
       "    </tr>\n",
       "    <tr>\n",
       "      <th>415</th>\n",
       "      <td>06-09-279-0013-0001</td>\n",
       "      <td>BNA1944</td>\n",
       "      <td>BMW AG</td>\n",
       "      <td>Dingolfing BA2</td>\n",
       "      <td>84130</td>\n",
       "      <td>Dingolfing</td>\n",
       "      <td>Landshuter Straße 56</td>\n",
       "      <td>Bayern</td>\n",
       "      <td>BA2</td>\n",
       "      <td>2019.0</td>\n",
       "      <td>in Betrieb</td>\n",
       "      <td>Erdgas</td>\n",
       "      <td>Ja</td>\n",
       "      <td>13.50</td>\n",
       "      <td>NaN</td>\n",
       "    </tr>\n",
       "    <tr>\n",
       "      <th>...</th>\n",
       "      <td>...</td>\n",
       "      <td>...</td>\n",
       "      <td>...</td>\n",
       "      <td>...</td>\n",
       "      <td>...</td>\n",
       "      <td>...</td>\n",
       "      <td>...</td>\n",
       "      <td>...</td>\n",
       "      <td>...</td>\n",
       "      <td>...</td>\n",
       "      <td>...</td>\n",
       "      <td>...</td>\n",
       "      <td>...</td>\n",
       "      <td>...</td>\n",
       "      <td>...</td>\n",
       "    </tr>\n",
       "    <tr>\n",
       "      <th>517</th>\n",
       "      <td>661-114</td>\n",
       "      <td>BNA0856</td>\n",
       "      <td>TWS Thüringer Wärme Service GmbH</td>\n",
       "      <td>HKW Schwarza</td>\n",
       "      <td>7407</td>\n",
       "      <td>Rudolstadt</td>\n",
       "      <td>NaN</td>\n",
       "      <td>Thüringen</td>\n",
       "      <td>NaN</td>\n",
       "      <td>1936.0</td>\n",
       "      <td>in Betrieb</td>\n",
       "      <td>Erdgas</td>\n",
       "      <td>Ja</td>\n",
       "      <td>26.50</td>\n",
       "      <td>NaN</td>\n",
       "    </tr>\n",
       "    <tr>\n",
       "      <th>371</th>\n",
       "      <td>664-02</td>\n",
       "      <td>BNA0196</td>\n",
       "      <td>Mitteldeutsche Braunkohlengesellschaft mbH</td>\n",
       "      <td>Deuben</td>\n",
       "      <td>6682</td>\n",
       "      <td>Teuchern</td>\n",
       "      <td>NaN</td>\n",
       "      <td>Sachsen-Anhalt</td>\n",
       "      <td>NaN</td>\n",
       "      <td>1936.0</td>\n",
       "      <td>in Betrieb</td>\n",
       "      <td>Braunkohle</td>\n",
       "      <td>Ja</td>\n",
       "      <td>67.00</td>\n",
       "      <td>NaN</td>\n",
       "    </tr>\n",
       "    <tr>\n",
       "      <th>360</th>\n",
       "      <td>06-05-900-0001413</td>\n",
       "      <td>BNA1331</td>\n",
       "      <td>R.D.M. Arnsberg GmbH</td>\n",
       "      <td>Reno De Medici</td>\n",
       "      <td>59821</td>\n",
       "      <td>Arnsberg</td>\n",
       "      <td>Hellefelderstr. 51</td>\n",
       "      <td>Nordrhein-Westfalen</td>\n",
       "      <td>HD - Kraftwerk</td>\n",
       "      <td>1923.0</td>\n",
       "      <td>in Betrieb</td>\n",
       "      <td>Steinkohle</td>\n",
       "      <td>Ja</td>\n",
       "      <td>18.99</td>\n",
       "      <td>NaN</td>\n",
       "    </tr>\n",
       "    <tr>\n",
       "      <th>433</th>\n",
       "      <td>661-34</td>\n",
       "      <td>BNA0755a</td>\n",
       "      <td>Kraftwerk Obernburg GmbH</td>\n",
       "      <td>Obernburg</td>\n",
       "      <td>63784</td>\n",
       "      <td>Obernburg</td>\n",
       "      <td>NaN</td>\n",
       "      <td>Bayern</td>\n",
       "      <td>2</td>\n",
       "      <td>1920.0</td>\n",
       "      <td>in Betrieb</td>\n",
       "      <td>Erdgas</td>\n",
       "      <td>Ja</td>\n",
       "      <td>40.00</td>\n",
       "      <td>NaN</td>\n",
       "    </tr>\n",
       "    <tr>\n",
       "      <th>210</th>\n",
       "      <td>06-05-800-0197010</td>\n",
       "      <td>BNA0491</td>\n",
       "      <td>RWE AG</td>\n",
       "      <td>Ville/Berrenrath</td>\n",
       "      <td>50354</td>\n",
       "      <td>Hürth</td>\n",
       "      <td>NaN</td>\n",
       "      <td>Nordrhein-Westfalen</td>\n",
       "      <td>Ville/Berrenrath</td>\n",
       "      <td>1917.0</td>\n",
       "      <td>in Betrieb</td>\n",
       "      <td>Braunkohle</td>\n",
       "      <td>Ja</td>\n",
       "      <td>98.00</td>\n",
       "      <td>NaN</td>\n",
       "    </tr>\n",
       "  </tbody>\n",
       "</table>\n",
       "<p>502 rows × 15 columns</p>\n",
       "</div>"
      ],
      "text/plain": [
       "                 plantid   blockid  \\\n",
       "582                  nan   BNa1947   \n",
       "431  06-09-162-0025-0001   BNA1946   \n",
       "386     06-11-01-1105607   BNA1935   \n",
       "399               661-10   BNA1945   \n",
       "415  06-09-279-0013-0001   BNA1944   \n",
       "..                   ...       ...   \n",
       "517              661-114   BNA0856   \n",
       "371               664-02   BNA0196   \n",
       "360    06-05-900-0001413   BNA1331   \n",
       "433               661-34  BNA0755a   \n",
       "210    06-05-800-0197010   BNA0491   \n",
       "\n",
       "                                        company                 plantname  \\\n",
       "582                                      BMW AG                  Werk 1.5   \n",
       "431                                      BMW AG                  Werk 1.1   \n",
       "386                             Vattenfall GmbH              Lichterfelde   \n",
       "399                          Stadtwerke Kiel AG  Küstenkraftwerk K.I.E.L.   \n",
       "415                                      BMW AG            Dingolfing BA2   \n",
       "..                                          ...                       ...   \n",
       "517            TWS Thüringer Wärme Service GmbH              HKW Schwarza   \n",
       "371  Mitteldeutsche Braunkohlengesellschaft mbH                    Deuben   \n",
       "360                        R.D.M. Arnsberg GmbH            Reno De Medici   \n",
       "433                    Kraftwerk Obernburg GmbH                 Obernburg   \n",
       "210                                      RWE AG          Ville/Berrenrath   \n",
       "\n",
       "       plz       place                 street         federalstate  \\\n",
       "582  80937     München        Knorrstraße 147               Bayern   \n",
       "431  80809     München  Lerchennauerstraße 76               Bayern   \n",
       "386  12207      Berlin                    NaN               Berlin   \n",
       "399  24149        Kiel         Hasselfelde 30   Schleswig-Holstein   \n",
       "415  84130  Dingolfing   Landshuter Straße 56               Bayern   \n",
       "..     ...         ...                    ...                  ...   \n",
       "517   7407  Rudolstadt                    NaN            Thüringen   \n",
       "371   6682    Teuchern                    NaN       Sachsen-Anhalt   \n",
       "360  59821    Arnsberg     Hellefelderstr. 51  Nordrhein-Westfalen   \n",
       "433  63784   Obernburg                    NaN               Bayern   \n",
       "210  50354       Hürth                    NaN  Nordrhein-Westfalen   \n",
       "\n",
       "            blockname  initialop       state energysource chp   power  endop  \n",
       "582           KWK 1-4     2019.0  in Betrieb       Erdgas  Ja   13.60    NaN  \n",
       "431           KWK 1-3     2019.0  in Betrieb       Erdgas  Ja   13.50    NaN  \n",
       "386               NaN     2019.0  in Betrieb       Erdgas  Ja  289.00    NaN  \n",
       "399   BHKW Modul 1-20     2019.0  in Betrieb       Erdgas  Ja  188.00    NaN  \n",
       "415               BA2     2019.0  in Betrieb       Erdgas  Ja   13.50    NaN  \n",
       "..                ...        ...         ...          ...  ..     ...    ...  \n",
       "517               NaN     1936.0  in Betrieb       Erdgas  Ja   26.50    NaN  \n",
       "371               NaN     1936.0  in Betrieb   Braunkohle  Ja   67.00    NaN  \n",
       "360    HD - Kraftwerk     1923.0  in Betrieb   Steinkohle  Ja   18.99    NaN  \n",
       "433                 2     1920.0  in Betrieb       Erdgas  Ja   40.00    NaN  \n",
       "210  Ville/Berrenrath     1917.0  in Betrieb   Braunkohle  Ja   98.00    NaN  \n",
       "\n",
       "[502 rows x 15 columns]"
      ]
     },
     "execution_count": 543,
     "metadata": {},
     "output_type": "execute_result"
    }
   ],
   "source": [
    "plants"
   ]
  },
  {
   "cell_type": "code",
   "execution_count": 535,
   "metadata": {},
   "outputs": [],
   "source": [
    "#plants_d = plants.loc[plants.duplicated(\"KraftwerkID\", keep=False)]\n",
    "# plants_d"
   ]
  },
  {
   "cell_type": "code",
   "execution_count": 536,
   "metadata": {},
   "outputs": [],
   "source": [
    "#plants_c = plants_d.groupby([\"KraftwerkID\"]).sum()\n",
    "#plants_count = plants_d.groupby([\"KraftwerkID\"]).count()"
   ]
  },
  {
   "cell_type": "code",
   "execution_count": 537,
   "metadata": {},
   "outputs": [],
   "source": [
    "#plants_f = plants_c.reset_index()"
   ]
  },
  {
   "cell_type": "code",
   "execution_count": 538,
   "metadata": {},
   "outputs": [],
   "source": [
    "#plants_count = plants_count.loc[:, [\"blockid\"]]"
   ]
  },
  {
   "cell_type": "code",
   "execution_count": 539,
   "metadata": {},
   "outputs": [],
   "source": [
    "#plants_count = plants_count.reset_index()\n",
    "# plants_count "
   ]
  },
  {
   "cell_type": "code",
   "execution_count": 540,
   "metadata": {},
   "outputs": [],
   "source": [
    "#plants_f = plants_f.merge(plants_count, on=\"KraftwerkID\", how=\"inner\")\n",
    "# plants_f"
   ]
  },
  {
   "cell_type": "code",
   "execution_count": 541,
   "metadata": {
    "scrolled": true
   },
   "outputs": [],
   "source": [
    "#plants[plants.duplicated(['KraftwerkID'], keep=False)].sort_values(\"BlockID\", ascending=False)"
   ]
  },
  {
   "cell_type": "code",
   "execution_count": 545,
   "metadata": {},
   "outputs": [],
   "source": [
    "plants[\"energysource\"] = plants[\"energysource\"].astype('category')\n",
    "plants[\"energysource\"] = plants[\"energysource\"].cat.set_categories([\"Kernenergie\", \"Braunkohle\", \"Steinkohle\", \"Erdgas\", \"Mineralölprodukte\"], ordered=True)\n",
    "plants[\"state\"] = plants[\"state\"].astype('category')\n",
    "plants[\"state\"] = plants[\"state\"].cat.set_categories(['in Betrieb', 'Gesetzlich an Stilllegung gehindert', 'Netzreserve',  'Sicherheitsbereitschaft', 'Sonderfall', 'vorläufig stillgelegt', 'stillgelegt'], ordered=True)\n",
    "plants[\"chp\"] = plants[\"chp\"].astype('category')\n",
    "plants[\"chp\"] = plants[\"chp\"].cat.set_categories(['Ja', 'Nein'], ordered=True)\n",
    "plants[\"federalstate\"] = plants[\"federalstate\"].astype('category')\n",
    "plants[\"federalstate\"] = plants[\"federalstate\"].cat.set_categories(['Baden-Württemberg', 'Bayern', 'Berlin', 'Brandenburg', 'Bremen', 'Hamburg', 'Hessen', 'Mecklenburg-Vorpommern', 'Niedersachsen', 'Nordrhein-Westfalen', 'Rheinland-Pfalz', 'Saarland', 'Sachsen', 'Sachsen-Anhalt', 'Schleswig-Holstein', 'Thüringen'])"
   ]
  },
  {
   "cell_type": "code",
   "execution_count": 547,
   "metadata": {},
   "outputs": [],
   "source": [
    "pl1 = pl0.loc[pl0[\"energysource\"].isin([\"Kernenergie\", \"Erdgas\", \"Steinkohle\", \"Braunkohle\", \"Steinkohle\"])]"
   ]
  },
  {
   "cell_type": "code",
   "execution_count": 548,
   "metadata": {},
   "outputs": [],
   "source": [
    "p_grp = plants.groupby(\"plantid\")"
   ]
  },
  {
   "cell_type": "code",
   "execution_count": 549,
   "metadata": {},
   "outputs": [],
   "source": [
    "#plants.groupby(\"Energip_subgrper\").max()"
   ]
  },
  {
   "cell_type": "code",
   "execution_count": 551,
   "metadata": {},
   "outputs": [],
   "source": [
    "p_subgrp = plants.loc[plants['state'].isin(['in Betrieb','Gesetzlich an Stilllegung gehindert'])].groupby('plantid') # TODO: add "
   ]
  },
  {
   "cell_type": "code",
   "execution_count": 552,
   "metadata": {},
   "outputs": [],
   "source": [
    "plants_act = pd.DataFrame()\n",
    "for plantid, group in p_subgrp:\n",
    "    entry = {}\n",
    "    entry[\"plantid\"] = plantid\n",
    "    entry[\"activepower\"] = group[\"power\"].sum()\n",
    "    plants_act = plants_act.append(entry, ignore_index=True)"
   ]
  },
  {
   "cell_type": "code",
   "execution_count": 554,
   "metadata": {},
   "outputs": [],
   "source": [
    "#plants_act.sort_values('activepower', ascending=False)"
   ]
  },
  {
   "cell_type": "code",
   "execution_count": null,
   "metadata": {},
   "outputs": [],
   "source": []
  },
  {
   "cell_type": "code",
   "execution_count": 555,
   "metadata": {},
   "outputs": [],
   "source": [
    "#ap = plants.loc[plants.Status == \"in Betrieb\" | plants.Status == \"Gesetzlich an Stilllegung gehindert\"]"
   ]
  },
  {
   "cell_type": "code",
   "execution_count": 558,
   "metadata": {},
   "outputs": [],
   "source": [
    "plants_a = pd.DataFrame()\n",
    "for plantid, group in p_grp:\n",
    "    #if not plantid == \"06-05-300-9046797\":\n",
    "    #    continue\n",
    "    entry = {}\n",
    "    #print(entry)\n",
    "    entry[\"plantid\"] = plantid\n",
    "    # entry[\"BlockID\"] = group\n",
    "    try:\n",
    "        entry[\"plantname\"] = group[\"plantname\"].value_counts().index[0]\n",
    "    except IndexError:\n",
    "        entry[\"plantname\"] = np.NaN\n",
    "    entry[\"federalstate\"] = group[\"federalstate\"].value_counts().index[0]\n",
    "    entry[\"energysource\"] = group[\"energysource\"].min()\n",
    "    try:\n",
    "        entry[\"chp\"] = group[\"chp\"].min()\n",
    "    except TypeError:\n",
    "        #print(\"aneror\")\n",
    "        #print(plantid)\n",
    "        #print(group['KWK'].count())\n",
    "        entry[\"chp\"] = \"\"\n",
    "    entry[\"latestexpanded\"] = group[\"initialop\"].max()\n",
    "    entry[\"initialop\"] = group[\"initialop\"].min()\n",
    "    entry[\"totalpower\"] = group[\"power\"].sum()\n",
    "    entry[\"state\"] = group[\"state\"].min()\n",
    "    entry[\"blockcount\"] = group[\"blockid\"].count()\n",
    "    try:\n",
    "        entry[\"company\"] = group[\"company\"].value_counts().index[0]\n",
    "    except IndexError:\n",
    "        ;\n",
    "    #print(entry)\n",
    "    #break\n",
    "    plants_a = plants_a.append(entry, ignore_index=True)"
   ]
  },
  {
   "cell_type": "code",
   "execution_count": 560,
   "metadata": {},
   "outputs": [],
   "source": [
    "#plants_a"
   ]
  },
  {
   "cell_type": "code",
   "execution_count": 561,
   "metadata": {},
   "outputs": [],
   "source": [
    "#TODO: fix this"
   ]
  },
  {
   "cell_type": "code",
   "execution_count": 562,
   "metadata": {},
   "outputs": [],
   "source": [
    "#plants_a[pd.isnull(plants_a['initialop'])]"
   ]
  },
  {
   "cell_type": "code",
   "execution_count": 563,
   "metadata": {},
   "outputs": [],
   "source": [
    "int_list = ['blockcount', 'initialop', 'latestexpanded']\n",
    "for column in int_list:\n",
    "    plants_a[column] = plants_a[column].astype(int)\n",
    "#plant['blockcount'] = pl2['blockcount'].apply(pd.to_numeric)\n",
    "#pl2['blockcount'] = pl2['blockcount'].apply(pd.to_numeric)\n",
    "#pl2['blockcount'] = pl2['blockcount'].apply(pd.to_numeric)\n",
    "#pl2['blockcount'] = pl2['blockcount'].apply(pd.to_numeric)"
   ]
  },
  {
   "cell_type": "code",
   "execution_count": 564,
   "metadata": {},
   "outputs": [
    {
     "data": {
      "text/plain": [
       "blockcount          int64\n",
       "chp                object\n",
       "company            object\n",
       "energysource       object\n",
       "federalstate       object\n",
       "initialop           int64\n",
       "latestexpanded      int64\n",
       "plantid            object\n",
       "plantname          object\n",
       "state              object\n",
       "totalpower        float64\n",
       "dtype: object"
      ]
     },
     "execution_count": 564,
     "metadata": {},
     "output_type": "execute_result"
    }
   ],
   "source": [
    "plants_a.dtypes"
   ]
  },
  {
   "cell_type": "code",
   "execution_count": 565,
   "metadata": {},
   "outputs": [],
   "source": [
    "plants_a[\"energysource\"] = plants_a[\"energysource\"].astype('category')\n",
    "plants_a[\"energysource\"] = plants_a[\"energysource\"].cat.set_categories([\"Kernenergie\", \"Braunkohle\", \"Steinkohle\", \"Erdgas\", \"Mineralölprodukte\"], ordered=True)\n",
    "plants_a[\"state\"] = plants_a[\"state\"].astype('category')\n",
    "plants_a[\"state\"] = plants_a[\"state\"].cat.set_categories(['in Betrieb', 'Gesetzlich an Stilllegung gehindert', 'Netzreserve',  'Sicherheitsbereitschaft', 'Sonderfall', 'vorläufig stillgelegt', 'stillgelegt'], ordered=True)\n",
    "plants_a[\"chp\"] = plants_a[\"chp\"].astype('category')\n",
    "plants_a[\"chp\"] = plants_a[\"chp\"].cat.set_categories(['Ja', 'Nein'], ordered=True)\n",
    "plants_a[\"federalstate\"] = plants_a[\"federalstate\"].astype('category')\n",
    "plants_a[\"federalstate\"] = plants_a[\"federalstate\"].cat.set_categories(['Baden-Württemberg', 'Bayern', 'Berlin', 'Brandenburg', 'Bremen', 'Hamburg', 'Hessen', 'Mecklenburg-Vorpommern', 'Niedersachsen', 'Nordrhein-Westfalen', 'Rheinland-Pfalz', 'Saarland', 'Sachsen', 'Sachsen-Anhalt', 'Schleswig-Holstein', 'Thüringen'])"
   ]
  },
  {
   "cell_type": "code",
   "execution_count": 566,
   "metadata": {},
   "outputs": [
    {
     "data": {
      "text/plain": [
       "blockcount           int64\n",
       "chp               category\n",
       "company             object\n",
       "energysource      category\n",
       "federalstate      category\n",
       "initialop            int64\n",
       "latestexpanded       int64\n",
       "plantid             object\n",
       "plantname           object\n",
       "state             category\n",
       "totalpower         float64\n",
       "dtype: object"
      ]
     },
     "execution_count": 566,
     "metadata": {},
     "output_type": "execute_result"
    }
   ],
   "source": [
    "plants_a.dtypes"
   ]
  },
  {
   "cell_type": "code",
   "execution_count": 567,
   "metadata": {},
   "outputs": [
    {
     "data": {
      "text/html": [
       "<div>\n",
       "<style scoped>\n",
       "    .dataframe tbody tr th:only-of-type {\n",
       "        vertical-align: middle;\n",
       "    }\n",
       "\n",
       "    .dataframe tbody tr th {\n",
       "        vertical-align: top;\n",
       "    }\n",
       "\n",
       "    .dataframe thead th {\n",
       "        text-align: right;\n",
       "    }\n",
       "</style>\n",
       "<table border=\"1\" class=\"dataframe\">\n",
       "  <thead>\n",
       "    <tr style=\"text-align: right;\">\n",
       "      <th></th>\n",
       "      <th>blockcount</th>\n",
       "      <th>chp</th>\n",
       "      <th>company</th>\n",
       "      <th>energysource</th>\n",
       "      <th>federalstate</th>\n",
       "      <th>initialop</th>\n",
       "      <th>latestexpanded</th>\n",
       "      <th>plantid</th>\n",
       "      <th>plantname</th>\n",
       "      <th>state</th>\n",
       "      <th>totalpower</th>\n",
       "    </tr>\n",
       "  </thead>\n",
       "  <tbody>\n",
       "    <tr>\n",
       "      <th>67</th>\n",
       "      <td>9</td>\n",
       "      <td>Ja</td>\n",
       "      <td>RWE AG</td>\n",
       "      <td>Braunkohle</td>\n",
       "      <td>Nordrhein-Westfalen</td>\n",
       "      <td>1965</td>\n",
       "      <td>2002</td>\n",
       "      <td>06-05-300-0326774</td>\n",
       "      <td>Niederaußem</td>\n",
       "      <td>in Betrieb</td>\n",
       "      <td>3656.0</td>\n",
       "    </tr>\n",
       "  </tbody>\n",
       "</table>\n",
       "</div>"
      ],
      "text/plain": [
       "    blockcount chp company energysource         federalstate  initialop  \\\n",
       "67           9  Ja  RWE AG   Braunkohle  Nordrhein-Westfalen       1965   \n",
       "\n",
       "    latestexpanded            plantid    plantname       state  totalpower  \n",
       "67            2002  06-05-300-0326774  Niederaußem  in Betrieb      3656.0  "
      ]
     },
     "execution_count": 567,
     "metadata": {},
     "output_type": "execute_result"
    }
   ],
   "source": [
    "plants_a.loc[plants_a.plantid == \"06-05-300-0326774\"]"
   ]
  },
  {
   "cell_type": "code",
   "execution_count": 568,
   "metadata": {},
   "outputs": [
    {
     "data": {
      "text/html": [
       "<div>\n",
       "<style scoped>\n",
       "    .dataframe tbody tr th:only-of-type {\n",
       "        vertical-align: middle;\n",
       "    }\n",
       "\n",
       "    .dataframe tbody tr th {\n",
       "        vertical-align: top;\n",
       "    }\n",
       "\n",
       "    .dataframe thead th {\n",
       "        text-align: right;\n",
       "    }\n",
       "</style>\n",
       "<table border=\"1\" class=\"dataframe\">\n",
       "  <thead>\n",
       "    <tr style=\"text-align: right;\">\n",
       "      <th></th>\n",
       "      <th>blockcount</th>\n",
       "      <th>chp</th>\n",
       "      <th>company</th>\n",
       "      <th>energysource</th>\n",
       "      <th>federalstate</th>\n",
       "      <th>initialop</th>\n",
       "      <th>latestexpanded</th>\n",
       "      <th>plantid</th>\n",
       "      <th>plantname</th>\n",
       "      <th>state</th>\n",
       "      <th>totalpower</th>\n",
       "    </tr>\n",
       "  </thead>\n",
       "  <tbody>\n",
       "    <tr>\n",
       "      <th>32</th>\n",
       "      <td>4</td>\n",
       "      <td>Ja</td>\n",
       "      <td>Uniper SE</td>\n",
       "      <td>Steinkohle</td>\n",
       "      <td>Hessen</td>\n",
       "      <td>1970</td>\n",
       "      <td>1992</td>\n",
       "      <td>06-00176010435</td>\n",
       "      <td>Staudinger</td>\n",
       "      <td>in Betrieb</td>\n",
       "      <td>1624.0</td>\n",
       "    </tr>\n",
       "  </tbody>\n",
       "</table>\n",
       "</div>"
      ],
      "text/plain": [
       "    blockcount chp    company energysource federalstate  initialop  \\\n",
       "32           4  Ja  Uniper SE   Steinkohle       Hessen       1970   \n",
       "\n",
       "    latestexpanded         plantid   plantname       state  totalpower  \n",
       "32            1992  06-00176010435  Staudinger  in Betrieb      1624.0  "
      ]
     },
     "execution_count": 568,
     "metadata": {},
     "output_type": "execute_result"
    }
   ],
   "source": [
    "plants_a.loc[plants_a.plantid == \"06-00176010435\"]"
   ]
  },
  {
   "cell_type": "code",
   "execution_count": 569,
   "metadata": {},
   "outputs": [
    {
     "data": {
      "text/html": [
       "<div>\n",
       "<style scoped>\n",
       "    .dataframe tbody tr th:only-of-type {\n",
       "        vertical-align: middle;\n",
       "    }\n",
       "\n",
       "    .dataframe tbody tr th {\n",
       "        vertical-align: top;\n",
       "    }\n",
       "\n",
       "    .dataframe thead th {\n",
       "        text-align: right;\n",
       "    }\n",
       "</style>\n",
       "<table border=\"1\" class=\"dataframe\">\n",
       "  <thead>\n",
       "    <tr style=\"text-align: right;\">\n",
       "      <th></th>\n",
       "      <th>blockcount</th>\n",
       "      <th>chp</th>\n",
       "      <th>company</th>\n",
       "      <th>energysource</th>\n",
       "      <th>federalstate</th>\n",
       "      <th>initialop</th>\n",
       "      <th>latestexpanded</th>\n",
       "      <th>plantid</th>\n",
       "      <th>plantname</th>\n",
       "      <th>state</th>\n",
       "      <th>totalpower</th>\n",
       "    </tr>\n",
       "  </thead>\n",
       "  <tbody>\n",
       "    <tr>\n",
       "      <th>101</th>\n",
       "      <td>9</td>\n",
       "      <td>Nein</td>\n",
       "      <td>RWE AG</td>\n",
       "      <td>Steinkohle</td>\n",
       "      <td>Nordrhein-Westfalen</td>\n",
       "      <td>1973</td>\n",
       "      <td>1984</td>\n",
       "      <td>06-05-900-0865327</td>\n",
       "      <td>Gersteinwerk</td>\n",
       "      <td>in Betrieb</td>\n",
       "      <td>2011.0</td>\n",
       "    </tr>\n",
       "  </tbody>\n",
       "</table>\n",
       "</div>"
      ],
      "text/plain": [
       "     blockcount   chp company energysource         federalstate  initialop  \\\n",
       "101           9  Nein  RWE AG   Steinkohle  Nordrhein-Westfalen       1973   \n",
       "\n",
       "     latestexpanded            plantid     plantname       state  totalpower  \n",
       "101            1984  06-05-900-0865327  Gersteinwerk  in Betrieb      2011.0  "
      ]
     },
     "execution_count": 569,
     "metadata": {},
     "output_type": "execute_result"
    }
   ],
   "source": [
    "plants_a.loc[plants_a.plantid == \"06-05-900-0865327\"]"
   ]
  },
  {
   "cell_type": "code",
   "execution_count": 570,
   "metadata": {},
   "outputs": [],
   "source": [
    "#plants_a = plants.drop_duplicates(subset=\"KraftwerkID\")"
   ]
  },
  {
   "cell_type": "code",
   "execution_count": null,
   "metadata": {},
   "outputs": [],
   "source": []
  },
  {
   "cell_type": "code",
   "execution_count": 571,
   "metadata": {},
   "outputs": [],
   "source": [
    "column_titles = ['plantid', 'plantname', 'federalstate','energysource', 'chp', 'latestexpanded', 'initialop', 'totalpower', 'state', 'blockcount', 'company']\n",
    "plants_b = plants_a.reindex(columns=column_titles)"
   ]
  },
  {
   "cell_type": "code",
   "execution_count": 572,
   "metadata": {},
   "outputs": [],
   "source": [
    "#plants_b"
   ]
  },
  {
   "cell_type": "code",
   "execution_count": 577,
   "metadata": {},
   "outputs": [
    {
     "data": {
      "text/plain": [
       "['plantid',\n",
       " 'blockid',\n",
       " 'company',\n",
       " 'plantname',\n",
       " 'plz',\n",
       " 'place',\n",
       " 'street',\n",
       " 'federalstate',\n",
       " 'blockname',\n",
       " 'initialop',\n",
       " 'state',\n",
       " 'energysource',\n",
       " 'chp',\n",
       " 'power',\n",
       " 'endop']"
      ]
     },
     "execution_count": 577,
     "metadata": {},
     "output_type": "execute_result"
    }
   ],
   "source": [
    "#list(blocks)"
   ]
  },
  {
   "cell_type": "code",
   "execution_count": 578,
   "metadata": {},
   "outputs": [],
   "source": [
    "blocks.drop(['place', 'plz', 'street'], axis=1, inplace=True)"
   ]
  },
  {
   "cell_type": "code",
   "execution_count": 579,
   "metadata": {},
   "outputs": [
    {
     "data": {
      "text/html": [
       "<div>\n",
       "<style scoped>\n",
       "    .dataframe tbody tr th:only-of-type {\n",
       "        vertical-align: middle;\n",
       "    }\n",
       "\n",
       "    .dataframe tbody tr th {\n",
       "        vertical-align: top;\n",
       "    }\n",
       "\n",
       "    .dataframe thead th {\n",
       "        text-align: right;\n",
       "    }\n",
       "</style>\n",
       "<table border=\"1\" class=\"dataframe\">\n",
       "  <thead>\n",
       "    <tr style=\"text-align: right;\">\n",
       "      <th></th>\n",
       "      <th>plantid</th>\n",
       "      <th>blockid</th>\n",
       "      <th>company</th>\n",
       "      <th>plantname</th>\n",
       "      <th>federalstate</th>\n",
       "      <th>blockname</th>\n",
       "      <th>initialop</th>\n",
       "      <th>state</th>\n",
       "      <th>energysource</th>\n",
       "      <th>chp</th>\n",
       "      <th>power</th>\n",
       "      <th>endop</th>\n",
       "    </tr>\n",
       "  </thead>\n",
       "  <tbody>\n",
       "  </tbody>\n",
       "</table>\n",
       "</div>"
      ],
      "text/plain": [
       "Empty DataFrame\n",
       "Columns: [plantid, blockid, company, plantname, federalstate, blockname, initialop, state, energysource, chp, power, endop]\n",
       "Index: []"
      ]
     },
     "execution_count": 579,
     "metadata": {},
     "output_type": "execute_result"
    }
   ],
   "source": [
    "blocks[blocks.duplicated(['blockid'], keep=False)].sort_values(\"blockid\", ascending=False)"
   ]
  },
  {
   "cell_type": "code",
   "execution_count": 580,
   "metadata": {},
   "outputs": [],
   "source": [
    "#blocks"
   ]
  },
  {
   "cell_type": "code",
   "execution_count": 581,
   "metadata": {},
   "outputs": [],
   "source": [
    "plants_b.sort_values(\"initialop\", ascending=False, inplace=True)"
   ]
  },
  {
   "cell_type": "code",
   "execution_count": 582,
   "metadata": {},
   "outputs": [],
   "source": [
    "#drop_list = ['Blockname', 'KWK', 'Nettoleistung', 'Stilllegung', 'Straße und Hausnummer (Standort Kraftwerk)', 'PLZ', 'Ort', 'Nettoleistung']\n",
    "#plants_g = plants_f.drop(drop_list, axis=1)"
   ]
  },
  {
   "cell_type": "code",
   "execution_count": 583,
   "metadata": {},
   "outputs": [],
   "source": [
    "#plants_h = plants_g.rename(columns={\"KraftwerkID\": \"plantid\", \"Gesamtleistung\": \"totalpower\", \"Blockzahl\": \"blockcount\", \"BlockID\": \"blockid\", \"Bundesland\": \"federalstate\", \"Energieträger\": \"energysource\", \"Inbetriebnahme\": \"latestexpanded\", \"Kraftwerksname\": \"plantname\", \"Status\": \"state\", \"Unternehmen\": \"company\"})"
   ]
  },
  {
   "cell_type": "code",
   "execution_count": 584,
   "metadata": {},
   "outputs": [],
   "source": [
    "plants_final = plants_b.loc[:]"
   ]
  },
  {
   "cell_type": "code",
   "execution_count": 585,
   "metadata": {
    "scrolled": true
   },
   "outputs": [
    {
     "data": {
      "text/plain": [
       "plantid             object\n",
       "plantname           object\n",
       "federalstate      category\n",
       "energysource      category\n",
       "chp               category\n",
       "latestexpanded       int64\n",
       "initialop            int64\n",
       "totalpower         float64\n",
       "state             category\n",
       "blockcount           int64\n",
       "company             object\n",
       "dtype: object"
      ]
     },
     "execution_count": 585,
     "metadata": {},
     "output_type": "execute_result"
    }
   ],
   "source": [
    "plants_final.dtypes"
   ]
  },
  {
   "cell_type": "code",
   "execution_count": 586,
   "metadata": {},
   "outputs": [],
   "source": [
    "# plants_final"
   ]
  },
  {
   "cell_type": "code",
   "execution_count": 587,
   "metadata": {},
   "outputs": [],
   "source": [
    "# stammdaten"
   ]
  },
  {
   "cell_type": "code",
   "execution_count": 589,
   "metadata": {},
   "outputs": [],
   "source": [
    "# cols = [0,2,3,9,10,11,12]\n",
    "stammdaten = pl6.copy()\n",
    "drop_list = ['plantid', 'blockname', 'energysource', 'initialop', 'chp', 'plantname', 'power', 'state', 'endop', 'company']\n",
    "stammdaten.drop(drop_list, axis=1, inplace=True)"
   ]
  },
  {
   "cell_type": "code",
   "execution_count": 590,
   "metadata": {},
   "outputs": [],
   "source": [
    "stmp = pl6.copy()\n",
    "stammdaten2 = stmp.merge(prtr, how=\"left\", left_on=\"plantid\", right_on=\"kennnummer\")"
   ]
  },
  {
   "cell_type": "code",
   "execution_count": 591,
   "metadata": {},
   "outputs": [],
   "source": [
    "#stammdaten.to_csv(\"stammdaten.csv\", index=False)"
   ]
  },
  {
   "cell_type": "code",
   "execution_count": 592,
   "metadata": {},
   "outputs": [],
   "source": [
    "#plants_final.to_csv(\"plants.csv\", index=False)"
   ]
  },
  {
   "cell_type": "code",
   "execution_count": 593,
   "metadata": {},
   "outputs": [],
   "source": [
    "#blocks.to_csv(\"blocks_3.csv\", index=False)"
   ]
  },
  {
   "cell_type": "code",
   "execution_count": 594,
   "metadata": {},
   "outputs": [],
   "source": [
    "#stammdaten2"
   ]
  },
  {
   "cell_type": "code",
   "execution_count": 611,
   "metadata": {},
   "outputs": [],
   "source": [
    "DROP_ST = ['blockid', 'jahr', 'kennnummer','betriebsname','betriebsname_2','plz_x','ort','strasse','hausnr','bundesland','flusseinzugsgebiet','taet_nr','taetigkeit','activity','haupttaetigkeit','branche','sector','nace_id','nace_wirtschaftszweig','nace_sector','stoffgruppe','substances_group','schadstoff','pollutant','umweltkompartiment','releases_to','jahresfracht_freisetzung','versehentliche_freisetzung','schadstoff_schwellenwert','einheit','unit','bestimmungsmethode','determination_method','schutzgrund_fracht','confidential_reason_release','schutzgrund_betrieb','confidential_reason_facility']\n",
    "DROP_ST2 = ['jahr', 'kennnummer','betriebsname','betriebsname_2','plz','ort','strasse','hausnr','bundesland','flusseinzugsgebiet','taet_nr','taetigkeit','activity','haupttaetigkeit','branche','sector','nace_id','nace_wirtschaftszweig','nace_sector','stoffgruppe','substances_group','schadstoff','pollutant','umweltkompartiment','releases_to','jahresfracht_freisetzung','versehentliche_freisetzung','schadstoff_schwellenwert','einheit','unit','bestimmungsmethode','determination_method','schutzgrund_fracht','confidential_reason_release','schutzgrund_betrieb','confidential_reason_facility']\n",
    "DROP_ST3 = ['jahr', 'kennnummer', 'bundesland', 'flusseinzugsgebiet', \"betriebsname\", \"betriebsname_2\", 'taet_nr','taetigkeit','activity','haupttaetigkeit','branche','sector','nace_id','nace_wirtschaftszweig','nace_sector','stoffgruppe','substances_group','schadstoff','pollutant','umweltkompartiment','releases_to','jahresfracht_freisetzung','versehentliche_freisetzung','schadstoff_schwellenwert','einheit','unit','bestimmungsmethode','determination_method','schutzgrund_fracht','confidential_reason_release','schutzgrund_betrieb','confidential_reason_facility']\n"
   ]
  },
  {
   "cell_type": "code",
   "execution_count": 612,
   "metadata": {},
   "outputs": [],
   "source": [
    "#DROP_ST = ['jahr']"
   ]
  },
  {
   "cell_type": "code",
   "execution_count": 613,
   "metadata": {},
   "outputs": [],
   "source": [
    "plants_d1 = plants_final.merge(prtr, how=\"left\", left_on=\"plantid\", right_on=\"kennnummer\")"
   ]
  },
  {
   "cell_type": "code",
   "execution_count": 614,
   "metadata": {},
   "outputs": [],
   "source": [
    "#plants_d1.dtypes"
   ]
  },
  {
   "cell_type": "code",
   "execution_count": 615,
   "metadata": {},
   "outputs": [],
   "source": [
    "pld2 = plants_d1.drop_duplicates(['plantid'])"
   ]
  },
  {
   "cell_type": "code",
   "execution_count": 616,
   "metadata": {},
   "outputs": [],
   "source": [
    "pld3 = pld2.drop(DROP_ST3, axis=1)\n",
    "plants_final1 = pld3"
   ]
  },
  {
   "cell_type": "code",
   "execution_count": 617,
   "metadata": {},
   "outputs": [],
   "source": [
    "plants_final2 = plants_final1.merge(plants_act, on=\"plantid\", how='left')"
   ]
  },
  {
   "cell_type": "code",
   "execution_count": 622,
   "metadata": {},
   "outputs": [],
   "source": [
    "#stammdaten2"
   ]
  },
  {
   "cell_type": "code",
   "execution_count": 623,
   "metadata": {},
   "outputs": [],
   "source": [
    "#plants_final2.sort_values(\"activepower\", ascending=False)"
   ]
  },
  {
   "cell_type": "code",
   "execution_count": 624,
   "metadata": {},
   "outputs": [],
   "source": [
    "#stammdaten2.dtypes"
   ]
  },
  {
   "cell_type": "code",
   "execution_count": 625,
   "metadata": {},
   "outputs": [],
   "source": [
    "stammdaten3 = stammdaten2.drop(DROP_ST, axis=1)"
   ]
  },
  {
   "cell_type": "code",
   "execution_count": 626,
   "metadata": {},
   "outputs": [],
   "source": [
    "stammdaten4 = stammdaten3.drop_duplicates(['plantid'])"
   ]
  },
  {
   "cell_type": "code",
   "execution_count": 627,
   "metadata": {},
   "outputs": [],
   "source": [
    "#list(stammdaten2)"
   ]
  },
  {
   "cell_type": "code",
   "execution_count": 628,
   "metadata": {},
   "outputs": [
    {
     "data": {
      "text/plain": [
       "'\\n\\n\\n\"CREATE TABLE blocks(plantid TEXT, blockid TEXT NOT NULL PRIMARY KEY, blockdescription TEXT, federalstate TEXT, energysource TEXT, initialop INTEGER, chp TEXT,\\nblockname TEXT, netpower REAL, state TEXT, endop TEXT, company TEXT, FOREIGN KEY (blockid) REFERENCES addresses(blockid) ON DELETE CASCADE);\"\\n662-01|BNA0164|Vattenfall GmbH|Brunsbüttel|Schleswig-Holstein|GT D|0.0|stillgelegt|Mineralölprodukte|Nein|63.5|201\\n\\n'"
      ]
     },
     "execution_count": 628,
     "metadata": {},
     "output_type": "execute_result"
    }
   ],
   "source": [
    "'''\n",
    "\n",
    "\n",
    "\"CREATE TABLE blocks(plantid TEXT, blockid TEXT NOT NULL PRIMARY KEY, blockdescription TEXT, federalstate TEXT, energysource TEXT, initialop INTEGER, chp TEXT,\n",
    "blockname TEXT, netpower REAL, state TEXT, endop TEXT, company TEXT, FOREIGN KEY (blockid) REFERENCES addresses(blockid) ON DELETE CASCADE);\"\n",
    "662-01|BNA0164|Vattenfall GmbH|Brunsbüttel|Schleswig-Holstein|GT D|0.0|stillgelegt|Mineralölprodukte|Nein|63.5|201\n",
    "\n",
    "'''\n"
   ]
  },
  {
   "cell_type": "code",
   "execution_count": 631,
   "metadata": {},
   "outputs": [],
   "source": [
    "blocks2 = blocks[['plantid', 'blockid', 'blockname', 'federalstate', 'energysource', 'initialop', 'chp', 'plantname', 'power', 'state', 'endop', 'company']]"
   ]
  },
  {
   "cell_type": "code",
   "execution_count": 632,
   "metadata": {},
   "outputs": [
    {
     "data": {
      "text/plain": [
       "['plantid',\n",
       " 'blockid',\n",
       " 'blockname',\n",
       " 'federalstate',\n",
       " 'energysource',\n",
       " 'initialop',\n",
       " 'chp',\n",
       " 'plantname',\n",
       " 'power',\n",
       " 'state',\n",
       " 'endop',\n",
       " 'company']"
      ]
     },
     "execution_count": 632,
     "metadata": {},
     "output_type": "execute_result"
    }
   ],
   "source": [
    "list(blocks2)"
   ]
  },
  {
   "cell_type": "code",
   "execution_count": 633,
   "metadata": {},
   "outputs": [],
   "source": [
    "stammdaten.to_csv(\"stammdaten_nh.csv\", index=False, header=False)\n",
    "blocks2.to_csv(\"blocks_nh.csv\", index=False, header=False)\n",
    "plants_final2.to_csv(\"plants_nh.csv\", index=False, header=False)\n",
    "stammdaten.to_csv(\"stammdaten.csv\", index=False)\n",
    "blocks2.to_csv(\"blocks.csv\", index=False)\n",
    "plants_final2.to_csv(\"plants.csv\", index=False)"
   ]
  },
  {
   "cell_type": "code",
   "execution_count": 634,
   "metadata": {},
   "outputs": [
    {
     "data": {
      "text/html": [
       "<div>\n",
       "<style scoped>\n",
       "    .dataframe tbody tr th:only-of-type {\n",
       "        vertical-align: middle;\n",
       "    }\n",
       "\n",
       "    .dataframe tbody tr th {\n",
       "        vertical-align: top;\n",
       "    }\n",
       "\n",
       "    .dataframe thead th {\n",
       "        text-align: right;\n",
       "    }\n",
       "</style>\n",
       "<table border=\"1\" class=\"dataframe\">\n",
       "  <thead>\n",
       "    <tr style=\"text-align: right;\">\n",
       "      <th></th>\n",
       "      <th>blockid</th>\n",
       "      <th>plz</th>\n",
       "      <th>place</th>\n",
       "      <th>street</th>\n",
       "      <th>federalstate</th>\n",
       "    </tr>\n",
       "  </thead>\n",
       "  <tbody>\n",
       "    <tr>\n",
       "      <th>0</th>\n",
       "      <td>BNA1401a</td>\n",
       "      <td>41517</td>\n",
       "      <td>Grevenbroich</td>\n",
       "      <td>Energiestraße 101</td>\n",
       "      <td>Nordrhein-Westfalen</td>\n",
       "    </tr>\n",
       "    <tr>\n",
       "      <th>1</th>\n",
       "      <td>BNA1401b</td>\n",
       "      <td>41517</td>\n",
       "      <td>Grevenbroich</td>\n",
       "      <td>Energiestraße 101</td>\n",
       "      <td>Nordrhein-Westfalen</td>\n",
       "    </tr>\n",
       "    <tr>\n",
       "      <th>2</th>\n",
       "      <td>BNA0115</td>\n",
       "      <td>4007</td>\n",
       "      <td>Böhlen</td>\n",
       "      <td>Werkstraße</td>\n",
       "      <td>Sachsen</td>\n",
       "    </tr>\n",
       "    <tr>\n",
       "      <th>3</th>\n",
       "      <td>BNA0116</td>\n",
       "      <td>4564</td>\n",
       "      <td>Böhlen</td>\n",
       "      <td>Werkstraße</td>\n",
       "      <td>Sachsen</td>\n",
       "    </tr>\n",
       "    <tr>\n",
       "      <th>4</th>\n",
       "      <td>BNA0793</td>\n",
       "      <td>32469</td>\n",
       "      <td>Petershagen</td>\n",
       "      <td>NaN</td>\n",
       "      <td>Nordrhein-Westfalen</td>\n",
       "    </tr>\n",
       "    <tr>\n",
       "      <th>...</th>\n",
       "      <td>...</td>\n",
       "      <td>...</td>\n",
       "      <td>...</td>\n",
       "      <td>...</td>\n",
       "      <td>...</td>\n",
       "    </tr>\n",
       "    <tr>\n",
       "      <th>576</th>\n",
       "      <td>BNA0146</td>\n",
       "      <td>28237</td>\n",
       "      <td>Bremen</td>\n",
       "      <td>Otavistr. 7-9</td>\n",
       "      <td>Bremen</td>\n",
       "    </tr>\n",
       "    <tr>\n",
       "      <th>579</th>\n",
       "      <td>BNA1820</td>\n",
       "      <td>28237</td>\n",
       "      <td>Bremen</td>\n",
       "      <td>NaN</td>\n",
       "      <td>Bremen</td>\n",
       "    </tr>\n",
       "    <tr>\n",
       "      <th>580</th>\n",
       "      <td>BNA1334</td>\n",
       "      <td>28237</td>\n",
       "      <td>Bremen</td>\n",
       "      <td>Waterbergstraße 14</td>\n",
       "      <td>Bremen</td>\n",
       "    </tr>\n",
       "    <tr>\n",
       "      <th>581</th>\n",
       "      <td>BNA0147</td>\n",
       "      <td>28777</td>\n",
       "      <td>Bremen</td>\n",
       "      <td>Wilhelmshavener Str. 6</td>\n",
       "      <td>Bremen</td>\n",
       "    </tr>\n",
       "    <tr>\n",
       "      <th>582</th>\n",
       "      <td>BNa1947</td>\n",
       "      <td>80937</td>\n",
       "      <td>München</td>\n",
       "      <td>Knorrstraße 147</td>\n",
       "      <td>Bayern</td>\n",
       "    </tr>\n",
       "  </tbody>\n",
       "</table>\n",
       "<p>521 rows × 5 columns</p>\n",
       "</div>"
      ],
      "text/plain": [
       "      blockid    plz         place                  street  \\\n",
       "0    BNA1401a  41517  Grevenbroich       Energiestraße 101   \n",
       "1    BNA1401b  41517  Grevenbroich       Energiestraße 101   \n",
       "2     BNA0115   4007        Böhlen              Werkstraße   \n",
       "3     BNA0116   4564        Böhlen              Werkstraße   \n",
       "4     BNA0793  32469   Petershagen                     NaN   \n",
       "..        ...    ...           ...                     ...   \n",
       "576   BNA0146  28237        Bremen           Otavistr. 7-9   \n",
       "579   BNA1820  28237        Bremen                     NaN   \n",
       "580   BNA1334  28237        Bremen      Waterbergstraße 14   \n",
       "581   BNA0147  28777        Bremen  Wilhelmshavener Str. 6   \n",
       "582   BNa1947  80937       München         Knorrstraße 147   \n",
       "\n",
       "            federalstate  \n",
       "0    Nordrhein-Westfalen  \n",
       "1    Nordrhein-Westfalen  \n",
       "2                Sachsen  \n",
       "3                Sachsen  \n",
       "4    Nordrhein-Westfalen  \n",
       "..                   ...  \n",
       "576               Bremen  \n",
       "579               Bremen  \n",
       "580               Bremen  \n",
       "581               Bremen  \n",
       "582               Bayern  \n",
       "\n",
       "[521 rows x 5 columns]"
      ]
     },
     "execution_count": 634,
     "metadata": {},
     "output_type": "execute_result"
    }
   ],
   "source": [
    "stammdaten"
   ]
  },
  {
   "cell_type": "code",
   "execution_count": null,
   "metadata": {},
   "outputs": [],
   "source": []
  },
  {
   "cell_type": "code",
   "execution_count": 635,
   "metadata": {},
   "outputs": [],
   "source": [
    "#bm2.to_csv(\"bpm.csv\", index=False)"
   ]
  },
  {
   "cell_type": "code",
   "execution_count": 636,
   "metadata": {},
   "outputs": [],
   "source": [
    "#blocks"
   ]
  },
  {
   "cell_type": "code",
   "execution_count": 640,
   "metadata": {},
   "outputs": [],
   "source": [
    "#blocks.groupby('Energieträger').count()"
   ]
  },
  {
   "cell_type": "code",
   "execution_count": 641,
   "metadata": {},
   "outputs": [],
   "source": [
    "#pl4 = blocks.loc[blocks['Energieträger'] == \"Mineralölprodukte\"]"
   ]
  },
  {
   "cell_type": "code",
   "execution_count": 642,
   "metadata": {},
   "outputs": [],
   "source": [
    "#pl4"
   ]
  },
  {
   "cell_type": "code",
   "execution_count": 643,
   "metadata": {},
   "outputs": [],
   "source": [
    "#pd.set_option('display.max_rows', None)"
   ]
  },
  {
   "cell_type": "code",
   "execution_count": 644,
   "metadata": {},
   "outputs": [],
   "source": [
    "#pl4.loc[pl4['Energieträger'] == \"Mineralölprodukte\"].sort_values([\"Bundesland\", \"Unternehmen\", \"Kraftwerksname\"])"
   ]
  },
  {
   "cell_type": "code",
   "execution_count": 645,
   "metadata": {},
   "outputs": [],
   "source": [
    "#plants_final2"
   ]
  },
  {
   "cell_type": "code",
   "execution_count": null,
   "metadata": {},
   "outputs": [],
   "source": []
  }
 ],
 "metadata": {
  "kernelspec": {
   "display_name": "Python 3",
   "language": "python",
   "name": "python3"
  },
  "language_info": {
   "codemirror_mode": {
    "name": "ipython",
    "version": 3
   },
   "file_extension": ".py",
   "mimetype": "text/x-python",
   "name": "python",
   "nbconvert_exporter": "python",
   "pygments_lexer": "ipython3",
   "version": "3.7.7"
  }
 },
 "nbformat": 4,
 "nbformat_minor": 4
}
