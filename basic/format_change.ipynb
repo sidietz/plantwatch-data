{
 "cells": [
  {
   "cell_type": "code",
   "execution_count": 1,
   "id": "737712e6-1677-491f-b989-fc42f0648a58",
   "metadata": {},
   "outputs": [],
   "source": [
    "names = ['MaStR-Nr. der Stromerzeugungseinheit',\n",
    " 'Kraftwerksnummer der Bundesnetzagentur',\n",
    " 'Anlagenbetreiber',\n",
    " 'Anzeige-Name der Stromerzeugungseinheit',\n",
    " 'PLZ der Einheit',\n",
    " 'Ort der Einheit',\n",
    " 'Straße der Einheit',\n",
    " 'Hausnummer der Einheit',\n",
    " 'Bundesland der Einheit',\n",
    " 'Datum der erstmaligen Inbetriebnahme der Einheit',\n",
    " 'Kraftwerksstatus der Einheit',\n",
    " 'Energieträger',\n",
    " 'Hauptbrennstoff',\n",
    " 'Auswertung Energieträger',\n",
    " 'Förderberechtigt nach EEG\\n(ja/nein)',\n",
    " 'Wärmeauskopplung (KWK)\\n(ja/nein)',\n",
    " 'Erneuerbarer Energieträger\\n(ja/nein)',\n",
    " 'Ist die Stromerzeugungseinheit ein Bestandteil eines Grenzkraftwerkes?',\n",
    " 'Bruttoleistung in MW',\n",
    " 'Nettonennleistung (elektrische Wirkleistung) in MW',\n",
    " 'Ist die Stromerzeugungseinheit ein Bestandteil eines Grenzkraftwerkes?: ja \\nNettonennleistung der Einspeisung in ein deutsches Netz:',\n",
    " 'Technologie der Stromerzeugung',\n",
    " 'Volleinspeisung oder Teileinspeisung?',\n",
    " 'Anschlussnetzbetreiber',\n",
    " 'Spannungsebene',\n",
    " 'Wenn Energieträger Speicher: Nutzbare Speicherkapazität in Mwh']"
   ]
  },
  {
   "cell_type": "code",
   "execution_count": 2,
   "id": "33c553e1-dd34-4b4e-9453-d2935f926eba",
   "metadata": {},
   "outputs": [],
   "source": [
    "names_retired = ['MaStR-Nr. der Stromerzeugungseinheit',\n",
    " 'Kraftwerksnummer der Bundesnetzagentur',\n",
    " 'Anzeige-Name der Stromerzeugungseinheit',\n",
    " 'PLZ der Einheit',\n",
    " 'Ort der Einheit',\n",
    " 'Straße der Einheit',\n",
    " 'Hausnummer der Einheit',\n",
    " 'Bundesland der Einheit',\n",
    " 'Datum der erstmaligen Inbetriebnahme der Einheit (Datum/Jahr)',\n",
    " 'Datum der endgültigen Stilllegung der Einheit (Datum/Jahr)',\n",
    " 'Kraftwerksstatus der Einheit',\n",
    " 'Energieträger',\n",
    " 'Hauptbrennstoff',\n",
    " 'Auswertung Energieträger',\n",
    " 'Förderberechtigt nach EEG\\n(ja/nein)',\n",
    " 'Wärmeauskopplung (KWK)\\n(ja/nein)',\n",
    " 'Erneuerbarer Energieträger\\n(ja/nein)',\n",
    " 'Bruttoleistung in MW',\n",
    " 'Nettonennleistung (elektrische Wirkleistung) in MW',\n",
    " 'Technologie der Stromerzeugung',\n",
    " 'Volleinspeisung oder Teileinspeisung?',\n",
    " 'Anschlussnetzbetreiber',\n",
    " 'Spannungsebene']"
   ]
  },
  {
   "cell_type": "code",
   "execution_count": 7,
   "id": "df79700d-699a-4c6a-872d-2c455bc3728d",
   "metadata": {},
   "outputs": [],
   "source": [
    "names_dict_retired = {}\n",
    "for i, n in enumerate(names_retired):\n",
    "    names_dict_retired[n] = i\n",
    "    \n",
    "names_dict = {}\n",
    "for i, n in enumerate(names):\n",
    "    names_dict[n] = i"
   ]
  },
  {
   "cell_type": "code",
   "execution_count": 8,
   "id": "444f86a9-40b9-4db3-91cb-ee32a759b32f",
   "metadata": {},
   "outputs": [
    {
     "data": {
      "text/plain": [
       "{'MaStR-Nr. der Stromerzeugungseinheit': 0,\n",
       " 'Kraftwerksnummer der Bundesnetzagentur': 1,\n",
       " 'Anzeige-Name der Stromerzeugungseinheit': 2,\n",
       " 'PLZ der Einheit': 3,\n",
       " 'Ort der Einheit': 4,\n",
       " 'Straße der Einheit': 5,\n",
       " 'Hausnummer der Einheit': 6,\n",
       " 'Bundesland der Einheit': 7,\n",
       " 'Datum der erstmaligen Inbetriebnahme der Einheit (Datum/Jahr)': 8,\n",
       " 'Datum der endgültigen Stilllegung der Einheit (Datum/Jahr)': 9,\n",
       " 'Kraftwerksstatus der Einheit': 10,\n",
       " 'Energieträger': 11,\n",
       " 'Hauptbrennstoff': 12,\n",
       " 'Auswertung Energieträger': 13,\n",
       " 'Förderberechtigt nach EEG\\n(ja/nein)': 14,\n",
       " 'Wärmeauskopplung (KWK)\\n(ja/nein)': 15,\n",
       " 'Erneuerbarer Energieträger\\n(ja/nein)': 16,\n",
       " 'Bruttoleistung in MW': 17,\n",
       " 'Nettonennleistung (elektrische Wirkleistung) in MW': 18,\n",
       " 'Technologie der Stromerzeugung': 19,\n",
       " 'Volleinspeisung oder Teileinspeisung?': 20,\n",
       " 'Anschlussnetzbetreiber': 21,\n",
       " 'Spannungsebene': 22}"
      ]
     },
     "execution_count": 8,
     "metadata": {},
     "output_type": "execute_result"
    }
   ],
   "source": [
    "names_dict_retired"
   ]
  },
  {
   "cell_type": "code",
   "execution_count": 9,
   "id": "fd9de570-ed3e-416e-b5fa-3a1dd2a171cf",
   "metadata": {},
   "outputs": [
    {
     "data": {
      "text/plain": [
       "{'MaStR-Nr. der Stromerzeugungseinheit': 0,\n",
       " 'Kraftwerksnummer der Bundesnetzagentur': 1,\n",
       " 'Anlagenbetreiber': 2,\n",
       " 'Anzeige-Name der Stromerzeugungseinheit': 3,\n",
       " 'PLZ der Einheit': 4,\n",
       " 'Ort der Einheit': 5,\n",
       " 'Straße der Einheit': 6,\n",
       " 'Hausnummer der Einheit': 7,\n",
       " 'Bundesland der Einheit': 8,\n",
       " 'Datum der erstmaligen Inbetriebnahme der Einheit': 9,\n",
       " 'Kraftwerksstatus der Einheit': 10,\n",
       " 'Energieträger': 11,\n",
       " 'Hauptbrennstoff': 12,\n",
       " 'Auswertung Energieträger': 13,\n",
       " 'Förderberechtigt nach EEG\\n(ja/nein)': 14,\n",
       " 'Wärmeauskopplung (KWK)\\n(ja/nein)': 15,\n",
       " 'Erneuerbarer Energieträger\\n(ja/nein)': 16,\n",
       " 'Ist die Stromerzeugungseinheit ein Bestandteil eines Grenzkraftwerkes?': 17,\n",
       " 'Bruttoleistung in MW': 18,\n",
       " 'Nettonennleistung (elektrische Wirkleistung) in MW': 19,\n",
       " 'Ist die Stromerzeugungseinheit ein Bestandteil eines Grenzkraftwerkes?: ja \\nNettonennleistung der Einspeisung in ein deutsches Netz:': 20,\n",
       " 'Technologie der Stromerzeugung': 21,\n",
       " 'Volleinspeisung oder Teileinspeisung?': 22,\n",
       " 'Anschlussnetzbetreiber': 23,\n",
       " 'Spannungsebene': 24,\n",
       " 'Wenn Energieträger Speicher: Nutzbare Speicherkapazität in Mwh': 25}"
      ]
     },
     "execution_count": 9,
     "metadata": {},
     "output_type": "execute_result"
    }
   ],
   "source": [
    "names_dict"
   ]
  },
  {
   "cell_type": "code",
   "execution_count": 10,
   "id": "72516fc2-dae1-4517-8d1d-665b9f546fc0",
   "metadata": {},
   "outputs": [
    {
     "ename": "SyntaxError",
     "evalue": "invalid syntax (3772115473.py, line 1)",
     "output_type": "error",
     "traceback": [
      "\u001b[0;36m  Cell \u001b[0;32mIn[10], line 1\u001b[0;36m\u001b[0m\n\u001b[0;31m    plantid \tblockid \tblockname \tfederalstate \tenergysource \tinitialop \tchp \tplantname \tpower \tstate \tendop \tcompany\u001b[0m\n\u001b[0m            \t^\u001b[0m\n\u001b[0;31mSyntaxError\u001b[0m\u001b[0;31m:\u001b[0m invalid syntax\n"
     ]
    }
   ],
   "source": [
    "plantid \tblockid \tblockname \tfederalstate \tenergysource \tinitialop \tchp \tplantname \tpower \tstate \tendop \tcompany"
   ]
  },
  {
   "cell_type": "code",
   "execution_count": null,
   "id": "63139c6b-8aef-4c93-978a-6080d4c7c284",
   "metadata": {},
   "outputs": [],
   "source": [
    "blockid \tcompany \tplantname \tplz \tplace \tstreet \tfederalstate \tblockname \tinitialop \tstate \tenergysource \tchp \tpower \tendop"
   ]
  }
 ],
 "metadata": {
  "kernelspec": {
   "display_name": "Python 3 (ipykernel)",
   "language": "python",
   "name": "python3"
  },
  "language_info": {
   "codemirror_mode": {
    "name": "ipython",
    "version": 3
   },
   "file_extension": ".py",
   "mimetype": "text/x-python",
   "name": "python",
   "nbconvert_exporter": "python",
   "pygments_lexer": "ipython3",
   "version": "3.11.3"
  }
 },
 "nbformat": 4,
 "nbformat_minor": 5
}
