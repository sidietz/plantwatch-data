{
 "cells": [
  {
   "cell_type": "code",
   "execution_count": 101,
   "metadata": {},
   "outputs": [],
   "source": [
    "import pandas as pd\n",
    "import numpy as np\n",
    "import re\n",
    "import json"
   ]
  },
  {
   "cell_type": "code",
   "execution_count": 102,
   "metadata": {},
   "outputs": [],
   "source": [
    "COL_DICT = {'jahr': int,\n",
    " 'kennnummer': str,\n",
    " 'betriebsname': str,\n",
    " 'betriebsname_2': str,\n",
    " 'plz': str,\n",
    " 'ort': str,\n",
    " 'strasse': str,\n",
    " 'hausnr': str,\n",
    " 'bundesland': str,\n",
    " 'flusseinzugsgebiet': str,\n",
    " 'geo_lat_wgs84': np.float64,\n",
    " 'geo_long_wgs84': np.float64,\n",
    " 'taet_nr': str,\n",
    " 'taetigkeit': str,\n",
    " 'activity': str,\n",
    " 'haupttaetigkeit': str,\n",
    " 'branche': str,\n",
    " 'sector': str,\n",
    " 'nace_id': int,\n",
    " 'nace_wirtschaftszweig': str,\n",
    " 'nace_sector': str,\n",
    " 'stoffgruppe': str,\n",
    " 'substances_group': str,\n",
    " 'schadstoff': str,\n",
    " 'pollutant': str,\n",
    " 'umweltkompartiment': str,\n",
    " 'releases_to': str,\n",
    " 'jahresfracht_freisetzung': float,\n",
    " 'versehentliche_freisetzung': float,\n",
    " 'schadstoff_schwellenwert': float,\n",
    " 'einheit': str,\n",
    " 'unit': str,\n",
    " 'bestimmungsmethode': str,\n",
    " 'determination_method': str,\n",
    " 'schutzgrund_fracht': str,\n",
    " 'confidential_reason_release': str,\n",
    " 'schutzgrund_betrieb': str,\n",
    " 'confidential_reason_facility': str}\n",
    "\n",
    "DROP_LIST = ['flusseinzugsgebiet', 'schutzgrund_fracht', 'confidential_reason_release', 'schutzgrund_betrieb', 'confidential_reason_facility', 'versehentliche_freisetzung', 'bestimmungsmethode', 'determination_method', 'einheit', 'umweltkompartiment', 'haupttaetigkeit', 'taetigkeit', 'nace_wirtschaftszweig', 'schadstoff', 'stoffgruppe', 'branche', 'schadstoff_schwellenwert', 'blockid', 'geo_lat_wgs84', 'geo_long_wgs84']"
   ]
  },
  {
   "cell_type": "code",
   "execution_count": 103,
   "metadata": {},
   "outputs": [],
   "source": [
    "raw0 = pd.read_csv(\"../data/2020-05-19_PRTR-Deutschland_Freisetzungen.csv\", encoding=\"iso-8859-1\", sep=\";\", dtype=COL_DICT)"
   ]
  },
  {
   "cell_type": "code",
   "execution_count": 104,
   "metadata": {},
   "outputs": [],
   "source": [
    "raw1 = raw0.rename(columns={\"jahr\": \"year\", \"betriebsname_2\": \"plantname\", \"betriebsname\": \"company\", \"kennnummer\": \"plantid\", \"ort\": \"place\", \"strasse\": \"street\", \"bundesland\": \"federalstate\", \"jahresfracht_freisetzung\": \"amount\"})"
   ]
  },
  {
   "cell_type": "code",
   "execution_count": 105,
   "metadata": {},
   "outputs": [],
   "source": [
    "raw1['plantid'] = raw1['plantid'].apply(lambda x: str(x).replace('/', '_'))"
   ]
  },
  {
   "cell_type": "code",
   "execution_count": 106,
   "metadata": {},
   "outputs": [],
   "source": [
    "#raw0 = pd.read_csv(\"../data/2019-11-25_PRTR-Deutschland_Freisetzungen.csv\", encoding=\"iso-8859-1\", error_bad_lines=False, engine=\"c\", sep=\";\", low_memory=False)"
   ]
  },
  {
   "cell_type": "code",
   "execution_count": 107,
   "metadata": {},
   "outputs": [],
   "source": [
    "#raw0"
   ]
  },
  {
   "cell_type": "code",
   "execution_count": 108,
   "metadata": {},
   "outputs": [],
   "source": [
    "bpm = pd.read_csv(\"../basic/block_plant_mapper.csv\")\n",
    "bpm['plantid'] = bpm['plantid'].apply(lambda x: str(x).replace('/', '_'))\n",
    "bpm.drop_duplicates([\"plantid\"], inplace=True)"
   ]
  },
  {
   "cell_type": "code",
   "execution_count": 109,
   "metadata": {},
   "outputs": [],
   "source": [
    "#raw1.loc[raw1.plantid == \"03-01-01012110180\"]"
   ]
  },
  {
   "cell_type": "code",
   "execution_count": 110,
   "metadata": {},
   "outputs": [],
   "source": [
    "raw2 = pd.merge(raw1, bpm, how=\"inner\", on=\"plantid\")"
   ]
  },
  {
   "cell_type": "code",
   "execution_count": 111,
   "metadata": {},
   "outputs": [],
   "source": [
    "raw2.year = raw2.year.astype(int)"
   ]
  },
  {
   "cell_type": "code",
   "execution_count": 112,
   "metadata": {},
   "outputs": [],
   "source": [
    "raw3 = raw2.drop(DROP_LIST, axis=1)"
   ]
  },
  {
   "cell_type": "code",
   "execution_count": 113,
   "metadata": {},
   "outputs": [],
   "source": [
    "#raw3.loc[raw3.plantid == \"03-01-01012110180\"]"
   ]
  },
  {
   "cell_type": "code",
   "execution_count": 114,
   "metadata": {},
   "outputs": [],
   "source": [
    "p = \"PCDD + PCDF (dioxins + furans) (as Teq)\""
   ]
  },
  {
   "cell_type": "code",
   "execution_count": 115,
   "metadata": {},
   "outputs": [],
   "source": [
    "q = \"Trichlorobenzenes (TCBs) (all isomers)\"\n",
    "z = \"Total organic carbon (TOC) (as total C or COD/3)\""
   ]
  },
  {
   "cell_type": "code",
   "execution_count": 116,
   "metadata": {},
   "outputs": [
    {
     "data": {
      "text/plain": [
       "'TCBs'"
      ]
     },
     "execution_count": 116,
     "metadata": {},
     "output_type": "execute_result"
    }
   ],
   "source": [
    "re.findall(\"([A-Z]{2,}[A-Za-z]*?)\\)\",q)[-1]"
   ]
  },
  {
   "cell_type": "code",
   "execution_count": 117,
   "metadata": {},
   "outputs": [],
   "source": [
    "t = \"Kraftwerk Voerde OHG der STEAG GmbH und RWE\""
   ]
  },
  {
   "cell_type": "code",
   "execution_count": 118,
   "metadata": {},
   "outputs": [],
   "source": [
    "match_list = [\"Vattenfall\", \"RWE\", \"Uniper\", \"LEAG\", \"EnBW\", \"Steag\"]"
   ]
  },
  {
   "cell_type": "code",
   "execution_count": 119,
   "metadata": {},
   "outputs": [],
   "source": [
    "raw4 = raw3.sort_values(by=\"amount\", ascending=False)"
   ]
  },
  {
   "cell_type": "code",
   "execution_count": 120,
   "metadata": {},
   "outputs": [
    {
     "data": {
      "text/plain": [
       "(11072, 19)"
      ]
     },
     "execution_count": 120,
     "metadata": {},
     "output_type": "execute_result"
    }
   ],
   "source": [
    "raw3.shape"
   ]
  },
  {
   "cell_type": "code",
   "execution_count": 121,
   "metadata": {},
   "outputs": [
    {
     "data": {
      "text/plain": [
       "(11072, 19)"
      ]
     },
     "execution_count": 121,
     "metadata": {},
     "output_type": "execute_result"
    }
   ],
   "source": [
    "raw4.shape"
   ]
  },
  {
   "cell_type": "code",
   "execution_count": 122,
   "metadata": {},
   "outputs": [],
   "source": [
    "def fix_company(company):\n",
    "    for name in match_list:\n",
    "        if name in company:\n",
    "            return name\n",
    "        else:\n",
    "            return company"
   ]
  },
  {
   "cell_type": "code",
   "execution_count": 123,
   "metadata": {},
   "outputs": [],
   "source": [
    "def fix_pollutant(pol):\n",
    "    match = re.findall(\"([A-Z]{1,}[0-9]*[A-Za-z]+[0-9]*?)\\)\",pol)\n",
    "    if match:\n",
    "        return match[-1]\n",
    "    else:\n",
    "        return pol"
   ]
  },
  {
   "cell_type": "code",
   "execution_count": 124,
   "metadata": {},
   "outputs": [
    {
     "data": {
      "text/plain": [
       "'TCBs'"
      ]
     },
     "execution_count": 124,
     "metadata": {},
     "output_type": "execute_result"
    }
   ],
   "source": [
    "fix_pollutant(q)"
   ]
  },
  {
   "cell_type": "code",
   "execution_count": 125,
   "metadata": {},
   "outputs": [],
   "source": [
    "unit_2_dict = {9: \"Mio. t\", 6: \"Tsd. t\", 3: \"t\", 1: \"kg\", -3: \"g\", -6: \"mg\"}\n",
    "amount_dict = {\"CO2\": 9, \"CO\": 6, \"NO2\": 6, \"Cl\": 6, \"SO2\": 6, \"Total nitrogen\": 6, \"PM10\": 6, \"HCl\": 3, \"HF\": 3, \"N2O\": 6, \"Benzene\": 3, \"Pb\": 3, \"Zn\": 3, \"Benzene\": 3, \"Fluorides (as total F)\": 3, \"NMVOC\": 3, \"NH3\": 3, \"TOC\": 3, \"CH4\": 3, \"AOX\": 3, \"Total phosphorus\": 3, \"HCFCs\": 3, \"HFCs\": 3, \"DCE\": 3, \"Phenols (as total C)\": 3, \"Cu\": 3, \"PER\": 3, \"Cr\": 3, \"Trichloroethylene\": 3, \"Trichloromethane\": 3, \"TCM\": 3, \"CN\": 3, \"Ni\": 3, \"DCM\": 3, \"HCN\": 3, \"As\": 3, \"Hg\": 3}\n",
    "neg_dict = {\"Teq\": 6}"
   ]
  },
  {
   "cell_type": "code",
   "execution_count": 126,
   "metadata": {},
   "outputs": [],
   "source": [
    "raw4['group'] = raw4['company'].apply(lambda x: fix_company(x))\n",
    "raw4['pollutant'] = raw4['pollutant'].apply(lambda x: fix_pollutant(x))"
   ]
  },
  {
   "cell_type": "code",
   "execution_count": 127,
   "metadata": {},
   "outputs": [],
   "source": [
    "raw5 = raw4.copy()"
   ]
  },
  {
   "cell_type": "code",
   "execution_count": 128,
   "metadata": {},
   "outputs": [],
   "source": [
    "#raw4"
   ]
  },
  {
   "cell_type": "code",
   "execution_count": 85,
   "metadata": {},
   "outputs": [],
   "source": [
    "raw5['potency'] = raw5['pollutant'].apply(lambda x: amount_dict.get(x, 1))"
   ]
  },
  {
   "cell_type": "code",
   "execution_count": 86,
   "metadata": {},
   "outputs": [],
   "source": [
    "raw5['neg_potency'] = raw5['pollutant'].apply(lambda x: neg_dict.get(x, 0))"
   ]
  },
  {
   "cell_type": "code",
   "execution_count": 87,
   "metadata": {},
   "outputs": [],
   "source": [
    "raw5['unit_2'] = raw5['potency'].apply(lambda x: unit_2_dict[x])"
   ]
  },
  {
   "cell_type": "code",
   "execution_count": 88,
   "metadata": {},
   "outputs": [],
   "source": [
    "raw5['amount_2'] = raw5['amount'] / 10**(raw5['potency'])\n",
    "raw5['amount_2'] = raw5['amount_2'] * 10**(raw5['neg_potency'])"
   ]
  },
  {
   "cell_type": "code",
   "execution_count": 89,
   "metadata": {},
   "outputs": [],
   "source": [
    "raw5.loc[raw5['pollutant'] == \"Teq\"] = raw5.loc[raw5['pollutant'] == \"Teq\"].replace(\"kg\", \"mg\")"
   ]
  },
  {
   "cell_type": "code",
   "execution_count": 90,
   "metadata": {},
   "outputs": [],
   "source": [
    "#raw5"
   ]
  },
  {
   "cell_type": "code",
   "execution_count": 91,
   "metadata": {},
   "outputs": [],
   "source": [
    "DROP_LIST = ['plz', 'company','plantname', 'group', 'federalstate',  'place', 'street', 'hausnr', 'taet_nr', 'nace_id', 'substances_group', 'unit', 'activity', 'sector', 'nace_sector', 'neg_potency']"
   ]
  },
  {
   "cell_type": "code",
   "execution_count": 92,
   "metadata": {},
   "outputs": [],
   "source": [
    "raw6 = raw5.drop(DROP_LIST, axis=1)"
   ]
  },
  {
   "cell_type": "code",
   "execution_count": 93,
   "metadata": {},
   "outputs": [],
   "source": [
    "raw6['pollutant2'] = raw6['pollutant'] + ' [' + raw6['unit_2'] + ']'"
   ]
  },
  {
   "cell_type": "code",
   "execution_count": 94,
   "metadata": {},
   "outputs": [
    {
     "data": {
      "text/html": [
       "<div>\n",
       "<style scoped>\n",
       "    .dataframe tbody tr th:only-of-type {\n",
       "        vertical-align: middle;\n",
       "    }\n",
       "\n",
       "    .dataframe tbody tr th {\n",
       "        vertical-align: top;\n",
       "    }\n",
       "\n",
       "    .dataframe thead th {\n",
       "        text-align: right;\n",
       "    }\n",
       "</style>\n",
       "<table border=\"1\" class=\"dataframe\">\n",
       "  <thead>\n",
       "    <tr style=\"text-align: right;\">\n",
       "      <th></th>\n",
       "      <th>year</th>\n",
       "      <th>plantid</th>\n",
       "      <th>pollutant</th>\n",
       "      <th>releases_to</th>\n",
       "      <th>amount</th>\n",
       "      <th>potency</th>\n",
       "      <th>unit_2</th>\n",
       "      <th>amount_2</th>\n",
       "      <th>pollutant2</th>\n",
       "    </tr>\n",
       "  </thead>\n",
       "  <tbody>\n",
       "    <tr>\n",
       "      <th>2343</th>\n",
       "      <td>2013</td>\n",
       "      <td>06-05-100-0248923</td>\n",
       "      <td>CO2</td>\n",
       "      <td>Air</td>\n",
       "      <td>3.330000e+10</td>\n",
       "      <td>9</td>\n",
       "      <td>Mio. t</td>\n",
       "      <td>33.3</td>\n",
       "      <td>CO2 [Mio. t]</td>\n",
       "    </tr>\n",
       "    <tr>\n",
       "      <th>2354</th>\n",
       "      <td>2014</td>\n",
       "      <td>06-05-100-0248923</td>\n",
       "      <td>CO2</td>\n",
       "      <td>Air</td>\n",
       "      <td>3.240000e+10</td>\n",
       "      <td>9</td>\n",
       "      <td>Mio. t</td>\n",
       "      <td>32.4</td>\n",
       "      <td>CO2 [Mio. t]</td>\n",
       "    </tr>\n",
       "    <tr>\n",
       "      <th>2396</th>\n",
       "      <td>2018</td>\n",
       "      <td>06-05-100-0248923</td>\n",
       "      <td>CO2</td>\n",
       "      <td>Air</td>\n",
       "      <td>3.220000e+10</td>\n",
       "      <td>9</td>\n",
       "      <td>Mio. t</td>\n",
       "      <td>32.2</td>\n",
       "      <td>CO2 [Mio. t]</td>\n",
       "    </tr>\n",
       "    <tr>\n",
       "      <th>2365</th>\n",
       "      <td>2015</td>\n",
       "      <td>06-05-100-0248923</td>\n",
       "      <td>CO2</td>\n",
       "      <td>Air</td>\n",
       "      <td>3.210000e+10</td>\n",
       "      <td>9</td>\n",
       "      <td>Mio. t</td>\n",
       "      <td>32.1</td>\n",
       "      <td>CO2 [Mio. t]</td>\n",
       "    </tr>\n",
       "    <tr>\n",
       "      <th>3613</th>\n",
       "      <td>2007</td>\n",
       "      <td>06-05-300-0326774</td>\n",
       "      <td>CO2</td>\n",
       "      <td>Air</td>\n",
       "      <td>3.130000e+10</td>\n",
       "      <td>9</td>\n",
       "      <td>Mio. t</td>\n",
       "      <td>31.3</td>\n",
       "      <td>CO2 [Mio. t]</td>\n",
       "    </tr>\n",
       "    <tr>\n",
       "      <th>...</th>\n",
       "      <td>...</td>\n",
       "      <td>...</td>\n",
       "      <td>...</td>\n",
       "      <td>...</td>\n",
       "      <td>...</td>\n",
       "      <td>...</td>\n",
       "      <td>...</td>\n",
       "      <td>...</td>\n",
       "      <td>...</td>\n",
       "    </tr>\n",
       "    <tr>\n",
       "      <th>529</th>\n",
       "      <td>2015</td>\n",
       "      <td>03-03-03030273580</td>\n",
       "      <td>Teq</td>\n",
       "      <td>Water</td>\n",
       "      <td>1.310000e-04</td>\n",
       "      <td>1</td>\n",
       "      <td>mg</td>\n",
       "      <td>13.1</td>\n",
       "      <td>Teq [mg]</td>\n",
       "    </tr>\n",
       "    <tr>\n",
       "      <th>9218</th>\n",
       "      <td>2015</td>\n",
       "      <td>12-40710010000</td>\n",
       "      <td>Teq</td>\n",
       "      <td>Air</td>\n",
       "      <td>1.300000e-04</td>\n",
       "      <td>1</td>\n",
       "      <td>mg</td>\n",
       "      <td>13.0</td>\n",
       "      <td>Teq [mg]</td>\n",
       "    </tr>\n",
       "    <tr>\n",
       "      <th>2580</th>\n",
       "      <td>2012</td>\n",
       "      <td>06-05-100-0431554</td>\n",
       "      <td>Teq</td>\n",
       "      <td>Air</td>\n",
       "      <td>1.300000e-04</td>\n",
       "      <td>1</td>\n",
       "      <td>mg</td>\n",
       "      <td>13.0</td>\n",
       "      <td>Teq [mg]</td>\n",
       "    </tr>\n",
       "    <tr>\n",
       "      <th>2589</th>\n",
       "      <td>2013</td>\n",
       "      <td>06-05-100-0431554</td>\n",
       "      <td>Teq</td>\n",
       "      <td>Air</td>\n",
       "      <td>1.160000e-04</td>\n",
       "      <td>1</td>\n",
       "      <td>mg</td>\n",
       "      <td>11.6</td>\n",
       "      <td>Teq [mg]</td>\n",
       "    </tr>\n",
       "    <tr>\n",
       "      <th>3993</th>\n",
       "      <td>2009</td>\n",
       "      <td>06-05-300-0923949</td>\n",
       "      <td>Teq</td>\n",
       "      <td>Air</td>\n",
       "      <td>1.150000e-04</td>\n",
       "      <td>1</td>\n",
       "      <td>mg</td>\n",
       "      <td>11.5</td>\n",
       "      <td>Teq [mg]</td>\n",
       "    </tr>\n",
       "  </tbody>\n",
       "</table>\n",
       "<p>11072 rows × 9 columns</p>\n",
       "</div>"
      ],
      "text/plain": [
       "      year            plantid pollutant releases_to        amount  potency  \\\n",
       "2343  2013  06-05-100-0248923       CO2         Air  3.330000e+10        9   \n",
       "2354  2014  06-05-100-0248923       CO2         Air  3.240000e+10        9   \n",
       "2396  2018  06-05-100-0248923       CO2         Air  3.220000e+10        9   \n",
       "2365  2015  06-05-100-0248923       CO2         Air  3.210000e+10        9   \n",
       "3613  2007  06-05-300-0326774       CO2         Air  3.130000e+10        9   \n",
       "...    ...                ...       ...         ...           ...      ...   \n",
       "529   2015  03-03-03030273580       Teq       Water  1.310000e-04        1   \n",
       "9218  2015     12-40710010000       Teq         Air  1.300000e-04        1   \n",
       "2580  2012  06-05-100-0431554       Teq         Air  1.300000e-04        1   \n",
       "2589  2013  06-05-100-0431554       Teq         Air  1.160000e-04        1   \n",
       "3993  2009  06-05-300-0923949       Teq         Air  1.150000e-04        1   \n",
       "\n",
       "      unit_2  amount_2    pollutant2  \n",
       "2343  Mio. t      33.3  CO2 [Mio. t]  \n",
       "2354  Mio. t      32.4  CO2 [Mio. t]  \n",
       "2396  Mio. t      32.2  CO2 [Mio. t]  \n",
       "2365  Mio. t      32.1  CO2 [Mio. t]  \n",
       "3613  Mio. t      31.3  CO2 [Mio. t]  \n",
       "...      ...       ...           ...  \n",
       "529       mg      13.1      Teq [mg]  \n",
       "9218      mg      13.0      Teq [mg]  \n",
       "2580      mg      13.0      Teq [mg]  \n",
       "2589      mg      11.6      Teq [mg]  \n",
       "3993      mg      11.5      Teq [mg]  \n",
       "\n",
       "[11072 rows x 9 columns]"
      ]
     },
     "execution_count": 94,
     "metadata": {},
     "output_type": "execute_result"
    }
   ],
   "source": [
    "raw6"
   ]
  },
  {
   "cell_type": "code",
   "execution_count": 95,
   "metadata": {},
   "outputs": [],
   "source": [
    "m1 = raw6.duplicated(['year', 'pollutant', 'plantid', 'releases_to'])\n",
    "m2 = raw6.duplicated(['year', 'pollutant', 'plantid'])\n",
    "m3 = raw6.duplicated(['year', 'pollutant', 'plantid', 'releases_to'])"
   ]
  },
  {
   "cell_type": "code",
   "execution_count": 96,
   "metadata": {},
   "outputs": [],
   "source": [
    "raw7 = raw6.sort_values(['plantid', 'year', 'potency'], ascending=[True, False, False])"
   ]
  },
  {
   "cell_type": "code",
   "execution_count": 41,
   "metadata": {},
   "outputs": [],
   "source": [
    "#raw7"
   ]
  },
  {
   "cell_type": "code",
   "execution_count": 42,
   "metadata": {},
   "outputs": [],
   "source": [
    "raw7.to_csv(\"pollutants_pg.csv\", index=True, header=False)\n",
    "raw7.to_csv(\"pollutants.csv\", index=False)\n",
    "raw7.to_csv(\"pollutants_nh.csv\", index=False, header=False)"
   ]
  },
  {
   "cell_type": "code",
   "execution_count": 43,
   "metadata": {},
   "outputs": [
    {
     "data": {
      "text/html": [
       "<div>\n",
       "<style scoped>\n",
       "    .dataframe tbody tr th:only-of-type {\n",
       "        vertical-align: middle;\n",
       "    }\n",
       "\n",
       "    .dataframe tbody tr th {\n",
       "        vertical-align: top;\n",
       "    }\n",
       "\n",
       "    .dataframe thead th {\n",
       "        text-align: right;\n",
       "    }\n",
       "</style>\n",
       "<table border=\"1\" class=\"dataframe\">\n",
       "  <thead>\n",
       "    <tr style=\"text-align: right;\">\n",
       "      <th></th>\n",
       "      <th>year</th>\n",
       "      <th>plantid</th>\n",
       "      <th>pollutant</th>\n",
       "      <th>releases_to</th>\n",
       "      <th>amount</th>\n",
       "      <th>potency</th>\n",
       "      <th>unit_2</th>\n",
       "      <th>amount_2</th>\n",
       "      <th>pollutant2</th>\n",
       "    </tr>\n",
       "  </thead>\n",
       "  <tbody>\n",
       "    <tr>\n",
       "      <th>10555</th>\n",
       "      <td>2018</td>\n",
       "      <td>14-70-46630660001</td>\n",
       "      <td>NO2</td>\n",
       "      <td>Air</td>\n",
       "      <td>13400000.0</td>\n",
       "      <td>6</td>\n",
       "      <td>Tsd. t</td>\n",
       "      <td>13.400</td>\n",
       "      <td>NO2 [Tsd. t]</td>\n",
       "    </tr>\n",
       "    <tr>\n",
       "      <th>10552</th>\n",
       "      <td>2018</td>\n",
       "      <td>14-70-46630660001</td>\n",
       "      <td>SO2</td>\n",
       "      <td>Air</td>\n",
       "      <td>10900000.0</td>\n",
       "      <td>6</td>\n",
       "      <td>Tsd. t</td>\n",
       "      <td>10.900</td>\n",
       "      <td>SO2 [Tsd. t]</td>\n",
       "    </tr>\n",
       "    <tr>\n",
       "      <th>10553</th>\n",
       "      <td>2018</td>\n",
       "      <td>14-70-46630660001</td>\n",
       "      <td>CO</td>\n",
       "      <td>Air</td>\n",
       "      <td>5780000.0</td>\n",
       "      <td>6</td>\n",
       "      <td>Tsd. t</td>\n",
       "      <td>5.780</td>\n",
       "      <td>CO [Tsd. t]</td>\n",
       "    </tr>\n",
       "    <tr>\n",
       "      <th>10563</th>\n",
       "      <td>2018</td>\n",
       "      <td>14-70-46630660001</td>\n",
       "      <td>PM10</td>\n",
       "      <td>Air</td>\n",
       "      <td>350000.0</td>\n",
       "      <td>6</td>\n",
       "      <td>Tsd. t</td>\n",
       "      <td>0.350</td>\n",
       "      <td>PM10 [Tsd. t]</td>\n",
       "    </tr>\n",
       "    <tr>\n",
       "      <th>10554</th>\n",
       "      <td>2018</td>\n",
       "      <td>14-70-46630660001</td>\n",
       "      <td>N2O</td>\n",
       "      <td>Air</td>\n",
       "      <td>205000.0</td>\n",
       "      <td>6</td>\n",
       "      <td>Tsd. t</td>\n",
       "      <td>0.205</td>\n",
       "      <td>N2O [Tsd. t]</td>\n",
       "    </tr>\n",
       "    <tr>\n",
       "      <th>...</th>\n",
       "      <td>...</td>\n",
       "      <td>...</td>\n",
       "      <td>...</td>\n",
       "      <td>...</td>\n",
       "      <td>...</td>\n",
       "      <td>...</td>\n",
       "      <td>...</td>\n",
       "      <td>...</td>\n",
       "      <td>...</td>\n",
       "    </tr>\n",
       "    <tr>\n",
       "      <th>10431</th>\n",
       "      <td>2008</td>\n",
       "      <td>14-70-46630660001</td>\n",
       "      <td>N2O</td>\n",
       "      <td>Air</td>\n",
       "      <td>169000.0</td>\n",
       "      <td>6</td>\n",
       "      <td>Tsd. t</td>\n",
       "      <td>0.169</td>\n",
       "      <td>N2O [Tsd. t]</td>\n",
       "    </tr>\n",
       "    <tr>\n",
       "      <th>10437</th>\n",
       "      <td>2008</td>\n",
       "      <td>14-70-46630660001</td>\n",
       "      <td>HCl</td>\n",
       "      <td>Air</td>\n",
       "      <td>129000.0</td>\n",
       "      <td>3</td>\n",
       "      <td>t</td>\n",
       "      <td>129.000</td>\n",
       "      <td>HCl [t]</td>\n",
       "    </tr>\n",
       "    <tr>\n",
       "      <th>10436</th>\n",
       "      <td>2008</td>\n",
       "      <td>14-70-46630660001</td>\n",
       "      <td>Pb</td>\n",
       "      <td>Air</td>\n",
       "      <td>243.0</td>\n",
       "      <td>3</td>\n",
       "      <td>t</td>\n",
       "      <td>0.243</td>\n",
       "      <td>Pb [t]</td>\n",
       "    </tr>\n",
       "    <tr>\n",
       "      <th>10434</th>\n",
       "      <td>2008</td>\n",
       "      <td>14-70-46630660001</td>\n",
       "      <td>Hg</td>\n",
       "      <td>Air</td>\n",
       "      <td>122.0</td>\n",
       "      <td>3</td>\n",
       "      <td>t</td>\n",
       "      <td>0.122</td>\n",
       "      <td>Hg [t]</td>\n",
       "    </tr>\n",
       "    <tr>\n",
       "      <th>10435</th>\n",
       "      <td>2008</td>\n",
       "      <td>14-70-46630660001</td>\n",
       "      <td>Ni</td>\n",
       "      <td>Air</td>\n",
       "      <td>105.0</td>\n",
       "      <td>3</td>\n",
       "      <td>t</td>\n",
       "      <td>0.105</td>\n",
       "      <td>Ni [t]</td>\n",
       "    </tr>\n",
       "  </tbody>\n",
       "</table>\n",
       "<p>135 rows × 9 columns</p>\n",
       "</div>"
      ],
      "text/plain": [
       "       year            plantid pollutant releases_to      amount  potency  \\\n",
       "10555  2018  14-70-46630660001       NO2         Air  13400000.0        6   \n",
       "10552  2018  14-70-46630660001       SO2         Air  10900000.0        6   \n",
       "10553  2018  14-70-46630660001        CO         Air   5780000.0        6   \n",
       "10563  2018  14-70-46630660001      PM10         Air    350000.0        6   \n",
       "10554  2018  14-70-46630660001       N2O         Air    205000.0        6   \n",
       "...     ...                ...       ...         ...         ...      ...   \n",
       "10431  2008  14-70-46630660001       N2O         Air    169000.0        6   \n",
       "10437  2008  14-70-46630660001       HCl         Air    129000.0        3   \n",
       "10436  2008  14-70-46630660001        Pb         Air       243.0        3   \n",
       "10434  2008  14-70-46630660001        Hg         Air       122.0        3   \n",
       "10435  2008  14-70-46630660001        Ni         Air       105.0        3   \n",
       "\n",
       "       unit_2  amount_2     pollutant2  \n",
       "10555  Tsd. t    13.400   NO2 [Tsd. t]  \n",
       "10552  Tsd. t    10.900   SO2 [Tsd. t]  \n",
       "10553  Tsd. t     5.780    CO [Tsd. t]  \n",
       "10563  Tsd. t     0.350  PM10 [Tsd. t]  \n",
       "10554  Tsd. t     0.205   N2O [Tsd. t]  \n",
       "...       ...       ...            ...  \n",
       "10431  Tsd. t     0.169   N2O [Tsd. t]  \n",
       "10437       t   129.000        HCl [t]  \n",
       "10436       t     0.243         Pb [t]  \n",
       "10434       t     0.122         Hg [t]  \n",
       "10435       t     0.105         Ni [t]  \n",
       "\n",
       "[135 rows x 9 columns]"
      ]
     },
     "execution_count": 43,
     "metadata": {},
     "output_type": "execute_result"
    }
   ],
   "source": [
    "raw7.loc[raw7.plantid == \"14-70-46630660001\"]"
   ]
  },
  {
   "cell_type": "code",
   "execution_count": 44,
   "metadata": {},
   "outputs": [
    {
     "data": {
      "text/html": [
       "<div>\n",
       "<style scoped>\n",
       "    .dataframe tbody tr th:only-of-type {\n",
       "        vertical-align: middle;\n",
       "    }\n",
       "\n",
       "    .dataframe tbody tr th {\n",
       "        vertical-align: top;\n",
       "    }\n",
       "\n",
       "    .dataframe thead th {\n",
       "        text-align: right;\n",
       "    }\n",
       "</style>\n",
       "<table border=\"1\" class=\"dataframe\">\n",
       "  <thead>\n",
       "    <tr style=\"text-align: right;\">\n",
       "      <th></th>\n",
       "      <th>plantid</th>\n",
       "      <th>blockid</th>\n",
       "    </tr>\n",
       "  </thead>\n",
       "  <tbody>\n",
       "    <tr>\n",
       "      <th>5</th>\n",
       "      <td>14-70-46630660001</td>\n",
       "      <td>BNA0124</td>\n",
       "    </tr>\n",
       "  </tbody>\n",
       "</table>\n",
       "</div>"
      ],
      "text/plain": [
       "             plantid  blockid\n",
       "5  14-70-46630660001  BNA0124"
      ]
     },
     "execution_count": 44,
     "metadata": {},
     "output_type": "execute_result"
    }
   ],
   "source": [
    "bpm.loc[bpm.plantid == \"14-70-46630660001\"]"
   ]
  },
  {
   "cell_type": "code",
   "execution_count": 45,
   "metadata": {},
   "outputs": [],
   "source": [
    "#raw2.loc[raw2.plantid == \"06-04-11_2039669_2_0\"]"
   ]
  },
  {
   "cell_type": "code",
   "execution_count": 46,
   "metadata": {},
   "outputs": [],
   "source": [
    "#raw6[m2].groupby(\"pollutant\").max()"
   ]
  },
  {
   "cell_type": "code",
   "execution_count": 47,
   "metadata": {},
   "outputs": [],
   "source": [
    "#raw6[m2].groupby(\"pollutant\").min()"
   ]
  },
  {
   "cell_type": "code",
   "execution_count": 48,
   "metadata": {},
   "outputs": [],
   "source": [
    "#raw5.loc[raw5[\"pollutant\"] == \"Teq\"].sort_values(\"amount\", ascending=False)"
   ]
  },
  {
   "cell_type": "code",
   "execution_count": 49,
   "metadata": {},
   "outputs": [],
   "source": [
    "#raw4.loc[raw4['year'] == 2017].loc[raw4['plantid'] == '06-05-100-0248923'].sort_values(\"amount\", ascending=False)"
   ]
  },
  {
   "cell_type": "code",
   "execution_count": 50,
   "metadata": {},
   "outputs": [],
   "source": [
    "#raw4.loc[raw4['year'] == 2017].loc[raw4['plantid'] == '12-40710010000'].sort_values(\"amount\", ascending=False) #12-40710010000 #06-05-300-0923949"
   ]
  },
  {
   "cell_type": "code",
   "execution_count": 51,
   "metadata": {},
   "outputs": [],
   "source": [
    "#raw4.loc[raw4['year'] == 2009].loc[raw4['plantid'] == '06-05-100-0431554'].sort_values(\"amount\", ascending=False)"
   ]
  },
  {
   "cell_type": "code",
   "execution_count": 52,
   "metadata": {},
   "outputs": [],
   "source": [
    "#raw4.groupby(\"pollutant\").sum()"
   ]
  },
  {
   "cell_type": "code",
   "execution_count": 53,
   "metadata": {},
   "outputs": [],
   "source": [
    "#raw3.groupby(\"pollutant\").sum()"
   ]
  },
  {
   "cell_type": "code",
   "execution_count": 54,
   "metadata": {},
   "outputs": [],
   "source": [
    "#raw4"
   ]
  },
  {
   "cell_type": "code",
   "execution_count": 55,
   "metadata": {},
   "outputs": [
    {
     "data": {
      "text/html": [
       "<div>\n",
       "<style scoped>\n",
       "    .dataframe tbody tr th:only-of-type {\n",
       "        vertical-align: middle;\n",
       "    }\n",
       "\n",
       "    .dataframe tbody tr th {\n",
       "        vertical-align: top;\n",
       "    }\n",
       "\n",
       "    .dataframe thead th {\n",
       "        text-align: right;\n",
       "    }\n",
       "</style>\n",
       "<table border=\"1\" class=\"dataframe\">\n",
       "  <thead>\n",
       "    <tr style=\"text-align: right;\">\n",
       "      <th></th>\n",
       "      <th>year</th>\n",
       "      <th>plantid</th>\n",
       "      <th>pollutant</th>\n",
       "      <th>amount</th>\n",
       "      <th>potency</th>\n",
       "      <th>unit_2</th>\n",
       "      <th>amount_2</th>\n",
       "      <th>pollutant2</th>\n",
       "    </tr>\n",
       "    <tr>\n",
       "      <th>releases_to</th>\n",
       "      <th></th>\n",
       "      <th></th>\n",
       "      <th></th>\n",
       "      <th></th>\n",
       "      <th></th>\n",
       "      <th></th>\n",
       "      <th></th>\n",
       "      <th></th>\n",
       "    </tr>\n",
       "  </thead>\n",
       "  <tbody>\n",
       "    <tr>\n",
       "      <th>Air</th>\n",
       "      <td>2007</td>\n",
       "      <td>01-50-01000004838</td>\n",
       "      <td>As</td>\n",
       "      <td>0.000115</td>\n",
       "      <td>1</td>\n",
       "      <td>Mio. t</td>\n",
       "      <td>0.01000</td>\n",
       "      <td>As [t]</td>\n",
       "    </tr>\n",
       "    <tr>\n",
       "      <th>Land</th>\n",
       "      <td>2008</td>\n",
       "      <td>06-90031210632</td>\n",
       "      <td>AOX</td>\n",
       "      <td>15.000000</td>\n",
       "      <td>3</td>\n",
       "      <td>Tsd. t</td>\n",
       "      <td>0.01500</td>\n",
       "      <td>AOX [t]</td>\n",
       "    </tr>\n",
       "    <tr>\n",
       "      <th>Water</th>\n",
       "      <td>2007</td>\n",
       "      <td>03-01-01241117210</td>\n",
       "      <td>AOX</td>\n",
       "      <td>0.000131</td>\n",
       "      <td>1</td>\n",
       "      <td>Tsd. t</td>\n",
       "      <td>0.00102</td>\n",
       "      <td>AOX [t]</td>\n",
       "    </tr>\n",
       "  </tbody>\n",
       "</table>\n",
       "</div>"
      ],
      "text/plain": [
       "             year            plantid pollutant     amount  potency  unit_2  \\\n",
       "releases_to                                                                  \n",
       "Air          2007  01-50-01000004838        As   0.000115        1  Mio. t   \n",
       "Land         2008     06-90031210632       AOX  15.000000        3  Tsd. t   \n",
       "Water        2007  03-01-01241117210       AOX   0.000131        1  Tsd. t   \n",
       "\n",
       "             amount_2 pollutant2  \n",
       "releases_to                       \n",
       "Air           0.01000     As [t]  \n",
       "Land          0.01500    AOX [t]  \n",
       "Water         0.00102    AOX [t]  "
      ]
     },
     "execution_count": 55,
     "metadata": {},
     "output_type": "execute_result"
    }
   ],
   "source": [
    "raw7.groupby('releases_to').min()"
   ]
  },
  {
   "cell_type": "code",
   "execution_count": 56,
   "metadata": {},
   "outputs": [
    {
     "data": {
      "text/html": [
       "<div>\n",
       "<style scoped>\n",
       "    .dataframe tbody tr th:only-of-type {\n",
       "        vertical-align: middle;\n",
       "    }\n",
       "\n",
       "    .dataframe tbody tr th {\n",
       "        vertical-align: top;\n",
       "    }\n",
       "\n",
       "    .dataframe thead th {\n",
       "        text-align: right;\n",
       "    }\n",
       "</style>\n",
       "<table border=\"1\" class=\"dataframe\">\n",
       "  <thead>\n",
       "    <tr style=\"text-align: right;\">\n",
       "      <th></th>\n",
       "      <th>year</th>\n",
       "      <th>plantid</th>\n",
       "      <th>pollutant</th>\n",
       "      <th>releases_to</th>\n",
       "      <th>amount</th>\n",
       "      <th>potency</th>\n",
       "      <th>unit_2</th>\n",
       "      <th>amount_2</th>\n",
       "      <th>pollutant2</th>\n",
       "    </tr>\n",
       "  </thead>\n",
       "  <tbody>\n",
       "    <tr>\n",
       "      <th>44</th>\n",
       "      <td>2018</td>\n",
       "      <td>01-50-01000004838</td>\n",
       "      <td>CO2</td>\n",
       "      <td>Air</td>\n",
       "      <td>602000000.0</td>\n",
       "      <td>9</td>\n",
       "      <td>Mio. t</td>\n",
       "      <td>0.602000</td>\n",
       "      <td>CO2 [Mio. t]</td>\n",
       "    </tr>\n",
       "    <tr>\n",
       "      <th>46</th>\n",
       "      <td>2018</td>\n",
       "      <td>01-50-01000004838</td>\n",
       "      <td>SO2</td>\n",
       "      <td>Air</td>\n",
       "      <td>208000.0</td>\n",
       "      <td>6</td>\n",
       "      <td>Tsd. t</td>\n",
       "      <td>0.208000</td>\n",
       "      <td>SO2 [Tsd. t]</td>\n",
       "    </tr>\n",
       "    <tr>\n",
       "      <th>45</th>\n",
       "      <td>2018</td>\n",
       "      <td>01-50-01000004838</td>\n",
       "      <td>NO2</td>\n",
       "      <td>Air</td>\n",
       "      <td>196000.0</td>\n",
       "      <td>6</td>\n",
       "      <td>Tsd. t</td>\n",
       "      <td>0.196000</td>\n",
       "      <td>NO2 [Tsd. t]</td>\n",
       "    </tr>\n",
       "    <tr>\n",
       "      <th>47</th>\n",
       "      <td>2018</td>\n",
       "      <td>01-50-01000004838</td>\n",
       "      <td>HCl</td>\n",
       "      <td>Air</td>\n",
       "      <td>46100.0</td>\n",
       "      <td>3</td>\n",
       "      <td>t</td>\n",
       "      <td>46.100000</td>\n",
       "      <td>HCl [t]</td>\n",
       "    </tr>\n",
       "    <tr>\n",
       "      <th>40</th>\n",
       "      <td>2017</td>\n",
       "      <td>01-50-01000004838</td>\n",
       "      <td>CO2</td>\n",
       "      <td>Air</td>\n",
       "      <td>597000000.0</td>\n",
       "      <td>9</td>\n",
       "      <td>Mio. t</td>\n",
       "      <td>0.597000</td>\n",
       "      <td>CO2 [Mio. t]</td>\n",
       "    </tr>\n",
       "    <tr>\n",
       "      <th>...</th>\n",
       "      <td>...</td>\n",
       "      <td>...</td>\n",
       "      <td>...</td>\n",
       "      <td>...</td>\n",
       "      <td>...</td>\n",
       "      <td>...</td>\n",
       "      <td>...</td>\n",
       "      <td>...</td>\n",
       "      <td>...</td>\n",
       "    </tr>\n",
       "    <tr>\n",
       "      <th>10194</th>\n",
       "      <td>2008</td>\n",
       "      <td>18042</td>\n",
       "      <td>Zn</td>\n",
       "      <td>Water</td>\n",
       "      <td>272.0</td>\n",
       "      <td>3</td>\n",
       "      <td>t</td>\n",
       "      <td>0.272000</td>\n",
       "      <td>Zn [t]</td>\n",
       "    </tr>\n",
       "    <tr>\n",
       "      <th>10195</th>\n",
       "      <td>2008</td>\n",
       "      <td>18042</td>\n",
       "      <td>Pb</td>\n",
       "      <td>Water</td>\n",
       "      <td>32.5</td>\n",
       "      <td>3</td>\n",
       "      <td>t</td>\n",
       "      <td>0.032500</td>\n",
       "      <td>Pb [t]</td>\n",
       "    </tr>\n",
       "    <tr>\n",
       "      <th>10191</th>\n",
       "      <td>2007</td>\n",
       "      <td>18042</td>\n",
       "      <td>CO2</td>\n",
       "      <td>Air</td>\n",
       "      <td>209038000.0</td>\n",
       "      <td>9</td>\n",
       "      <td>Mio. t</td>\n",
       "      <td>0.209038</td>\n",
       "      <td>CO2 [Mio. t]</td>\n",
       "    </tr>\n",
       "    <tr>\n",
       "      <th>10190</th>\n",
       "      <td>2007</td>\n",
       "      <td>18042</td>\n",
       "      <td>Cl</td>\n",
       "      <td>Water</td>\n",
       "      <td>77671600.0</td>\n",
       "      <td>6</td>\n",
       "      <td>Tsd. t</td>\n",
       "      <td>77.671600</td>\n",
       "      <td>Cl [Tsd. t]</td>\n",
       "    </tr>\n",
       "    <tr>\n",
       "      <th>10189</th>\n",
       "      <td>2007</td>\n",
       "      <td>18042</td>\n",
       "      <td>HCl</td>\n",
       "      <td>Air</td>\n",
       "      <td>15329.0</td>\n",
       "      <td>3</td>\n",
       "      <td>t</td>\n",
       "      <td>15.329000</td>\n",
       "      <td>HCl [t]</td>\n",
       "    </tr>\n",
       "  </tbody>\n",
       "</table>\n",
       "<p>11072 rows × 9 columns</p>\n",
       "</div>"
      ],
      "text/plain": [
       "       year            plantid pollutant releases_to       amount  potency  \\\n",
       "44     2018  01-50-01000004838       CO2         Air  602000000.0        9   \n",
       "46     2018  01-50-01000004838       SO2         Air     208000.0        6   \n",
       "45     2018  01-50-01000004838       NO2         Air     196000.0        6   \n",
       "47     2018  01-50-01000004838       HCl         Air      46100.0        3   \n",
       "40     2017  01-50-01000004838       CO2         Air  597000000.0        9   \n",
       "...     ...                ...       ...         ...          ...      ...   \n",
       "10194  2008              18042        Zn       Water        272.0        3   \n",
       "10195  2008              18042        Pb       Water         32.5        3   \n",
       "10191  2007              18042       CO2         Air  209038000.0        9   \n",
       "10190  2007              18042        Cl       Water   77671600.0        6   \n",
       "10189  2007              18042       HCl         Air      15329.0        3   \n",
       "\n",
       "       unit_2   amount_2    pollutant2  \n",
       "44     Mio. t   0.602000  CO2 [Mio. t]  \n",
       "46     Tsd. t   0.208000  SO2 [Tsd. t]  \n",
       "45     Tsd. t   0.196000  NO2 [Tsd. t]  \n",
       "47          t  46.100000       HCl [t]  \n",
       "40     Mio. t   0.597000  CO2 [Mio. t]  \n",
       "...       ...        ...           ...  \n",
       "10194       t   0.272000        Zn [t]  \n",
       "10195       t   0.032500        Pb [t]  \n",
       "10191  Mio. t   0.209038  CO2 [Mio. t]  \n",
       "10190  Tsd. t  77.671600   Cl [Tsd. t]  \n",
       "10189       t  15.329000       HCl [t]  \n",
       "\n",
       "[11072 rows x 9 columns]"
      ]
     },
     "execution_count": 56,
     "metadata": {},
     "output_type": "execute_result"
    }
   ],
   "source": [
    "raw7"
   ]
  }
 ],
 "metadata": {
  "kernelspec": {
   "display_name": "Python 3",
   "language": "python",
   "name": "python3"
  },
  "language_info": {
   "codemirror_mode": {
    "name": "ipython",
    "version": 3
   },
   "file_extension": ".py",
   "mimetype": "text/x-python",
   "name": "python",
   "nbconvert_exporter": "python",
   "pygments_lexer": "ipython3",
   "version": "3.7.7"
  }
 },
 "nbformat": 4,
 "nbformat_minor": 4
}
