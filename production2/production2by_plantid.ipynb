{
 "cells": [
  {
   "cell_type": "code",
   "execution_count": 1,
   "id": "9c60fe2d",
   "metadata": {},
   "outputs": [],
   "source": [
    "import pandas as pd\n",
    "#from pandas.io.parsers import ParserError\n",
    "import numpy as np\n",
    "from helper import get_mapper\n",
    "import json\n",
    "import os\n",
    "import re"
   ]
  },
  {
   "cell_type": "code",
   "execution_count": 2,
   "id": "196dc141",
   "metadata": {},
   "outputs": [],
   "source": [
    "from os import listdir, stat\n",
    "from os.path import isfile, join\n",
    "BASE_DIR = \".\"\n",
    "MIN_SIZE = 512"
   ]
  },
  {
   "cell_type": "code",
   "execution_count": 3,
   "id": "085daccb",
   "metadata": {},
   "outputs": [],
   "source": [
    "def extract_blockidf(fullname):\n",
    "    return fullname.split(\"Generation_DE \")[1].rsplit('[MW]')[0].strip()\n",
    "\n",
    "def extract_blockidf2(fullname, plantname):\n",
    "    return fullname.split(\"Generation_DE \")[1].rsplit('[MW]')[0].strip().removeprefix(plantname + \" \")\n",
    "\n",
    "def get_smard_name(f):\n",
    "    return f.rsplit(\"/\")[2].rsplit(\"_\", 4)[0].strip()"
   ]
  },
  {
   "cell_type": "code",
   "execution_count": 4,
   "id": "4bf30339-0caa-43ce-a52c-03e8de204ce7",
   "metadata": {},
   "outputs": [
    {
     "data": {
      "text/plain": [
       "'Abwinden-Asten'"
      ]
     },
     "execution_count": 4,
     "metadata": {},
     "output_type": "execute_result"
    }
   ],
   "source": [
    "get_smard_name(\"./2015/Abwinden-Asten_201501010000_201512312359_hour_1.csv\")"
   ]
  },
  {
   "cell_type": "code",
   "execution_count": 5,
   "id": "446d4f3f",
   "metadata": {},
   "outputs": [],
   "source": [
    "def get_files_from_folder(folder):\n",
    "    onlyfiles = [folder + \"/\" + f for f in listdir(folder) if isfile(join(folder, f))]\n",
    "    onlyfiles.sort()\n",
    "    files = [f for f in onlyfiles if stat(f).st_size > MIN_SIZE]\n",
    "    return files"
   ]
  },
  {
   "cell_type": "code",
   "execution_count": 6,
   "id": "8c186557",
   "metadata": {},
   "outputs": [],
   "source": [
    "def convert2plantid(df, plantname):\n",
    "    oldcols = list(df.columns)\n",
    "    newcols = [extract_blockidf2(x, plantname) for x in list(df.columns)[1:]]\n",
    "    #print(plantname + \":\" + str(newcols))\n",
    "    try:\n",
    "        newcols2 = ['produced_at'] + [mapper[plantname][x] for x in newcols]\n",
    "    except KeyError:\n",
    "        newcols2 = ['produced_at'] + [mapper[plantname][x.split(\" \")[-1]] for x in newcols]\n",
    "    test = dict(zip(oldcols, newcols2))\n",
    "    result = df.rename(columns=test)\n",
    "    #print(oldcols)\n",
    "    #print(newcols2)\n",
    "    return result"
   ]
  },
  {
   "cell_type": "code",
   "execution_count": 7,
   "id": "6d764cae",
   "metadata": {},
   "outputs": [],
   "source": [
    "def get_plant_from_prod_name(prodname):\n",
    "    tmp = \"\"\n",
    "    try:\n",
    "        tmp = mapper[prodname]\n",
    "    except KeyError:\n",
    "        #print(\"plant \" + prodname + \" not found!\")\n",
    "        return None, None\n",
    "    blocklist = tmp['list']\n",
    "    block = blocklist[0]\n",
    "    blockid = tmp[block]\n",
    "    \n",
    "    try:\n",
    "        plantidx = bpm.loc[bpm.blockid == blockid, 'plantid'].item()\n",
    "    except ValueError:\n",
    "        return blockid, np.nan\n",
    "    \n",
    "    return blockid, plantidx"
   ]
  },
  {
   "cell_type": "code",
   "execution_count": 8,
   "id": "99caa048-f269-4647-b10c-b86cc448d69a",
   "metadata": {},
   "outputs": [],
   "source": [
    "def get_plant_from_prod_name2(prodname):\n",
    "    tmp = \"\"\n",
    "    try:\n",
    "        tmp = newmapper[prodname]\n",
    "    except KeyError:\n",
    "        #print(\"plant \" + prodname + \" not found!\")\n",
    "        return None, None\n",
    "    seelist = tmp['list']\n",
    "    block = seelist[0]\n",
    "    blockid = tmp[block]\n",
    "    \n",
    "    try:\n",
    "        plantidx = seem.loc[seem.sseid == blockid, 'plantid'].item()\n",
    "    except ValueError:\n",
    "        return blockid, np.nan\n",
    "    \n",
    "    return blockid, plantidx"
   ]
  },
  {
   "cell_type": "code",
   "execution_count": 9,
   "id": "76cb31d0",
   "metadata": {},
   "outputs": [],
   "source": [
    "#bpm = pd.read_csv(\"../basic/block_plant_mapper.csv\")\n",
    "seem = pd.read_csv(\"../basic/plant_sse_mapper.csv\")\n",
    "#bpm['plantid'] = bpm['plantid'].apply(lambda x: str(x).replace('/', '_'))\n",
    "seem['plantid'] = seem['plantid'].apply(lambda x: str(x).replace('/', '_'))"
   ]
  },
  {
   "cell_type": "code",
   "execution_count": 10,
   "id": "2edf86ef",
   "metadata": {},
   "outputs": [],
   "source": [
    "FOLDERS = [os.path.join(BASE_DIR, o) for o in os.listdir(BASE_DIR) if os.path.isdir(os.path.join(BASE_DIR,o))]\n",
    "FOLDERS.sort()\n",
    "FOLDERS = FOLDERS[1:-3]\n",
    "#FOLDERS = FOLDERS[0:1]"
   ]
  },
  {
   "cell_type": "code",
   "execution_count": 11,
   "id": "d7a6ce18",
   "metadata": {},
   "outputs": [],
   "source": [
    "#FOLDERS"
   ]
  },
  {
   "cell_type": "code",
   "execution_count": 12,
   "id": "df67dab1",
   "metadata": {},
   "outputs": [],
   "source": [
    "FILES_L = [get_files_from_folder(f) for f in FOLDERS]\n",
    "FILES = [item for sublist in FILES_L for item in sublist]"
   ]
  },
  {
   "cell_type": "code",
   "execution_count": 13,
   "id": "e3caeda7-3c39-447f-a3c8-f243f0b182f7",
   "metadata": {},
   "outputs": [],
   "source": [
    "#FILES"
   ]
  },
  {
   "cell_type": "code",
   "execution_count": 14,
   "id": "491f4657",
   "metadata": {},
   "outputs": [],
   "source": [
    "#mapper = get_mapper('../production/plantmapper.json')\n",
    "mapper = get_mapper('newmapper.json')\n",
    "newmapper = get_mapper('newmapper.json')"
   ]
  },
  {
   "cell_type": "code",
   "execution_count": 15,
   "id": "b89d66cb",
   "metadata": {},
   "outputs": [],
   "source": [
    "#get_plant_from_prod_name(\"Buschhaus\")"
   ]
  },
  {
   "cell_type": "code",
   "execution_count": 16,
   "id": "4180cfa2-ba2a-4544-82b9-656dbdb5a5ac",
   "metadata": {},
   "outputs": [
    {
     "data": {
      "text/plain": [
       "('BNA0189', '06-05-500-0915123')"
      ]
     },
     "execution_count": 16,
     "metadata": {},
     "output_type": "execute_result"
    }
   ],
   "source": [
    "get_plant_from_prod_name2(\"Datteln\")"
   ]
  },
  {
   "cell_type": "code",
   "execution_count": 17,
   "id": "ee4a5680",
   "metadata": {},
   "outputs": [],
   "source": [
    "#mapper"
   ]
  },
  {
   "cell_type": "code",
   "execution_count": 18,
   "id": "aa65b7bc-dc8e-46cd-bc4a-a591d36a88b0",
   "metadata": {},
   "outputs": [
    {
     "data": {
      "text/html": [
       "<div>\n",
       "<style scoped>\n",
       "    .dataframe tbody tr th:only-of-type {\n",
       "        vertical-align: middle;\n",
       "    }\n",
       "\n",
       "    .dataframe tbody tr th {\n",
       "        vertical-align: top;\n",
       "    }\n",
       "\n",
       "    .dataframe thead th {\n",
       "        text-align: right;\n",
       "    }\n",
       "</style>\n",
       "<table border=\"1\" class=\"dataframe\">\n",
       "  <thead>\n",
       "    <tr style=\"text-align: right;\">\n",
       "      <th></th>\n",
       "      <th>plantid</th>\n",
       "      <th>sseid</th>\n",
       "    </tr>\n",
       "  </thead>\n",
       "  <tbody>\n",
       "    <tr>\n",
       "      <th>0</th>\n",
       "      <td>01-50-01000004838</td>\n",
       "      <td>SEE957285549260</td>\n",
       "    </tr>\n",
       "    <tr>\n",
       "      <th>1</th>\n",
       "      <td>01-50-01000004838</td>\n",
       "      <td>SEE990438768378</td>\n",
       "    </tr>\n",
       "    <tr>\n",
       "      <th>2</th>\n",
       "      <td>01-50-01000004838</td>\n",
       "      <td>SEE966920434281</td>\n",
       "    </tr>\n",
       "    <tr>\n",
       "      <th>3</th>\n",
       "      <td>01-50-01000004838</td>\n",
       "      <td>SEE999539592561</td>\n",
       "    </tr>\n",
       "    <tr>\n",
       "      <th>4</th>\n",
       "      <td>01-50-01000004838</td>\n",
       "      <td>BNA0273</td>\n",
       "    </tr>\n",
       "    <tr>\n",
       "      <th>...</th>\n",
       "      <td>...</td>\n",
       "      <td>...</td>\n",
       "    </tr>\n",
       "    <tr>\n",
       "      <th>940</th>\n",
       "      <td>06-10-00101000</td>\n",
       "      <td>SEE943764365964</td>\n",
       "    </tr>\n",
       "    <tr>\n",
       "      <th>941</th>\n",
       "      <td>01-50-04000082392</td>\n",
       "      <td>SEE953266686481</td>\n",
       "    </tr>\n",
       "    <tr>\n",
       "      <th>942</th>\n",
       "      <td>01-50-04000082392</td>\n",
       "      <td>SEE934591835126</td>\n",
       "    </tr>\n",
       "    <tr>\n",
       "      <th>943</th>\n",
       "      <td>01-50-04000082392</td>\n",
       "      <td>SEE961021885321</td>\n",
       "    </tr>\n",
       "    <tr>\n",
       "      <th>944</th>\n",
       "      <td>01-50-04000082392</td>\n",
       "      <td>SEE923340224045</td>\n",
       "    </tr>\n",
       "  </tbody>\n",
       "</table>\n",
       "<p>945 rows × 2 columns</p>\n",
       "</div>"
      ],
      "text/plain": [
       "               plantid            sseid\n",
       "0    01-50-01000004838  SEE957285549260\n",
       "1    01-50-01000004838  SEE990438768378\n",
       "2    01-50-01000004838  SEE966920434281\n",
       "3    01-50-01000004838  SEE999539592561\n",
       "4    01-50-01000004838          BNA0273\n",
       "..                 ...              ...\n",
       "940     06-10-00101000  SEE943764365964\n",
       "941  01-50-04000082392  SEE953266686481\n",
       "942  01-50-04000082392  SEE934591835126\n",
       "943  01-50-04000082392  SEE961021885321\n",
       "944  01-50-04000082392  SEE923340224045\n",
       "\n",
       "[945 rows x 2 columns]"
      ]
     },
     "execution_count": 18,
     "metadata": {},
     "output_type": "execute_result"
    }
   ],
   "source": [
    "seem"
   ]
  },
  {
   "cell_type": "code",
   "execution_count": 19,
   "id": "f15ee7fd",
   "metadata": {},
   "outputs": [],
   "source": [
    "#FILES"
   ]
  },
  {
   "cell_type": "code",
   "execution_count": 20,
   "id": "944bc878",
   "metadata": {},
   "outputs": [],
   "source": [
    "#FILES"
   ]
  },
  {
   "cell_type": "code",
   "execution_count": 21,
   "id": "193015af",
   "metadata": {},
   "outputs": [],
   "source": [
    "def get_year(fn):\n",
    "    return int(fn.split(\"/\")[1])"
   ]
  },
  {
   "cell_type": "code",
   "execution_count": 22,
   "id": "88c92cae-8220-4fc3-8945-0a3e591ef990",
   "metadata": {},
   "outputs": [
    {
     "data": {
      "text/plain": [
       "'./2015/Abwinden-Asten_201501010000_201512312359_hour_1.csv'"
      ]
     },
     "execution_count": 22,
     "metadata": {},
     "output_type": "execute_result"
    }
   ],
   "source": [
    "FILES[0]"
   ]
  },
  {
   "cell_type": "code",
   "execution_count": 23,
   "id": "4c2d6879-39c1-4a0a-b9ba-ee1f996f6761",
   "metadata": {},
   "outputs": [],
   "source": [
    "for f in FILES:\n",
    "    fn = get_smard_name(f)\n",
    "    #print(fn)"
   ]
  },
  {
   "cell_type": "code",
   "execution_count": 24,
   "id": "3d6a4ec4",
   "metadata": {},
   "outputs": [],
   "source": [
    "prod_mapper = []\n",
    "for f in FILES:\n",
    "    fn = get_smard_name(f)\n",
    "    #print(fn)\n",
    "    blockid, plantid = get_plant_from_prod_name2(fn)\n",
    "    #print(fn or \"\" + \":\" + blockid or \"\" + \"->\" + plantid or \"\")\n",
    "    year = 2015\n",
    "    try:\n",
    "        year = get_year(f)\n",
    "    except IndexError:\n",
    "        print(fn)\n",
    "        pass\n",
    "    prod_mapper.append([f, blockid, plantid, year])"
   ]
  },
  {
   "cell_type": "code",
   "execution_count": 25,
   "id": "b3f0a0bb",
   "metadata": {},
   "outputs": [
    {
     "data": {
      "text/plain": [
       "2015"
      ]
     },
     "execution_count": 25,
     "metadata": {},
     "output_type": "execute_result"
    }
   ],
   "source": [
    "get_year(\"./2015/Boxberg_201501010000_201512312345_71.csv\")"
   ]
  },
  {
   "cell_type": "code",
   "execution_count": 26,
   "id": "5b28fa91-5258-45eb-a632-a1080a69c182",
   "metadata": {},
   "outputs": [],
   "source": [
    "df = pd.read_csv(\"./2021/Isar_2_202101010000_202112312359_stunde_81.csv\", delimiter=\";\", na_values=['-'], thousands='.', decimal=',', parse_dates=[[\"Date\", \"Start\"]], on_bad_lines='skip')"
   ]
  },
  {
   "cell_type": "code",
   "execution_count": 27,
   "id": "e73f3ac4-dfb3-4456-bbfa-8d4345b77f08",
   "metadata": {},
   "outputs": [],
   "source": [
    "df = df.drop('End', axis=1)"
   ]
  },
  {
   "cell_type": "code",
   "execution_count": 28,
   "id": "5d140980-a0fb-4305-81b5-aff33f9627a9",
   "metadata": {},
   "outputs": [],
   "source": [
    "df.fillna(0, inplace=True)\n",
    "df[df.columns[1:]] = df[df.columns[1:]].astype(int)"
   ]
  },
  {
   "cell_type": "code",
   "execution_count": 29,
   "id": "178ddb2d-1f73-491f-a406-111d9084a1e5",
   "metadata": {},
   "outputs": [],
   "source": [
    "df[df.columns[1:]] = df[df.columns[1:]].astype(int)"
   ]
  },
  {
   "cell_type": "code",
   "execution_count": 30,
   "id": "8cec226f-7764-4246-8043-3a43d4b3c3ba",
   "metadata": {},
   "outputs": [],
   "source": [
    "#df"
   ]
  },
  {
   "cell_type": "code",
   "execution_count": 31,
   "id": "7b48081f-6d0e-4791-9cae-325d245a5c33",
   "metadata": {},
   "outputs": [],
   "source": [
    "#df.sort_values(by='Generation_DE KKI 2[MW]')"
   ]
  },
  {
   "cell_type": "code",
   "execution_count": 32,
   "id": "ea4daf1a",
   "metadata": {},
   "outputs": [],
   "source": [
    "#prod_mapper "
   ]
  },
  {
   "cell_type": "code",
   "execution_count": 33,
   "id": "618e37d5",
   "metadata": {},
   "outputs": [],
   "source": [
    "prd_df = pd.DataFrame(prod_mapper, columns = ['file', 'blockid', 'plantid', 'year'])"
   ]
  },
  {
   "cell_type": "code",
   "execution_count": 34,
   "id": "9e1310d3-3381-4142-8ca7-8f34618e302c",
   "metadata": {},
   "outputs": [
    {
     "data": {
      "text/html": [
       "<div>\n",
       "<style scoped>\n",
       "    .dataframe tbody tr th:only-of-type {\n",
       "        vertical-align: middle;\n",
       "    }\n",
       "\n",
       "    .dataframe tbody tr th {\n",
       "        vertical-align: top;\n",
       "    }\n",
       "\n",
       "    .dataframe thead th {\n",
       "        text-align: right;\n",
       "    }\n",
       "</style>\n",
       "<table border=\"1\" class=\"dataframe\">\n",
       "  <thead>\n",
       "    <tr style=\"text-align: right;\">\n",
       "      <th></th>\n",
       "      <th>file</th>\n",
       "      <th>blockid</th>\n",
       "      <th>plantid</th>\n",
       "      <th>year</th>\n",
       "    </tr>\n",
       "  </thead>\n",
       "  <tbody>\n",
       "    <tr>\n",
       "      <th>0</th>\n",
       "      <td>./2015/Abwinden-Asten_201501010000_20151231235...</td>\n",
       "      <td>None</td>\n",
       "      <td>None</td>\n",
       "      <td>2015</td>\n",
       "    </tr>\n",
       "    <tr>\n",
       "      <th>1</th>\n",
       "      <td>./2015/Altenw_rth_201501010000_201512312359_ho...</td>\n",
       "      <td>None</td>\n",
       "      <td>None</td>\n",
       "      <td>2015</td>\n",
       "    </tr>\n",
       "    <tr>\n",
       "      <th>2</th>\n",
       "      <td>./2015/Bergkamen_201501010000_201512312359_hou...</td>\n",
       "      <td>SEE930673793902</td>\n",
       "      <td>06-05-900-0205103</td>\n",
       "      <td>2015</td>\n",
       "    </tr>\n",
       "    <tr>\n",
       "      <th>3</th>\n",
       "      <td>./2015/Boxberg_201501010000_201512312359_hour_...</td>\n",
       "      <td>SEE968582186379</td>\n",
       "      <td>14-70-46630660001</td>\n",
       "      <td>2015</td>\n",
       "    </tr>\n",
       "    <tr>\n",
       "      <th>4</th>\n",
       "      <td>./2015/Braunkohlekraftwerk_Lippendorf_20150101...</td>\n",
       "      <td>SEE966331411864</td>\n",
       "      <td>14-80-00009560000</td>\n",
       "      <td>2015</td>\n",
       "    </tr>\n",
       "    <tr>\n",
       "      <th>...</th>\n",
       "      <td>...</td>\n",
       "      <td>...</td>\n",
       "      <td>...</td>\n",
       "      <td>...</td>\n",
       "    </tr>\n",
       "    <tr>\n",
       "      <th>1001</th>\n",
       "      <td>./2022/Weisweiler_202201010000_202212312359_st...</td>\n",
       "      <td>BNA1022</td>\n",
       "      <td>06-05-300-0877384</td>\n",
       "      <td>2022</td>\n",
       "    </tr>\n",
       "    <tr>\n",
       "      <th>1002</th>\n",
       "      <td>./2022/Wien-Freudenau_202201010000_20221231235...</td>\n",
       "      <td>None</td>\n",
       "      <td>None</td>\n",
       "      <td>2022</td>\n",
       "    </tr>\n",
       "    <tr>\n",
       "      <th>1003</th>\n",
       "      <td>./2022/Witznau_202201010000_202212312359_stund...</td>\n",
       "      <td>SEE919035876514</td>\n",
       "      <td>NaN</td>\n",
       "      <td>2022</td>\n",
       "    </tr>\n",
       "    <tr>\n",
       "      <th>1004</th>\n",
       "      <td>./2022/Ybbs-Persenbeug_202201010000_2022123123...</td>\n",
       "      <td>None</td>\n",
       "      <td>None</td>\n",
       "      <td>2022</td>\n",
       "    </tr>\n",
       "    <tr>\n",
       "      <th>1005</th>\n",
       "      <td>./2022/Zolling_202201010000_202212312359_stund...</td>\n",
       "      <td>SEE949509046600</td>\n",
       "      <td>06-09-100-0003-0003</td>\n",
       "      <td>2022</td>\n",
       "    </tr>\n",
       "  </tbody>\n",
       "</table>\n",
       "<p>1006 rows × 4 columns</p>\n",
       "</div>"
      ],
      "text/plain": [
       "                                                   file          blockid  \\\n",
       "0     ./2015/Abwinden-Asten_201501010000_20151231235...             None   \n",
       "1     ./2015/Altenw_rth_201501010000_201512312359_ho...             None   \n",
       "2     ./2015/Bergkamen_201501010000_201512312359_hou...  SEE930673793902   \n",
       "3     ./2015/Boxberg_201501010000_201512312359_hour_...  SEE968582186379   \n",
       "4     ./2015/Braunkohlekraftwerk_Lippendorf_20150101...  SEE966331411864   \n",
       "...                                                 ...              ...   \n",
       "1001  ./2022/Weisweiler_202201010000_202212312359_st...          BNA1022   \n",
       "1002  ./2022/Wien-Freudenau_202201010000_20221231235...             None   \n",
       "1003  ./2022/Witznau_202201010000_202212312359_stund...  SEE919035876514   \n",
       "1004  ./2022/Ybbs-Persenbeug_202201010000_2022123123...             None   \n",
       "1005  ./2022/Zolling_202201010000_202212312359_stund...  SEE949509046600   \n",
       "\n",
       "                  plantid  year  \n",
       "0                    None  2015  \n",
       "1                    None  2015  \n",
       "2       06-05-900-0205103  2015  \n",
       "3       14-70-46630660001  2015  \n",
       "4       14-80-00009560000  2015  \n",
       "...                   ...   ...  \n",
       "1001    06-05-300-0877384  2022  \n",
       "1002                 None  2022  \n",
       "1003                  NaN  2022  \n",
       "1004                 None  2022  \n",
       "1005  06-09-100-0003-0003  2022  \n",
       "\n",
       "[1006 rows x 4 columns]"
      ]
     },
     "execution_count": 34,
     "metadata": {},
     "output_type": "execute_result"
    }
   ],
   "source": [
    "prd_df"
   ]
  },
  {
   "cell_type": "code",
   "execution_count": 35,
   "id": "4a83790e-6ed4-4427-99bc-6e1b0293a081",
   "metadata": {},
   "outputs": [],
   "source": [
    "dedup = prd_df.dropna(subset=['blockid', 'plantid'])"
   ]
  },
  {
   "cell_type": "code",
   "execution_count": 36,
   "id": "9986f306-388f-425b-b43f-1ade9916bbce",
   "metadata": {},
   "outputs": [],
   "source": [
    "#dedup.loc[dedup[\"year\"] == 2022]"
   ]
  },
  {
   "cell_type": "code",
   "execution_count": 37,
   "id": "e5f1a9ff-5da7-4e5c-ba11-635c97bde22a",
   "metadata": {},
   "outputs": [],
   "source": [
    "#prd_df"
   ]
  },
  {
   "cell_type": "code",
   "execution_count": 38,
   "id": "c7b57fe1",
   "metadata": {},
   "outputs": [],
   "source": [
    "#prd_df"
   ]
  },
  {
   "cell_type": "code",
   "execution_count": 39,
   "id": "f33ecbf8",
   "metadata": {},
   "outputs": [
    {
     "name": "stdout",
     "output_type": "stream",
     "text": [
      "Lichterfelde\n",
      "Lichterfelde\n",
      "Lichterfelde\n",
      "Lichterfelde\n",
      "Lichterfelde\n"
     ]
    }
   ],
   "source": [
    "for index, row in list(dedup.iterrows()):\n",
    "    dfname = row[0]\n",
    "    plantid = str(row[2])\n",
    "    year = str(int(row[3]))\n",
    "    smardname = get_smard_name(dfname)\n",
    "    try:\n",
    "        df = pd.read_csv(dfname, delimiter=\";\", na_values=['-'], thousands='.', decimal=',', parse_dates=[[\"Datum\", \"Anfang\"]], on_bad_lines='skip')\n",
    "        df = df.drop('Ende', axis=1)\n",
    "    except ValueError:\n",
    "        df = pd.read_csv(dfname, delimiter=\";\", na_values=['-'], thousands='.', decimal=',', parse_dates=[[\"Date\", \"Start\"]], on_bad_lines='skip')\n",
    "        df = df.drop('End', axis=1)\n",
    "    try:\n",
    "    #print(smardname)\n",
    "        newdf = convert2plantid(df, smardname)\n",
    "        newdf.fillna(0, inplace=True)\n",
    "        newdf[newdf.columns[1:]] = newdf[newdf.columns[1:]].astype(int)\n",
    "        newdf.to_csv(\"./by_plantid/\" + year + \"/\" + plantid + '.csv', index=False)\n",
    "    except (IndexError, KeyError, ValueError):\n",
    "        print(smardname)\n",
    "        continue\n",
    "    \n",
    "    #try:\n",
    "    #print(dfname, year)\n",
    "    #print(type(year))\n",
    "    \n",
    "    #except TypeError:\n",
    "    #    print(year, smardname)\n",
    "    #print(newdf.dtypes)"
   ]
  },
  {
   "cell_type": "code",
   "execution_count": null,
   "id": "0b20d8fe",
   "metadata": {},
   "outputs": [],
   "source": []
  },
  {
   "cell_type": "code",
   "execution_count": 40,
   "id": "c4826cbe",
   "metadata": {},
   "outputs": [
    {
     "data": {
      "text/plain": [
       "'Bergkamen A'"
      ]
     },
     "execution_count": 40,
     "metadata": {},
     "output_type": "execute_result"
    }
   ],
   "source": [
    "extract_blockidf('Generation_DE Bergkamen A [MW] Originalauflösungen\\n')"
   ]
  },
  {
   "cell_type": "code",
   "execution_count": null,
   "id": "6193ad43",
   "metadata": {},
   "outputs": [],
   "source": []
  },
  {
   "cell_type": "code",
   "execution_count": null,
   "id": "4b9bf1e4-8750-4c2d-abd0-d2c88f664655",
   "metadata": {},
   "outputs": [],
   "source": []
  }
 ],
 "metadata": {
  "kernelspec": {
   "display_name": "Python 3 (ipykernel)",
   "language": "python",
   "name": "python3"
  },
  "language_info": {
   "codemirror_mode": {
    "name": "ipython",
    "version": 3
   },
   "file_extension": ".py",
   "mimetype": "text/x-python",
   "name": "python",
   "nbconvert_exporter": "python",
   "pygments_lexer": "ipython3",
   "version": "3.11.3"
  }
 },
 "nbformat": 4,
 "nbformat_minor": 5
}
