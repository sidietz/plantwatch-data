{
 "cells": [
  {
   "cell_type": "code",
   "execution_count": 74,
   "id": "9c60fe2d",
   "metadata": {},
   "outputs": [],
   "source": [
    "import pandas as pd\n",
    "#from pandas.io.parsers import ParserError\n",
    "import numpy as np\n",
    "from helper import get_mapper\n",
    "import json\n",
    "import os\n",
    "import re"
   ]
  },
  {
   "cell_type": "code",
   "execution_count": 36,
   "id": "196dc141",
   "metadata": {},
   "outputs": [],
   "source": [
    "from os import listdir, stat\n",
    "from os.path import isfile, join\n",
    "BASE_DIR = \".\"\n",
    "MIN_SIZE = 512"
   ]
  },
  {
   "cell_type": "code",
   "execution_count": 37,
   "id": "085daccb",
   "metadata": {},
   "outputs": [],
   "source": [
    "def extract_blockidf(fullname):\n",
    "    return fullname.split(\"Generation_DE \")[1].rsplit('[MW]')[0].strip()\n",
    "\n",
    "def get_smard_name(f):\n",
    "    return f.rsplit(\"/\")[2].rsplit(\"_\", 3)[0].strip()"
   ]
  },
  {
   "cell_type": "code",
   "execution_count": 38,
   "id": "446d4f3f",
   "metadata": {},
   "outputs": [],
   "source": [
    "def get_files_from_folder(folder):\n",
    "    onlyfiles = [folder + \"/\" + f for f in listdir(folder) if isfile(join(folder, f))]\n",
    "    onlyfiles.sort()\n",
    "    files = [f for f in onlyfiles if stat(f).st_size > MIN_SIZE]\n",
    "    return files"
   ]
  },
  {
   "cell_type": "code",
   "execution_count": 39,
   "id": "8c186557",
   "metadata": {},
   "outputs": [],
   "source": [
    "def convert2plantid(df, plantname):\n",
    "    oldcols = list(df.columns)\n",
    "    newcols = [extract_blockidf(x) for x in list(df.columns)[1:]]\n",
    "    newcols2 = ['produced_at'] + [mapper[plantname][x] for x in newcols]\n",
    "    test = dict(zip(oldcols, newcols2))\n",
    "    result = df.rename(columns=test)\n",
    "    #print(oldcols)\n",
    "    #print(newcols2)\n",
    "    return result"
   ]
  },
  {
   "cell_type": "code",
   "execution_count": 40,
   "id": "6d764cae",
   "metadata": {},
   "outputs": [],
   "source": [
    "def get_plant_from_prod_name(prodname):\n",
    "    tmp = \"\"\n",
    "    try:\n",
    "        tmp = mapper[prodname]\n",
    "    except KeyError:\n",
    "        print(\"plant \" + prodname + \" not found!\")\n",
    "        return None, None\n",
    "    blocklist = tmp['list']\n",
    "    block = blocklist[0]\n",
    "    blockid = tmp[block]\n",
    "    \n",
    "    try:\n",
    "        plantidx = bpm.loc[bpm.blockid == blockid, 'plantid'].item()\n",
    "    except ValueError:\n",
    "        return blockid, np.nan\n",
    "    \n",
    "    return blockid, plantidx"
   ]
  },
  {
   "cell_type": "code",
   "execution_count": 41,
   "id": "76cb31d0",
   "metadata": {},
   "outputs": [],
   "source": [
    "bpm = pd.read_csv(\"../basic/block_plant_mapper.csv\")\n",
    "bpm['plantid'] = bpm['plantid'].apply(lambda x: str(x).replace('/', '_'))"
   ]
  },
  {
   "cell_type": "code",
   "execution_count": 42,
   "id": "2edf86ef",
   "metadata": {},
   "outputs": [],
   "source": [
    "FOLDERS = [os.path.join(BASE_DIR, o) for o in os.listdir(BASE_DIR) if os.path.isdir(os.path.join(BASE_DIR,o))]\n",
    "FOLDERS.sort()\n",
    "FOLDERS = FOLDERS[1:-3]"
   ]
  },
  {
   "cell_type": "code",
   "execution_count": 43,
   "id": "d7a6ce18",
   "metadata": {},
   "outputs": [
    {
     "data": {
      "text/plain": [
       "['./2015', './2016', './2017', './2018', './2019', './2020', './2021']"
      ]
     },
     "execution_count": 43,
     "metadata": {},
     "output_type": "execute_result"
    }
   ],
   "source": [
    "FOLDERS"
   ]
  },
  {
   "cell_type": "code",
   "execution_count": 44,
   "id": "df67dab1",
   "metadata": {},
   "outputs": [],
   "source": [
    "FILES_L = [get_files_from_folder(f) for f in FOLDERS]\n",
    "FILES = [item for sublist in FILES_L for item in sublist]"
   ]
  },
  {
   "cell_type": "code",
   "execution_count": 45,
   "id": "491f4657",
   "metadata": {},
   "outputs": [],
   "source": [
    "mapper = get_mapper('../production/plantmapper.json')"
   ]
  },
  {
   "cell_type": "code",
   "execution_count": 46,
   "id": "ee4a5680",
   "metadata": {},
   "outputs": [],
   "source": [
    "#mapper"
   ]
  },
  {
   "cell_type": "code",
   "execution_count": 47,
   "id": "ce737131",
   "metadata": {},
   "outputs": [],
   "source": [
    "#bpm"
   ]
  },
  {
   "cell_type": "code",
   "execution_count": 48,
   "id": "f15ee7fd",
   "metadata": {},
   "outputs": [],
   "source": [
    "#FILES"
   ]
  },
  {
   "cell_type": "code",
   "execution_count": null,
   "id": "944bc878",
   "metadata": {},
   "outputs": [],
   "source": []
  },
  {
   "cell_type": "code",
   "execution_count": 49,
   "id": "193015af",
   "metadata": {},
   "outputs": [],
   "source": [
    "def get_year(fn):\n",
    "    return int(fn.split(\"/\")[1])"
   ]
  },
  {
   "cell_type": "code",
   "execution_count": 50,
   "id": "3d6a4ec4",
   "metadata": {},
   "outputs": [
    {
     "name": "stdout",
     "output_type": "stream",
     "text": [
      "plant Kraftwerk_K_htai not found!\n",
      "plant Pumpspeicherkraftwerk_Vianden not found!\n",
      "plant Wilhelmshaven not found!\n",
      "plant Kraftwerk_K_htai not found!\n",
      "plant Pumpspeicherkraftwerk_Vianden not found!\n",
      "plant Wilhelmshaven not found!\n",
      "plant Kraftwerk_K_htai not found!\n",
      "plant Pumpspeicherkraftwerk_Vianden not found!\n",
      "plant Wilhelmshaven not found!\n",
      "plant Kraftwerk_K_htai not found!\n",
      "plant Pumpspeicherkraftwerk_Vianden not found!\n",
      "plant Wilhelmshaven not found!\n",
      "plant Kraftwerk_K_htai not found!\n",
      "plant Pumpspeicherkraftwerk_Vianden not found!\n",
      "plant Wilhelmshaven not found!\n",
      "plant Abwinden-Asten not found!\n",
      "plant Altenw_rth not found!\n",
      "plant Donaustadt not found!\n",
      "plant Fernheizkraftwerk_Mellach not found!\n",
      "plant Gerlos not found!\n",
      "plant Greifenstein not found!\n",
      "plant Gro_kraftwerk_Mannheim not found!\n",
      "plant Gro_kraftwerk_Mannheim not found!\n",
      "plant Gro_kraftwerk_Mannheim not found!\n",
      "plant GuD_Marzahn not found!\n",
      "plant H_usling not found!\n",
      "plant Kaprun_Hauptstufe not found!\n",
      "plant Kaprun_Limberg_II not found!\n",
      "plant Kaprun_Oberstufe not found!\n",
      "plant Kraftwerk_K_htai not found!\n",
      "plant Laufenburg not found!\n",
      "plant Linz-S_d_Fernheizkraftwerk not found!\n",
      "plant Malta_Hauptstufe not found!\n",
      "plant Malta_Oberstufe not found!\n",
      "plant Mayrhofen not found!\n",
      "plant Melk not found!\n",
      "plant Ottensheim-Wilhering not found!\n",
      "plant Pumpspeicherkraftwerk_Vianden not found!\n",
      "plant Riedersbach not found!\n",
      "plant Ro_hag not found!\n",
      "plant Schwarzach not found!\n",
      "plant Timelkam_ not found!\n",
      "plant Vorarlberger_Illwerke_AG__Obervermuntwerk_II_ not found!\n",
      "plant Wallsee-Mitterkirchen not found!\n",
      "plant Wien-Freudenau not found!\n",
      "plant Wilhelmshaven not found!\n",
      "plant Ybbs-Persenbeug not found!\n",
      "plant Abwinden-Asten not found!\n",
      "plant Altenw_rth not found!\n",
      "plant Donaustadt not found!\n",
      "plant Fernheizkraftwerk_Mellach not found!\n",
      "plant Gerlos not found!\n",
      "plant Greifenstein not found!\n",
      "plant Gro_kraftwerk_Mannheim not found!\n",
      "plant Gro_kraftwerk_Mannheim not found!\n",
      "plant Gro_kraftwerk_Mannheim not found!\n",
      "plant GuD_Marzahn not found!\n",
      "plant H_usling not found!\n",
      "plant Kaprun_Hauptstufe not found!\n",
      "plant Kaprun_Limberg_II not found!\n",
      "plant Kaprun_Oberstufe not found!\n",
      "plant Kraftwerk_K_htai not found!\n",
      "plant Laufenburg not found!\n",
      "plant Linz-S_d_Fernheizkraftwerk not found!\n",
      "plant Malta_Hauptstufe not found!\n",
      "plant Malta_Oberstufe not found!\n",
      "plant Mayrhofen not found!\n",
      "plant Melk not found!\n",
      "plant Ottensheim-Wilhering not found!\n",
      "plant Pumpspeicherkraftwerk_Vianden not found!\n",
      "plant Riedersbach not found!\n",
      "plant Ro_hag not found!\n",
      "plant Schwarzach not found!\n",
      "plant Timelkam_ not found!\n",
      "plant Vorarlberger_Illwerke_AG__Obervermuntwerk_II_ not found!\n",
      "plant Wallsee-Mitterkirchen not found!\n",
      "plant Wien-Freudenau not found!\n",
      "plant Wilhelmshaven not found!\n",
      "plant Ybbs-Persenbeug not found!\n"
     ]
    }
   ],
   "source": [
    "prod_mapper = []\n",
    "for f in FILES:\n",
    "    fn = get_smard_name(f)\n",
    "    #print(fn)\n",
    "    blockid, plantid = get_plant_from_prod_name(fn)\n",
    "    year = 2015\n",
    "    try:\n",
    "        year = get_year(f)\n",
    "    except IndexError:\n",
    "        print(fn)\n",
    "    prod_mapper.append([f, blockid, plantid, year])"
   ]
  },
  {
   "cell_type": "code",
   "execution_count": 51,
   "id": "b89d66cb",
   "metadata": {},
   "outputs": [
    {
     "data": {
      "text/plain": [
       "('BNA0439', '03-01-01012110180')"
      ]
     },
     "execution_count": 51,
     "metadata": {},
     "output_type": "execute_result"
    }
   ],
   "source": [
    "get_plant_from_prod_name(\"Buschhaus\")"
   ]
  },
  {
   "cell_type": "code",
   "execution_count": 52,
   "id": "b3f0a0bb",
   "metadata": {},
   "outputs": [
    {
     "data": {
      "text/plain": [
       "2015"
      ]
     },
     "execution_count": 52,
     "metadata": {},
     "output_type": "execute_result"
    }
   ],
   "source": [
    "get_year(\"./2015/Boxberg_201501010000_201512312345_71.csv\")"
   ]
  },
  {
   "cell_type": "code",
   "execution_count": 96,
   "id": "5b28fa91-5258-45eb-a632-a1080a69c182",
   "metadata": {},
   "outputs": [],
   "source": [
    "df = pd.read_csv(\"./2021/Isar_2_202101010000_202112312359_68.csv\", delimiter=\";\", na_values=['-'], thousands='.', decimal=',', parse_dates=[[\"Datum\", \"Uhrzeit\"]], on_bad_lines='skip')"
   ]
  },
  {
   "cell_type": "code",
   "execution_count": 97,
   "id": "5d140980-a0fb-4305-81b5-aff33f9627a9",
   "metadata": {},
   "outputs": [],
   "source": [
    "df.fillna(0, inplace=True)\n",
    "df[df.columns[1:]] = df[df.columns[1:]].astype(int)"
   ]
  },
  {
   "cell_type": "code",
   "execution_count": 99,
   "id": "178ddb2d-1f73-491f-a406-111d9084a1e5",
   "metadata": {},
   "outputs": [],
   "source": [
    "df[df.columns[1:]] = df[df.columns[1:]].astype(int)"
   ]
  },
  {
   "cell_type": "code",
   "execution_count": 101,
   "id": "8cec226f-7764-4246-8043-3a43d4b3c3ba",
   "metadata": {},
   "outputs": [
    {
     "data": {
      "text/html": [
       "<div>\n",
       "<style scoped>\n",
       "    .dataframe tbody tr th:only-of-type {\n",
       "        vertical-align: middle;\n",
       "    }\n",
       "\n",
       "    .dataframe tbody tr th {\n",
       "        vertical-align: top;\n",
       "    }\n",
       "\n",
       "    .dataframe thead th {\n",
       "        text-align: right;\n",
       "    }\n",
       "</style>\n",
       "<table border=\"1\" class=\"dataframe\">\n",
       "  <thead>\n",
       "    <tr style=\"text-align: right;\">\n",
       "      <th></th>\n",
       "      <th>Datum_Uhrzeit</th>\n",
       "      <th>Generation_DE KKI 2[MW]</th>\n",
       "    </tr>\n",
       "  </thead>\n",
       "  <tbody>\n",
       "    <tr>\n",
       "      <th>0</th>\n",
       "      <td>2021-01-01 00:00:00</td>\n",
       "      <td>1423</td>\n",
       "    </tr>\n",
       "    <tr>\n",
       "      <th>1</th>\n",
       "      <td>2021-01-01 01:00:00</td>\n",
       "      <td>1424</td>\n",
       "    </tr>\n",
       "    <tr>\n",
       "      <th>2</th>\n",
       "      <td>2021-01-01 02:00:00</td>\n",
       "      <td>1423</td>\n",
       "    </tr>\n",
       "    <tr>\n",
       "      <th>3</th>\n",
       "      <td>2021-01-01 03:00:00</td>\n",
       "      <td>1423</td>\n",
       "    </tr>\n",
       "    <tr>\n",
       "      <th>4</th>\n",
       "      <td>2021-01-01 04:00:00</td>\n",
       "      <td>1428</td>\n",
       "    </tr>\n",
       "    <tr>\n",
       "      <th>...</th>\n",
       "      <td>...</td>\n",
       "      <td>...</td>\n",
       "    </tr>\n",
       "    <tr>\n",
       "      <th>8755</th>\n",
       "      <td>2021-12-31 19:00:00</td>\n",
       "      <td>1358</td>\n",
       "    </tr>\n",
       "    <tr>\n",
       "      <th>8756</th>\n",
       "      <td>2021-12-31 20:00:00</td>\n",
       "      <td>1244</td>\n",
       "    </tr>\n",
       "    <tr>\n",
       "      <th>8757</th>\n",
       "      <td>2021-12-31 21:00:00</td>\n",
       "      <td>1064</td>\n",
       "    </tr>\n",
       "    <tr>\n",
       "      <th>8758</th>\n",
       "      <td>2021-12-31 22:00:00</td>\n",
       "      <td>1108</td>\n",
       "    </tr>\n",
       "    <tr>\n",
       "      <th>8759</th>\n",
       "      <td>2021-12-31 23:00:00</td>\n",
       "      <td>1076</td>\n",
       "    </tr>\n",
       "  </tbody>\n",
       "</table>\n",
       "<p>8760 rows × 2 columns</p>\n",
       "</div>"
      ],
      "text/plain": [
       "           Datum_Uhrzeit  Generation_DE KKI 2[MW]\n",
       "0    2021-01-01 00:00:00                     1423\n",
       "1    2021-01-01 01:00:00                     1424\n",
       "2    2021-01-01 02:00:00                     1423\n",
       "3    2021-01-01 03:00:00                     1423\n",
       "4    2021-01-01 04:00:00                     1428\n",
       "...                  ...                      ...\n",
       "8755 2021-12-31 19:00:00                     1358\n",
       "8756 2021-12-31 20:00:00                     1244\n",
       "8757 2021-12-31 21:00:00                     1064\n",
       "8758 2021-12-31 22:00:00                     1108\n",
       "8759 2021-12-31 23:00:00                     1076\n",
       "\n",
       "[8760 rows x 2 columns]"
      ]
     },
     "execution_count": 101,
     "metadata": {},
     "output_type": "execute_result"
    }
   ],
   "source": [
    "df"
   ]
  },
  {
   "cell_type": "code",
   "execution_count": 93,
   "id": "7b48081f-6d0e-4791-9cae-325d245a5c33",
   "metadata": {},
   "outputs": [
    {
     "data": {
      "text/html": [
       "<div>\n",
       "<style scoped>\n",
       "    .dataframe tbody tr th:only-of-type {\n",
       "        vertical-align: middle;\n",
       "    }\n",
       "\n",
       "    .dataframe tbody tr th {\n",
       "        vertical-align: top;\n",
       "    }\n",
       "\n",
       "    .dataframe thead th {\n",
       "        text-align: right;\n",
       "    }\n",
       "</style>\n",
       "<table border=\"1\" class=\"dataframe\">\n",
       "  <thead>\n",
       "    <tr style=\"text-align: right;\">\n",
       "      <th></th>\n",
       "      <th>Datum_Uhrzeit</th>\n",
       "      <th>Generation_DE KKI 2[MW]</th>\n",
       "    </tr>\n",
       "  </thead>\n",
       "  <tbody>\n",
       "    <tr>\n",
       "      <th>6565</th>\n",
       "      <td>2021-01-10 14:00:00</td>\n",
       "      <td>0.0</td>\n",
       "    </tr>\n",
       "    <tr>\n",
       "      <th>6631</th>\n",
       "      <td>2021-04-10 08:00:00</td>\n",
       "      <td>0.0</td>\n",
       "    </tr>\n",
       "    <tr>\n",
       "      <th>6630</th>\n",
       "      <td>2021-04-10 07:00:00</td>\n",
       "      <td>0.0</td>\n",
       "    </tr>\n",
       "    <tr>\n",
       "      <th>6629</th>\n",
       "      <td>2021-04-10 06:00:00</td>\n",
       "      <td>0.0</td>\n",
       "    </tr>\n",
       "    <tr>\n",
       "      <th>6628</th>\n",
       "      <td>2021-04-10 05:00:00</td>\n",
       "      <td>0.0</td>\n",
       "    </tr>\n",
       "    <tr>\n",
       "      <th>...</th>\n",
       "      <td>...</td>\n",
       "      <td>...</td>\n",
       "    </tr>\n",
       "    <tr>\n",
       "      <th>1878</th>\n",
       "      <td>2021-03-20 06:00:00</td>\n",
       "      <td>1436.0</td>\n",
       "    </tr>\n",
       "    <tr>\n",
       "      <th>1883</th>\n",
       "      <td>2021-03-20 11:00:00</td>\n",
       "      <td>1437.0</td>\n",
       "    </tr>\n",
       "    <tr>\n",
       "      <th>941</th>\n",
       "      <td>2021-09-02 05:00:00</td>\n",
       "      <td>1437.0</td>\n",
       "    </tr>\n",
       "    <tr>\n",
       "      <th>950</th>\n",
       "      <td>2021-09-02 14:00:00</td>\n",
       "      <td>1437.0</td>\n",
       "    </tr>\n",
       "    <tr>\n",
       "      <th>1606</th>\n",
       "      <td>2021-08-03 22:00:00</td>\n",
       "      <td>1437.0</td>\n",
       "    </tr>\n",
       "  </tbody>\n",
       "</table>\n",
       "<p>8760 rows × 2 columns</p>\n",
       "</div>"
      ],
      "text/plain": [
       "           Datum_Uhrzeit  Generation_DE KKI 2[MW]\n",
       "6565 2021-01-10 14:00:00                      0.0\n",
       "6631 2021-04-10 08:00:00                      0.0\n",
       "6630 2021-04-10 07:00:00                      0.0\n",
       "6629 2021-04-10 06:00:00                      0.0\n",
       "6628 2021-04-10 05:00:00                      0.0\n",
       "...                  ...                      ...\n",
       "1878 2021-03-20 06:00:00                   1436.0\n",
       "1883 2021-03-20 11:00:00                   1437.0\n",
       "941  2021-09-02 05:00:00                   1437.0\n",
       "950  2021-09-02 14:00:00                   1437.0\n",
       "1606 2021-08-03 22:00:00                   1437.0\n",
       "\n",
       "[8760 rows x 2 columns]"
      ]
     },
     "execution_count": 93,
     "metadata": {},
     "output_type": "execute_result"
    }
   ],
   "source": [
    "df.sort_values(by='Generation_DE KKI 2[MW]')"
   ]
  },
  {
   "cell_type": "code",
   "execution_count": 53,
   "id": "ea4daf1a",
   "metadata": {},
   "outputs": [],
   "source": [
    "#prod_mapper "
   ]
  },
  {
   "cell_type": "code",
   "execution_count": 54,
   "id": "618e37d5",
   "metadata": {},
   "outputs": [],
   "source": [
    "prd_df = pd.DataFrame(prod_mapper, columns = ['file', 'blockid', 'plantid', 'year'])"
   ]
  },
  {
   "cell_type": "code",
   "execution_count": 55,
   "id": "c7b57fe1",
   "metadata": {},
   "outputs": [],
   "source": [
    "#prd_df"
   ]
  },
  {
   "cell_type": "code",
   "execution_count": 104,
   "id": "f33ecbf8",
   "metadata": {},
   "outputs": [
    {
     "name": "stdout",
     "output_type": "stream",
     "text": [
      "Heizkraftwerk_Dresden-Nossener_Br_cke\n",
      "Kraftwerk_BASF_Ludwigshafen_Mitte\n",
      "Kraftwerk_K_htai\n",
      "Pumpspeicherkraftwerk_Vianden\n",
      "Wilhelmshaven\n",
      "Heizkraftwerk_Dresden-Nossener_Br_cke\n",
      "Kraftwerk_BASF_Ludwigshafen_Mitte\n",
      "Kraftwerk_K_htai\n",
      "Pumpspeicherkraftwerk_Vianden\n",
      "Wilhelmshaven\n",
      "Heizkraftwerk_Dresden-Nossener_Br_cke\n",
      "Kraftwerk_BASF_Ludwigshafen_Mitte\n",
      "Kraftwerk_K_htai\n",
      "Pumpspeicherkraftwerk_Vianden\n",
      "Wilhelmshaven\n",
      "Heizkraftwerk_Dresden-Nossener_Br_cke\n",
      "Kraftwerk_BASF_Ludwigshafen_Mitte\n",
      "Kraftwerk_K_htai\n",
      "Pumpspeicherkraftwerk_Vianden\n",
      "Wilhelmshaven\n",
      "Heizkraftwerk_Dresden-Nossener_Br_cke\n",
      "Kraftwerk_BASF_Ludwigshafen_Mitte\n",
      "Kraftwerk_K_htai\n",
      "Pumpspeicherkraftwerk_Vianden\n",
      "Wilhelmshaven\n",
      "Abwinden-Asten\n",
      "Altenw_rth\n",
      "Donaustadt\n",
      "Fernheizkraftwerk_Mellach\n",
      "Gerlos\n",
      "Greifenstein\n",
      "Gro_kraftwerk_Mannheim\n",
      "Gro_kraftwerk_Mannheim\n",
      "Gro_kraftwerk_Mannheim\n",
      "GuD_Marzahn\n",
      "H_usling\n",
      "Heizkraftwerk_Dresden-Nossener_Br_cke\n",
      "Kaprun_Hauptstufe\n",
      "Kaprun_Limberg_II\n",
      "Kaprun_Oberstufe\n",
      "Kraftwerk_BASF_Ludwigshafen_Mitte\n",
      "Kraftwerk_K_htai\n",
      "Laufenburg\n",
      "Linz-S_d_Fernheizkraftwerk\n",
      "Malta_Hauptstufe\n",
      "Malta_Oberstufe\n",
      "Mayrhofen\n",
      "Melk\n",
      "Ottensheim-Wilhering\n",
      "Pumpspeicherkraftwerk_Vianden\n",
      "Riedersbach\n",
      "Ro_hag\n",
      "Schwarzach\n",
      "Timelkam_\n",
      "Vorarlberger_Illwerke_AG__Obervermuntwerk_II_\n",
      "Wallsee-Mitterkirchen\n",
      "Wien-Freudenau\n",
      "Wilhelmshaven\n",
      "Ybbs-Persenbeug\n",
      "Abwinden-Asten\n",
      "Altenw_rth\n",
      "Donaustadt\n",
      "Fernheizkraftwerk_Mellach\n",
      "Gerlos\n",
      "Greifenstein\n",
      "Gro_kraftwerk_Mannheim\n",
      "Gro_kraftwerk_Mannheim\n",
      "Gro_kraftwerk_Mannheim\n",
      "GuD_Marzahn\n",
      "H_usling\n",
      "Heizkraftwerk_Dresden-Nossener_Br_cke\n",
      "Kaprun_Hauptstufe\n",
      "Kaprun_Limberg_II\n",
      "Kaprun_Oberstufe\n",
      "Kraftwerk_BASF_Ludwigshafen_Mitte\n",
      "Kraftwerk_K_htai\n",
      "Laufenburg\n",
      "Linz-S_d_Fernheizkraftwerk\n",
      "Malta_Hauptstufe\n",
      "Malta_Oberstufe\n",
      "Mayrhofen\n",
      "Melk\n",
      "Ottensheim-Wilhering\n",
      "Pumpspeicherkraftwerk_Vianden\n",
      "Riedersbach\n",
      "Ro_hag\n",
      "Schwarzach\n",
      "Timelkam_\n",
      "Vorarlberger_Illwerke_AG__Obervermuntwerk_II_\n",
      "Wallsee-Mitterkirchen\n",
      "Wien-Freudenau\n",
      "Wilhelmshaven\n",
      "Ybbs-Persenbeug\n"
     ]
    }
   ],
   "source": [
    "for index, row in list(prd_df.iterrows()):\n",
    "    dfname = row[0]\n",
    "    plantid = str(row[2])\n",
    "    year = str(int(row[3]))\n",
    "    smardname = get_smard_name(dfname)\n",
    "    try:\n",
    "        df = pd.read_csv(dfname, delimiter=\";\", na_values=['-'], thousands='.', decimal=',', parse_dates=[[\"Datum\", \"Uhrzeit\"]], on_bad_lines='skip')\n",
    "    except ValueError:\n",
    "        df = pd.read_csv(dfname, delimiter=\";\", na_values=['-'], thousands='.', decimal=',', parse_dates=[[\"Date\", \"Time of day\"]], on_bad_lines='skip')\n",
    "    try:\n",
    "        newdf = convert2plantid(df, smardname)\n",
    "    except (IndexError, KeyError):\n",
    "        print(smardname)\n",
    "        continue\n",
    "    newdf.fillna(0, inplace=True)\n",
    "    newdf[newdf.columns[1:]] = newdf[newdf.columns[1:]].astype(int)\n",
    "    #try:\n",
    "    #print(dfname, year)\n",
    "    #print(type(year))\n",
    "    newdf.to_csv(\"./by_plantid/\" + year + \"/\" + plantid + '.csv', index=False)\n",
    "    #except TypeError:\n",
    "    #    print(year, smardname)\n",
    "    #print(newdf.dtypes)"
   ]
  },
  {
   "cell_type": "code",
   "execution_count": null,
   "id": "0b20d8fe",
   "metadata": {},
   "outputs": [],
   "source": []
  },
  {
   "cell_type": "code",
   "execution_count": 105,
   "id": "c4826cbe",
   "metadata": {},
   "outputs": [
    {
     "data": {
      "text/plain": [
       "'Q'"
      ]
     },
     "execution_count": 105,
     "metadata": {},
     "output_type": "execute_result"
    }
   ],
   "source": [
    "extract_blockidf('Generation_DE Q[MW]')"
   ]
  },
  {
   "cell_type": "code",
   "execution_count": null,
   "id": "6193ad43",
   "metadata": {},
   "outputs": [],
   "source": []
  },
  {
   "cell_type": "code",
   "execution_count": null,
   "id": "4b9bf1e4-8750-4c2d-abd0-d2c88f664655",
   "metadata": {},
   "outputs": [],
   "source": []
  }
 ],
 "metadata": {
  "kernelspec": {
   "display_name": "Python 3 (ipykernel)",
   "language": "python",
   "name": "python3"
  },
  "language_info": {
   "codemirror_mode": {
    "name": "ipython",
    "version": 3
   },
   "file_extension": ".py",
   "mimetype": "text/x-python",
   "name": "python",
   "nbconvert_exporter": "python",
   "pygments_lexer": "ipython3",
   "version": "3.9.7"
  }
 },
 "nbformat": 4,
 "nbformat_minor": 5
}
