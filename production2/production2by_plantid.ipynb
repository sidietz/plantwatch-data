{
 "cells": [
  {
   "cell_type": "code",
   "execution_count": 6,
   "id": "9c60fe2d",
   "metadata": {},
   "outputs": [],
   "source": [
    "import pandas as pd\n",
    "#from pandas.io.parsers import ParserError\n",
    "import numpy as np\n",
    "from helper import get_mapper\n",
    "import json\n",
    "import os\n",
    "import re"
   ]
  },
  {
   "cell_type": "code",
   "execution_count": 7,
   "id": "196dc141",
   "metadata": {},
   "outputs": [],
   "source": [
    "from os import listdir, stat\n",
    "from os.path import isfile, join\n",
    "BASE_DIR = \".\"\n",
    "MIN_SIZE = 512"
   ]
  },
  {
   "cell_type": "code",
   "execution_count": 8,
   "id": "085daccb",
   "metadata": {},
   "outputs": [],
   "source": [
    "def extract_blockidf(fullname):\n",
    "    return fullname.split(\"Generation_DE \")[1].rsplit('[MW]')[0].strip()\n",
    "\n",
    "def get_smard_name(f):\n",
    "    return f.rsplit(\"/\")[2].rsplit(\"_\", 3)[0].strip()"
   ]
  },
  {
   "cell_type": "code",
   "execution_count": 9,
   "id": "446d4f3f",
   "metadata": {},
   "outputs": [],
   "source": [
    "def get_files_from_folder(folder):\n",
    "    onlyfiles = [folder + \"/\" + f for f in listdir(folder) if isfile(join(folder, f))]\n",
    "    onlyfiles.sort()\n",
    "    files = [f for f in onlyfiles if stat(f).st_size > MIN_SIZE]\n",
    "    return files"
   ]
  },
  {
   "cell_type": "code",
   "execution_count": 10,
   "id": "8c186557",
   "metadata": {},
   "outputs": [],
   "source": [
    "def convert2plantid(df, plantname):\n",
    "    oldcols = list(df.columns)\n",
    "    newcols = [extract_blockidf(x) for x in list(df.columns)[1:]]\n",
    "    newcols2 = ['produced_at'] + [mapper[plantname][x] for x in newcols]\n",
    "    test = dict(zip(oldcols, newcols2))\n",
    "    result = df.rename(columns=test)\n",
    "    #print(oldcols)\n",
    "    #print(newcols2)\n",
    "    return result"
   ]
  },
  {
   "cell_type": "code",
   "execution_count": 11,
   "id": "6d764cae",
   "metadata": {},
   "outputs": [],
   "source": [
    "def get_plant_from_prod_name(prodname):\n",
    "    tmp = \"\"\n",
    "    try:\n",
    "        tmp = mapper[prodname]\n",
    "    except KeyError:\n",
    "        print(\"plant \" + prodname + \" not found!\")\n",
    "        return None, None\n",
    "    blocklist = tmp['list']\n",
    "    block = blocklist[0]\n",
    "    blockid = tmp[block]\n",
    "    \n",
    "    try:\n",
    "        plantidx = bpm.loc[bpm.blockid == blockid, 'plantid'].item()\n",
    "    except ValueError:\n",
    "        return blockid, np.nan\n",
    "    \n",
    "    return blockid, plantidx"
   ]
  },
  {
   "cell_type": "code",
   "execution_count": 12,
   "id": "76cb31d0",
   "metadata": {},
   "outputs": [],
   "source": [
    "bpm = pd.read_csv(\"../basic/block_plant_mapper.csv\")\n",
    "bpm['plantid'] = bpm['plantid'].apply(lambda x: str(x).replace('/', '_'))"
   ]
  },
  {
   "cell_type": "code",
   "execution_count": 13,
   "id": "2edf86ef",
   "metadata": {},
   "outputs": [],
   "source": [
    "FOLDERS = [os.path.join(BASE_DIR, o) for o in os.listdir(BASE_DIR) if os.path.isdir(os.path.join(BASE_DIR,o))]\n",
    "FOLDERS.sort()\n",
    "FOLDERS = FOLDERS[1:-5]\n"
   ]
  },
  {
   "cell_type": "code",
   "execution_count": 14,
   "id": "df67dab1",
   "metadata": {},
   "outputs": [],
   "source": [
    "FILES_L = [get_files_from_folder(f) for f in FOLDERS]\n",
    "FILES = [item for sublist in FILES_L for item in sublist]"
   ]
  },
  {
   "cell_type": "code",
   "execution_count": 15,
   "id": "d7a6ce18",
   "metadata": {},
   "outputs": [
    {
     "data": {
      "text/plain": [
       "['./2015', './2016', './2017', './2018', './2019', './2020']"
      ]
     },
     "execution_count": 15,
     "metadata": {},
     "output_type": "execute_result"
    }
   ],
   "source": [
    "FOLDERS"
   ]
  },
  {
   "cell_type": "code",
   "execution_count": 16,
   "id": "491f4657",
   "metadata": {},
   "outputs": [],
   "source": [
    "mapper = get_mapper('../production/plantmapper.json')"
   ]
  },
  {
   "cell_type": "code",
   "execution_count": 22,
   "id": "ee4a5680",
   "metadata": {},
   "outputs": [],
   "source": [
    "#mapper"
   ]
  },
  {
   "cell_type": "code",
   "execution_count": 18,
   "id": "ce737131",
   "metadata": {},
   "outputs": [],
   "source": [
    "#bpm"
   ]
  },
  {
   "cell_type": "code",
   "execution_count": 19,
   "id": "f15ee7fd",
   "metadata": {},
   "outputs": [],
   "source": [
    "#FILES"
   ]
  },
  {
   "cell_type": "code",
   "execution_count": null,
   "id": "944bc878",
   "metadata": {},
   "outputs": [],
   "source": []
  },
  {
   "cell_type": "code",
   "execution_count": 23,
   "id": "193015af",
   "metadata": {},
   "outputs": [],
   "source": [
    "def get_year(fn):\n",
    "    return int(fn.split(\"/\")[1])"
   ]
  },
  {
   "cell_type": "code",
   "execution_count": 24,
   "id": "3d6a4ec4",
   "metadata": {},
   "outputs": [
    {
     "name": "stdout",
     "output_type": "stream",
     "text": [
      "plant Abwinden-Asten not found!\n",
      "plant Altenw_rth not found!\n",
      "plant Donaustadt not found!\n",
      "plant Fernheizkraftwerk_Mellach not found!\n",
      "plant Gerlos not found!\n",
      "plant Greifenstein not found!\n",
      "plant H_usling not found!\n",
      "plant Kaprun_Hauptstufe not found!\n",
      "plant Kaprun_Oberstufe not found!\n",
      "plant Malta_Hauptstufe not found!\n",
      "plant Malta_Oberstufe not found!\n",
      "plant Mayrhofen not found!\n",
      "plant Melk not found!\n",
      "plant Ottensheim-Wilhering not found!\n",
      "plant Riedersbach not found!\n",
      "plant Ro_hag not found!\n",
      "plant Schwarzach not found!\n",
      "plant Timelkam_ not found!\n",
      "plant Wallsee-Mitterkirchen not found!\n",
      "plant Ybbs-Persenbeug not found!\n"
     ]
    }
   ],
   "source": [
    "prod_mapper = []\n",
    "for f in FILES:\n",
    "    fn = get_smard_name(f)\n",
    "    #print(fn)\n",
    "    blockid, plantid = get_plant_from_prod_name(fn)\n",
    "    year = 2015\n",
    "    try:\n",
    "        year = get_year(f)\n",
    "    except IndexError:\n",
    "        print(fn)\n",
    "    prod_mapper.append([f, blockid, plantid, year])"
   ]
  },
  {
   "cell_type": "code",
   "execution_count": 26,
   "id": "b89d66cb",
   "metadata": {},
   "outputs": [
    {
     "data": {
      "text/plain": [
       "('BNA0439', '03-01-01012110180')"
      ]
     },
     "execution_count": 26,
     "metadata": {},
     "output_type": "execute_result"
    }
   ],
   "source": [
    "get_plant_from_prod_name(\"Buschhaus\")"
   ]
  },
  {
   "cell_type": "code",
   "execution_count": 27,
   "id": "b3f0a0bb",
   "metadata": {},
   "outputs": [
    {
     "data": {
      "text/plain": [
       "2015"
      ]
     },
     "execution_count": 27,
     "metadata": {},
     "output_type": "execute_result"
    }
   ],
   "source": [
    "get_year(\"./2015/Boxberg_201501010000_201512312345_71.csv\")"
   ]
  },
  {
   "cell_type": "code",
   "execution_count": 28,
   "id": "ea4daf1a",
   "metadata": {},
   "outputs": [],
   "source": [
    "#prod_mapper "
   ]
  },
  {
   "cell_type": "code",
   "execution_count": 29,
   "id": "618e37d5",
   "metadata": {},
   "outputs": [],
   "source": [
    "prd_df = pd.DataFrame(prod_mapper, columns = ['file', 'blockid', 'plantid', 'year'])"
   ]
  },
  {
   "cell_type": "code",
   "execution_count": 30,
   "id": "c7b57fe1",
   "metadata": {},
   "outputs": [],
   "source": [
    "#prd_df"
   ]
  },
  {
   "cell_type": "code",
   "execution_count": null,
   "id": "f33ecbf8",
   "metadata": {},
   "outputs": [
    {
     "name": "stdout",
     "output_type": "stream",
     "text": [
      "Heizkraftwerk_Dresden-Nossener_Br_cke\n",
      "Heizkraftwerk_Dresden-Nossener_Br_cke\n"
     ]
    }
   ],
   "source": [
    "for index, row in list(prd_df.iterrows()):\n",
    "    dfname = row[0]\n",
    "    plantid = str(row[2])\n",
    "    year = str(int(row[3]))\n",
    "    smardname = get_smard_name(dfname)\n",
    "    df = pd.read_csv(dfname, delimiter=\";\", parse_dates=[[\"Datum\", \"Uhrzeit\"]])\n",
    "    try:\n",
    "        newdf = convert2plantid(df, smardname)\n",
    "    except (IndexError, KeyError):\n",
    "        print(smardname)\n",
    "        continue\n",
    "    #try:\n",
    "    #print(dfname, year)\n",
    "    #print(type(year))\n",
    "    newdf.to_csv(\"./by_plantid/\" + year + \"/\" + plantid + '.csv', index=False)\n",
    "    #except TypeError:\n",
    "    #    print(year, smardname)\n",
    "    #print(newdf.dtypes)"
   ]
  },
  {
   "cell_type": "code",
   "execution_count": null,
   "id": "2ff658e5",
   "metadata": {},
   "outputs": [],
   "source": [
    "testdf = pd.read_csv(\"./2015/Boxberg_201501010000_201512312345_71.csv\", delimiter=\";\", parse_dates=[[\"Datum\", \"Uhrzeit\"]])"
   ]
  },
  {
   "cell_type": "code",
   "execution_count": null,
   "id": "0b20d8fe",
   "metadata": {},
   "outputs": [],
   "source": []
  },
  {
   "cell_type": "code",
   "execution_count": null,
   "id": "31ed8719",
   "metadata": {},
   "outputs": [],
   "source": [
    "testdf"
   ]
  },
  {
   "cell_type": "code",
   "execution_count": null,
   "id": "8b0bc361",
   "metadata": {},
   "outputs": [],
   "source": [
    "cols = list(testdf2.columns)[1:]"
   ]
  },
  {
   "cell_type": "code",
   "execution_count": null,
   "id": "00e277b3",
   "metadata": {},
   "outputs": [],
   "source": [
    "convert2plantid(testdf, \"Boxberg\")"
   ]
  },
  {
   "cell_type": "code",
   "execution_count": null,
   "id": "87a4730e",
   "metadata": {},
   "outputs": [],
   "source": [
    "testdf"
   ]
  },
  {
   "cell_type": "code",
   "execution_count": null,
   "id": "63c84fdf",
   "metadata": {},
   "outputs": [],
   "source": [
    "newcols2"
   ]
  },
  {
   "cell_type": "code",
   "execution_count": null,
   "id": "c4826cbe",
   "metadata": {},
   "outputs": [],
   "source": [
    "extract_blockidf('Generation_DE Q[MW]')"
   ]
  },
  {
   "cell_type": "code",
   "execution_count": null,
   "id": "6193ad43",
   "metadata": {},
   "outputs": [],
   "source": []
  }
 ],
 "metadata": {
  "kernelspec": {
   "display_name": "Python 3 (ipykernel)",
   "language": "python",
   "name": "python3"
  },
  "language_info": {
   "codemirror_mode": {
    "name": "ipython",
    "version": 3
   },
   "file_extension": ".py",
   "mimetype": "text/x-python",
   "name": "python",
   "nbconvert_exporter": "python",
   "pygments_lexer": "ipython3",
   "version": "3.9.7"
  }
 },
 "nbformat": 4,
 "nbformat_minor": 5
}
