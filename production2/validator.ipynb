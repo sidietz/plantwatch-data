{
 "cells": [
  {
   "cell_type": "code",
   "execution_count": 28,
   "id": "a1f6c784-1079-4ef2-8c8b-2274096d7d2d",
   "metadata": {},
   "outputs": [],
   "source": [
    "import pandas as pd\n",
    "#from pandas.io.parsers import ParserError\n",
    "import numpy as np\n",
    "from helper import get_mapper\n",
    "import json\n",
    "import os\n",
    "import re"
   ]
  },
  {
   "cell_type": "code",
   "execution_count": 29,
   "id": "3c4ce1d5-98da-4a9c-9750-e2a776c764bd",
   "metadata": {},
   "outputs": [],
   "source": [
    "from os import listdir, stat\n",
    "from os.path import isfile, join\n",
    "BASE_DIR = \".\"\n",
    "MIN_SIZE = 512"
   ]
  },
  {
   "cell_type": "code",
   "execution_count": 37,
   "id": "9b39e4a5-0f5b-492b-abfa-2e70a5f23582",
   "metadata": {},
   "outputs": [],
   "source": [
    "def get_year(fn):\n",
    "    return int(fn.split(\"/\")[1])"
   ]
  },
  {
   "cell_type": "code",
   "execution_count": 30,
   "id": "ab318b1e-fc59-41e3-80db-9525acd8ae42",
   "metadata": {},
   "outputs": [],
   "source": [
    "bpm = pd.read_csv(\"../basic/block_plant_mapper.csv\")\n",
    "bpm['plantid'] = bpm['plantid'].apply(lambda x: str(x).replace('/', '_'))"
   ]
  },
  {
   "cell_type": "code",
   "execution_count": 31,
   "id": "4f6360d2-7a5d-43c2-9c45-367bc03d3640",
   "metadata": {},
   "outputs": [],
   "source": [
    "mapper = get_mapper('../production/plantmapper.json')"
   ]
  },
  {
   "cell_type": "code",
   "execution_count": 32,
   "id": "ca1285bc-015e-4bf9-ac91-5a2007e1632c",
   "metadata": {},
   "outputs": [],
   "source": [
    "def get_plant_from_prod_name(prodname):\n",
    "    tmp = \"\"\n",
    "    try:\n",
    "        tmp = mapper[prodname]\n",
    "    except KeyError:\n",
    "        print(\"plant \" + prodname + \" not found!\")\n",
    "        return None, None\n",
    "    blocklist = tmp['list']\n",
    "    block = blocklist[0]\n",
    "    blockid = tmp[block]\n",
    "    \n",
    "    try:\n",
    "        plantidx = bpm.loc[bpm.blockid == blockid, 'plantid'].item()\n",
    "    except ValueError:\n",
    "        return blockid, np.nan\n",
    "    \n",
    "    return blockid, plantidx"
   ]
  },
  {
   "cell_type": "code",
   "execution_count": 33,
   "id": "5794f662-9801-43b0-a9ff-db3c76cb0260",
   "metadata": {},
   "outputs": [],
   "source": [
    "def extract_blockidf(fullname):\n",
    "    return fullname.split(\"Generation_DE \")[1].rsplit('[MW]')[0].strip()\n",
    "\n",
    "def get_smard_name(f):\n",
    "    return f.rsplit(\"/\")[2].rsplit(\"_\", 3)[0].strip()"
   ]
  },
  {
   "cell_type": "code",
   "execution_count": 34,
   "id": "229ecd9c-f146-4f25-adf8-696beb21a047",
   "metadata": {},
   "outputs": [],
   "source": [
    "def get_files_from_folder(folder):\n",
    "    onlyfiles = [folder + \"/\" + f for f in listdir(folder) if isfile(join(folder, f))]\n",
    "    onlyfiles.sort()\n",
    "    files = [f for f in onlyfiles if stat(f).st_size > MIN_SIZE]\n",
    "    return files"
   ]
  },
  {
   "cell_type": "code",
   "execution_count": 35,
   "id": "c627f2ed-dce3-4164-8d21-7820a938c938",
   "metadata": {},
   "outputs": [],
   "source": [
    "FOLDERS = [os.path.join(BASE_DIR, o) for o in os.listdir(BASE_DIR) if os.path.isdir(os.path.join(BASE_DIR,o))]\n",
    "FOLDERS.sort()\n",
    "FOLDERS = FOLDERS[1:-3]\n",
    "FILES_L = [get_files_from_folder(f) for f in FOLDERS]\n",
    "FILES = [item for sublist in FILES_L for item in sublist]"
   ]
  },
  {
   "cell_type": "code",
   "execution_count": 38,
   "id": "1811ecbf-f078-49b9-9e4f-1fa39189aaeb",
   "metadata": {},
   "outputs": [
    {
     "name": "stdout",
     "output_type": "stream",
     "text": [
      "plant Kraftwerk_K_htai not found!\n",
      "plant Pumpspeicherkraftwerk_Vianden not found!\n",
      "plant Wedel not found!\n",
      "plant Wehr_B not found!\n",
      "plant Wilhelmshaven not found!\n",
      "plant Kraftwerk_K_htai not found!\n",
      "plant Pumpspeicherkraftwerk_Vianden not found!\n",
      "plant Wedel not found!\n",
      "plant Wehr_B not found!\n",
      "plant Wilhelmshaven not found!\n",
      "plant Kraftwerk_K_htai not found!\n",
      "plant Pumpspeicherkraftwerk_Vianden not found!\n",
      "plant Wedel not found!\n",
      "plant Wehr_B not found!\n",
      "plant Wilhelmshaven not found!\n",
      "plant Kraftwerk_K_htai not found!\n",
      "plant Pumpspeicherkraftwerk_Vianden not found!\n",
      "plant Wedel not found!\n",
      "plant Wehr_B not found!\n",
      "plant Wilhelmshaven not found!\n",
      "plant Kraftwerk_K_htai not found!\n",
      "plant Pumpspeicherkraftwerk_Vianden not found!\n",
      "plant Wedel not found!\n",
      "plant Wehr_B not found!\n",
      "plant Wilhelmshaven not found!\n",
      "plant Abwinden-Asten not found!\n",
      "plant Altenw_rth not found!\n",
      "plant Donaustadt not found!\n",
      "plant Fernheizkraftwerk_Mellach not found!\n",
      "plant Gerlos not found!\n",
      "plant Greifenstein not found!\n",
      "plant Gro_kraftwerk_Mannheim not found!\n",
      "plant Gro_kraftwerk_Mannheim not found!\n",
      "plant Gro_kraftwerk_Mannheim not found!\n",
      "plant GuD_Marzahn not found!\n",
      "plant H_usling not found!\n",
      "plant Kaprun_Hauptstufe not found!\n",
      "plant Kaprun_Limberg_II not found!\n",
      "plant Kaprun_Oberstufe not found!\n",
      "plant Kraftwerk_K_htai not found!\n",
      "plant Laufenburg not found!\n",
      "plant Linz-S_d_Fernheizkraftwerk not found!\n",
      "plant Malta_Hauptstufe not found!\n",
      "plant Malta_Oberstufe not found!\n",
      "plant Mayrhofen not found!\n",
      "plant Melk not found!\n",
      "plant Ottensheim-Wilhering not found!\n",
      "plant Pumpspeicherkraftwerk_Vianden not found!\n",
      "plant Riedersbach not found!\n",
      "plant Ro_hag not found!\n",
      "plant Schwarzach not found!\n",
      "plant Timelkam_ not found!\n",
      "plant Vorarlberger_Illwerke_AG__Obervermuntwerk_II_ not found!\n",
      "plant Wallsee-Mitterkirchen not found!\n",
      "plant Wedel not found!\n",
      "plant Wehr_A not found!\n",
      "plant Wehr_B not found!\n",
      "plant Wien-Freudenau not found!\n",
      "plant Wilhelmshaven not found!\n",
      "plant Ybbs-Persenbeug not found!\n",
      "plant Abwinden-Asten not found!\n",
      "plant Altenw_rth not found!\n",
      "plant Donaustadt not found!\n",
      "plant Fernheizkraftwerk_Mellach not found!\n",
      "plant Gerlos not found!\n",
      "plant Greifenstein not found!\n",
      "plant Gro_kraftwerk_Mannheim not found!\n",
      "plant Gro_kraftwerk_Mannheim not found!\n",
      "plant Gro_kraftwerk_Mannheim not found!\n",
      "plant GuD_Marzahn not found!\n",
      "plant H_usling not found!\n",
      "plant Kaprun_Hauptstufe not found!\n",
      "plant Kaprun_Limberg_II not found!\n",
      "plant Kaprun_Oberstufe not found!\n",
      "plant Kraftwerk_K_htai not found!\n",
      "plant Laufenburg not found!\n",
      "plant Linz-S_d_Fernheizkraftwerk not found!\n",
      "plant Malta_Hauptstufe not found!\n",
      "plant Malta_Oberstufe not found!\n",
      "plant Mayrhofen not found!\n",
      "plant Melk not found!\n",
      "plant Ottensheim-Wilhering not found!\n",
      "plant Pumpspeicherkraftwerk_Vianden not found!\n",
      "plant Riedersbach not found!\n",
      "plant Ro_hag not found!\n",
      "plant Schwarzach not found!\n",
      "plant Timelkam_ not found!\n",
      "plant Vorarlberger_Illwerke_AG__Obervermuntwerk_II_ not found!\n",
      "plant Wallsee-Mitterkirchen not found!\n",
      "plant Wedel not found!\n",
      "plant Wehr_A not found!\n",
      "plant Wehr_B not found!\n",
      "plant Wien-Freudenau not found!\n",
      "plant Wilhelmshaven not found!\n",
      "plant Ybbs-Persenbeug not found!\n"
     ]
    }
   ],
   "source": [
    "prod_mapper = []\n",
    "for f in FILES:\n",
    "    fn = get_smard_name(f)\n",
    "    #print(fn)\n",
    "    blockid, plantid = get_plant_from_prod_name(fn)\n",
    "    year = 2015\n",
    "    try:\n",
    "        year = get_year(f)\n",
    "    except IndexError:\n",
    "        print(fn)\n",
    "    prod_mapper.append([f, blockid, plantid, year])"
   ]
  },
  {
   "cell_type": "code",
   "execution_count": null,
   "id": "50e7dd04-9714-45aa-adbd-e1a5508e253d",
   "metadata": {},
   "outputs": [],
   "source": []
  },
  {
   "cell_type": "code",
   "execution_count": null,
   "id": "b7750f06-5453-401b-8a65-305b4a5aa3da",
   "metadata": {},
   "outputs": [],
   "source": []
  }
 ],
 "metadata": {
  "kernelspec": {
   "display_name": "Python 3 (ipykernel)",
   "language": "python",
   "name": "python3"
  },
  "language_info": {
   "codemirror_mode": {
    "name": "ipython",
    "version": 3
   },
   "file_extension": ".py",
   "mimetype": "text/x-python",
   "name": "python",
   "nbconvert_exporter": "python",
   "pygments_lexer": "ipython3",
   "version": "3.11.3"
  }
 },
 "nbformat": 4,
 "nbformat_minor": 5
}
