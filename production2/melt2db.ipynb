{
 "cells": [
  {
   "cell_type": "code",
   "execution_count": 144,
   "id": "7d445525-3daf-425c-bad3-7d75e42aa9ab",
   "metadata": {},
   "outputs": [],
   "source": [
    "import pandas as pd\n",
    "#from pandas.io.parsers import ParserError\n",
    "import numpy as np\n",
    "from helper import get_mapper\n",
    "import json\n",
    "import os\n",
    "import re\n",
    "from sqlalchemy import create_engine"
   ]
  },
  {
   "cell_type": "code",
   "execution_count": 145,
   "id": "951c49a4-d2a9-4b63-9215-28f58a39d728",
   "metadata": {},
   "outputs": [],
   "source": [
    "from os import listdir, stat\n",
    "from os.path import isfile, join\n",
    "BASE_DIR = \".\"\n",
    "MIN_SIZE = 512"
   ]
  },
  {
   "cell_type": "code",
   "execution_count": 146,
   "id": "32f30b42-a1c7-4d25-8f53-b87e83366bb4",
   "metadata": {},
   "outputs": [],
   "source": [
    "bpm = pd.read_csv(\"../basic/block_plant_mapper.csv\")\n",
    "bpm['plantid'] = bpm['plantid'].apply(lambda x: str(x).replace('/', '_'))"
   ]
  },
  {
   "cell_type": "code",
   "execution_count": 147,
   "id": "a002d884-53db-44e0-8e7b-4b5ce5dc6bcb",
   "metadata": {},
   "outputs": [],
   "source": [
    "FOLDERS = [os.path.join(BASE_DIR, o) for o in os.listdir(BASE_DIR) if os.path.isdir(os.path.join(BASE_DIR,o))]\n",
    "FOLDERS.sort()\n",
    "FOLDERS = FOLDERS[1:-3]"
   ]
  },
  {
   "cell_type": "code",
   "execution_count": 148,
   "id": "c50c30e0-b9e4-4261-839b-2be672d9b4f5",
   "metadata": {},
   "outputs": [],
   "source": [
    "bpm = pd.read_csv(\"../basic/block_plant_mapper.csv\")\n",
    "bpm['plantid'] = bpm['plantid'].apply(lambda x: str(x).replace('/', '_'))\n",
    "plantslist = list(set(bpm['plantid'].to_list()))"
   ]
  },
  {
   "cell_type": "code",
   "execution_count": 149,
   "id": "f9f1168a-0af6-438b-b240-6d367d3d6c09",
   "metadata": {},
   "outputs": [],
   "source": [
    "refpl = \"03-01-01241117210.csv\""
   ]
  },
  {
   "cell_type": "code",
   "execution_count": 150,
   "id": "bf7781ff-e239-4dd6-b3a2-64e857092828",
   "metadata": {},
   "outputs": [],
   "source": [
    "df = pd.read_csv(\"./combined/\" + refpl)"
   ]
  },
  {
   "cell_type": "code",
   "execution_count": 152,
   "id": "0f099085-dc40-4329-b5c9-fc0ed2f004c1",
   "metadata": {},
   "outputs": [],
   "source": [
    "#df"
   ]
  },
  {
   "cell_type": "code",
   "execution_count": 170,
   "id": "1536da7d-c627-40b1-a9e1-a27bbee67f7c",
   "metadata": {},
   "outputs": [],
   "source": [
    "engine = create_engine('sqlite://', echo=False)"
   ]
  },
  {
   "cell_type": "code",
   "execution_count": 171,
   "id": "bdf86ec4-9e8b-4329-b36a-49114f6b01ab",
   "metadata": {},
   "outputs": [
    {
     "name": "stdout",
     "output_type": "stream",
     "text": [
      "81\n"
     ]
    }
   ],
   "source": [
    "counter = 0\n",
    "for plant in plantslist:\n",
    "    #print(plant)\n",
    "    try:\n",
    "        df = pd.read_csv(\"./combined/\" + plant + \".csv\")\n",
    "        df['produced_at'] =  pd.to_datetime(df['produced_at'])\n",
    "        melt = df.melt(id_vars='produced_at')\n",
    "        melt.to_sql('power', con=engine, if_exists='append')\n",
    "        counter += 1\n",
    "        #print(df.shape)\n",
    "    except FileNotFoundError:\n",
    "        pass\n",
    "print(counter)"
   ]
  },
  {
   "cell_type": "code",
   "execution_count": 172,
   "id": "272e4cb6-8eeb-4b0d-a173-2cb28fe7d611",
   "metadata": {},
   "outputs": [],
   "source": [
    "CDF = pd.read_sql_table('power', engine)"
   ]
  },
  {
   "cell_type": "code",
   "execution_count": null,
   "id": "c0f0a9e3-a64d-4109-83a9-196eab24df9c",
   "metadata": {},
   "outputs": [],
   "source": [
    "#CDF"
   ]
  },
  {
   "cell_type": "code",
   "execution_count": 173,
   "id": "37deb173-5288-4011-8d74-f10e14fbf20d",
   "metadata": {},
   "outputs": [],
   "source": [
    "#CDF.drop(columns=['index'], inplace=True)\n",
    "#CDF['produced_at'] =  pd.to_datetime(CDF['produced_at'])\n",
    "CDF = CDF.set_index('produced_at') "
   ]
  },
  {
   "cell_type": "code",
   "execution_count": 174,
   "id": "65c9bfcf-2d48-400d-a707-88f2d5b8b796",
   "metadata": {},
   "outputs": [],
   "source": [
    "CDF[\"value\"] = CDF[\"value\"].astype(int)"
   ]
  },
  {
   "cell_type": "code",
   "execution_count": 177,
   "id": "aad28c7c-076e-4891-9e54-e66abbe2ee27",
   "metadata": {},
   "outputs": [],
   "source": [
    "#CDF"
   ]
  },
  {
   "cell_type": "code",
   "execution_count": 178,
   "id": "1693327e-6b39-4a48-953f-502131bf1bc4",
   "metadata": {},
   "outputs": [],
   "source": [
    "CDF2 = CDF.groupby('variable').resample('1M').sum()\n",
    "\n",
    "# the inverse of groupby, reset_index\n",
    "CDF3 = CDF2.reset_index()\n"
   ]
  },
  {
   "cell_type": "code",
   "execution_count": 179,
   "id": "1163a5e1-27c1-4799-9cad-878d00937030",
   "metadata": {},
   "outputs": [
    {
     "data": {
      "text/html": [
       "<div>\n",
       "<style scoped>\n",
       "    .dataframe tbody tr th:only-of-type {\n",
       "        vertical-align: middle;\n",
       "    }\n",
       "\n",
       "    .dataframe tbody tr th {\n",
       "        vertical-align: top;\n",
       "    }\n",
       "\n",
       "    .dataframe thead th {\n",
       "        text-align: right;\n",
       "    }\n",
       "</style>\n",
       "<table border=\"1\" class=\"dataframe\">\n",
       "  <thead>\n",
       "    <tr style=\"text-align: right;\">\n",
       "      <th></th>\n",
       "      <th>variable</th>\n",
       "      <th>produced_at</th>\n",
       "      <th>index</th>\n",
       "      <th>value</th>\n",
       "    </tr>\n",
       "  </thead>\n",
       "  <tbody>\n",
       "    <tr>\n",
       "      <th>0</th>\n",
       "      <td>BNA0015</td>\n",
       "      <td>2015-01-31</td>\n",
       "      <td>1319664</td>\n",
       "      <td>0</td>\n",
       "    </tr>\n",
       "    <tr>\n",
       "      <th>1</th>\n",
       "      <td>BNA0015</td>\n",
       "      <td>2015-02-28</td>\n",
       "      <td>1567668</td>\n",
       "      <td>0</td>\n",
       "    </tr>\n",
       "    <tr>\n",
       "      <th>2</th>\n",
       "      <td>BNA0015</td>\n",
       "      <td>2015-03-31</td>\n",
       "      <td>1975969</td>\n",
       "      <td>0</td>\n",
       "    </tr>\n",
       "    <tr>\n",
       "      <th>3</th>\n",
       "      <td>BNA0015</td>\n",
       "      <td>2015-04-30</td>\n",
       "      <td>2256108</td>\n",
       "      <td>0</td>\n",
       "    </tr>\n",
       "    <tr>\n",
       "      <th>4</th>\n",
       "      <td>BNA0015</td>\n",
       "      <td>2015-05-31</td>\n",
       "      <td>2658108</td>\n",
       "      <td>0</td>\n",
       "    </tr>\n",
       "    <tr>\n",
       "      <th>...</th>\n",
       "      <td>...</td>\n",
       "      <td>...</td>\n",
       "      <td>...</td>\n",
       "      <td>...</td>\n",
       "    </tr>\n",
       "    <tr>\n",
       "      <th>16824</th>\n",
       "      <td>BNA1949</td>\n",
       "      <td>2021-08-31</td>\n",
       "      <td>65592444</td>\n",
       "      <td>423292</td>\n",
       "    </tr>\n",
       "    <tr>\n",
       "      <th>16825</th>\n",
       "      <td>BNA1949</td>\n",
       "      <td>2021-09-30</td>\n",
       "      <td>63786432</td>\n",
       "      <td>544283</td>\n",
       "    </tr>\n",
       "    <tr>\n",
       "      <th>16826</th>\n",
       "      <td>BNA1949</td>\n",
       "      <td>2021-10-31</td>\n",
       "      <td>66364259</td>\n",
       "      <td>511561</td>\n",
       "    </tr>\n",
       "    <tr>\n",
       "      <th>16827</th>\n",
       "      <td>BNA1949</td>\n",
       "      <td>2021-11-30</td>\n",
       "      <td>64433136</td>\n",
       "      <td>522197</td>\n",
       "    </tr>\n",
       "    <tr>\n",
       "      <th>16828</th>\n",
       "      <td>BNA1949</td>\n",
       "      <td>2021-12-31</td>\n",
       "      <td>66955716</td>\n",
       "      <td>393235</td>\n",
       "    </tr>\n",
       "  </tbody>\n",
       "</table>\n",
       "<p>16829 rows × 4 columns</p>\n",
       "</div>"
      ],
      "text/plain": [
       "      variable produced_at     index   value\n",
       "0      BNA0015  2015-01-31   1319664       0\n",
       "1      BNA0015  2015-02-28   1567668       0\n",
       "2      BNA0015  2015-03-31   1975969       0\n",
       "3      BNA0015  2015-04-30   2256108       0\n",
       "4      BNA0015  2015-05-31   2658108       0\n",
       "...        ...         ...       ...     ...\n",
       "16824  BNA1949  2021-08-31  65592444  423292\n",
       "16825  BNA1949  2021-09-30  63786432  544283\n",
       "16826  BNA1949  2021-10-31  66364259  511561\n",
       "16827  BNA1949  2021-11-30  64433136  522197\n",
       "16828  BNA1949  2021-12-31  66955716  393235\n",
       "\n",
       "[16829 rows x 4 columns]"
      ]
     },
     "execution_count": 179,
     "metadata": {},
     "output_type": "execute_result"
    }
   ],
   "source": [
    "CDF3"
   ]
  },
  {
   "cell_type": "code",
   "execution_count": 180,
   "id": "691c54f3-a3a3-4f48-9ed9-f84e4e5362b3",
   "metadata": {},
   "outputs": [],
   "source": [
    "#gy = CDF.resample('1Y', on='produced_at').sum()\n",
    "#gm = CDF.resample('1M', on='produced_at').sum()"
   ]
  },
  {
   "cell_type": "code",
   "execution_count": 181,
   "id": "3899ea8b-4096-4e05-aa87-b6e94b3f76ee",
   "metadata": {},
   "outputs": [],
   "source": [
    "gm2 = CDF3.reset_index(drop=True)\n",
    "gm2['year'] = gm2['produced_at']\n",
    "gm2['month'] = gm2['produced_at']"
   ]
  },
  {
   "cell_type": "code",
   "execution_count": 182,
   "id": "2ebeb0df-c65f-49e6-8741-4746d54e1a96",
   "metadata": {},
   "outputs": [],
   "source": [
    "gm2['year'] = gm2['year'].apply(lambda x: str(x).split(\"-\")[0])\n",
    "gm2['month'] = gm2['month'].apply(lambda x: int(str(x).split(\"-\")[1]))\n",
    "gm2['month'] = gm2['month'].astype(int)"
   ]
  },
  {
   "cell_type": "code",
   "execution_count": 183,
   "id": "3576e38c-24bb-4017-aaa2-4decd9c9f169",
   "metadata": {},
   "outputs": [],
   "source": [
    "gm3 = gm2.sort_values(by=[\"year\", 'month'])\n",
    "gm4 = gm3.drop(columns='produced_at')"
   ]
  },
  {
   "cell_type": "code",
   "execution_count": 184,
   "id": "01994040-b93d-4bd3-848f-9ed151f86bc5",
   "metadata": {},
   "outputs": [],
   "source": [
    "gm5 = gm4.reindex(columns=['year', \"month\", \"variable\", \"value\"])\n",
    "gm6 = gm5.sort_values(by=[\"year\", 'month'])"
   ]
  },
  {
   "cell_type": "code",
   "execution_count": 185,
   "id": "e329ac3e-4c66-4eec-a32e-ea3a7adc4595",
   "metadata": {},
   "outputs": [],
   "source": [
    "gm7 = gm6.rename(columns={\"variable\":\"blockid\", \"value\": \"power\"})\n",
    "gm8 = gm7.reset_index(drop=True)"
   ]
  },
  {
   "cell_type": "code",
   "execution_count": 186,
   "id": "8425ca1d-33cd-4d3d-85f9-ba283b74a9f2",
   "metadata": {},
   "outputs": [],
   "source": [
    "#gm5 = gm4.melt(id_vars=[\"year\", \"month\"], var_name='blockid', value_name='power')\n",
    "#gm5['power'] = gm5['power'].astype(int)"
   ]
  },
  {
   "cell_type": "code",
   "execution_count": 187,
   "id": "d3233174-fe96-457a-855b-5213af34c0f6",
   "metadata": {},
   "outputs": [
    {
     "data": {
      "text/html": [
       "<div>\n",
       "<style scoped>\n",
       "    .dataframe tbody tr th:only-of-type {\n",
       "        vertical-align: middle;\n",
       "    }\n",
       "\n",
       "    .dataframe tbody tr th {\n",
       "        vertical-align: top;\n",
       "    }\n",
       "\n",
       "    .dataframe thead th {\n",
       "        text-align: right;\n",
       "    }\n",
       "</style>\n",
       "<table border=\"1\" class=\"dataframe\">\n",
       "  <thead>\n",
       "    <tr style=\"text-align: right;\">\n",
       "      <th></th>\n",
       "      <th>year</th>\n",
       "      <th>month</th>\n",
       "      <th>blockid</th>\n",
       "      <th>power</th>\n",
       "    </tr>\n",
       "  </thead>\n",
       "  <tbody>\n",
       "    <tr>\n",
       "      <th>0</th>\n",
       "      <td>2015</td>\n",
       "      <td>1</td>\n",
       "      <td>BNA0015</td>\n",
       "      <td>0</td>\n",
       "    </tr>\n",
       "    <tr>\n",
       "      <th>1</th>\n",
       "      <td>2015</td>\n",
       "      <td>1</td>\n",
       "      <td>BNA0016</td>\n",
       "      <td>0</td>\n",
       "    </tr>\n",
       "    <tr>\n",
       "      <th>2</th>\n",
       "      <td>2015</td>\n",
       "      <td>1</td>\n",
       "      <td>BNA0017</td>\n",
       "      <td>0</td>\n",
       "    </tr>\n",
       "    <tr>\n",
       "      <th>3</th>\n",
       "      <td>2015</td>\n",
       "      <td>1</td>\n",
       "      <td>BNA0018</td>\n",
       "      <td>0</td>\n",
       "    </tr>\n",
       "    <tr>\n",
       "      <th>4</th>\n",
       "      <td>2015</td>\n",
       "      <td>1</td>\n",
       "      <td>BNA0019</td>\n",
       "      <td>51476</td>\n",
       "    </tr>\n",
       "    <tr>\n",
       "      <th>...</th>\n",
       "      <td>...</td>\n",
       "      <td>...</td>\n",
       "      <td>...</td>\n",
       "      <td>...</td>\n",
       "    </tr>\n",
       "    <tr>\n",
       "      <th>16824</th>\n",
       "      <td>2021</td>\n",
       "      <td>12</td>\n",
       "      <td>BNA1673</td>\n",
       "      <td>0</td>\n",
       "    </tr>\n",
       "    <tr>\n",
       "      <th>16825</th>\n",
       "      <td>2021</td>\n",
       "      <td>12</td>\n",
       "      <td>BNA1817</td>\n",
       "      <td>203127</td>\n",
       "    </tr>\n",
       "    <tr>\n",
       "      <th>16826</th>\n",
       "      <td>2021</td>\n",
       "      <td>12</td>\n",
       "      <td>BNA1818</td>\n",
       "      <td>179694</td>\n",
       "    </tr>\n",
       "    <tr>\n",
       "      <th>16827</th>\n",
       "      <td>2021</td>\n",
       "      <td>12</td>\n",
       "      <td>BNA1945</td>\n",
       "      <td>75895</td>\n",
       "    </tr>\n",
       "    <tr>\n",
       "      <th>16828</th>\n",
       "      <td>2021</td>\n",
       "      <td>12</td>\n",
       "      <td>BNA1949</td>\n",
       "      <td>393235</td>\n",
       "    </tr>\n",
       "  </tbody>\n",
       "</table>\n",
       "<p>16829 rows × 4 columns</p>\n",
       "</div>"
      ],
      "text/plain": [
       "       year  month  blockid   power\n",
       "0      2015      1  BNA0015       0\n",
       "1      2015      1  BNA0016       0\n",
       "2      2015      1  BNA0017       0\n",
       "3      2015      1  BNA0018       0\n",
       "4      2015      1  BNA0019   51476\n",
       "...     ...    ...      ...     ...\n",
       "16824  2021     12  BNA1673       0\n",
       "16825  2021     12  BNA1817  203127\n",
       "16826  2021     12  BNA1818  179694\n",
       "16827  2021     12  BNA1945   75895\n",
       "16828  2021     12  BNA1949  393235\n",
       "\n",
       "[16829 rows x 4 columns]"
      ]
     },
     "execution_count": 187,
     "metadata": {},
     "output_type": "execute_result"
    }
   ],
   "source": [
    "gm8"
   ]
  },
  {
   "cell_type": "code",
   "execution_count": 188,
   "id": "bbe78254-4499-4b92-b071-5c438b37f271",
   "metadata": {},
   "outputs": [],
   "source": [
    "pm1 = gm7.merge(bpm, on=\"blockid\")\n",
    "pm2 = pm1.copy()"
   ]
  },
  {
   "cell_type": "code",
   "execution_count": 189,
   "id": "87828e6c-42a3-477e-a444-ad4828de2468",
   "metadata": {},
   "outputs": [],
   "source": [
    "pm2['plantpower'] = pm2.groupby(['plantid', 'month', 'year'])['power'].transform('sum')"
   ]
  },
  {
   "cell_type": "code",
   "execution_count": 190,
   "id": "e3dd86b5-29df-496f-b07c-e57a18f02069",
   "metadata": {},
   "outputs": [],
   "source": [
    "pm3 = pm2.drop_duplicates(['month', 'year', 'plantid'])\n",
    "pm4 = pm3.drop(['blockid', 'power'], axis=1)"
   ]
  },
  {
   "cell_type": "code",
   "execution_count": 191,
   "id": "b32488ae-5c80-4a46-a64d-7b7ab8833d1f",
   "metadata": {},
   "outputs": [],
   "source": [
    "ym1 = pm4.copy()\n",
    "ym1['yearpower'] = ym1.groupby(['plantid', 'year'])['plantpower'].transform('sum')\n",
    "ym2 = ym1.drop_duplicates(['year', 'plantid'])\n",
    "ym3 = ym2.drop(['month', 'plantpower'], axis=1)\n",
    "ym4 = ym3.reset_index(drop=True)"
   ]
  },
  {
   "cell_type": "code",
   "execution_count": 192,
   "id": "22e0c097-6255-4975-b815-41460dc78221",
   "metadata": {},
   "outputs": [],
   "source": [
    "ym4.to_csv(\"yearly.csv\", index=False)\n",
    "ym4.to_csv(\"yearly_pg.csv\", header=False)"
   ]
  },
  {
   "cell_type": "code",
   "execution_count": 193,
   "id": "dc1a4aff-cf05-4f51-97ec-2d902256a26e",
   "metadata": {},
   "outputs": [],
   "source": [
    "gm8.to_csv(\"monthly.csv\", header=False)\n",
    "#gm7.to_csv(\"yearly_pg.csv\")"
   ]
  },
  {
   "cell_type": "code",
   "execution_count": 194,
   "id": "0670f5d5-70df-4773-9c2a-4575ed7ba14b",
   "metadata": {},
   "outputs": [],
   "source": [
    "#invCDF = CDF.pivot(columns='variable')"
   ]
  },
  {
   "cell_type": "code",
   "execution_count": 195,
   "id": "68edc6dd-a8c3-49d3-9cd2-237af0e2a913",
   "metadata": {},
   "outputs": [
    {
     "data": {
      "text/html": [
       "<div>\n",
       "<style scoped>\n",
       "    .dataframe tbody tr th:only-of-type {\n",
       "        vertical-align: middle;\n",
       "    }\n",
       "\n",
       "    .dataframe tbody tr th {\n",
       "        vertical-align: top;\n",
       "    }\n",
       "\n",
       "    .dataframe thead th {\n",
       "        text-align: right;\n",
       "    }\n",
       "</style>\n",
       "<table border=\"1\" class=\"dataframe\">\n",
       "  <thead>\n",
       "    <tr style=\"text-align: right;\">\n",
       "      <th></th>\n",
       "      <th>year</th>\n",
       "      <th>plantid</th>\n",
       "      <th>yearpower</th>\n",
       "    </tr>\n",
       "  </thead>\n",
       "  <tbody>\n",
       "    <tr>\n",
       "      <th>342</th>\n",
       "      <td>2015</td>\n",
       "      <td>06-05-100-0248923</td>\n",
       "      <td>18265919</td>\n",
       "    </tr>\n",
       "    <tr>\n",
       "      <th>343</th>\n",
       "      <td>2016</td>\n",
       "      <td>06-05-100-0248923</td>\n",
       "      <td>25472064</td>\n",
       "    </tr>\n",
       "    <tr>\n",
       "      <th>344</th>\n",
       "      <td>2017</td>\n",
       "      <td>06-05-100-0248923</td>\n",
       "      <td>27113409</td>\n",
       "    </tr>\n",
       "    <tr>\n",
       "      <th>345</th>\n",
       "      <td>2018</td>\n",
       "      <td>06-05-100-0248923</td>\n",
       "      <td>29467344</td>\n",
       "    </tr>\n",
       "    <tr>\n",
       "      <th>346</th>\n",
       "      <td>2019</td>\n",
       "      <td>06-05-100-0248923</td>\n",
       "      <td>20842499</td>\n",
       "    </tr>\n",
       "    <tr>\n",
       "      <th>347</th>\n",
       "      <td>2020</td>\n",
       "      <td>06-05-100-0248923</td>\n",
       "      <td>17222434</td>\n",
       "    </tr>\n",
       "    <tr>\n",
       "      <th>348</th>\n",
       "      <td>2021</td>\n",
       "      <td>06-05-100-0248923</td>\n",
       "      <td>20017999</td>\n",
       "    </tr>\n",
       "  </tbody>\n",
       "</table>\n",
       "</div>"
      ],
      "text/plain": [
       "     year            plantid  yearpower\n",
       "342  2015  06-05-100-0248923   18265919\n",
       "343  2016  06-05-100-0248923   25472064\n",
       "344  2017  06-05-100-0248923   27113409\n",
       "345  2018  06-05-100-0248923   29467344\n",
       "346  2019  06-05-100-0248923   20842499\n",
       "347  2020  06-05-100-0248923   17222434\n",
       "348  2021  06-05-100-0248923   20017999"
      ]
     },
     "execution_count": 195,
     "metadata": {},
     "output_type": "execute_result"
    }
   ],
   "source": [
    "ym4.loc[ym4.plantid == \"06-05-100-0248923\"]"
   ]
  },
  {
   "cell_type": "code",
   "execution_count": 196,
   "id": "d57f519a-bd7e-4454-b932-a2049734e22f",
   "metadata": {},
   "outputs": [
    {
     "data": {
      "text/html": [
       "<div>\n",
       "<style scoped>\n",
       "    .dataframe tbody tr th:only-of-type {\n",
       "        vertical-align: middle;\n",
       "    }\n",
       "\n",
       "    .dataframe tbody tr th {\n",
       "        vertical-align: top;\n",
       "    }\n",
       "\n",
       "    .dataframe thead th {\n",
       "        text-align: right;\n",
       "    }\n",
       "</style>\n",
       "<table border=\"1\" class=\"dataframe\">\n",
       "  <thead>\n",
       "    <tr style=\"text-align: right;\">\n",
       "      <th></th>\n",
       "      <th>value</th>\n",
       "    </tr>\n",
       "    <tr>\n",
       "      <th>produced_at</th>\n",
       "      <th></th>\n",
       "    </tr>\n",
       "  </thead>\n",
       "  <tbody>\n",
       "    <tr>\n",
       "      <th>2015-01-31</th>\n",
       "      <td>14435600</td>\n",
       "    </tr>\n",
       "    <tr>\n",
       "      <th>2015-02-28</th>\n",
       "      <td>11375491</td>\n",
       "    </tr>\n",
       "    <tr>\n",
       "      <th>2015-03-31</th>\n",
       "      <td>12013123</td>\n",
       "    </tr>\n",
       "    <tr>\n",
       "      <th>2015-04-30</th>\n",
       "      <td>11250837</td>\n",
       "    </tr>\n",
       "    <tr>\n",
       "      <th>2015-05-31</th>\n",
       "      <td>12972905</td>\n",
       "    </tr>\n",
       "    <tr>\n",
       "      <th>...</th>\n",
       "      <td>...</td>\n",
       "    </tr>\n",
       "    <tr>\n",
       "      <th>2022-08-31</th>\n",
       "      <td>3957</td>\n",
       "    </tr>\n",
       "    <tr>\n",
       "      <th>2022-09-30</th>\n",
       "      <td>1658</td>\n",
       "    </tr>\n",
       "    <tr>\n",
       "      <th>2022-10-31</th>\n",
       "      <td>3723</td>\n",
       "    </tr>\n",
       "    <tr>\n",
       "      <th>2022-11-30</th>\n",
       "      <td>3941</td>\n",
       "    </tr>\n",
       "    <tr>\n",
       "      <th>2022-12-31</th>\n",
       "      <td>0</td>\n",
       "    </tr>\n",
       "  </tbody>\n",
       "</table>\n",
       "<p>96 rows × 1 columns</p>\n",
       "</div>"
      ],
      "text/plain": [
       "                value\n",
       "produced_at          \n",
       "2015-01-31   14435600\n",
       "2015-02-28   11375491\n",
       "2015-03-31   12013123\n",
       "2015-04-30   11250837\n",
       "2015-05-31   12972905\n",
       "...               ...\n",
       "2022-08-31       3957\n",
       "2022-09-30       1658\n",
       "2022-10-31       3723\n",
       "2022-11-30       3941\n",
       "2022-12-31          0\n",
       "\n",
       "[96 rows x 1 columns]"
      ]
     },
     "execution_count": 196,
     "metadata": {},
     "output_type": "execute_result"
    }
   ],
   "source": [
    "gm"
   ]
  },
  {
   "cell_type": "code",
   "execution_count": null,
   "id": "7bc58a58-1397-4385-ad83-3034f9aebbdd",
   "metadata": {},
   "outputs": [],
   "source": []
  },
  {
   "cell_type": "code",
   "execution_count": null,
   "id": "8a48e330-290d-470a-a24c-3468d517223c",
   "metadata": {},
   "outputs": [],
   "source": []
  }
 ],
 "metadata": {
  "kernelspec": {
   "display_name": "Python 3 (ipykernel)",
   "language": "python",
   "name": "python3"
  },
  "language_info": {
   "codemirror_mode": {
    "name": "ipython",
    "version": 3
   },
   "file_extension": ".py",
   "mimetype": "text/x-python",
   "name": "python",
   "nbconvert_exporter": "python",
   "pygments_lexer": "ipython3",
   "version": "3.9.7"
  }
 },
 "nbformat": 4,
 "nbformat_minor": 5
}
