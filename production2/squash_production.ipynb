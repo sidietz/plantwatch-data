{
 "cells": [
  {
   "cell_type": "code",
   "execution_count": 26,
   "id": "4f786680",
   "metadata": {},
   "outputs": [],
   "source": [
    "import pandas as pd\n",
    "#from pandas.io.parsers import ParserError\n",
    "import numpy as np\n",
    "from helper import get_mapper\n",
    "import json\n",
    "import os\n",
    "import re"
   ]
  },
  {
   "cell_type": "code",
   "execution_count": 27,
   "id": "542e14ac",
   "metadata": {},
   "outputs": [],
   "source": [
    "from os import listdir, stat\n",
    "from os.path import isfile, join\n",
    "BASE_DIR = \".\"\n",
    "MIN_SIZE = 512"
   ]
  },
  {
   "cell_type": "code",
   "execution_count": 28,
   "id": "a5ed1201",
   "metadata": {},
   "outputs": [],
   "source": [
    "FOLDERS = [os.path.join(BASE_DIR, o) for o in os.listdir(BASE_DIR) if os.path.isdir(os.path.join(BASE_DIR,o))]\n",
    "FOLDERS.sort()\n",
    "FOLDERS = FOLDERS[1:-3]\n",
    "YEARS = ['2015', '2016', '2017', '2018', '2019', '2020', '2021']"
   ]
  },
  {
   "cell_type": "code",
   "execution_count": 29,
   "id": "9b4f2dfd",
   "metadata": {},
   "outputs": [
    {
     "data": {
      "text/plain": [
       "['./2015', './2016', './2017', './2018', './2019', './2020', './2021']"
      ]
     },
     "execution_count": 29,
     "metadata": {},
     "output_type": "execute_result"
    }
   ],
   "source": [
    "FOLDERS"
   ]
  },
  {
   "cell_type": "code",
   "execution_count": 30,
   "id": "8a66df31",
   "metadata": {},
   "outputs": [],
   "source": [
    "bpm = pd.read_csv(\"../basic/block_plant_mapper.csv\")\n",
    "bpm['plantid'] = bpm['plantid'].apply(lambda x: str(x).replace('/', '_'))\n",
    "plantslist = list(set(bpm['plantid'].to_list()))"
   ]
  },
  {
   "cell_type": "code",
   "execution_count": null,
   "id": "d10f762f",
   "metadata": {},
   "outputs": [],
   "source": []
  },
  {
   "cell_type": "code",
   "execution_count": 31,
   "id": "97e2c3f1",
   "metadata": {},
   "outputs": [],
   "source": [
    "#plantslist"
   ]
  },
  {
   "cell_type": "code",
   "execution_count": 32,
   "id": "68ca4bb9",
   "metadata": {},
   "outputs": [],
   "source": [
    "def save2combined(df, plantname):\n",
    "    df.to_csv(\"./combined/\" + plantname + \".csv\", index=False, decimal=',')"
   ]
  },
  {
   "cell_type": "code",
   "execution_count": 33,
   "id": "3b155f86",
   "metadata": {},
   "outputs": [],
   "source": [
    "def squash_production(plantslist):\n",
    "    emptyplants = []\n",
    "    for plant in plantslist:\n",
    "        #print(plant)\n",
    "        dflist = []\n",
    "        for year in YEARS:\n",
    "            try:\n",
    "                df = pd.read_csv(\"./by_plantid/\" + year + \"/\" + plant + \".csv\")\n",
    "                #df.fillna(0, inplace=True)\n",
    "                df[df.columns[1:]] = df[df.columns[1:]].astype(int)\n",
    "            except FileNotFoundError:\n",
    "                #print(\"./by_plantid/\" + year + \"/\" + plant + \".csv\")\n",
    "                df = pd.DataFrame({'produced_at': []})\n",
    "    \n",
    "            testdf = df.dropna()\n",
    "            if testdf.empty:\n",
    "                emptyplants.append(plant)\n",
    "            else:\n",
    "                dflist.append(df)\n",
    "                \n",
    "        if len(dflist) > 0:\n",
    "            newdf = pd.concat(dflist)\n",
    "            save2combined(newdf, plant)\n",
    "\n",
    "    return list(set(emptyplants))"
   ]
  },
  {
   "cell_type": "code",
   "execution_count": null,
   "id": "7a9d41f7",
   "metadata": {},
   "outputs": [],
   "source": []
  },
  {
   "cell_type": "code",
   "execution_count": 34,
   "id": "bbcc705c",
   "metadata": {},
   "outputs": [],
   "source": [
    "a = squash_production(plantslist)"
   ]
  },
  {
   "cell_type": "code",
   "execution_count": 35,
   "id": "0c6b5e8d-572c-43fb-b689-05d33154758c",
   "metadata": {},
   "outputs": [
    {
     "data": {
      "text/plain": [
       "326"
      ]
     },
     "execution_count": 35,
     "metadata": {},
     "output_type": "execute_result"
    }
   ],
   "source": [
    "len(plantslist)"
   ]
  },
  {
   "cell_type": "code",
   "execution_count": 36,
   "id": "837e387c",
   "metadata": {},
   "outputs": [
    {
     "data": {
      "text/plain": [
       "259"
      ]
     },
     "execution_count": 36,
     "metadata": {},
     "output_type": "execute_result"
    }
   ],
   "source": [
    "len(a)"
   ]
  },
  {
   "cell_type": "code",
   "execution_count": null,
   "id": "0d728f6a",
   "metadata": {},
   "outputs": [],
   "source": []
  },
  {
   "cell_type": "code",
   "execution_count": 12,
   "id": "ba3586ce",
   "metadata": {},
   "outputs": [],
   "source": [
    "for plant in plantslist:\n",
    "    dflist = []\n",
    "    for year in YEARS:\n",
    "        df = pd.DataFrame()\n",
    "        try:\n",
    "            df = pd.read_csv(\"./by_plantid/\" + year + \"/\" + plant + \".csv\", na_values=['-'])\n",
    "        except FileNotFoundError:\n",
    "            #print(plant)\n",
    "            pass\n",
    "        \n",
    "        dflist.append(df)\n",
    "    newdf = pd.concat(dflist)\n",
    "    #print(newdf.shape)"
   ]
  },
  {
   "cell_type": "code",
   "execution_count": 13,
   "id": "fad71571-8dc6-4bf6-9ada-4484c75d5d70",
   "metadata": {},
   "outputs": [],
   "source": [
    "#newdf"
   ]
  },
  {
   "cell_type": "code",
   "execution_count": null,
   "id": "35a7d0e0-2380-4b0c-9205-d17e9cadb8c5",
   "metadata": {},
   "outputs": [],
   "source": []
  },
  {
   "cell_type": "code",
   "execution_count": null,
   "id": "635af2f6-2d95-4c33-918b-3191120024a9",
   "metadata": {},
   "outputs": [],
   "source": []
  },
  {
   "cell_type": "code",
   "execution_count": null,
   "id": "c3ec79a6-c6b5-4639-a03c-934cbd7d2c6f",
   "metadata": {},
   "outputs": [],
   "source": []
  }
 ],
 "metadata": {
  "kernelspec": {
   "display_name": "Python 3 (ipykernel)",
   "language": "python",
   "name": "python3"
  },
  "language_info": {
   "codemirror_mode": {
    "name": "ipython",
    "version": 3
   },
   "file_extension": ".py",
   "mimetype": "text/x-python",
   "name": "python",
   "nbconvert_exporter": "python",
   "pygments_lexer": "ipython3",
   "version": "3.9.7"
  }
 },
 "nbformat": 4,
 "nbformat_minor": 5
}
