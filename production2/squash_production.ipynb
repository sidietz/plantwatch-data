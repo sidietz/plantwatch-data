{
 "cells": [
  {
   "cell_type": "code",
   "execution_count": 2,
   "id": "4f786680",
   "metadata": {},
   "outputs": [],
   "source": [
    "import pandas as pd\n",
    "from pandas.io.parsers import ParserError\n",
    "import numpy as np\n",
    "from helper import get_mapper\n",
    "import json\n",
    "import os\n",
    "import re"
   ]
  },
  {
   "cell_type": "code",
   "execution_count": 3,
   "id": "542e14ac",
   "metadata": {},
   "outputs": [],
   "source": [
    "from os import listdir, stat\n",
    "from os.path import isfile, join\n",
    "BASE_DIR = \".\"\n",
    "MIN_SIZE = 512"
   ]
  },
  {
   "cell_type": "code",
   "execution_count": 16,
   "id": "a5ed1201",
   "metadata": {},
   "outputs": [],
   "source": [
    "FOLDERS = [os.path.join(BASE_DIR, o) for o in os.listdir(BASE_DIR) if os.path.isdir(os.path.join(BASE_DIR,o))]\n",
    "FOLDERS.sort()\n",
    "FOLDERS = FOLDERS[1:-5]\n",
    "YEARS = ['2015', '2016', '2017', '2018', '2019', '2020']"
   ]
  },
  {
   "cell_type": "code",
   "execution_count": 9,
   "id": "9b4f2dfd",
   "metadata": {},
   "outputs": [
    {
     "data": {
      "text/plain": [
       "['./2015', './2016', './2017', './2018', './2019', './2020']"
      ]
     },
     "execution_count": 9,
     "metadata": {},
     "output_type": "execute_result"
    }
   ],
   "source": [
    "FOLDERS"
   ]
  },
  {
   "cell_type": "code",
   "execution_count": 10,
   "id": "8a66df31",
   "metadata": {},
   "outputs": [],
   "source": [
    "bpm = pd.read_csv(\"../basic/block_plant_mapper.csv\")\n",
    "bpm['plantid'] = bpm['plantid'].apply(lambda x: str(x).replace('/', '_'))"
   ]
  },
  {
   "cell_type": "code",
   "execution_count": 14,
   "id": "d10f762f",
   "metadata": {},
   "outputs": [],
   "source": [
    "plantslist = bpm['plantid'].to_list()"
   ]
  },
  {
   "cell_type": "code",
   "execution_count": 91,
   "id": "97e2c3f1",
   "metadata": {},
   "outputs": [],
   "source": [
    "#plantslist"
   ]
  },
  {
   "cell_type": "code",
   "execution_count": 92,
   "id": "68ca4bb9",
   "metadata": {},
   "outputs": [],
   "source": [
    "def save2combined(df, plantname):\n",
    "    df.to_csv(\"./combined/\" + plantname + \".csv\", index=False)"
   ]
  },
  {
   "cell_type": "code",
   "execution_count": 106,
   "id": "3b155f86",
   "metadata": {},
   "outputs": [],
   "source": [
    "def squash_production(plantslist):\n",
    "    emptyplants = []\n",
    "    for plant in plantslist:\n",
    "        dflist = []\n",
    "        for year in YEARS:\n",
    "            try:\n",
    "                df = pd.read_csv(\"./by_plantid/\" + year + \"/\" + plant + \".csv\")\n",
    "            except FileNotFoundError:\n",
    "                df = pd.DataFrame({'produced_at': []})\n",
    "    \n",
    "            testdf = df.dropna()\n",
    "            if testdf.empty:\n",
    "                emptyplants.append(plant)\n",
    "            else:\n",
    "                dflist.append(df)\n",
    "                \n",
    "        if len(dflist) > 0:\n",
    "            newdf = pd.concat(dflist)\n",
    "            save2combined(newdf, plant)\n",
    "\n",
    "    return list(set(emptyplants))"
   ]
  },
  {
   "cell_type": "code",
   "execution_count": null,
   "id": "7a9d41f7",
   "metadata": {},
   "outputs": [],
   "source": []
  },
  {
   "cell_type": "code",
   "execution_count": 107,
   "id": "bbcc705c",
   "metadata": {},
   "outputs": [],
   "source": [
    "a = squash_production(plantslist)"
   ]
  },
  {
   "cell_type": "code",
   "execution_count": null,
   "id": "837e387c",
   "metadata": {},
   "outputs": [],
   "source": []
  },
  {
   "cell_type": "code",
   "execution_count": null,
   "id": "0d728f6a",
   "metadata": {},
   "outputs": [],
   "source": []
  },
  {
   "cell_type": "code",
   "execution_count": null,
   "id": "ba3586ce",
   "metadata": {},
   "outputs": [],
   "source": [
    "for plant in plantslist:\n",
    "    dflist = []\n",
    "    for year in YEARS:\n",
    "        try:\n",
    "            df = pd.read_csv(\"./by_plantid/\" + year + \"/\" + plant + \".csv\")\n",
    "        except FileNotFoundError:\n",
    "            #print(plant)\n",
    "            pass\n",
    "        \n",
    "        dflist.append(df)\n",
    "    newdf = pd.concat(dflist)\n",
    "    print(newdf.shape)"
   ]
  }
 ],
 "metadata": {
  "kernelspec": {
   "display_name": "Python 3",
   "language": "python",
   "name": "python3"
  },
  "language_info": {
   "codemirror_mode": {
    "name": "ipython",
    "version": 3
   },
   "file_extension": ".py",
   "mimetype": "text/x-python",
   "name": "python",
   "nbconvert_exporter": "python",
   "pygments_lexer": "ipython3",
   "version": "3.9.2"
  }
 },
 "nbformat": 4,
 "nbformat_minor": 5
}
